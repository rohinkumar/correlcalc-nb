{
 "cells": [
  {
   "cell_type": "markdown",
   "metadata": {},
   "source": [
    "# Correlation function of DR72 SDSS VAGC Catalog"
   ]
  },
  {
   "cell_type": "markdown",
   "metadata": {},
   "source": [
    "First import all the modules such as healpy and astropy needed for analyzing the structure"
   ]
  },
  {
   "cell_type": "code",
   "execution_count": 1,
   "metadata": {
    "collapsed": true
   },
   "outputs": [],
   "source": [
    "import healpix_util as hu\n",
    "import astropy as ap\n",
    "import numpy as np\n",
    "from astropy.io import fits\n",
    "from astropy.table import Table\n",
    "import astropy.io.ascii as ascii\n",
    "from astropy.io import fits\n",
    "from astropy.constants import c\n",
    "import matplotlib.pyplot as plt\n",
    "import math as m\n",
    "from math import pi\n",
    "import scipy.special as sp\n",
    "from scipy import integrate\n",
    "import warnings\n",
    "from sklearn.neighbors import BallTree\n",
    "import pickle\n",
    "import pymangle\n",
    "from scipy.optimize import curve_fit\n",
    "%matplotlib inline"
   ]
  },
  {
   "cell_type": "code",
   "execution_count": 2,
   "metadata": {
    "collapsed": true
   },
   "outputs": [
    {
     "data": {
      "text/html": [
       "&lt;Table length=105831&gt;\n",
       "<table id=\"table4955186320\" class=\"table-striped table-bordered table-condensed\">\n",
       "<thead><tr><th>col1</th><th>col2</th><th>col3</th><th>col4</th><th>col5</th><th>col6</th><th>col7</th><th>col8</th><th>col9</th><th>col10</th><th>col11</th><th>col12</th></tr></thead>\n",
       "<thead><tr><th>float64</th><th>float64</th><th>float64</th><th>float64</th><th>float64</th><th>float64</th><th>float64</th><th>float64</th><th>float64</th><th>int64</th><th>int64</th><th>int64</th></tr></thead>\n",
       "<tr><td>56.1604523761</td><td>-0.221359772462</td><td>0.4501842</td><td>-22.0970516205</td><td>0.9943343</td><td>0.310859</td><td>1.7112147</td><td>1.0</td><td>0.9901478</td><td>32763</td><td>33480</td><td>784</td></tr>\n",
       "<tr><td>58.247844859</td><td>0.216329004672</td><td>0.3671646</td><td>-21.8688602448</td><td>0.9533011</td><td>0.7922078</td><td>0.9208817</td><td>1.0</td><td>0.9506173</td><td>303471</td><td>311902</td><td>3790</td></tr>\n",
       "<tr><td>54.445380928</td><td>0.619974218725</td><td>0.4133244</td><td>-21.7306137085</td><td>1.0</td><td>0.4315305</td><td>1.4082278</td><td>1.0</td><td>0.9183673</td><td>43630</td><td>44552</td><td>779</td></tr>\n",
       "<tr><td>54.4879828915</td><td>0.485825651457</td><td>0.3224697</td><td>-21.8775806427</td><td>1.0</td><td>0.9240486</td><td>0.8174705</td><td>1.0</td><td>0.9183673</td><td>43622</td><td>44544</td><td>779</td></tr>\n",
       "<tr><td>54.4932987631</td><td>0.483249792951</td><td>0.3226457</td><td>-21.6763000488</td><td>1.0</td><td>0.9249313</td><td>0.8168564</td><td>1.0</td><td>0.9183673</td><td>43622</td><td>44544</td><td>779</td></tr>\n",
       "<tr><td>55.5558858448</td><td>0.582441686132</td><td>0.2334688</td><td>-21.5131568909</td><td>0.9943343</td><td>1.0009493</td><td>0.7672175</td><td>1.0</td><td>0.9901478</td><td>43723</td><td>44650</td><td>784</td></tr>\n",
       "<tr><td>55.5686146471</td><td>0.608277412471</td><td>0.3136448</td><td>-21.5073776245</td><td>0.9943343</td><td>0.8425107</td><td>0.8784812</td><td>1.0</td><td>0.9901478</td><td>43727</td><td>44654</td><td>784</td></tr>\n",
       "<tr><td>55.5972002797</td><td>0.434026434704</td><td>0.3517163</td><td>-21.5829257965</td><td>0.9943343</td><td>0.8903325</td><td>0.8416406</td><td>1.0</td><td>0.9901478</td><td>43731</td><td>44658</td><td>784</td></tr>\n",
       "<tr><td>55.7617273511</td><td>0.495315330472</td><td>0.403208</td><td>-21.3501148224</td><td>0.9943343</td><td>0.4957986</td><td>1.2868758</td><td>1.0</td><td>0.9901478</td><td>43740</td><td>44667</td><td>784</td></tr>\n",
       "<tr><td>55.8125115924</td><td>0.521042073319</td><td>0.3769101</td><td>-21.6775398254</td><td>0.9943343</td><td>0.6858334</td><td>1.0255566</td><td>1.0</td><td>0.9901478</td><td>43740</td><td>44667</td><td>784</td></tr>\n",
       "<tr><td>...</td><td>...</td><td>...</td><td>...</td><td>...</td><td>...</td><td>...</td><td>...</td><td>...</td><td>...</td><td>...</td><td>...</td></tr>\n",
       "<tr><td>162.204837648</td><td>9.136054829</td><td>0.2285027</td><td>-21.6524200439</td><td>0.8557692</td><td>1.0650909</td><td>0.7297975</td><td>1.0</td><td>0.9716312</td><td>633991</td><td>650894</td><td>3789</td></tr>\n",
       "<tr><td>162.407014385</td><td>9.24223618476</td><td>0.2233595</td><td>-21.6275596619</td><td>0.8557692</td><td>1.0816779</td><td>0.7207074</td><td>1.0</td><td>0.9716312</td><td>633995</td><td>650898</td><td>3789</td></tr>\n",
       "<tr><td>162.631596919</td><td>9.11224932272</td><td>0.3507926</td><td>-21.7870635986</td><td>0.8557692</td><td>0.8983272</td><td>0.835781</td><td>1.0</td><td>0.9716312</td><td>633997</td><td>650900</td><td>3789</td></tr>\n",
       "<tr><td>162.792857827</td><td>9.06585769142</td><td>0.2211935</td><td>-22.1479187012</td><td>0.9936034</td><td>1.0758724</td><td>0.7238631</td><td>2.0</td><td>0.9100257</td><td>634001</td><td>650905</td><td>8537</td></tr>\n",
       "<tr><td>162.752716952</td><td>9.23526068256</td><td>0.3132616</td><td>-21.6552429199</td><td>0.8557692</td><td>0.8386317</td><td>0.8816114</td><td>1.0</td><td>0.9716312</td><td>634000</td><td>650903</td><td>3789</td></tr>\n",
       "<tr><td>162.013077975</td><td>9.58703483653</td><td>0.2450086</td><td>-21.6949653625</td><td>0.9907407</td><td>0.9167792</td><td>0.8225636</td><td>1.0</td><td>0.8892989</td><td>323046</td><td>331902</td><td>3787</td></tr>\n",
       "<tr><td>162.142350287</td><td>9.94163874778</td><td>0.3369665</td><td>-21.4902000427</td><td>0.6296296</td><td>1.0071049</td><td>0.7634606</td><td>1.0</td><td>0.8181818</td><td>634079</td><td>650985</td><td>3788</td></tr>\n",
       "<tr><td>162.160914924</td><td>9.86128115397</td><td>0.3681125</td><td>-21.9206676483</td><td>0.6296296</td><td>0.7820635</td><td>0.9299332</td><td>1.0</td><td>0.8181818</td><td>634079</td><td>650985</td><td>3788</td></tr>\n",
       "<tr><td>162.249397448</td><td>9.95005411419</td><td>0.2213098</td><td>-21.5619354248</td><td>0.8557692</td><td>1.0762938</td><td>0.7236331</td><td>1.0</td><td>0.9716312</td><td>634081</td><td>650987</td><td>3789</td></tr>\n",
       "<tr><td>162.61877369</td><td>9.9153390136</td><td>0.3470703</td><td>-21.6079502106</td><td>0.8557692</td><td>0.947932</td><td>0.8011724</td><td>1.0</td><td>0.9716312</td><td>634087</td><td>650993</td><td>3789</td></tr>\n",
       "</table>"
      ],
      "text/plain": [
       "<Table length=105831>\n",
       "     col1           col2         col3        col4      ... col10  col11  col12\n",
       "   float64        float64      float64     float64     ... int64  int64  int64\n",
       "------------- --------------- --------- -------------- ... ------ ------ -----\n",
       "56.1604523761 -0.221359772462 0.4501842 -22.0970516205 ...  32763  33480   784\n",
       " 58.247844859  0.216329004672 0.3671646 -21.8688602448 ... 303471 311902  3790\n",
       " 54.445380928  0.619974218725 0.4133244 -21.7306137085 ...  43630  44552   779\n",
       "54.4879828915  0.485825651457 0.3224697 -21.8775806427 ...  43622  44544   779\n",
       "54.4932987631  0.483249792951 0.3226457 -21.6763000488 ...  43622  44544   779\n",
       "55.5558858448  0.582441686132 0.2334688 -21.5131568909 ...  43723  44650   784\n",
       "55.5686146471  0.608277412471 0.3136448 -21.5073776245 ...  43727  44654   784\n",
       "55.5972002797  0.434026434704 0.3517163 -21.5829257965 ...  43731  44658   784\n",
       "55.7617273511  0.495315330472  0.403208 -21.3501148224 ...  43740  44667   784\n",
       "55.8125115924  0.521042073319 0.3769101 -21.6775398254 ...  43740  44667   784\n",
       "          ...             ...       ...            ... ...    ...    ...   ...\n",
       "162.204837648     9.136054829 0.2285027 -21.6524200439 ... 633991 650894  3789\n",
       "162.407014385   9.24223618476 0.2233595 -21.6275596619 ... 633995 650898  3789\n",
       "162.631596919   9.11224932272 0.3507926 -21.7870635986 ... 633997 650900  3789\n",
       "162.792857827   9.06585769142 0.2211935 -22.1479187012 ... 634001 650905  8537\n",
       "162.752716952   9.23526068256 0.3132616 -21.6552429199 ... 634000 650903  3789\n",
       "162.013077975   9.58703483653 0.2450086 -21.6949653625 ... 323046 331902  3787\n",
       "162.142350287   9.94163874778 0.3369665 -21.4902000427 ... 634079 650985  3788\n",
       "162.160914924   9.86128115397 0.3681125 -21.9206676483 ... 634079 650985  3788\n",
       "162.249397448   9.95005411419 0.2213098 -21.5619354248 ... 634081 650987  3789\n",
       " 162.61877369    9.9153390136 0.3470703 -21.6079502106 ... 634087 650993  3789"
      ]
     },
     "execution_count": 2,
     "metadata": {},
     "output_type": "execute_result"
    }
   ],
   "source": [
    "dr7full=ascii.read(\"./input/DR7-Full.ascii\")\n",
    "dr7full"
   ]
  },
  {
   "cell_type": "code",
   "execution_count": 3,
   "metadata": {
    "collapsed": true
   },
   "outputs": [],
   "source": [
    "z=dr7full['col3']\n",
    "rad=dr7full['col1']\n",
    "decd=dr7full['col2']"
   ]
  },
  {
   "cell_type": "code",
   "execution_count": 4,
   "metadata": {},
   "outputs": [
    {
     "data": {
      "text/plain": [
       "<numpy.lib.function_base.vectorize at 0x10c4bcd10>"
      ]
     },
     "execution_count": 4,
     "metadata": {},
     "output_type": "execute_result"
    }
   ],
   "source": [
    "#Ez = lambda x: 1.0/m.sqrt(0.3*(1+x)**3+0.7)\n",
    "Om=0.279\n",
    "Ol=0.721\n",
    "Ok=0.0\n",
    "def Ez(zv):\n",
    "    return 1.0/m.sqrt(Om*(1.0+zv)**3+Ok*(1.0+zv)**2+Ol)\n",
    "\n",
    "np.vectorize(Ez)\n",
    "#Calculate comoving distance of a data point using the Redshift - This definition is based on the cosmology model we take. Here the distance for E-dS universe is considered. Also note that c/H0 ratio is cancelled in the equations and hence not taken."
   ]
  },
  {
   "cell_type": "code",
   "execution_count": 5,
   "metadata": {
    "collapsed": true
   },
   "outputs": [],
   "source": [
    "def DC_LCDM(z):\n",
    "  return integrate.quad(Ez, 0, z)[0]\n",
    "DC_LCDM=np.vectorize(DC_LCDM)"
   ]
  },
  {
   "cell_type": "code",
   "execution_count": 6,
   "metadata": {},
   "outputs": [
    {
     "data": {
      "text/plain": [
       "array(1.232048694433717)"
      ]
     },
     "execution_count": 6,
     "metadata": {},
     "output_type": "execute_result"
    }
   ],
   "source": [
    "DC_LCDM(2.0)"
   ]
  },
  {
   "cell_type": "code",
   "execution_count": 7,
   "metadata": {
    "collapsed": true
   },
   "outputs": [
    {
     "data": {
      "text/html": [
       "&lt;Column name=&apos;col3&apos; dtype=&apos;float64&apos; length=105831&gt;\n",
       "<table>\n",
       "<tr><td>0.405059971004</td></tr>\n",
       "<tr><td>0.337292380754</td></tr>\n",
       "<tr><td>0.37535589107</td></tr>\n",
       "<tr><td>0.29951224831</td></tr>\n",
       "<tr><td>0.299662811644</td></tr>\n",
       "<tr><td>0.221552822632</td></tr>\n",
       "<tr><td>0.29194457377</td></tr>\n",
       "<tr><td>0.32433731955</td></tr>\n",
       "<tr><td>0.367096478057</td></tr>\n",
       "<tr><td>0.345409089706</td></tr>\n",
       "<tr><td>0.162550123776</td></tr>\n",
       "<tr><td>0.281603916846</td></tr>\n",
       "<tr><td>...</td></tr>\n",
       "<tr><td>0.210753815273</td></tr>\n",
       "<tr><td>0.211041219518</td></tr>\n",
       "<tr><td>0.217095704745</td></tr>\n",
       "<tr><td>0.212467721947</td></tr>\n",
       "<tr><td>0.32355924721</td></tr>\n",
       "<tr><td>0.21051507296</td></tr>\n",
       "<tr><td>0.291615156761</td></tr>\n",
       "<tr><td>0.231866212034</td></tr>\n",
       "<tr><td>0.31186632734</td></tr>\n",
       "<tr><td>0.338083753978</td></tr>\n",
       "<tr><td>0.210619972005</td></tr>\n",
       "<tr><td>0.320419843523</td></tr>\n",
       "</table>"
      ],
      "text/plain": [
       "<Column name='col3' dtype='float64' length=105831>\n",
       "0.405059971004\n",
       "0.337292380754\n",
       " 0.37535589107\n",
       " 0.29951224831\n",
       "0.299662811644\n",
       "0.221552822632\n",
       " 0.29194457377\n",
       " 0.32433731955\n",
       "0.367096478057\n",
       "0.345409089706\n",
       "0.162550123776\n",
       "0.281603916846\n",
       "           ...\n",
       "0.210753815273\n",
       "0.211041219518\n",
       "0.217095704745\n",
       "0.212467721947\n",
       " 0.32355924721\n",
       " 0.21051507296\n",
       "0.291615156761\n",
       "0.231866212034\n",
       " 0.31186632734\n",
       "0.338083753978\n",
       "0.210619972005\n",
       "0.320419843523"
      ]
     },
     "execution_count": 7,
     "metadata": {},
     "output_type": "execute_result"
    }
   ],
   "source": [
    "DC=DC_LCDM(z)\n",
    "DC"
   ]
  },
  {
   "cell_type": "code",
   "execution_count": 8,
   "metadata": {
    "collapsed": true
   },
   "outputs": [],
   "source": [
    "dr7f = open(\"./output/DR72srarfwmap9.dat\",'w')\n",
    "dr7f.write(\"z\\t ra\\t dec\\t s\\t rar\\t decr \\n\")\n",
    "\n",
    "for i in range(0,len(dr7full)):\n",
    "    dr7f.write(\"%f\\t \" %z[i])\n",
    "    dr7f.write(\"%f\\t %f\\t \" %(rad[i],decd[i]))\n",
    "    dr7f.write(\"%f\\t \" %DC[i])\n",
    "    dr7f.write(\"%f\\t %f\\n \" %(rad[i]*pi/180.0,decd[i]*pi/180.0))\n",
    "dr7f.close()"
   ]
  },
  {
   "cell_type": "code",
   "execution_count": 9,
   "metadata": {
    "collapsed": true
   },
   "outputs": [],
   "source": [
    "data=ascii.read(\"./output/DR72srarfwmap9.dat\")"
   ]
  },
  {
   "cell_type": "code",
   "execution_count": 10,
   "metadata": {
    "collapsed": true
   },
   "outputs": [
    {
     "data": {
      "text/html": [
       "&lt;Column name=&apos;z&apos; dtype=&apos;float64&apos; length=105831&gt;\n",
       "<table>\n",
       "<tr><td>0.450184</td></tr>\n",
       "<tr><td>0.367165</td></tr>\n",
       "<tr><td>0.413324</td></tr>\n",
       "<tr><td>0.32247</td></tr>\n",
       "<tr><td>0.322646</td></tr>\n",
       "<tr><td>0.233469</td></tr>\n",
       "<tr><td>0.313645</td></tr>\n",
       "<tr><td>0.351716</td></tr>\n",
       "<tr><td>0.403208</td></tr>\n",
       "<tr><td>0.37691</td></tr>\n",
       "<tr><td>0.168714</td></tr>\n",
       "<tr><td>0.301653</td></tr>\n",
       "<tr><td>...</td></tr>\n",
       "<tr><td>0.221458</td></tr>\n",
       "<tr><td>0.221777</td></tr>\n",
       "<tr><td>0.228503</td></tr>\n",
       "<tr><td>0.223359</td></tr>\n",
       "<tr><td>0.350793</td></tr>\n",
       "<tr><td>0.221193</td></tr>\n",
       "<tr><td>0.313262</td></tr>\n",
       "<tr><td>0.245009</td></tr>\n",
       "<tr><td>0.336967</td></tr>\n",
       "<tr><td>0.368113</td></tr>\n",
       "<tr><td>0.22131</td></tr>\n",
       "<tr><td>0.34707</td></tr>\n",
       "</table>"
      ],
      "text/plain": [
       "<Column name='z' dtype='float64' length=105831>\n",
       "0.450184\n",
       "0.367165\n",
       "0.413324\n",
       " 0.32247\n",
       "0.322646\n",
       "0.233469\n",
       "0.313645\n",
       "0.351716\n",
       "0.403208\n",
       " 0.37691\n",
       "0.168714\n",
       "0.301653\n",
       "     ...\n",
       "0.221458\n",
       "0.221777\n",
       "0.228503\n",
       "0.223359\n",
       "0.350793\n",
       "0.221193\n",
       "0.313262\n",
       "0.245009\n",
       "0.336967\n",
       "0.368113\n",
       " 0.22131\n",
       " 0.34707"
      ]
     },
     "execution_count": 10,
     "metadata": {},
     "output_type": "execute_result"
    }
   ],
   "source": [
    "data['z']"
   ]
  },
  {
   "cell_type": "code",
   "execution_count": 11,
   "metadata": {
    "collapsed": true
   },
   "outputs": [
    {
     "data": {
      "text/html": [
       "&lt;Column name=&apos;s&apos; dtype=&apos;float64&apos; length=105831&gt;\n",
       "<table>\n",
       "<tr><td>0.40506</td></tr>\n",
       "<tr><td>0.337292</td></tr>\n",
       "<tr><td>0.375356</td></tr>\n",
       "<tr><td>0.299512</td></tr>\n",
       "<tr><td>0.299663</td></tr>\n",
       "<tr><td>0.221553</td></tr>\n",
       "<tr><td>0.291945</td></tr>\n",
       "<tr><td>0.324337</td></tr>\n",
       "<tr><td>0.367096</td></tr>\n",
       "<tr><td>0.345409</td></tr>\n",
       "<tr><td>0.16255</td></tr>\n",
       "<tr><td>0.281604</td></tr>\n",
       "<tr><td>...</td></tr>\n",
       "<tr><td>0.210754</td></tr>\n",
       "<tr><td>0.211041</td></tr>\n",
       "<tr><td>0.217096</td></tr>\n",
       "<tr><td>0.212468</td></tr>\n",
       "<tr><td>0.323559</td></tr>\n",
       "<tr><td>0.210515</td></tr>\n",
       "<tr><td>0.291615</td></tr>\n",
       "<tr><td>0.231866</td></tr>\n",
       "<tr><td>0.311866</td></tr>\n",
       "<tr><td>0.338084</td></tr>\n",
       "<tr><td>0.21062</td></tr>\n",
       "<tr><td>0.32042</td></tr>\n",
       "</table>"
      ],
      "text/plain": [
       "<Column name='s' dtype='float64' length=105831>\n",
       " 0.40506\n",
       "0.337292\n",
       "0.375356\n",
       "0.299512\n",
       "0.299663\n",
       "0.221553\n",
       "0.291945\n",
       "0.324337\n",
       "0.367096\n",
       "0.345409\n",
       " 0.16255\n",
       "0.281604\n",
       "     ...\n",
       "0.210754\n",
       "0.211041\n",
       "0.217096\n",
       "0.212468\n",
       "0.323559\n",
       "0.210515\n",
       "0.291615\n",
       "0.231866\n",
       "0.311866\n",
       "0.338084\n",
       " 0.21062\n",
       " 0.32042"
      ]
     },
     "execution_count": 11,
     "metadata": {},
     "output_type": "execute_result"
    }
   ],
   "source": [
    "data['s']"
   ]
  },
  {
   "cell_type": "code",
   "execution_count": 12,
   "metadata": {
    "collapsed": true
   },
   "outputs": [
    {
     "data": {
      "text/html": [
       "&lt;Column name=&apos;rar&apos; dtype=&apos;float64&apos; length=105831&gt;\n",
       "<table>\n",
       "<tr><td>0.980185</td></tr>\n",
       "<tr><td>1.016617</td></tr>\n",
       "<tr><td>0.950251</td></tr>\n",
       "<tr><td>0.950995</td></tr>\n",
       "<tr><td>0.951087</td></tr>\n",
       "<tr><td>0.969633</td></tr>\n",
       "<tr><td>0.969855</td></tr>\n",
       "<tr><td>0.970354</td></tr>\n",
       "<tr><td>0.973226</td></tr>\n",
       "<tr><td>0.974112</td></tr>\n",
       "<tr><td>0.97513</td></tr>\n",
       "<tr><td>0.976081</td></tr>\n",
       "<tr><td>...</td></tr>\n",
       "<tr><td>2.828867</td></tr>\n",
       "<tr><td>2.829448</td></tr>\n",
       "<tr><td>2.831008</td></tr>\n",
       "<tr><td>2.834537</td></tr>\n",
       "<tr><td>2.838457</td></tr>\n",
       "<tr><td>2.841271</td></tr>\n",
       "<tr><td>2.840571</td></tr>\n",
       "<tr><td>2.827662</td></tr>\n",
       "<tr><td>2.829918</td></tr>\n",
       "<tr><td>2.830242</td></tr>\n",
       "<tr><td>2.831786</td></tr>\n",
       "<tr><td>2.838233</td></tr>\n",
       "</table>"
      ],
      "text/plain": [
       "<Column name='rar' dtype='float64' length=105831>\n",
       "0.980185\n",
       "1.016617\n",
       "0.950251\n",
       "0.950995\n",
       "0.951087\n",
       "0.969633\n",
       "0.969855\n",
       "0.970354\n",
       "0.973226\n",
       "0.974112\n",
       " 0.97513\n",
       "0.976081\n",
       "     ...\n",
       "2.828867\n",
       "2.829448\n",
       "2.831008\n",
       "2.834537\n",
       "2.838457\n",
       "2.841271\n",
       "2.840571\n",
       "2.827662\n",
       "2.829918\n",
       "2.830242\n",
       "2.831786\n",
       "2.838233"
      ]
     },
     "execution_count": 12,
     "metadata": {},
     "output_type": "execute_result"
    }
   ],
   "source": [
    "data['rar']"
   ]
  },
  {
   "cell_type": "code",
   "execution_count": 13,
   "metadata": {
    "collapsed": true
   },
   "outputs": [
    {
     "data": {
      "text/html": [
       "&lt;Column name=&apos;decr&apos; dtype=&apos;float64&apos; length=105831&gt;\n",
       "<table>\n",
       "<tr><td>-0.003863</td></tr>\n",
       "<tr><td>0.003776</td></tr>\n",
       "<tr><td>0.010821</td></tr>\n",
       "<tr><td>0.008479</td></tr>\n",
       "<tr><td>0.008434</td></tr>\n",
       "<tr><td>0.010166</td></tr>\n",
       "<tr><td>0.010616</td></tr>\n",
       "<tr><td>0.007575</td></tr>\n",
       "<tr><td>0.008645</td></tr>\n",
       "<tr><td>0.009094</td></tr>\n",
       "<tr><td>0.008617</td></tr>\n",
       "<tr><td>0.008456</td></tr>\n",
       "<tr><td>...</td></tr>\n",
       "<tr><td>0.159259</td></tr>\n",
       "<tr><td>0.159261</td></tr>\n",
       "<tr><td>0.159454</td></tr>\n",
       "<tr><td>0.161307</td></tr>\n",
       "<tr><td>0.159039</td></tr>\n",
       "<tr><td>0.158229</td></tr>\n",
       "<tr><td>0.161186</td></tr>\n",
       "<tr><td>0.167325</td></tr>\n",
       "<tr><td>0.173514</td></tr>\n",
       "<tr><td>0.172112</td></tr>\n",
       "<tr><td>0.173661</td></tr>\n",
       "<tr><td>0.173055</td></tr>\n",
       "</table>"
      ],
      "text/plain": [
       "<Column name='decr' dtype='float64' length=105831>\n",
       "-0.003863\n",
       " 0.003776\n",
       " 0.010821\n",
       " 0.008479\n",
       " 0.008434\n",
       " 0.010166\n",
       " 0.010616\n",
       " 0.007575\n",
       " 0.008645\n",
       " 0.009094\n",
       " 0.008617\n",
       " 0.008456\n",
       "      ...\n",
       " 0.159259\n",
       " 0.159261\n",
       " 0.159454\n",
       " 0.161307\n",
       " 0.159039\n",
       " 0.158229\n",
       " 0.161186\n",
       " 0.167325\n",
       " 0.173514\n",
       " 0.172112\n",
       " 0.173661\n",
       " 0.173055"
      ]
     },
     "execution_count": 13,
     "metadata": {},
     "output_type": "execute_result"
    }
   ],
   "source": [
    "data['decr']"
   ]
  },
  {
   "cell_type": "code",
   "execution_count": 15,
   "metadata": {
    "collapsed": true
   },
   "outputs": [],
   "source": [
    "NSIDE=512\n",
    "dr72hpix=hu.HealPix(\"ring\",NSIDE)"
   ]
  },
  {
   "cell_type": "code",
   "execution_count": 16,
   "metadata": {
    "collapsed": true
   },
   "outputs": [],
   "source": [
    "pixdata = open(\"./output/pixdatadr72VAGCfullwmap9.dat\",'w')\n",
    "pixdata.write(\"z\\t pix \\n\")\n",
    "\n",
    "for i in range(0,len(data)):\n",
    "    pixdata.write(\"%f\\t\" %data['z'][i])\n",
    "    pixdata.write(\"%d\\n\" %dr72hpix.eq2pix(data['ra'][i],data['dec'][i]))\n",
    "pixdata.close()"
   ]
  },
  {
   "cell_type": "code",
   "execution_count": 17,
   "metadata": {
    "collapsed": true
   },
   "outputs": [],
   "source": [
    "pixdata = ascii.read(\"./output/pixdatadr72VAGCfullwmap9.dat\")\n",
    "hpixdata=np.array(np.zeros(hu.nside2npix(NSIDE)))\n",
    "for j in range(len(pixdata)):\n",
    "    hpixdata[pixdata[j]['pix']]+=1"
   ]
  },
  {
   "cell_type": "code",
   "execution_count": 18,
   "metadata": {},
   "outputs": [
    {
     "data": {
      "text/plain": [
       "array([ 0.,  0.,  0., ...,  0.,  0.,  0.])"
      ]
     },
     "execution_count": 18,
     "metadata": {},
     "output_type": "execute_result"
    }
   ],
   "source": [
    "hpixdata"
   ]
  },
  {
   "cell_type": "code",
   "execution_count": 19,
   "metadata": {},
   "outputs": [
    {
     "data": {
      "image/png": "[encoded data removed]",
      "text/plain": [
       "<matplotlib.figure.Figure at 0x125d55790>"
      ]
     },
     "metadata": {},
     "output_type": "display_data"
    }
   ],
   "source": [
    "hu.mollview(hpixdata,rot=180)"
   ]
  },
  {
   "cell_type": "code",
   "execution_count": null,
   "metadata": {
    "collapsed": true
   },
   "outputs": [],
   "source": [
    "mangle=pymangle.Mangle(\"./masks/\")"
   ]
  },
  {
   "cell_type": "markdown",
   "metadata": {},
   "source": [
    "Ref: https://pypi.python.org/pypi/pymangle/"
   ]
  },
  {
   "cell_type": "code",
   "execution_count": null,
   "metadata": {
    "collapsed": true
   },
   "outputs": [],
   "source": [
    "%%time\n",
    "rar,decr=mangle.genrand(2*len(data))"
   ]
  },
  {
   "cell_type": "code",
   "execution_count": 20,
   "metadata": {
    "collapsed": true
   },
   "outputs": [],
   "source": [
    "dataR=ascii.read(\"./output/rand200kdr72.dat\")"
   ]
  },
  {
   "cell_type": "code",
   "execution_count": 21,
   "metadata": {
    "collapsed": true
   },
   "outputs": [
    {
     "data": {
      "text/html": [
       "&lt;Column name=&apos;z&apos; dtype=&apos;float64&apos; length=211661&gt;\n",
       "<table>\n",
       "<tr><td>0.450184</td></tr>\n",
       "<tr><td>0.367165</td></tr>\n",
       "<tr><td>0.413324</td></tr>\n",
       "<tr><td>0.32247</td></tr>\n",
       "<tr><td>0.322646</td></tr>\n",
       "<tr><td>0.233469</td></tr>\n",
       "<tr><td>0.313645</td></tr>\n",
       "<tr><td>0.351716</td></tr>\n",
       "<tr><td>0.403208</td></tr>\n",
       "<tr><td>0.37691</td></tr>\n",
       "<tr><td>0.168714</td></tr>\n",
       "<tr><td>0.301653</td></tr>\n",
       "<tr><td>...</td></tr>\n",
       "<tr><td>0.386714</td></tr>\n",
       "<tr><td>0.435683</td></tr>\n",
       "<tr><td>0.260919</td></tr>\n",
       "<tr><td>0.186362</td></tr>\n",
       "<tr><td>0.378593</td></tr>\n",
       "<tr><td>0.453896</td></tr>\n",
       "<tr><td>0.269251</td></tr>\n",
       "<tr><td>0.26528</td></tr>\n",
       "<tr><td>0.267663</td></tr>\n",
       "<tr><td>0.36518</td></tr>\n",
       "<tr><td>0.327193</td></tr>\n",
       "<tr><td>0.207093</td></tr>\n",
       "</table>"
      ],
      "text/plain": [
       "<Column name='z' dtype='float64' length=211661>\n",
       "0.450184\n",
       "0.367165\n",
       "0.413324\n",
       " 0.32247\n",
       "0.322646\n",
       "0.233469\n",
       "0.313645\n",
       "0.351716\n",
       "0.403208\n",
       " 0.37691\n",
       "0.168714\n",
       "0.301653\n",
       "     ...\n",
       "0.386714\n",
       "0.435683\n",
       "0.260919\n",
       "0.186362\n",
       "0.378593\n",
       "0.453896\n",
       "0.269251\n",
       " 0.26528\n",
       "0.267663\n",
       " 0.36518\n",
       "0.327193\n",
       "0.207093"
      ]
     },
     "execution_count": 21,
     "metadata": {},
     "output_type": "execute_result"
    }
   ],
   "source": [
    "dataR['z']"
   ]
  },
  {
   "cell_type": "code",
   "execution_count": 22,
   "metadata": {
    "collapsed": true
   },
   "outputs": [
    {
     "data": {
      "text/html": [
       "&lt;Column name=&apos;ra&apos; dtype=&apos;float64&apos; length=211661&gt;\n",
       "<table>\n",
       "<tr><td>171.460447</td></tr>\n",
       "<tr><td>156.861634</td></tr>\n",
       "<tr><td>135.655956</td></tr>\n",
       "<tr><td>151.1135</td></tr>\n",
       "<tr><td>327.045321</td></tr>\n",
       "<tr><td>222.706587</td></tr>\n",
       "<tr><td>132.163348</td></tr>\n",
       "<tr><td>214.239217</td></tr>\n",
       "<tr><td>310.627283</td></tr>\n",
       "<tr><td>143.795051</td></tr>\n",
       "<tr><td>168.941476</td></tr>\n",
       "<tr><td>149.195059</td></tr>\n",
       "<tr><td>...</td></tr>\n",
       "<tr><td>229.828647</td></tr>\n",
       "<tr><td>222.307662</td></tr>\n",
       "<tr><td>137.338184</td></tr>\n",
       "<tr><td>212.775182</td></tr>\n",
       "<tr><td>157.704931</td></tr>\n",
       "<tr><td>155.852813</td></tr>\n",
       "<tr><td>181.687843</td></tr>\n",
       "<tr><td>228.866114</td></tr>\n",
       "<tr><td>236.502458</td></tr>\n",
       "<tr><td>184.953736</td></tr>\n",
       "<tr><td>184.394802</td></tr>\n",
       "<tr><td>232.41561</td></tr>\n",
       "</table>"
      ],
      "text/plain": [
       "<Column name='ra' dtype='float64' length=211661>\n",
       "171.460447\n",
       "156.861634\n",
       "135.655956\n",
       "  151.1135\n",
       "327.045321\n",
       "222.706587\n",
       "132.163348\n",
       "214.239217\n",
       "310.627283\n",
       "143.795051\n",
       "168.941476\n",
       "149.195059\n",
       "       ...\n",
       "229.828647\n",
       "222.307662\n",
       "137.338184\n",
       "212.775182\n",
       "157.704931\n",
       "155.852813\n",
       "181.687843\n",
       "228.866114\n",
       "236.502458\n",
       "184.953736\n",
       "184.394802\n",
       " 232.41561"
      ]
     },
     "execution_count": 22,
     "metadata": {},
     "output_type": "execute_result"
    }
   ],
   "source": [
    "dataR['ra']"
   ]
  },
  {
   "cell_type": "code",
   "execution_count": 23,
   "metadata": {
    "collapsed": true
   },
   "outputs": [
    {
     "data": {
      "text/html": [
       "&lt;Column name=&apos;dec&apos; dtype=&apos;float64&apos; length=211661&gt;\n",
       "<table>\n",
       "<tr><td>14.210816</td></tr>\n",
       "<tr><td>40.750823</td></tr>\n",
       "<tr><td>19.592957</td></tr>\n",
       "<tr><td>24.245002</td></tr>\n",
       "<tr><td>-7.737766</td></tr>\n",
       "<tr><td>21.927202</td></tr>\n",
       "<tr><td>15.281744</td></tr>\n",
       "<tr><td>5.973424</td></tr>\n",
       "<tr><td>1.01386</td></tr>\n",
       "<tr><td>15.993848</td></tr>\n",
       "<tr><td>43.319462</td></tr>\n",
       "<tr><td>13.531564</td></tr>\n",
       "<tr><td>...</td></tr>\n",
       "<tr><td>24.816154</td></tr>\n",
       "<tr><td>31.128326</td></tr>\n",
       "<tr><td>32.232182</td></tr>\n",
       "<tr><td>-2.589495</td></tr>\n",
       "<tr><td>26.641368</td></tr>\n",
       "<tr><td>47.126498</td></tr>\n",
       "<tr><td>59.175281</td></tr>\n",
       "<tr><td>18.754199</td></tr>\n",
       "<tr><td>47.192155</td></tr>\n",
       "<tr><td>11.402623</td></tr>\n",
       "<tr><td>3.035483</td></tr>\n",
       "<tr><td>9.774797</td></tr>\n",
       "</table>"
      ],
      "text/plain": [
       "<Column name='dec' dtype='float64' length=211661>\n",
       "14.210816\n",
       "40.750823\n",
       "19.592957\n",
       "24.245002\n",
       "-7.737766\n",
       "21.927202\n",
       "15.281744\n",
       " 5.973424\n",
       "  1.01386\n",
       "15.993848\n",
       "43.319462\n",
       "13.531564\n",
       "      ...\n",
       "24.816154\n",
       "31.128326\n",
       "32.232182\n",
       "-2.589495\n",
       "26.641368\n",
       "47.126498\n",
       "59.175281\n",
       "18.754199\n",
       "47.192155\n",
       "11.402623\n",
       " 3.035483\n",
       " 9.774797"
      ]
     },
     "execution_count": 23,
     "metadata": {},
     "output_type": "execute_result"
    }
   ],
   "source": [
    "dataR['dec']"
   ]
  },
  {
   "cell_type": "code",
   "execution_count": 26,
   "metadata": {
    "collapsed": true
   },
   "outputs": [],
   "source": [
    "zr=np.array([data['z'],data['z']])"
   ]
  },
  {
   "cell_type": "code",
   "execution_count": 27,
   "metadata": {
    "collapsed": true
   },
   "outputs": [],
   "source": [
    "zr=zr.flatten()"
   ]
  },
  {
   "cell_type": "code",
   "execution_count": 28,
   "metadata": {},
   "outputs": [
    {
     "data": {
      "text/plain": [
       "array([ 0.40505981,  0.33729271,  0.37535557, ...,  0.33808417,\n",
       "        0.21062015,  0.32041959])"
      ]
     },
     "execution_count": 28,
     "metadata": {},
     "output_type": "execute_result"
    }
   ],
   "source": [
    "DCr=DC_LCDM(zr)\n",
    "DCr"
   ]
  },
  {
   "cell_type": "code",
   "execution_count": 29,
   "metadata": {
    "collapsed": true
   },
   "outputs": [],
   "source": [
    "rdr7f = open(\"./output/rDR72srarfwmap9.dat\",'w')\n",
    "rdr7f.write(\"z\\t ra\\t dec\\t s\\t rar\\t decr \\n\")\n",
    "\n",
    "for i in range(0,len(dataR)):\n",
    "    rdr7f.write(\"%f\\t \" %zr[i])\n",
    "    rdr7f.write(\"%f\\t %f\\t \" %(dataR['ra'][i],dataR['dec'][i]))\n",
    "    rdr7f.write(\"%f\\t \" %DCr[i])\n",
    "    rdr7f.write(\"%f\\t %f\\n \" %(dataR['ra'][i]*pi/180.0,dataR['dec'][i]*pi/180.0))\n",
    "rdr7f.close()"
   ]
  },
  {
   "cell_type": "code",
   "execution_count": 31,
   "metadata": {
    "collapsed": true
   },
   "outputs": [],
   "source": [
    "dataR=ascii.read(\"./output/rDR72srarfwmap9.dat\")"
   ]
  },
  {
   "cell_type": "code",
   "execution_count": 32,
   "metadata": {
    "collapsed": true
   },
   "outputs": [
    {
     "data": {
      "text/html": [
       "&lt;Column name=&apos;z&apos; dtype=&apos;float64&apos; length=211661&gt;\n",
       "<table>\n",
       "<tr><td>0.450184</td></tr>\n",
       "<tr><td>0.367165</td></tr>\n",
       "<tr><td>0.413324</td></tr>\n",
       "<tr><td>0.32247</td></tr>\n",
       "<tr><td>0.322646</td></tr>\n",
       "<tr><td>0.233469</td></tr>\n",
       "<tr><td>0.313645</td></tr>\n",
       "<tr><td>0.351716</td></tr>\n",
       "<tr><td>0.403208</td></tr>\n",
       "<tr><td>0.37691</td></tr>\n",
       "<tr><td>0.168714</td></tr>\n",
       "<tr><td>0.301653</td></tr>\n",
       "<tr><td>...</td></tr>\n",
       "<tr><td>0.337605</td></tr>\n",
       "<tr><td>0.221458</td></tr>\n",
       "<tr><td>0.221777</td></tr>\n",
       "<tr><td>0.228503</td></tr>\n",
       "<tr><td>0.223359</td></tr>\n",
       "<tr><td>0.350793</td></tr>\n",
       "<tr><td>0.221193</td></tr>\n",
       "<tr><td>0.313262</td></tr>\n",
       "<tr><td>0.245009</td></tr>\n",
       "<tr><td>0.336967</td></tr>\n",
       "<tr><td>0.368113</td></tr>\n",
       "<tr><td>0.22131</td></tr>\n",
       "</table>"
      ],
      "text/plain": [
       "<Column name='z' dtype='float64' length=211661>\n",
       "0.450184\n",
       "0.367165\n",
       "0.413324\n",
       " 0.32247\n",
       "0.322646\n",
       "0.233469\n",
       "0.313645\n",
       "0.351716\n",
       "0.403208\n",
       " 0.37691\n",
       "0.168714\n",
       "0.301653\n",
       "     ...\n",
       "0.337605\n",
       "0.221458\n",
       "0.221777\n",
       "0.228503\n",
       "0.223359\n",
       "0.350793\n",
       "0.221193\n",
       "0.313262\n",
       "0.245009\n",
       "0.336967\n",
       "0.368113\n",
       " 0.22131"
      ]
     },
     "execution_count": 32,
     "metadata": {},
     "output_type": "execute_result"
    }
   ],
   "source": [
    "dataR['z']"
   ]
  },
  {
   "cell_type": "code",
   "execution_count": 33,
   "metadata": {
    "collapsed": true
   },
   "outputs": [],
   "source": [
    "dat=ascii.read(\"./output/DR72srarfwmap9.dat\")"
   ]
  },
  {
   "cell_type": "code",
   "execution_count": 34,
   "metadata": {
    "collapsed": true
   },
   "outputs": [],
   "source": [
    "dat=np.array([dat['s'],dat['rar'],dat['decr']])"
   ]
  },
  {
   "cell_type": "code",
   "execution_count": 35,
   "metadata": {},
   "outputs": [
    {
     "data": {
      "text/plain": [
       "array([[ 0.40506 ,  0.337292,  0.375356, ...,  0.338084,  0.21062 ,\n",
       "         0.32042 ],\n",
       "       [ 0.980185,  1.016617,  0.950251, ...,  2.830242,  2.831786,\n",
       "         2.838233],\n",
       "       [-0.003863,  0.003776,  0.010821, ...,  0.172112,  0.173661,\n",
       "         0.173055]])"
      ]
     },
     "execution_count": 35,
     "metadata": {},
     "output_type": "execute_result"
    }
   ],
   "source": [
    "dat.reshape(3,len(data['s']))"
   ]
  },
  {
   "cell_type": "code",
   "execution_count": 36,
   "metadata": {
    "collapsed": true
   },
   "outputs": [],
   "source": [
    "dat=dat.transpose()"
   ]
  },
  {
   "cell_type": "code",
   "execution_count": 37,
   "metadata": {},
   "outputs": [
    {
     "data": {
      "text/plain": [
       "array([[ 0.40506 ,  0.980185, -0.003863],\n",
       "       [ 0.337292,  1.016617,  0.003776],\n",
       "       [ 0.375356,  0.950251,  0.010821],\n",
       "       ..., \n",
       "       [ 0.338084,  2.830242,  0.172112],\n",
       "       [ 0.21062 ,  2.831786,  0.173661],\n",
       "       [ 0.32042 ,  2.838233,  0.173055]])"
      ]
     },
     "execution_count": 37,
     "metadata": {},
     "output_type": "execute_result"
    }
   ],
   "source": [
    "dat"
   ]
  },
  {
   "cell_type": "code",
   "execution_count": 38,
   "metadata": {
    "collapsed": true
   },
   "outputs": [],
   "source": [
    "from lcdmmetric import *"
   ]
  },
  {
   "cell_type": "code",
   "execution_count": 39,
   "metadata": {},
   "outputs": [
    {
     "data": {
      "text/plain": [
       "0.004781790741834768"
      ]
     },
     "execution_count": 39,
     "metadata": {},
     "output_type": "execute_result"
    }
   ],
   "source": [
    "LCDMmetricsq(dat[0],dat[1])"
   ]
  },
  {
   "cell_type": "code",
   "execution_count": 40,
   "metadata": {
    "collapsed": true
   },
   "outputs": [],
   "source": [
    "bins=np.arange(0.005,0.08,0.0025)"
   ]
  },
  {
   "cell_type": "code",
   "execution_count": 41,
   "metadata": {},
   "outputs": [
    {
     "name": "stdout",
     "output_type": "stream",
     "text": [
      "[ 0.005   0.0075  0.01    0.0125  0.015   0.0175  0.02    0.0225  0.025\n",
      "  0.0275  0.03    0.0325  0.035   0.0375  0.04    0.0425  0.045   0.0475\n",
      "  0.05    0.0525  0.055   0.0575  0.06    0.0625  0.065   0.0675  0.07\n",
      "  0.0725  0.075   0.0775]\n"
     ]
    }
   ],
   "source": [
    "print bins"
   ]
  },
  {
   "cell_type": "code",
   "execution_count": 42,
   "metadata": {
    "collapsed": true
   },
   "outputs": [],
   "source": [
    "Nbins=len(bins)"
   ]
  },
  {
   "cell_type": "code",
   "execution_count": 43,
   "metadata": {},
   "outputs": [
    {
     "data": {
      "text/plain": [
       "30"
      ]
     },
     "execution_count": 43,
     "metadata": {},
     "output_type": "execute_result"
    }
   ],
   "source": [
    "Nbins"
   ]
  },
  {
   "cell_type": "code",
   "execution_count": 44,
   "metadata": {},
   "outputs": [
    {
     "name": "stdout",
     "output_type": "stream",
     "text": [
      "CPU times: user 5.19 s, sys: 57 ms, total: 5.25 s\n",
      "Wall time: 5.29 s\n"
     ]
    }
   ],
   "source": [
    "%%time\n",
    "BT_D = BallTree(dat,metric='pyfunc',func=LCDMmetricsq,leaf_size=15) \n",
    "\n",
    "with open('BTDdr72wmap9.pkl', 'w') as f:\n",
    "    pickle.dump(BT_D,f)"
   ]
  },
  {
   "cell_type": "code",
   "execution_count": 45,
   "metadata": {},
   "outputs": [
    {
     "data": {
      "text/plain": [
       "<sklearn.neighbors.ball_tree.BinaryTree at 0x7fc65b158410>"
      ]
     },
     "execution_count": 45,
     "metadata": {},
     "output_type": "execute_result"
    }
   ],
   "source": [
    "with open('./BTDdr72wmap9.pkl') as f:\n",
    "    BTD = pickle.load(f)\n",
    "    \n",
    "BTD"
   ]
  },
  {
   "cell_type": "code",
   "execution_count": 46,
   "metadata": {},
   "outputs": [
    {
     "data": {
      "text/plain": [
       "array([  2.50000000e-05,   5.62500000e-05,   1.00000000e-04,\n",
       "         1.56250000e-04,   2.25000000e-04,   3.06250000e-04,\n",
       "         4.00000000e-04,   5.06250000e-04,   6.25000000e-04,\n",
       "         7.56250000e-04,   9.00000000e-04,   1.05625000e-03,\n",
       "         1.22500000e-03,   1.40625000e-03,   1.60000000e-03,\n",
       "         1.80625000e-03,   2.02500000e-03,   2.25625000e-03,\n",
       "         2.50000000e-03,   2.75625000e-03,   3.02500000e-03,\n",
       "         3.30625000e-03,   3.60000000e-03,   3.90625000e-03,\n",
       "         4.22500000e-03,   4.55625000e-03,   4.90000000e-03,\n",
       "         5.25625000e-03,   5.62500000e-03,   6.00625000e-03])"
      ]
     },
     "execution_count": 46,
     "metadata": {},
     "output_type": "execute_result"
    }
   ],
   "source": [
    "binsq=bins**2\n",
    "binsq"
   ]
  },
  {
   "cell_type": "code",
   "execution_count": 47,
   "metadata": {},
   "outputs": [
    {
     "name": "stdout",
     "output_type": "stream",
     "text": [
      "[   402929    774497   1364119   2237086   3458152   5093053   7210625\n",
      "   9866681  13145795  17103872  21820618  27365402  33818809  41226191\n",
      "  49633510  59101950  69686730  81431002  94385209 108550237 123968200\n",
      " 140715893 158788908 178220065 198993309 221189433 244838889 269911660\n",
      " 296471916 324567634]\n",
      "CPU times: user 21min 43s, sys: 2.22 s, total: 21min 46s\n",
      "Wall time: 21min 48s\n"
     ]
    }
   ],
   "source": [
    "%%time\n",
    "counts_DD=BTD.two_point_correlation(dat,binsq)\n",
    "print counts_DD"
   ]
  },
  {
   "cell_type": "code",
   "execution_count": 48,
   "metadata": {},
   "outputs": [
    {
     "data": {
      "text/plain": [
       "array([   402929,    774497,   1364119,   2237086,   3458152,   5093053,\n",
       "         7210625,   9866681,  13145795,  17103872,  21820618,  27365402,\n",
       "        33818809,  41226191,  49633510,  59101950,  69686730,  81431002,\n",
       "        94385209, 108550237, 123968200, 140715893, 158788908, 178220065,\n",
       "       198993309, 221189433, 244838889, 269911660, 296471916, 324567634])"
      ]
     },
     "execution_count": 48,
     "metadata": {},
     "output_type": "execute_result"
    }
   ],
   "source": [
    "with open('./DDDr72wmap9.pkl', 'w') as f:\n",
    "    pickle.dump(counts_DD,f)\n",
    "\n",
    "with open('./DDDr72wmap9.pkl') as f:\n",
    "    counts_DD = pickle.load(f)\n",
    "    \n",
    "counts_DD"
   ]
  },
  {
   "cell_type": "code",
   "execution_count": 49,
   "metadata": {},
   "outputs": [
    {
     "data": {
      "text/plain": [
       "array([  371568,   589622,   872967,  1221066,  1634901,  2117572,\n",
       "        2656056,  3279114,  3958077,  4716746,  5544784,  6453407,\n",
       "        7407382,  8407319,  9468440, 10584780, 11744272, 12954207,\n",
       "       14165028, 15417963, 16747693, 18073015, 19431157, 20773244,\n",
       "       22196124, 23649456, 25072771, 26560256, 28095718])"
      ]
     },
     "execution_count": 49,
     "metadata": {},
     "output_type": "execute_result"
    }
   ],
   "source": [
    "DD=np.diff(counts_DD)\n",
    "DD"
   ]
  },
  {
   "cell_type": "code",
   "execution_count": 50,
   "metadata": {
    "collapsed": true
   },
   "outputs": [],
   "source": [
    "dataR=ascii.read(\"./output/rDR72srarfwmap9.dat\")"
   ]
  },
  {
   "cell_type": "code",
   "execution_count": 51,
   "metadata": {},
   "outputs": [
    {
     "data": {
      "text/html": [
       "&lt;Column name=&apos;z&apos; dtype=&apos;float64&apos; length=211661&gt;\n",
       "<table>\n",
       "<tr><td>0.450184</td></tr>\n",
       "<tr><td>0.367165</td></tr>\n",
       "<tr><td>0.413324</td></tr>\n",
       "<tr><td>0.32247</td></tr>\n",
       "<tr><td>0.322646</td></tr>\n",
       "<tr><td>0.233469</td></tr>\n",
       "<tr><td>0.313645</td></tr>\n",
       "<tr><td>0.351716</td></tr>\n",
       "<tr><td>0.403208</td></tr>\n",
       "<tr><td>0.37691</td></tr>\n",
       "<tr><td>0.168714</td></tr>\n",
       "<tr><td>0.301653</td></tr>\n",
       "<tr><td>...</td></tr>\n",
       "<tr><td>0.337605</td></tr>\n",
       "<tr><td>0.221458</td></tr>\n",
       "<tr><td>0.221777</td></tr>\n",
       "<tr><td>0.228503</td></tr>\n",
       "<tr><td>0.223359</td></tr>\n",
       "<tr><td>0.350793</td></tr>\n",
       "<tr><td>0.221193</td></tr>\n",
       "<tr><td>0.313262</td></tr>\n",
       "<tr><td>0.245009</td></tr>\n",
       "<tr><td>0.336967</td></tr>\n",
       "<tr><td>0.368113</td></tr>\n",
       "<tr><td>0.22131</td></tr>\n",
       "</table>"
      ],
      "text/plain": [
       "<Column name='z' dtype='float64' length=211661>\n",
       "0.450184\n",
       "0.367165\n",
       "0.413324\n",
       " 0.32247\n",
       "0.322646\n",
       "0.233469\n",
       "0.313645\n",
       "0.351716\n",
       "0.403208\n",
       " 0.37691\n",
       "0.168714\n",
       "0.301653\n",
       "     ...\n",
       "0.337605\n",
       "0.221458\n",
       "0.221777\n",
       "0.228503\n",
       "0.223359\n",
       "0.350793\n",
       "0.221193\n",
       "0.313262\n",
       "0.245009\n",
       "0.336967\n",
       "0.368113\n",
       " 0.22131"
      ]
     },
     "execution_count": 51,
     "metadata": {},
     "output_type": "execute_result"
    }
   ],
   "source": [
    "dataR['z']"
   ]
  },
  {
   "cell_type": "code",
   "execution_count": 52,
   "metadata": {
    "collapsed": true
   },
   "outputs": [],
   "source": [
    "datR=np.array([dataR['s'],dataR['rar'],dataR['decr']])"
   ]
  },
  {
   "cell_type": "code",
   "execution_count": 53,
   "metadata": {},
   "outputs": [
    {
     "data": {
      "text/plain": [
       "array([[ 0.40506 ,  0.337293,  0.375356, ...,  0.311867,  0.338084,\n",
       "         0.21062 ],\n",
       "       [ 2.992549,  2.737752,  2.367643, ...,  3.228052,  3.218296,\n",
       "         4.056418],\n",
       "       [ 0.248026,  0.711236,  0.341962, ...,  0.199013,  0.052979,\n",
       "         0.170602]])"
      ]
     },
     "execution_count": 53,
     "metadata": {},
     "output_type": "execute_result"
    }
   ],
   "source": [
    "datR.reshape(3,len(dataR['s']))"
   ]
  },
  {
   "cell_type": "code",
   "execution_count": 54,
   "metadata": {
    "collapsed": true
   },
   "outputs": [],
   "source": [
    "datR=datR.transpose()"
   ]
  },
  {
   "cell_type": "code",
   "execution_count": 55,
   "metadata": {},
   "outputs": [
    {
     "data": {
      "text/plain": [
       "array([[ 0.40506 ,  2.992549,  0.248026],\n",
       "       [ 0.337293,  2.737752,  0.711236],\n",
       "       [ 0.375356,  2.367643,  0.341962],\n",
       "       ..., \n",
       "       [ 0.311867,  3.228052,  0.199013],\n",
       "       [ 0.338084,  3.218296,  0.052979],\n",
       "       [ 0.21062 ,  4.056418,  0.170602]])"
      ]
     },
     "execution_count": 55,
     "metadata": {},
     "output_type": "execute_result"
    }
   ],
   "source": [
    "datR"
   ]
  },
  {
   "cell_type": "code",
   "execution_count": 56,
   "metadata": {},
   "outputs": [
    {
     "data": {
      "text/plain": [
       "0.03986505718630143"
      ]
     },
     "execution_count": 56,
     "metadata": {},
     "output_type": "execute_result"
    }
   ],
   "source": [
    "LCDMmetricsq(datR[0],datR[1])"
   ]
  },
  {
   "cell_type": "code",
   "execution_count": 57,
   "metadata": {},
   "outputs": [
    {
     "name": "stdout",
     "output_type": "stream",
     "text": [
      "CPU times: user 9.44 s, sys: 87.3 ms, total: 9.53 s\n",
      "Wall time: 9.75 s\n"
     ]
    }
   ],
   "source": [
    "%%time\n",
    "BT_R = BallTree(datR,metric='pyfunc',func=LCDMmetricsq,leaf_size=15) \n",
    "\n",
    "with open('BTRdr72wmap9.pkl', 'w') as f:\n",
    "    pickle.dump(BT_R,f)"
   ]
  },
  {
   "cell_type": "code",
   "execution_count": 58,
   "metadata": {},
   "outputs": [
    {
     "data": {
      "text/plain": [
       "<sklearn.neighbors.ball_tree.BinaryTree at 0x7fc659b82f60>"
      ]
     },
     "execution_count": 58,
     "metadata": {},
     "output_type": "execute_result"
    }
   ],
   "source": [
    "with open('./BTRdr72wmap9.pkl') as f:\n",
    "    BTR = pickle.load(f)\n",
    "    \n",
    "BTR"
   ]
  },
  {
   "cell_type": "code",
   "execution_count": 59,
   "metadata": {},
   "outputs": [
    {
     "name": "stdout",
     "output_type": "stream",
     "text": [
      "[    663614    1690321    3617352    6707338   11195146   17325909\n",
      "   25347404   35542383   48237685   63721896   82264095  104139604\n",
      "  129531349  158709548  191838963  229141038  270800677  316908009\n",
      "  367677642  423223171  483733867  549293576  620082083  696207565\n",
      "  777706638  864698484  957175479 1055197395 1158853225 1268156053]\n",
      "CPU times: user 1h 10min 2s, sys: 4.76 s, total: 1h 10min 7s\n",
      "Wall time: 1h 18min 1s\n"
     ]
    }
   ],
   "source": [
    "%%time\n",
    "counts_RR=BTR.two_point_correlation(datR,binsq)\n",
    "print counts_RR"
   ]
  },
  {
   "cell_type": "code",
   "execution_count": 60,
   "metadata": {},
   "outputs": [
    {
     "data": {
      "text/plain": [
       "array([    663614,    1690321,    3617352,    6707338,   11195146,\n",
       "         17325909,   25347404,   35542383,   48237685,   63721896,\n",
       "         82264095,  104139604,  129531349,  158709548,  191838963,\n",
       "        229141038,  270800677,  316908009,  367677642,  423223171,\n",
       "        483733867,  549293576,  620082083,  696207565,  777706638,\n",
       "        864698484,  957175479, 1055197395, 1158853225, 1268156053])"
      ]
     },
     "execution_count": 60,
     "metadata": {},
     "output_type": "execute_result"
    }
   ],
   "source": [
    "with open('./RRDr72wmap9.pkl', 'w') as f:\n",
    "    pickle.dump(counts_RR,f)\n",
    "\n",
    "with open('./RRDr72wmap9.pkl') as f:\n",
    "    counts_RR = pickle.load(f)\n",
    "    \n",
    "counts_RR"
   ]
  },
  {
   "cell_type": "code",
   "execution_count": 61,
   "metadata": {},
   "outputs": [
    {
     "data": {
      "text/plain": [
       "array([  1026707,   1927031,   3089986,   4487808,   6130763,   8021495,\n",
       "        10194979,  12695302,  15484211,  18542199,  21875509,  25391745,\n",
       "        29178199,  33129415,  37302075,  41659639,  46107332,  50769633,\n",
       "        55545529,  60510696,  65559709,  70788507,  76125482,  81499073,\n",
       "        86991846,  92476995,  98021916, 103655830, 109302828])"
      ]
     },
     "execution_count": 61,
     "metadata": {},
     "output_type": "execute_result"
    }
   ],
   "source": [
    "RR=np.diff(counts_RR)\n",
    "RR"
   ]
  },
  {
   "cell_type": "code",
   "execution_count": 62,
   "metadata": {},
   "outputs": [
    {
     "name": "stdout",
     "output_type": "stream",
     "text": [
      "[   221572    731952   1698214   3241835   5491505   8564981  12598092\n",
      "  17735330  24133056  31948692  41319344  52356484  65180683  79924039\n",
      "  96676694 115512942 136561500 159903672 185618471 213722029 244346138\n",
      " 277553025 313397812 351933936 393245984 437352562 484346982 534170394\n",
      " 586815191 642313301]\n",
      "CPU times: user 34min 37s, sys: 1.5 s, total: 34min 38s\n",
      "Wall time: 34min 38s\n"
     ]
    }
   ],
   "source": [
    "%%time\n",
    "counts_DR=BTR.two_point_correlation(dat,binsq)\n",
    "print counts_DR"
   ]
  },
  {
   "cell_type": "code",
   "execution_count": 63,
   "metadata": {},
   "outputs": [
    {
     "data": {
      "text/plain": [
       "array([   221572,    731952,   1698214,   3241835,   5491505,   8564981,\n",
       "        12598092,  17735330,  24133056,  31948692,  41319344,  52356484,\n",
       "        65180683,  79924039,  96676694, 115512942, 136561500, 159903672,\n",
       "       185618471, 213722029, 244346138, 277553025, 313397812, 351933936,\n",
       "       393245984, 437352562, 484346982, 534170394, 586815191, 642313301])"
      ]
     },
     "execution_count": 63,
     "metadata": {},
     "output_type": "execute_result"
    }
   ],
   "source": [
    "with open('./DRDr72wmap9.pkl', 'w') as f:\n",
    "    pickle.dump(counts_DR,f)\n",
    "\n",
    "with open('./DRDr72wmap9.pkl') as f:\n",
    "    counts_DR = pickle.load(f)\n",
    "    \n",
    "counts_DR"
   ]
  },
  {
   "cell_type": "code",
   "execution_count": 64,
   "metadata": {},
   "outputs": [
    {
     "data": {
      "text/plain": [
       "array([  510380,   966262,  1543621,  2249670,  3073476,  4033111,\n",
       "        5137238,  6397726,  7815636,  9370652, 11037140, 12824199,\n",
       "       14743356, 16752655, 18836248, 21048558, 23342172, 25714799,\n",
       "       28103558, 30624109, 33206887, 35844787, 38536124, 41312048,\n",
       "       44106578, 46994420, 49823412, 52644797, 55498110])"
      ]
     },
     "execution_count": 64,
     "metadata": {},
     "output_type": "execute_result"
    }
   ],
   "source": [
    "DR=np.diff(counts_DR)\n",
    "DR"
   ]
  },
  {
   "cell_type": "code",
   "execution_count": 65,
   "metadata": {
    "collapsed": true
   },
   "outputs": [],
   "source": [
    "from __future__ import division\n",
    "correl=(4.0*DD-4.0*DR+1.0*RR)/(1.0*RR)"
   ]
  },
  {
   "cell_type": "code",
   "execution_count": 66,
   "metadata": {},
   "outputs": [
    {
     "data": {
      "text/plain": [
       "array([ 0.45919527,  0.21819628,  0.13183555,  0.08320142,  0.06140557,\n",
       "        0.04479701,  0.02650824,  0.01739651,  0.00348581, -0.00395989,\n",
       "       -0.00429316, -0.0036005 , -0.00567879, -0.00760439, -0.00453479,\n",
       "       -0.00469214, -0.00616535, -0.00537201, -0.00375532, -0.00518731,\n",
       "       -0.00422618, -0.00421793, -0.00386712, -0.00805093, -0.00747162,\n",
       "       -0.00976309, -0.01000437, -0.00658269, -0.00280633])"
      ]
     },
     "execution_count": 66,
     "metadata": {},
     "output_type": "execute_result"
    }
   ],
   "source": [
    "correl"
   ]
  },
  {
   "cell_type": "code",
   "execution_count": 67,
   "metadata": {},
   "outputs": [
    {
     "name": "stdout",
     "output_type": "stream",
     "text": [
      "[  22.48443435   29.9792458    37.47405725   44.9688687    52.46368015\n",
      "   59.9584916    67.45330305   74.9481145    82.44292595   89.9377374\n",
      "   97.43254885  104.9273603   112.42217175  119.9169832   127.41179465\n",
      "  134.9066061   142.40141755  149.896229    157.39104045  164.8858519\n",
      "  172.38066335  179.8754748   187.37028625  194.8650977   202.35990915\n",
      "  209.8547206   217.34953205  224.8443435   232.33915495] m / s\n"
     ]
    }
   ],
   "source": [
    "binMpc=c*1e-5*bins[1:len(bins)]\n",
    "print binMpc"
   ]
  },
  {
   "cell_type": "code",
   "execution_count": 68,
   "metadata": {},
   "outputs": [
    {
     "data": {
      "text/plain": [
       "[<matplotlib.lines.Line2D at 0x11a673490>]"
      ]
     },
     "execution_count": 68,
     "metadata": {},
     "output_type": "execute_result"
    },
    {
     "data": {
      "image/png": "[encoded data removed]",
      "text/plain": [
       "<matplotlib.figure.Figure at 0x129507690>"
      ]
     },
     "metadata": {},
     "output_type": "display_data"
    }
   ],
   "source": [
    "plt.plot(binMpc,correl,'ro-')"
   ]
  },
  {
   "cell_type": "code",
   "execution_count": 73,
   "metadata": {},
   "outputs": [
    {
     "data": {
      "text/plain": [
       "[<matplotlib.lines.Line2D at 0x11e225710>]"
      ]
     },
     "execution_count": 73,
     "metadata": {},
     "output_type": "execute_result"
    },
    {
     "data": {
      "image/png": "[encoded data removed]",
      "text/plain": [
       "<matplotlib.figure.Figure at 0x11d45efd0>"
      ]
     },
     "metadata": {},
     "output_type": "display_data"
    }
   ],
   "source": [
    "plt.plot(binMpc[2:],correl[2:],'ro-')"
   ]
  },
  {
   "cell_type": "code",
   "execution_count": null,
   "metadata": {
    "collapsed": true
   },
   "outputs": [],
   "source": []
  },
  {
   "cell_type": "code",
   "execution_count": 71,
   "metadata": {},
   "outputs": [
    {
     "data": {
      "image/png": "[encoded data removed]",
      "text/plain": [
       "<matplotlib.figure.Figure at 0x124206090>"
      ]
     },
     "metadata": {},
     "output_type": "display_data"
    }
   ],
   "source": [
    "plt.yscale('log')\n",
    "plt.plot(binMpc,correl+1.0,'bo-')\n",
    "plt.show()"
   ]
  },
  {
   "cell_type": "code",
   "execution_count": 72,
   "metadata": {},
   "outputs": [
    {
     "data": {
      "image/png": "[encoded data removed]",
      "text/plain": [
       "<matplotlib.figure.Figure at 0x11cd68b90>"
      ]
     },
     "metadata": {},
     "output_type": "display_data"
    }
   ],
   "source": [
    "plt.xscale('log')\n",
    "plt.yscale('log')\n",
    "plt.plot(binMpc,correl+1.0,'bo-')\n",
    "plt.show()"
   ]
  },
  {
   "cell_type": "code",
   "execution_count": null,
   "metadata": {
    "collapsed": true
   },
   "outputs": [],
   "source": []
  }
 ],
 "metadata": {
  "kernelspec": {
   "display_name": "Python 2",
   "language": "python",
   "name": "python2"
  },
  "language_info": {
   "codemirror_mode": {
    "name": "ipython",
    "version": 2
   },
   "file_extension": ".py",
   "mimetype": "text/x-python",
   "name": "python",
   "nbconvert_exporter": "python",
   "pygments_lexer": "ipython2",
   "version": "2.7.13"
  }
 },
 "nbformat": 4,
 "nbformat_minor": 1
}
