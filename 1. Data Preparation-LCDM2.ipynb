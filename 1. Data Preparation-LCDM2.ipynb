{
 "cells": [
  {
   "cell_type": "markdown",
   "metadata": {},
   "source": [
    "# Correlation function of DR72 SDSS VAGC Catalog"
   ]
  },
  {
   "cell_type": "markdown",
   "metadata": {},
   "source": [
    "First import all the modules such as healpy and astropy needed for analyzing the structure"
   ]
  },
  {
   "cell_type": "code",
   "execution_count": 1,
   "metadata": {
    "collapsed": true
   },
   "outputs": [],
   "source": [
    "import healpix_util as hu\n",
    "import astropy as ap\n",
    "import numpy as np\n",
    "from astropy.io import fits\n",
    "from astropy.table import Table\n",
    "import astropy.io.ascii as ascii\n",
    "from astropy.io import fits\n",
    "from astropy.constants import c\n",
    "import matplotlib.pyplot as plt\n",
    "import math as m\n",
    "from math import pi\n",
    "import scipy.special as sp\n",
    "from scipy import integrate\n",
    "import warnings\n",
    "from sklearn.neighbors import BallTree\n",
    "import pickle\n",
    "import pymangle\n",
    "from scipy.optimize import curve_fit\n",
    "%matplotlib inline"
   ]
  },
  {
   "cell_type": "code",
   "execution_count": 2,
   "metadata": {
    "collapsed": true
   },
   "outputs": [
    {
     "data": {
      "text/html": [
       "&lt;Table length=105831&gt;\n",
       "<table id=\"table4917261136\" class=\"table-striped table-bordered table-condensed\">\n",
       "<thead><tr><th>col1</th><th>col2</th><th>col3</th><th>col4</th><th>col5</th><th>col6</th><th>col7</th><th>col8</th><th>col9</th><th>col10</th><th>col11</th><th>col12</th></tr></thead>\n",
       "<thead><tr><th>float64</th><th>float64</th><th>float64</th><th>float64</th><th>float64</th><th>float64</th><th>float64</th><th>float64</th><th>float64</th><th>int64</th><th>int64</th><th>int64</th></tr></thead>\n",
       "<tr><td>56.1604523761</td><td>-0.221359772462</td><td>0.4501842</td><td>-22.0970516205</td><td>0.9943343</td><td>0.310859</td><td>1.7112147</td><td>1.0</td><td>0.9901478</td><td>32763</td><td>33480</td><td>784</td></tr>\n",
       "<tr><td>58.247844859</td><td>0.216329004672</td><td>0.3671646</td><td>-21.8688602448</td><td>0.9533011</td><td>0.7922078</td><td>0.9208817</td><td>1.0</td><td>0.9506173</td><td>303471</td><td>311902</td><td>3790</td></tr>\n",
       "<tr><td>54.445380928</td><td>0.619974218725</td><td>0.4133244</td><td>-21.7306137085</td><td>1.0</td><td>0.4315305</td><td>1.4082278</td><td>1.0</td><td>0.9183673</td><td>43630</td><td>44552</td><td>779</td></tr>\n",
       "<tr><td>54.4879828915</td><td>0.485825651457</td><td>0.3224697</td><td>-21.8775806427</td><td>1.0</td><td>0.9240486</td><td>0.8174705</td><td>1.0</td><td>0.9183673</td><td>43622</td><td>44544</td><td>779</td></tr>\n",
       "<tr><td>54.4932987631</td><td>0.483249792951</td><td>0.3226457</td><td>-21.6763000488</td><td>1.0</td><td>0.9249313</td><td>0.8168564</td><td>1.0</td><td>0.9183673</td><td>43622</td><td>44544</td><td>779</td></tr>\n",
       "<tr><td>55.5558858448</td><td>0.582441686132</td><td>0.2334688</td><td>-21.5131568909</td><td>0.9943343</td><td>1.0009493</td><td>0.7672175</td><td>1.0</td><td>0.9901478</td><td>43723</td><td>44650</td><td>784</td></tr>\n",
       "<tr><td>55.5686146471</td><td>0.608277412471</td><td>0.3136448</td><td>-21.5073776245</td><td>0.9943343</td><td>0.8425107</td><td>0.8784812</td><td>1.0</td><td>0.9901478</td><td>43727</td><td>44654</td><td>784</td></tr>\n",
       "<tr><td>55.5972002797</td><td>0.434026434704</td><td>0.3517163</td><td>-21.5829257965</td><td>0.9943343</td><td>0.8903325</td><td>0.8416406</td><td>1.0</td><td>0.9901478</td><td>43731</td><td>44658</td><td>784</td></tr>\n",
       "<tr><td>55.7617273511</td><td>0.495315330472</td><td>0.403208</td><td>-21.3501148224</td><td>0.9943343</td><td>0.4957986</td><td>1.2868758</td><td>1.0</td><td>0.9901478</td><td>43740</td><td>44667</td><td>784</td></tr>\n",
       "<tr><td>55.8125115924</td><td>0.521042073319</td><td>0.3769101</td><td>-21.6775398254</td><td>0.9943343</td><td>0.6858334</td><td>1.0255566</td><td>1.0</td><td>0.9901478</td><td>43740</td><td>44667</td><td>784</td></tr>\n",
       "<tr><td>...</td><td>...</td><td>...</td><td>...</td><td>...</td><td>...</td><td>...</td><td>...</td><td>...</td><td>...</td><td>...</td><td>...</td></tr>\n",
       "<tr><td>162.204837648</td><td>9.136054829</td><td>0.2285027</td><td>-21.6524200439</td><td>0.8557692</td><td>1.0650909</td><td>0.7297975</td><td>1.0</td><td>0.9716312</td><td>633991</td><td>650894</td><td>3789</td></tr>\n",
       "<tr><td>162.407014385</td><td>9.24223618476</td><td>0.2233595</td><td>-21.6275596619</td><td>0.8557692</td><td>1.0816779</td><td>0.7207074</td><td>1.0</td><td>0.9716312</td><td>633995</td><td>650898</td><td>3789</td></tr>\n",
       "<tr><td>162.631596919</td><td>9.11224932272</td><td>0.3507926</td><td>-21.7870635986</td><td>0.8557692</td><td>0.8983272</td><td>0.835781</td><td>1.0</td><td>0.9716312</td><td>633997</td><td>650900</td><td>3789</td></tr>\n",
       "<tr><td>162.792857827</td><td>9.06585769142</td><td>0.2211935</td><td>-22.1479187012</td><td>0.9936034</td><td>1.0758724</td><td>0.7238631</td><td>2.0</td><td>0.9100257</td><td>634001</td><td>650905</td><td>8537</td></tr>\n",
       "<tr><td>162.752716952</td><td>9.23526068256</td><td>0.3132616</td><td>-21.6552429199</td><td>0.8557692</td><td>0.8386317</td><td>0.8816114</td><td>1.0</td><td>0.9716312</td><td>634000</td><td>650903</td><td>3789</td></tr>\n",
       "<tr><td>162.013077975</td><td>9.58703483653</td><td>0.2450086</td><td>-21.6949653625</td><td>0.9907407</td><td>0.9167792</td><td>0.8225636</td><td>1.0</td><td>0.8892989</td><td>323046</td><td>331902</td><td>3787</td></tr>\n",
       "<tr><td>162.142350287</td><td>9.94163874778</td><td>0.3369665</td><td>-21.4902000427</td><td>0.6296296</td><td>1.0071049</td><td>0.7634606</td><td>1.0</td><td>0.8181818</td><td>634079</td><td>650985</td><td>3788</td></tr>\n",
       "<tr><td>162.160914924</td><td>9.86128115397</td><td>0.3681125</td><td>-21.9206676483</td><td>0.6296296</td><td>0.7820635</td><td>0.9299332</td><td>1.0</td><td>0.8181818</td><td>634079</td><td>650985</td><td>3788</td></tr>\n",
       "<tr><td>162.249397448</td><td>9.95005411419</td><td>0.2213098</td><td>-21.5619354248</td><td>0.8557692</td><td>1.0762938</td><td>0.7236331</td><td>1.0</td><td>0.9716312</td><td>634081</td><td>650987</td><td>3789</td></tr>\n",
       "<tr><td>162.61877369</td><td>9.9153390136</td><td>0.3470703</td><td>-21.6079502106</td><td>0.8557692</td><td>0.947932</td><td>0.8011724</td><td>1.0</td><td>0.9716312</td><td>634087</td><td>650993</td><td>3789</td></tr>\n",
       "</table>"
      ],
      "text/plain": [
       "<Table length=105831>\n",
       "     col1           col2         col3        col4      ... col10  col11  col12\n",
       "   float64        float64      float64     float64     ... int64  int64  int64\n",
       "------------- --------------- --------- -------------- ... ------ ------ -----\n",
       "56.1604523761 -0.221359772462 0.4501842 -22.0970516205 ...  32763  33480   784\n",
       " 58.247844859  0.216329004672 0.3671646 -21.8688602448 ... 303471 311902  3790\n",
       " 54.445380928  0.619974218725 0.4133244 -21.7306137085 ...  43630  44552   779\n",
       "54.4879828915  0.485825651457 0.3224697 -21.8775806427 ...  43622  44544   779\n",
       "54.4932987631  0.483249792951 0.3226457 -21.6763000488 ...  43622  44544   779\n",
       "55.5558858448  0.582441686132 0.2334688 -21.5131568909 ...  43723  44650   784\n",
       "55.5686146471  0.608277412471 0.3136448 -21.5073776245 ...  43727  44654   784\n",
       "55.5972002797  0.434026434704 0.3517163 -21.5829257965 ...  43731  44658   784\n",
       "55.7617273511  0.495315330472  0.403208 -21.3501148224 ...  43740  44667   784\n",
       "55.8125115924  0.521042073319 0.3769101 -21.6775398254 ...  43740  44667   784\n",
       "          ...             ...       ...            ... ...    ...    ...   ...\n",
       "162.204837648     9.136054829 0.2285027 -21.6524200439 ... 633991 650894  3789\n",
       "162.407014385   9.24223618476 0.2233595 -21.6275596619 ... 633995 650898  3789\n",
       "162.631596919   9.11224932272 0.3507926 -21.7870635986 ... 633997 650900  3789\n",
       "162.792857827   9.06585769142 0.2211935 -22.1479187012 ... 634001 650905  8537\n",
       "162.752716952   9.23526068256 0.3132616 -21.6552429199 ... 634000 650903  3789\n",
       "162.013077975   9.58703483653 0.2450086 -21.6949653625 ... 323046 331902  3787\n",
       "162.142350287   9.94163874778 0.3369665 -21.4902000427 ... 634079 650985  3788\n",
       "162.160914924   9.86128115397 0.3681125 -21.9206676483 ... 634079 650985  3788\n",
       "162.249397448   9.95005411419 0.2213098 -21.5619354248 ... 634081 650987  3789\n",
       " 162.61877369    9.9153390136 0.3470703 -21.6079502106 ... 634087 650993  3789"
      ]
     },
     "execution_count": 2,
     "metadata": {},
     "output_type": "execute_result"
    }
   ],
   "source": [
    "dr7full=ascii.read(\"./input/DR7-Full.ascii\")\n",
    "dr7full"
   ]
  },
  {
   "cell_type": "code",
   "execution_count": 3,
   "metadata": {
    "collapsed": true
   },
   "outputs": [],
   "source": [
    "z=dr7full['col3']\n",
    "rad=dr7full['col1']\n",
    "decd=dr7full['col2']"
   ]
  },
  {
   "cell_type": "code",
   "execution_count": 4,
   "metadata": {},
   "outputs": [
    {
     "data": {
      "text/plain": [
       "<numpy.lib.function_base.vectorize at 0x136aa88d0>"
      ]
     },
     "execution_count": 4,
     "metadata": {},
     "output_type": "execute_result"
    }
   ],
   "source": [
    "#Ez = lambda x: 1.0/m.sqrt(0.3*(1+x)**3+0.7)\n",
    "Om=0.3\n",
    "Ol=0.7\n",
    "Ok=0.0\n",
    "def Ez(zv):\n",
    "    return 1.0/m.sqrt(Om*(1.0+zv)**3+Ok*(1.0+zv)**2+Ol)\n",
    "\n",
    "np.vectorize(Ez)\n",
    "#Calculate comoving distance of a data point using the Redshift - This definition is based on the cosmology model we take. Here the distance for E-dS universe is considered. Also note that c/H0 ratio is cancelled in the equations and hence not taken."
   ]
  },
  {
   "cell_type": "code",
   "execution_count": 5,
   "metadata": {
    "collapsed": true
   },
   "outputs": [],
   "source": [
    "def DC_LCDM(z):\n",
    "  return integrate.quad(Ez, 0, z)[0]\n",
    "DC_LCDM=np.vectorize(DC_LCDM)"
   ]
  },
  {
   "cell_type": "code",
   "execution_count": 6,
   "metadata": {},
   "outputs": [
    {
     "data": {
      "text/plain": [
       "array(1.20947120427111)"
      ]
     },
     "execution_count": 6,
     "metadata": {},
     "output_type": "execute_result"
    }
   ],
   "source": [
    "DC_LCDM(2.0)"
   ]
  },
  {
   "cell_type": "code",
   "execution_count": 7,
   "metadata": {
    "collapsed": true
   },
   "outputs": [
    {
     "data": {
      "text/html": [
       "&lt;Column name=&apos;col3&apos; dtype=&apos;float64&apos; length=105831&gt;\n",
       "<table>\n",
       "<tr><td>0.402352474282</td></tr>\n",
       "<tr><td>0.335419291795</td></tr>\n",
       "<tr><td>0.373032638536</td></tr>\n",
       "<tr><td>0.298038494099</td></tr>\n",
       "<tr><td>0.298187560536</td></tr>\n",
       "<tr><td>0.220751783751</td></tr>\n",
       "<tr><td>0.290545079047</td></tr>\n",
       "<tr><td>0.322606521262</td></tr>\n",
       "<tr><td>0.364874955446</td></tr>\n",
       "<tr><td>0.343444015506</td></tr>\n",
       "<tr><td>0.162121950353</td></tr>\n",
       "<tr><td>0.280302787153</td></tr>\n",
       "<tr><td>...</td></tr>\n",
       "<tr><td>0.210029801067</td></tr>\n",
       "<tr><td>0.210315206382</td></tr>\n",
       "<tr><td>0.216326933769</td></tr>\n",
       "<tr><td>0.211731746049</td></tr>\n",
       "<tr><td>0.321836817232</td></tr>\n",
       "<tr><td>0.209792717115</td></tr>\n",
       "<tr><td>0.290218850925</td></tr>\n",
       "<tr><td>0.230987936297</td></tr>\n",
       "<tr><td>0.310267227869</td></tr>\n",
       "<tr><td>0.33620179252</td></tr>\n",
       "<tr><td>0.209896887743</td></tr>\n",
       "<tr><td>0.318730973702</td></tr>\n",
       "</table>"
      ],
      "text/plain": [
       "<Column name='col3' dtype='float64' length=105831>\n",
       "0.402352474282\n",
       "0.335419291795\n",
       "0.373032638536\n",
       "0.298038494099\n",
       "0.298187560536\n",
       "0.220751783751\n",
       "0.290545079047\n",
       "0.322606521262\n",
       "0.364874955446\n",
       "0.343444015506\n",
       "0.162121950353\n",
       "0.280302787153\n",
       "           ...\n",
       "0.210029801067\n",
       "0.210315206382\n",
       "0.216326933769\n",
       "0.211731746049\n",
       "0.321836817232\n",
       "0.209792717115\n",
       "0.290218850925\n",
       "0.230987936297\n",
       "0.310267227869\n",
       " 0.33620179252\n",
       "0.209896887743\n",
       "0.318730973702"
      ]
     },
     "execution_count": 7,
     "metadata": {},
     "output_type": "execute_result"
    }
   ],
   "source": [
    "DC=DC_LCDM(z)\n",
    "DC"
   ]
  },
  {
   "cell_type": "code",
   "execution_count": 8,
   "metadata": {
    "collapsed": true
   },
   "outputs": [],
   "source": [
    "dr7f = open(\"./output/DR72srarflcdm2.dat\",'w')\n",
    "dr7f.write(\"z\\t ra\\t dec\\t s\\t rar\\t decr \\n\")\n",
    "\n",
    "for i in range(0,len(dr7full)):\n",
    "    dr7f.write(\"%f\\t \" %z[i])\n",
    "    dr7f.write(\"%f\\t %f\\t \" %(rad[i],decd[i]))\n",
    "    dr7f.write(\"%f\\t \" %DC[i])\n",
    "    dr7f.write(\"%f\\t %f\\n \" %(rad[i]*pi/180.0,decd[i]*pi/180.0))\n",
    "dr7f.close()"
   ]
  },
  {
   "cell_type": "code",
   "execution_count": 9,
   "metadata": {
    "collapsed": true
   },
   "outputs": [],
   "source": [
    "data=ascii.read(\"./output/DR72srarflcdm2.dat\")"
   ]
  },
  {
   "cell_type": "code",
   "execution_count": 10,
   "metadata": {
    "collapsed": true
   },
   "outputs": [
    {
     "data": {
      "text/html": [
       "&lt;Column name=&apos;z&apos; dtype=&apos;float64&apos; length=105831&gt;\n",
       "<table>\n",
       "<tr><td>0.450184</td></tr>\n",
       "<tr><td>0.367165</td></tr>\n",
       "<tr><td>0.413324</td></tr>\n",
       "<tr><td>0.32247</td></tr>\n",
       "<tr><td>0.322646</td></tr>\n",
       "<tr><td>0.233469</td></tr>\n",
       "<tr><td>0.313645</td></tr>\n",
       "<tr><td>0.351716</td></tr>\n",
       "<tr><td>0.403208</td></tr>\n",
       "<tr><td>0.37691</td></tr>\n",
       "<tr><td>0.168714</td></tr>\n",
       "<tr><td>0.301653</td></tr>\n",
       "<tr><td>...</td></tr>\n",
       "<tr><td>0.221458</td></tr>\n",
       "<tr><td>0.221777</td></tr>\n",
       "<tr><td>0.228503</td></tr>\n",
       "<tr><td>0.223359</td></tr>\n",
       "<tr><td>0.350793</td></tr>\n",
       "<tr><td>0.221193</td></tr>\n",
       "<tr><td>0.313262</td></tr>\n",
       "<tr><td>0.245009</td></tr>\n",
       "<tr><td>0.336967</td></tr>\n",
       "<tr><td>0.368113</td></tr>\n",
       "<tr><td>0.22131</td></tr>\n",
       "<tr><td>0.34707</td></tr>\n",
       "</table>"
      ],
      "text/plain": [
       "<Column name='z' dtype='float64' length=105831>\n",
       "0.450184\n",
       "0.367165\n",
       "0.413324\n",
       " 0.32247\n",
       "0.322646\n",
       "0.233469\n",
       "0.313645\n",
       "0.351716\n",
       "0.403208\n",
       " 0.37691\n",
       "0.168714\n",
       "0.301653\n",
       "     ...\n",
       "0.221458\n",
       "0.221777\n",
       "0.228503\n",
       "0.223359\n",
       "0.350793\n",
       "0.221193\n",
       "0.313262\n",
       "0.245009\n",
       "0.336967\n",
       "0.368113\n",
       " 0.22131\n",
       " 0.34707"
      ]
     },
     "execution_count": 10,
     "metadata": {},
     "output_type": "execute_result"
    }
   ],
   "source": [
    "data['z']"
   ]
  },
  {
   "cell_type": "code",
   "execution_count": null,
   "metadata": {
    "collapsed": true
   },
   "outputs": [],
   "source": [
    "data['s']"
   ]
  },
  {
   "cell_type": "code",
   "execution_count": null,
   "metadata": {
    "collapsed": true
   },
   "outputs": [],
   "source": [
    "data['rar']"
   ]
  },
  {
   "cell_type": "code",
   "execution_count": null,
   "metadata": {
    "collapsed": true
   },
   "outputs": [],
   "source": [
    "data['decr']"
   ]
  },
  {
   "cell_type": "code",
   "execution_count": 10,
   "metadata": {
    "collapsed": true
   },
   "outputs": [],
   "source": [
    "NSIDE=512\n",
    "dr72hpix=hu.HealPix(\"ring\",NSIDE)"
   ]
  },
  {
   "cell_type": "code",
   "execution_count": 11,
   "metadata": {
    "collapsed": true
   },
   "outputs": [],
   "source": [
    "pixdata = open(\"./output/pixdatadr72VAGCfulllcdm2.dat\",'w')\n",
    "pixdata.write(\"z\\t pix \\n\")\n",
    "\n",
    "for i in range(0,len(data)):\n",
    "    pixdata.write(\"%f\\t\" %data['z'][i])\n",
    "    pixdata.write(\"%d\\n\" %dr72hpix.eq2pix(data['ra'][i],data['dec'][i]))\n",
    "pixdata.close()"
   ]
  },
  {
   "cell_type": "code",
   "execution_count": 12,
   "metadata": {
    "collapsed": true
   },
   "outputs": [],
   "source": [
    "pixdata = ascii.read(\"./output/pixdatadr72VAGCfulllcdm2.dat\")\n",
    "hpixdata=np.array(np.zeros(hu.nside2npix(NSIDE)))\n",
    "for j in range(len(pixdata)):\n",
    "    hpixdata[pixdata[j]['pix']]+=1"
   ]
  },
  {
   "cell_type": "code",
   "execution_count": 13,
   "metadata": {},
   "outputs": [
    {
     "data": {
      "text/plain": [
       "array([ 0.,  0.,  0., ...,  0.,  0.,  0.])"
      ]
     },
     "execution_count": 13,
     "metadata": {},
     "output_type": "execute_result"
    }
   ],
   "source": [
    "hpixdata"
   ]
  },
  {
   "cell_type": "code",
   "execution_count": 14,
   "metadata": {},
   "outputs": [
    {
     "data": {
      "image/png": "[encoded data removed]",
      "text/plain": [
       "<matplotlib.figure.Figure at 0x111affa10>"
      ]
     },
     "metadata": {},
     "output_type": "display_data"
    }
   ],
   "source": [
    "hu.mollview(hpixdata,rot=180)"
   ]
  },
  {
   "cell_type": "code",
   "execution_count": 27,
   "metadata": {
    "collapsed": true
   },
   "outputs": [],
   "source": [
    "dat=ascii.read(\"./output/DR72srarflcdm2.dat\")"
   ]
  },
  {
   "cell_type": "code",
   "execution_count": 28,
   "metadata": {
    "collapsed": true
   },
   "outputs": [],
   "source": [
    "dat=np.array([dat['s'],dat['rar'],dat['decr']])"
   ]
  },
  {
   "cell_type": "code",
   "execution_count": 29,
   "metadata": {},
   "outputs": [
    {
     "data": {
      "text/plain": [
       "array([[ 0.402352,  0.335419,  0.373033, ...,  0.336202,  0.209897,\n",
       "         0.318731],\n",
       "       [ 0.980185,  1.016617,  0.950251, ...,  2.830242,  2.831786,\n",
       "         2.838233],\n",
       "       [-0.003863,  0.003776,  0.010821, ...,  0.172112,  0.173661,\n",
       "         0.173055]])"
      ]
     },
     "execution_count": 29,
     "metadata": {},
     "output_type": "execute_result"
    }
   ],
   "source": [
    "dat.reshape(3,len(data['s']))"
   ]
  },
  {
   "cell_type": "code",
   "execution_count": 30,
   "metadata": {
    "collapsed": true
   },
   "outputs": [],
   "source": [
    "dat=dat.transpose()"
   ]
  },
  {
   "cell_type": "code",
   "execution_count": 31,
   "metadata": {},
   "outputs": [
    {
     "data": {
      "text/plain": [
       "array([[ 0.402352,  0.980185, -0.003863],\n",
       "       [ 0.335419,  1.016617,  0.003776],\n",
       "       [ 0.373033,  0.950251,  0.010821],\n",
       "       ..., \n",
       "       [ 0.336202,  2.830242,  0.172112],\n",
       "       [ 0.209897,  2.831786,  0.173661],\n",
       "       [ 0.318731,  2.838233,  0.173055]])"
      ]
     },
     "execution_count": 31,
     "metadata": {},
     "output_type": "execute_result"
    }
   ],
   "source": [
    "dat"
   ]
  },
  {
   "cell_type": "code",
   "execution_count": 32,
   "metadata": {
    "collapsed": true
   },
   "outputs": [],
   "source": [
    "from lcdmmetric import *"
   ]
  },
  {
   "cell_type": "code",
   "execution_count": 33,
   "metadata": {},
   "outputs": [
    {
     "data": {
      "text/plain": [
       "0.004667005825221726"
      ]
     },
     "execution_count": 33,
     "metadata": {},
     "output_type": "execute_result"
    }
   ],
   "source": [
    "LCDMmetricsq(dat[0],dat[1])"
   ]
  },
  {
   "cell_type": "code",
   "execution_count": 34,
   "metadata": {
    "collapsed": true
   },
   "outputs": [],
   "source": [
    "bins=np.arange(0.005,0.08,0.0025)"
   ]
  },
  {
   "cell_type": "code",
   "execution_count": 35,
   "metadata": {},
   "outputs": [
    {
     "name": "stdout",
     "output_type": "stream",
     "text": [
      "[ 0.005   0.0075  0.01    0.0125  0.015   0.0175  0.02    0.0225  0.025\n",
      "  0.0275  0.03    0.0325  0.035   0.0375  0.04    0.0425  0.045   0.0475\n",
      "  0.05    0.0525  0.055   0.0575  0.06    0.0625  0.065   0.0675  0.07\n",
      "  0.0725  0.075   0.0775]\n"
     ]
    }
   ],
   "source": [
    "print bins"
   ]
  },
  {
   "cell_type": "code",
   "execution_count": 36,
   "metadata": {
    "collapsed": true
   },
   "outputs": [],
   "source": [
    "Nbins=len(bins)"
   ]
  },
  {
   "cell_type": "code",
   "execution_count": 37,
   "metadata": {},
   "outputs": [
    {
     "data": {
      "text/plain": [
       "30"
      ]
     },
     "execution_count": 37,
     "metadata": {},
     "output_type": "execute_result"
    }
   ],
   "source": [
    "Nbins"
   ]
  },
  {
   "cell_type": "code",
   "execution_count": 38,
   "metadata": {
    "collapsed": true
   },
   "outputs": [
    {
     "name": "stdout",
     "output_type": "stream",
     "text": [
      "Help on class BallTree in module sklearn.neighbors.ball_tree:\n",
      "\n",
      "class BallTree(BinaryTree)\n",
      " |  BallTree for fast generalized N-point problems\n",
      " |  \n",
      " |  BallTree(X, leaf_size=40, metric='minkowski', \\**kwargs)\n",
      " |  \n",
      " |  Parameters\n",
      " |  ----------\n",
      " |  X : array-like, shape = [n_samples, n_features]\n",
      " |      n_samples is the number of points in the data set, and\n",
      " |      n_features is the dimension of the parameter space.\n",
      " |      Note: if X is a C-contiguous array of doubles then data will\n",
      " |      not be copied. Otherwise, an internal copy will be made.\n",
      " |  \n",
      " |  leaf_size : positive integer (default = 40)\n",
      " |      Number of points at which to switch to brute-force. Changing\n",
      " |      leaf_size will not affect the results of a query, but can\n",
      " |      significantly impact the speed of a query and the memory required\n",
      " |      to store the constructed tree.  The amount of memory needed to\n",
      " |      store the tree scales as approximately n_samples / leaf_size.\n",
      " |      For a specified ``leaf_size``, a leaf node is guaranteed to\n",
      " |      satisfy ``leaf_size <= n_points <= 2 * leaf_size``, except in\n",
      " |      the case that ``n_samples < leaf_size``.\n",
      " |  \n",
      " |  metric : string or DistanceMetric object\n",
      " |      the distance metric to use for the tree.  Default='minkowski'\n",
      " |      with p=2 (that is, a euclidean metric). See the documentation\n",
      " |      of the DistanceMetric class for a list of available metrics.\n",
      " |      ball_tree.valid_metrics gives a list of the metrics which\n",
      " |      are valid for BallTree.\n",
      " |  \n",
      " |  Additional keywords are passed to the distance metric class.\n",
      " |  \n",
      " |  Attributes\n",
      " |  ----------\n",
      " |  data : np.ndarray\n",
      " |      The training data\n",
      " |  \n",
      " |  Examples\n",
      " |  --------\n",
      " |  Query for k-nearest neighbors\n",
      " |  \n",
      " |      >>> import numpy as np\n",
      " |      >>> np.random.seed(0)\n",
      " |      >>> X = np.random.random((10, 3))  # 10 points in 3 dimensions\n",
      " |      >>> tree = BallTree(X, leaf_size=2)              # doctest: +SKIP\n",
      " |      >>> dist, ind = tree.query([X[0]], k=3)                # doctest: +SKIP\n",
      " |      >>> print(ind)  # indices of 3 closest neighbors\n",
      " |      [0 3 1]\n",
      " |      >>> print(dist)  # distances to 3 closest neighbors\n",
      " |      [ 0.          0.19662693  0.29473397]\n",
      " |  \n",
      " |  Pickle and Unpickle a tree.  Note that the state of the tree is saved in the\n",
      " |  pickle operation: the tree needs not be rebuilt upon unpickling.\n",
      " |  \n",
      " |      >>> import numpy as np\n",
      " |      >>> import pickle\n",
      " |      >>> np.random.seed(0)\n",
      " |      >>> X = np.random.random((10, 3))  # 10 points in 3 dimensions\n",
      " |      >>> tree = BallTree(X, leaf_size=2)        # doctest: +SKIP\n",
      " |      >>> s = pickle.dumps(tree)                     # doctest: +SKIP\n",
      " |      >>> tree_copy = pickle.loads(s)                # doctest: +SKIP\n",
      " |      >>> dist, ind = tree_copy.query(X[0], k=3)     # doctest: +SKIP\n",
      " |      >>> print(ind)  # indices of 3 closest neighbors\n",
      " |      [0 3 1]\n",
      " |      >>> print(dist)  # distances to 3 closest neighbors\n",
      " |      [ 0.          0.19662693  0.29473397]\n",
      " |  \n",
      " |  Query for neighbors within a given radius\n",
      " |  \n",
      " |      >>> import numpy as np\n",
      " |      >>> np.random.seed(0)\n",
      " |      >>> X = np.random.random((10, 3))  # 10 points in 3 dimensions\n",
      " |      >>> tree = BallTree(X, leaf_size=2)     # doctest: +SKIP\n",
      " |      >>> print(tree.query_radius(X[0], r=0.3, count_only=True))\n",
      " |      3\n",
      " |      >>> ind = tree.query_radius(X[0], r=0.3)  # doctest: +SKIP\n",
      " |      >>> print(ind)  # indices of neighbors within distance 0.3\n",
      " |      [3 0 1]\n",
      " |  \n",
      " |  \n",
      " |  Compute a gaussian kernel density estimate:\n",
      " |  \n",
      " |      >>> import numpy as np\n",
      " |      >>> np.random.seed(1)\n",
      " |      >>> X = np.random.random((100, 3))\n",
      " |      >>> tree = BallTree(X)                # doctest: +SKIP\n",
      " |      >>> tree.kernel_density(X[:3], h=0.1, kernel='gaussian')\n",
      " |      array([ 6.94114649,  7.83281226,  7.2071716 ])\n",
      " |  \n",
      " |  Compute a two-point auto-correlation function\n",
      " |  \n",
      " |      >>> import numpy as np\n",
      " |      >>> np.random.seed(0)\n",
      " |      >>> X = np.random.random((30, 3))\n",
      " |      >>> r = np.linspace(0, 1, 5)\n",
      " |      >>> tree = BallTree(X)                # doctest: +SKIP\n",
      " |      >>> tree.two_point_correlation(X, r)\n",
      " |      array([ 30,  62, 278, 580, 820])\n",
      " |  \n",
      " |  Method resolution order:\n",
      " |      BallTree\n",
      " |      BinaryTree\n",
      " |      __builtin__.object\n",
      " |  \n",
      " |  Data and other attributes defined here:\n",
      " |  \n",
      " |  __new__ = <built-in method __new__ of type object>\n",
      " |      T.__new__(S, ...) -> a new object with type S, a subtype of T\n",
      " |  \n",
      " |  __pyx_vtable__ = <capsule object NULL>\n",
      " |  \n",
      " |  ----------------------------------------------------------------------\n",
      " |  Methods inherited from BinaryTree:\n",
      " |  \n",
      " |  __getstate__(...)\n",
      " |      get state for pickling\n",
      " |  \n",
      " |  __init__(...)\n",
      " |      x.__init__(...) initializes x; see help(type(x)) for signature\n",
      " |  \n",
      " |  __reduce__(...)\n",
      " |      reduce method used for pickling\n",
      " |  \n",
      " |  __setstate__(...)\n",
      " |      set state for pickling\n",
      " |  \n",
      " |  get_arrays(...)\n",
      " |  \n",
      " |  get_n_calls(...)\n",
      " |  \n",
      " |  get_tree_stats(...)\n",
      " |  \n",
      " |  kernel_density(...)\n",
      " |      kernel_density(self, X, h, kernel='gaussian', atol=0, rtol=1E-8,\n",
      " |                     breadth_first=True, return_log=False)\n",
      " |      \n",
      " |      Compute the kernel density estimate at points X with the given kernel,\n",
      " |      using the distance metric specified at tree creation.\n",
      " |      \n",
      " |      Parameters\n",
      " |      ----------\n",
      " |      X : array_like\n",
      " |          An array of points to query.  Last dimension should match dimension\n",
      " |          of training data.\n",
      " |      h : float\n",
      " |          the bandwidth of the kernel\n",
      " |      kernel : string\n",
      " |          specify the kernel to use.  Options are\n",
      " |          - 'gaussian'\n",
      " |          - 'tophat'\n",
      " |          - 'epanechnikov'\n",
      " |          - 'exponential'\n",
      " |          - 'linear'\n",
      " |          - 'cosine'\n",
      " |          Default is kernel = 'gaussian'\n",
      " |      atol, rtol : float (default = 0)\n",
      " |          Specify the desired relative and absolute tolerance of the result.\n",
      " |          If the true result is K_true, then the returned result K_ret\n",
      " |          satisfies ``abs(K_true - K_ret) < atol + rtol * K_ret``\n",
      " |          The default is zero (i.e. machine precision) for both.\n",
      " |      breadth_first : boolean (default = False)\n",
      " |          if True, use a breadth-first search.  If False (default) use a\n",
      " |          depth-first search.  Breadth-first is generally faster for\n",
      " |          compact kernels and/or high tolerances.\n",
      " |      return_log : boolean (default = False)\n",
      " |          return the logarithm of the result.  This can be more accurate\n",
      " |          than returning the result itself for narrow kernels.\n",
      " |      \n",
      " |      Returns\n",
      " |      -------\n",
      " |      density : ndarray\n",
      " |          The array of (log)-density evaluations, shape = X.shape[:-1]\n",
      " |      \n",
      " |      Examples\n",
      " |      --------\n",
      " |      Compute a gaussian kernel density estimate:\n",
      " |      \n",
      " |      >>> import numpy as np\n",
      " |      >>> np.random.seed(1)\n",
      " |      >>> X = np.random.random((100, 3))\n",
      " |      >>> tree = BinaryTree(X)           # doctest: +SKIP\n",
      " |      >>> tree.kernel_density(X[:3], h=0.1, kernel='gaussian')\n",
      " |      array([ 6.94114649,  7.83281226,  7.2071716 ])\n",
      " |  \n",
      " |  query(...)\n",
      " |      query(X, k=1, return_distance=True,\n",
      " |            dualtree=False, breadth_first=False)\n",
      " |      \n",
      " |      query the tree for the k nearest neighbors\n",
      " |      \n",
      " |      Parameters\n",
      " |      ----------\n",
      " |      X : array-like, last dimension self.dim\n",
      " |          An array of points to query\n",
      " |      k : integer  (default = 1)\n",
      " |          The number of nearest neighbors to return\n",
      " |      return_distance : boolean (default = True)\n",
      " |          if True, return a tuple (d, i) of distances and indices\n",
      " |          if False, return array i\n",
      " |      dualtree : boolean (default = False)\n",
      " |          if True, use the dual tree formalism for the query: a tree is\n",
      " |          built for the query points, and the pair of trees is used to\n",
      " |          efficiently search this space.  This can lead to better\n",
      " |          performance as the number of points grows large.\n",
      " |      breadth_first : boolean (default = False)\n",
      " |          if True, then query the nodes in a breadth-first manner.\n",
      " |          Otherwise, query the nodes in a depth-first manner.\n",
      " |      sort_results : boolean (default = True)\n",
      " |          if True, then distances and indices of each point are sorted\n",
      " |          on return, so that the first column contains the closest points.\n",
      " |          Otherwise, neighbors are returned in an arbitrary order.\n",
      " |      \n",
      " |      Returns\n",
      " |      -------\n",
      " |      i    : if return_distance == False\n",
      " |      (d,i) : if return_distance == True\n",
      " |      \n",
      " |      d : array of doubles - shape: x.shape[:-1] + (k,)\n",
      " |          each entry gives the list of distances to the\n",
      " |          neighbors of the corresponding point\n",
      " |      \n",
      " |      i : array of integers - shape: x.shape[:-1] + (k,)\n",
      " |          each entry gives the list of indices of\n",
      " |          neighbors of the corresponding point\n",
      " |      \n",
      " |      Examples\n",
      " |      --------\n",
      " |      Query for k-nearest neighbors\n",
      " |      \n",
      " |          >>> import numpy as np\n",
      " |          >>> np.random.seed(0)\n",
      " |          >>> X = np.random.random((10, 3))  # 10 points in 3 dimensions\n",
      " |          >>> tree = BinaryTree(X, leaf_size=2)    # doctest: +SKIP\n",
      " |          >>> dist, ind = tree.query(X[0], k=3)    # doctest: +SKIP\n",
      " |          >>> print(ind)  # indices of 3 closest neighbors\n",
      " |          [0 3 1]\n",
      " |          >>> print(dist)  # distances to 3 closest neighbors\n",
      " |          [ 0.          0.19662693  0.29473397]\n",
      " |  \n",
      " |  query_radius(...)\n",
      " |      query_radius(self, X, r, count_only = False):\n",
      " |      \n",
      " |      query the tree for neighbors within a radius r\n",
      " |      \n",
      " |      Parameters\n",
      " |      ----------\n",
      " |      X : array-like, last dimension self.dim\n",
      " |          An array of points to query\n",
      " |      r : distance within which neighbors are returned\n",
      " |          r can be a single value, or an array of values of shape\n",
      " |          x.shape[:-1] if different radii are desired for each point.\n",
      " |      return_distance : boolean (default = False)\n",
      " |          if True,  return distances to neighbors of each point\n",
      " |          if False, return only neighbors\n",
      " |          Note that unlike the query() method, setting return_distance=True\n",
      " |          here adds to the computation time.  Not all distances need to be\n",
      " |          calculated explicitly for return_distance=False.  Results are\n",
      " |          not sorted by default: see ``sort_results`` keyword.\n",
      " |      count_only : boolean (default = False)\n",
      " |          if True,  return only the count of points within distance r\n",
      " |          if False, return the indices of all points within distance r\n",
      " |          If return_distance==True, setting count_only=True will\n",
      " |          result in an error.\n",
      " |      sort_results : boolean (default = False)\n",
      " |          if True, the distances and indices will be sorted before being\n",
      " |          returned.  If False, the results will not be sorted.  If\n",
      " |          return_distance == False, setting sort_results = True will\n",
      " |          result in an error.\n",
      " |      \n",
      " |      Returns\n",
      " |      -------\n",
      " |      count       : if count_only == True\n",
      " |      ind         : if count_only == False and return_distance == False\n",
      " |      (ind, dist) : if count_only == False and return_distance == True\n",
      " |      \n",
      " |      count : array of integers, shape = X.shape[:-1]\n",
      " |          each entry gives the number of neighbors within\n",
      " |          a distance r of the corresponding point.\n",
      " |      \n",
      " |      ind : array of objects, shape = X.shape[:-1]\n",
      " |          each element is a numpy integer array listing the indices of\n",
      " |          neighbors of the corresponding point.  Note that unlike\n",
      " |          the results of a k-neighbors query, the returned neighbors\n",
      " |          are not sorted by distance by default.\n",
      " |      \n",
      " |      dist : array of objects, shape = X.shape[:-1]\n",
      " |          each element is a numpy double array\n",
      " |          listing the distances corresponding to indices in i.\n",
      " |      \n",
      " |      Examples\n",
      " |      --------\n",
      " |      Query for neighbors in a given radius\n",
      " |      \n",
      " |      >>> import numpy as np\n",
      " |      >>> np.random.seed(0)\n",
      " |      >>> X = np.random.random((10, 3))  # 10 points in 3 dimensions\n",
      " |      >>> tree = BinaryTree(X, leaf_size=2)     # doctest: +SKIP\n",
      " |      >>> print(tree.query_radius(X[0], r=0.3, count_only=True))\n",
      " |      3\n",
      " |      >>> ind = tree.query_radius(X[0], r=0.3)  # doctest: +SKIP\n",
      " |      >>> print(ind)  # indices of neighbors within distance 0.3\n",
      " |      [3 0 1]\n",
      " |  \n",
      " |  reset_n_calls(...)\n",
      " |  \n",
      " |  two_point_correlation(...)\n",
      " |      Compute the two-point correlation function\n",
      " |      \n",
      " |      Parameters\n",
      " |      ----------\n",
      " |      X : array_like\n",
      " |          An array of points to query.  Last dimension should match dimension\n",
      " |          of training data.\n",
      " |      r : array_like\n",
      " |          A one-dimensional array of distances\n",
      " |      dualtree : boolean (default = False)\n",
      " |          If true, use a dualtree algorithm.  Otherwise, use a single-tree\n",
      " |          algorithm.  Dual tree algorithms can have better scaling for\n",
      " |          large N.\n",
      " |      \n",
      " |      Returns\n",
      " |      -------\n",
      " |      counts : ndarray\n",
      " |          counts[i] contains the number of pairs of points with distance\n",
      " |          less than or equal to r[i]\n",
      " |      \n",
      " |      Examples\n",
      " |      --------\n",
      " |      Compute the two-point autocorrelation function of X:\n",
      " |      \n",
      " |      >>> import numpy as np\n",
      " |      >>> np.random.seed(0)\n",
      " |      >>> X = np.random.random((30, 3))\n",
      " |      >>> r = np.linspace(0, 1, 5)\n",
      " |      >>> tree = BinaryTree(X)     # doctest: +SKIP\n",
      " |      >>> tree.two_point_correlation(X, r)\n",
      " |      array([ 30,  62, 278, 580, 820])\n",
      " |  \n",
      " |  ----------------------------------------------------------------------\n",
      " |  Data descriptors inherited from BinaryTree:\n",
      " |  \n",
      " |  data\n",
      " |  \n",
      " |  idx_array\n",
      " |  \n",
      " |  node_bounds\n",
      " |  \n",
      " |  node_data\n",
      " |  \n",
      " |  ----------------------------------------------------------------------\n",
      " |  Data and other attributes inherited from BinaryTree:\n",
      " |  \n",
      " |  valid_metrics = ['chebyshev', 'sokalmichener', 'canberra', 'haversine'...\n",
      "\n"
     ]
    }
   ],
   "source": [
    "help(BallTree)"
   ]
  },
  {
   "cell_type": "code",
   "execution_count": 39,
   "metadata": {},
   "outputs": [
    {
     "name": "stdout",
     "output_type": "stream",
     "text": [
      "CPU times: user 4.7 s, sys: 39.2 ms, total: 4.74 s\n",
      "Wall time: 4.78 s\n"
     ]
    }
   ],
   "source": [
    "%%time\n",
    "BT_D = BallTree(dat,metric='pyfunc',func=LCDMmetricsq,leaf_size=15) \n",
    "\n",
    "with open('BTDdr72lcdm2.pkl', 'w') as f:\n",
    "    pickle.dump(BT_D,f)"
   ]
  },
  {
   "cell_type": "code",
   "execution_count": 40,
   "metadata": {},
   "outputs": [
    {
     "data": {
      "text/plain": [
       "<sklearn.neighbors.ball_tree.BinaryTree at 0x7fe173522bf0>"
      ]
     },
     "execution_count": 40,
     "metadata": {},
     "output_type": "execute_result"
    }
   ],
   "source": [
    "with open('./BTDdr72lcdm2.pkl') as f:\n",
    "    BTD = pickle.load(f)\n",
    "    \n",
    "BTD"
   ]
  },
  {
   "cell_type": "code",
   "execution_count": 41,
   "metadata": {},
   "outputs": [
    {
     "data": {
      "text/plain": [
       "array([  2.50000000e-05,   5.62500000e-05,   1.00000000e-04,\n",
       "         1.56250000e-04,   2.25000000e-04,   3.06250000e-04,\n",
       "         4.00000000e-04,   5.06250000e-04,   6.25000000e-04,\n",
       "         7.56250000e-04,   9.00000000e-04,   1.05625000e-03,\n",
       "         1.22500000e-03,   1.40625000e-03,   1.60000000e-03,\n",
       "         1.80625000e-03,   2.02500000e-03,   2.25625000e-03,\n",
       "         2.50000000e-03,   2.75625000e-03,   3.02500000e-03,\n",
       "         3.30625000e-03,   3.60000000e-03,   3.90625000e-03,\n",
       "         4.22500000e-03,   4.55625000e-03,   4.90000000e-03,\n",
       "         5.25625000e-03,   5.62500000e-03,   6.00625000e-03])"
      ]
     },
     "execution_count": 41,
     "metadata": {},
     "output_type": "execute_result"
    }
   ],
   "source": [
    "binsq=bins**2\n",
    "binsq"
   ]
  },
  {
   "cell_type": "code",
   "execution_count": 42,
   "metadata": {},
   "outputs": [
    {
     "name": "stdout",
     "output_type": "stream",
     "text": [
      "[   406442    783136   1382684   2270899   3513678   5176855   7333793\n",
      "  10041417  13381676  17412380  22217530  27872850  34442349  41988498\n",
      "  50551940  60192281  70975145  82936326  96118334 110531804 126223404\n",
      " 143261069 161641685 181385118 202520059 225089254 249138086 274647334\n",
      " 301655034 330240869]\n",
      "CPU times: user 23min 53s, sys: 3.84 s, total: 23min 57s\n",
      "Wall time: 24min\n"
     ]
    }
   ],
   "source": [
    "%%time\n",
    "counts_DD=BTD.two_point_correlation(dat,binsq)\n",
    "print counts_DD"
   ]
  },
  {
   "cell_type": "code",
   "execution_count": 43,
   "metadata": {},
   "outputs": [
    {
     "data": {
      "text/plain": [
       "array([   406442,    783136,   1382684,   2270899,   3513678,   5176855,\n",
       "         7333793,  10041417,  13381676,  17412380,  22217530,  27872850,\n",
       "        34442349,  41988498,  50551940,  60192281,  70975145,  82936326,\n",
       "        96118334, 110531804, 126223404, 143261069, 161641685, 181385118,\n",
       "       202520059, 225089254, 249138086, 274647334, 301655034, 330240869])"
      ]
     },
     "execution_count": 43,
     "metadata": {},
     "output_type": "execute_result"
    }
   ],
   "source": [
    "with open('./DDDr72lcdm2.pkl', 'w') as f:\n",
    "    pickle.dump(counts_DD,f)\n",
    "\n",
    "with open('./DDDr72lcdm2.pkl') as f:\n",
    "    counts_DD = pickle.load(f)\n",
    "    \n",
    "counts_DD"
   ]
  },
  {
   "cell_type": "code",
   "execution_count": 44,
   "metadata": {},
   "outputs": [
    {
     "data": {
      "text/plain": [
       "array([  376694,   599548,   888215,  1242779,  1663177,  2156938,\n",
       "        2707624,  3340259,  4030704,  4805150,  5655320,  6569499,\n",
       "        7546149,  8563442,  9640341, 10782864, 11961181, 13182008,\n",
       "       14413470, 15691600, 17037665, 18380616, 19743433, 21134941,\n",
       "       22569195, 24048832, 25509248, 27007700, 28585835])"
      ]
     },
     "execution_count": 44,
     "metadata": {},
     "output_type": "execute_result"
    }
   ],
   "source": [
    "DD=np.diff(counts_DD)\n",
    "DD"
   ]
  },
  {
   "cell_type": "code",
   "execution_count": 35,
   "metadata": {
    "collapsed": true
   },
   "outputs": [],
   "source": [
    "mangle=pymangle.Mangle(\"./masks/\")"
   ]
  },
  {
   "cell_type": "code",
   "execution_count": null,
   "metadata": {
    "collapsed": true
   },
   "outputs": [],
   "source": []
  },
  {
   "cell_type": "code",
   "execution_count": 20,
   "metadata": {
    "collapsed": true
   },
   "outputs": [],
   "source": [
    "datR=ascii.read(\"./output/rand200kdr72.dat\")"
   ]
  },
  {
   "cell_type": "code",
   "execution_count": 21,
   "metadata": {
    "collapsed": true
   },
   "outputs": [],
   "source": [
    "ra=datR['ra']\n",
    "dec=datR['dec']"
   ]
  },
  {
   "cell_type": "code",
   "execution_count": 22,
   "metadata": {
    "collapsed": true
   },
   "outputs": [],
   "source": [
    "DCr=DC_LCDM(zr)"
   ]
  },
  {
   "cell_type": "code",
   "execution_count": 24,
   "metadata": {},
   "outputs": [
    {
     "name": "stdout",
     "output_type": "stream",
     "text": [
      "211662\n",
      "211661\n"
     ]
    }
   ],
   "source": [
    "print len(zr)\n",
    "print len(dec)"
   ]
  },
  {
   "cell_type": "code",
   "execution_count": 25,
   "metadata": {
    "collapsed": true
   },
   "outputs": [],
   "source": [
    "rdr7f = open(\"./output/rDR72srarflcdm2.dat\",'w')\n",
    "rdr7f.write(\"z\\t ra\\t dec\\t s\\t rar\\t decr \\n\")\n",
    "\n",
    "for i in range(0,len(zr)-1):\n",
    "    rdr7f.write(\"%f\\t \" %zr[i])\n",
    "    rdr7f.write(\"%f\\t %f\\t \" %(ra[i],dec[i]))\n",
    "    rdr7f.write(\"%f\\t \" %DCr[i])\n",
    "    rdr7f.write(\"%f\\t %f\\n \" %(ra[i]*pi/180.0,dec[i]*pi/180.0))\n",
    "rdr7f.close()"
   ]
  },
  {
   "cell_type": "code",
   "execution_count": null,
   "metadata": {
    "collapsed": true
   },
   "outputs": [],
   "source": []
  },
  {
   "cell_type": "markdown",
   "metadata": {},
   "source": [
    "Ref: https://pypi.python.org/pypi/pymangle/"
   ]
  },
  {
   "cell_type": "code",
   "execution_count": null,
   "metadata": {
    "collapsed": true
   },
   "outputs": [],
   "source": [
    "%%time\n",
    "rar,decr=mangle.genrand(2*len(data))"
   ]
  },
  {
   "cell_type": "code",
   "execution_count": 13,
   "metadata": {},
   "outputs": [
    {
     "data": {
      "text/plain": [
       "array([ 167.13535,  149.94692,  29.025466, ...,  170.09184,  163.78547,\n",
       "        356.03997], dtype=float128)"
      ]
     },
     "execution_count": 13,
     "metadata": {},
     "output_type": "execute_result"
    }
   ],
   "source": [
    "rar"
   ]
  },
  {
   "cell_type": "code",
   "execution_count": 14,
   "metadata": {},
   "outputs": [
    {
     "data": {
      "text/plain": [
       "array([-0.88070859,  6.746407,  31.329933, ...,  24.982752,  44.375591,\n",
       "        21.040094], dtype=float128)"
      ]
     },
     "execution_count": 14,
     "metadata": {},
     "output_type": "execute_result"
    }
   ],
   "source": [
    "decr"
   ]
  },
  {
   "cell_type": "code",
   "execution_count": 15,
   "metadata": {
    "collapsed": true
   },
   "outputs": [],
   "source": [
    "zr=np.array([data['z'],data['z']])"
   ]
  },
  {
   "cell_type": "code",
   "execution_count": 16,
   "metadata": {},
   "outputs": [
    {
     "data": {
      "text/plain": [
       "array([[ 0.450184,  0.367165,  0.413324, ...,  0.368113,  0.22131 ,\n",
       "         0.34707 ],\n",
       "       [ 0.450184,  0.367165,  0.413324, ...,  0.368113,  0.22131 ,\n",
       "         0.34707 ]])"
      ]
     },
     "execution_count": 16,
     "metadata": {},
     "output_type": "execute_result"
    }
   ],
   "source": [
    "zr"
   ]
  },
  {
   "cell_type": "code",
   "execution_count": 17,
   "metadata": {
    "collapsed": true
   },
   "outputs": [],
   "source": [
    "zr=zr.flatten()"
   ]
  },
  {
   "cell_type": "code",
   "execution_count": 18,
   "metadata": {},
   "outputs": [
    {
     "data": {
      "text/plain": [
       "array([ 0.450184,  0.367165,  0.413324, ...,  0.368113,  0.22131 ,  0.34707 ])"
      ]
     },
     "execution_count": 18,
     "metadata": {},
     "output_type": "execute_result"
    }
   ],
   "source": [
    "zr"
   ]
  },
  {
   "cell_type": "code",
   "execution_count": 19,
   "metadata": {},
   "outputs": [
    {
     "name": "stdout",
     "output_type": "stream",
     "text": [
      "211662\n"
     ]
    },
    {
     "ename": "NameError",
     "evalue": "name 'decr' is not defined",
     "output_type": "error",
     "traceback": [
      "\u001b[0;31m---------------------------------------------------------------------------\u001b[0m",
      "\u001b[0;31mNameError\u001b[0m                                 Traceback (most recent call last)",
      "\u001b[0;32m<ipython-input-19-de0c677e8198>\u001b[0m in \u001b[0;36m<module>\u001b[0;34m()\u001b[0m\n\u001b[1;32m      1\u001b[0m \u001b[0;32mprint\u001b[0m \u001b[0mlen\u001b[0m\u001b[0;34m(\u001b[0m\u001b[0mzr\u001b[0m\u001b[0;34m)\u001b[0m\u001b[0;34m\u001b[0m\u001b[0m\n\u001b[0;32m----> 2\u001b[0;31m \u001b[0;32mprint\u001b[0m \u001b[0mlen\u001b[0m\u001b[0;34m(\u001b[0m\u001b[0mdecr\u001b[0m\u001b[0;34m)\u001b[0m\u001b[0;34m\u001b[0m\u001b[0m\n\u001b[0m",
      "\u001b[0;31mNameError\u001b[0m: name 'decr' is not defined"
     ]
    }
   ],
   "source": [
    "print len(zr)\n",
    "print len(decr)"
   ]
  },
  {
   "cell_type": "code",
   "execution_count": 45,
   "metadata": {
    "collapsed": true
   },
   "outputs": [],
   "source": [
    "dataR=ascii.read(\"./output/rDR72srarflcdm2.dat\")"
   ]
  },
  {
   "cell_type": "code",
   "execution_count": 46,
   "metadata": {
    "collapsed": true
   },
   "outputs": [
    {
     "data": {
      "text/html": [
       "&lt;Column name=&apos;z&apos; dtype=&apos;float64&apos; length=211661&gt;\n",
       "<table>\n",
       "<tr><td>0.450184</td></tr>\n",
       "<tr><td>0.367165</td></tr>\n",
       "<tr><td>0.413324</td></tr>\n",
       "<tr><td>0.32247</td></tr>\n",
       "<tr><td>0.322646</td></tr>\n",
       "<tr><td>0.233469</td></tr>\n",
       "<tr><td>0.313645</td></tr>\n",
       "<tr><td>0.351716</td></tr>\n",
       "<tr><td>0.403208</td></tr>\n",
       "<tr><td>0.37691</td></tr>\n",
       "<tr><td>0.168714</td></tr>\n",
       "<tr><td>0.301653</td></tr>\n",
       "<tr><td>...</td></tr>\n",
       "<tr><td>0.337605</td></tr>\n",
       "<tr><td>0.221458</td></tr>\n",
       "<tr><td>0.221777</td></tr>\n",
       "<tr><td>0.228503</td></tr>\n",
       "<tr><td>0.223359</td></tr>\n",
       "<tr><td>0.350793</td></tr>\n",
       "<tr><td>0.221193</td></tr>\n",
       "<tr><td>0.313262</td></tr>\n",
       "<tr><td>0.245009</td></tr>\n",
       "<tr><td>0.336967</td></tr>\n",
       "<tr><td>0.368113</td></tr>\n",
       "<tr><td>0.22131</td></tr>\n",
       "</table>"
      ],
      "text/plain": [
       "<Column name='z' dtype='float64' length=211661>\n",
       "0.450184\n",
       "0.367165\n",
       "0.413324\n",
       " 0.32247\n",
       "0.322646\n",
       "0.233469\n",
       "0.313645\n",
       "0.351716\n",
       "0.403208\n",
       " 0.37691\n",
       "0.168714\n",
       "0.301653\n",
       "     ...\n",
       "0.337605\n",
       "0.221458\n",
       "0.221777\n",
       "0.228503\n",
       "0.223359\n",
       "0.350793\n",
       "0.221193\n",
       "0.313262\n",
       "0.245009\n",
       "0.336967\n",
       "0.368113\n",
       " 0.22131"
      ]
     },
     "execution_count": 46,
     "metadata": {},
     "output_type": "execute_result"
    }
   ],
   "source": [
    "dataR['z']"
   ]
  },
  {
   "cell_type": "code",
   "execution_count": 27,
   "metadata": {
    "collapsed": true
   },
   "outputs": [],
   "source": [
    "dat=ascii.read(\"./output/DR72srarflcdm2.dat\")"
   ]
  },
  {
   "cell_type": "code",
   "execution_count": 47,
   "metadata": {
    "collapsed": true
   },
   "outputs": [],
   "source": [
    "datR=np.array([dataR['s'],dataR['rar'],dataR['decr']])"
   ]
  },
  {
   "cell_type": "code",
   "execution_count": 48,
   "metadata": {},
   "outputs": [
    {
     "data": {
      "text/plain": [
       "array([[ 0.402352,  0.33542 ,  0.373032, ...,  0.310268,  0.336202,\n",
       "         0.209897],\n",
       "       [ 2.992549,  2.737752,  2.367643, ...,  3.228052,  3.218296,\n",
       "         4.056418],\n",
       "       [ 0.248026,  0.711236,  0.341962, ...,  0.199013,  0.052979,\n",
       "         0.170602]])"
      ]
     },
     "execution_count": 48,
     "metadata": {},
     "output_type": "execute_result"
    }
   ],
   "source": [
    "datR.reshape(3,len(dataR['s']))"
   ]
  },
  {
   "cell_type": "code",
   "execution_count": 49,
   "metadata": {
    "collapsed": true
   },
   "outputs": [],
   "source": [
    "datR=datR.transpose()"
   ]
  },
  {
   "cell_type": "code",
   "execution_count": 50,
   "metadata": {},
   "outputs": [
    {
     "data": {
      "text/plain": [
       "array([[ 0.402352,  2.992549,  0.248026],\n",
       "       [ 0.33542 ,  2.737752,  0.711236],\n",
       "       [ 0.373032,  2.367643,  0.341962],\n",
       "       ..., \n",
       "       [ 0.310268,  3.228052,  0.199013],\n",
       "       [ 0.336202,  3.218296,  0.052979],\n",
       "       [ 0.209897,  4.056418,  0.170602]])"
      ]
     },
     "execution_count": 50,
     "metadata": {},
     "output_type": "execute_result"
    }
   ],
   "source": [
    "datR"
   ]
  },
  {
   "cell_type": "code",
   "execution_count": 51,
   "metadata": {
    "collapsed": true
   },
   "outputs": [],
   "source": [
    "from lcdmmetric import *"
   ]
  },
  {
   "cell_type": "code",
   "execution_count": 53,
   "metadata": {},
   "outputs": [
    {
     "data": {
      "text/plain": [
       "0.03932220941339584"
      ]
     },
     "execution_count": 53,
     "metadata": {},
     "output_type": "execute_result"
    }
   ],
   "source": [
    "LCDMmetricsq(datR[0],datR[1])"
   ]
  },
  {
   "cell_type": "code",
   "execution_count": 34,
   "metadata": {
    "collapsed": true
   },
   "outputs": [],
   "source": [
    "bins=np.arange(0.005,0.08,0.0025)"
   ]
  },
  {
   "cell_type": "code",
   "execution_count": 35,
   "metadata": {},
   "outputs": [
    {
     "name": "stdout",
     "output_type": "stream",
     "text": [
      "[ 0.005   0.0075  0.01    0.0125  0.015   0.0175  0.02    0.0225  0.025\n",
      "  0.0275  0.03    0.0325  0.035   0.0375  0.04    0.0425  0.045   0.0475\n",
      "  0.05    0.0525  0.055   0.0575  0.06    0.0625  0.065   0.0675  0.07\n",
      "  0.0725  0.075   0.0775]\n"
     ]
    }
   ],
   "source": [
    "print bins"
   ]
  },
  {
   "cell_type": "code",
   "execution_count": 36,
   "metadata": {
    "collapsed": true
   },
   "outputs": [],
   "source": [
    "Nbins=len(bins)"
   ]
  },
  {
   "cell_type": "code",
   "execution_count": 37,
   "metadata": {},
   "outputs": [
    {
     "data": {
      "text/plain": [
       "30"
      ]
     },
     "execution_count": 37,
     "metadata": {},
     "output_type": "execute_result"
    }
   ],
   "source": [
    "Nbins"
   ]
  },
  {
   "cell_type": "code",
   "execution_count": 38,
   "metadata": {
    "collapsed": true
   },
   "outputs": [
    {
     "name": "stdout",
     "output_type": "stream",
     "text": [
      "Help on class BallTree in module sklearn.neighbors.ball_tree:\n",
      "\n",
      "class BallTree(BinaryTree)\n",
      " |  BallTree for fast generalized N-point problems\n",
      " |  \n",
      " |  BallTree(X, leaf_size=40, metric='minkowski', \\**kwargs)\n",
      " |  \n",
      " |  Parameters\n",
      " |  ----------\n",
      " |  X : array-like, shape = [n_samples, n_features]\n",
      " |      n_samples is the number of points in the data set, and\n",
      " |      n_features is the dimension of the parameter space.\n",
      " |      Note: if X is a C-contiguous array of doubles then data will\n",
      " |      not be copied. Otherwise, an internal copy will be made.\n",
      " |  \n",
      " |  leaf_size : positive integer (default = 40)\n",
      " |      Number of points at which to switch to brute-force. Changing\n",
      " |      leaf_size will not affect the results of a query, but can\n",
      " |      significantly impact the speed of a query and the memory required\n",
      " |      to store the constructed tree.  The amount of memory needed to\n",
      " |      store the tree scales as approximately n_samples / leaf_size.\n",
      " |      For a specified ``leaf_size``, a leaf node is guaranteed to\n",
      " |      satisfy ``leaf_size <= n_points <= 2 * leaf_size``, except in\n",
      " |      the case that ``n_samples < leaf_size``.\n",
      " |  \n",
      " |  metric : string or DistanceMetric object\n",
      " |      the distance metric to use for the tree.  Default='minkowski'\n",
      " |      with p=2 (that is, a euclidean metric). See the documentation\n",
      " |      of the DistanceMetric class for a list of available metrics.\n",
      " |      ball_tree.valid_metrics gives a list of the metrics which\n",
      " |      are valid for BallTree.\n",
      " |  \n",
      " |  Additional keywords are passed to the distance metric class.\n",
      " |  \n",
      " |  Attributes\n",
      " |  ----------\n",
      " |  data : np.ndarray\n",
      " |      The training data\n",
      " |  \n",
      " |  Examples\n",
      " |  --------\n",
      " |  Query for k-nearest neighbors\n",
      " |  \n",
      " |      >>> import numpy as np\n",
      " |      >>> np.random.seed(0)\n",
      " |      >>> X = np.random.random((10, 3))  # 10 points in 3 dimensions\n",
      " |      >>> tree = BallTree(X, leaf_size=2)              # doctest: +SKIP\n",
      " |      >>> dist, ind = tree.query([X[0]], k=3)                # doctest: +SKIP\n",
      " |      >>> print(ind)  # indices of 3 closest neighbors\n",
      " |      [0 3 1]\n",
      " |      >>> print(dist)  # distances to 3 closest neighbors\n",
      " |      [ 0.          0.19662693  0.29473397]\n",
      " |  \n",
      " |  Pickle and Unpickle a tree.  Note that the state of the tree is saved in the\n",
      " |  pickle operation: the tree needs not be rebuilt upon unpickling.\n",
      " |  \n",
      " |      >>> import numpy as np\n",
      " |      >>> import pickle\n",
      " |      >>> np.random.seed(0)\n",
      " |      >>> X = np.random.random((10, 3))  # 10 points in 3 dimensions\n",
      " |      >>> tree = BallTree(X, leaf_size=2)        # doctest: +SKIP\n",
      " |      >>> s = pickle.dumps(tree)                     # doctest: +SKIP\n",
      " |      >>> tree_copy = pickle.loads(s)                # doctest: +SKIP\n",
      " |      >>> dist, ind = tree_copy.query(X[0], k=3)     # doctest: +SKIP\n",
      " |      >>> print(ind)  # indices of 3 closest neighbors\n",
      " |      [0 3 1]\n",
      " |      >>> print(dist)  # distances to 3 closest neighbors\n",
      " |      [ 0.          0.19662693  0.29473397]\n",
      " |  \n",
      " |  Query for neighbors within a given radius\n",
      " |  \n",
      " |      >>> import numpy as np\n",
      " |      >>> np.random.seed(0)\n",
      " |      >>> X = np.random.random((10, 3))  # 10 points in 3 dimensions\n",
      " |      >>> tree = BallTree(X, leaf_size=2)     # doctest: +SKIP\n",
      " |      >>> print(tree.query_radius(X[0], r=0.3, count_only=True))\n",
      " |      3\n",
      " |      >>> ind = tree.query_radius(X[0], r=0.3)  # doctest: +SKIP\n",
      " |      >>> print(ind)  # indices of neighbors within distance 0.3\n",
      " |      [3 0 1]\n",
      " |  \n",
      " |  \n",
      " |  Compute a gaussian kernel density estimate:\n",
      " |  \n",
      " |      >>> import numpy as np\n",
      " |      >>> np.random.seed(1)\n",
      " |      >>> X = np.random.random((100, 3))\n",
      " |      >>> tree = BallTree(X)                # doctest: +SKIP\n",
      " |      >>> tree.kernel_density(X[:3], h=0.1, kernel='gaussian')\n",
      " |      array([ 6.94114649,  7.83281226,  7.2071716 ])\n",
      " |  \n",
      " |  Compute a two-point auto-correlation function\n",
      " |  \n",
      " |      >>> import numpy as np\n",
      " |      >>> np.random.seed(0)\n",
      " |      >>> X = np.random.random((30, 3))\n",
      " |      >>> r = np.linspace(0, 1, 5)\n",
      " |      >>> tree = BallTree(X)                # doctest: +SKIP\n",
      " |      >>> tree.two_point_correlation(X, r)\n",
      " |      array([ 30,  62, 278, 580, 820])\n",
      " |  \n",
      " |  Method resolution order:\n",
      " |      BallTree\n",
      " |      BinaryTree\n",
      " |      __builtin__.object\n",
      " |  \n",
      " |  Data and other attributes defined here:\n",
      " |  \n",
      " |  __new__ = <built-in method __new__ of type object>\n",
      " |      T.__new__(S, ...) -> a new object with type S, a subtype of T\n",
      " |  \n",
      " |  __pyx_vtable__ = <capsule object NULL>\n",
      " |  \n",
      " |  ----------------------------------------------------------------------\n",
      " |  Methods inherited from BinaryTree:\n",
      " |  \n",
      " |  __getstate__(...)\n",
      " |      get state for pickling\n",
      " |  \n",
      " |  __init__(...)\n",
      " |      x.__init__(...) initializes x; see help(type(x)) for signature\n",
      " |  \n",
      " |  __reduce__(...)\n",
      " |      reduce method used for pickling\n",
      " |  \n",
      " |  __setstate__(...)\n",
      " |      set state for pickling\n",
      " |  \n",
      " |  get_arrays(...)\n",
      " |  \n",
      " |  get_n_calls(...)\n",
      " |  \n",
      " |  get_tree_stats(...)\n",
      " |  \n",
      " |  kernel_density(...)\n",
      " |      kernel_density(self, X, h, kernel='gaussian', atol=0, rtol=1E-8,\n",
      " |                     breadth_first=True, return_log=False)\n",
      " |      \n",
      " |      Compute the kernel density estimate at points X with the given kernel,\n",
      " |      using the distance metric specified at tree creation.\n",
      " |      \n",
      " |      Parameters\n",
      " |      ----------\n",
      " |      X : array_like\n",
      " |          An array of points to query.  Last dimension should match dimension\n",
      " |          of training data.\n",
      " |      h : float\n",
      " |          the bandwidth of the kernel\n",
      " |      kernel : string\n",
      " |          specify the kernel to use.  Options are\n",
      " |          - 'gaussian'\n",
      " |          - 'tophat'\n",
      " |          - 'epanechnikov'\n",
      " |          - 'exponential'\n",
      " |          - 'linear'\n",
      " |          - 'cosine'\n",
      " |          Default is kernel = 'gaussian'\n",
      " |      atol, rtol : float (default = 0)\n",
      " |          Specify the desired relative and absolute tolerance of the result.\n",
      " |          If the true result is K_true, then the returned result K_ret\n",
      " |          satisfies ``abs(K_true - K_ret) < atol + rtol * K_ret``\n",
      " |          The default is zero (i.e. machine precision) for both.\n",
      " |      breadth_first : boolean (default = False)\n",
      " |          if True, use a breadth-first search.  If False (default) use a\n",
      " |          depth-first search.  Breadth-first is generally faster for\n",
      " |          compact kernels and/or high tolerances.\n",
      " |      return_log : boolean (default = False)\n",
      " |          return the logarithm of the result.  This can be more accurate\n",
      " |          than returning the result itself for narrow kernels.\n",
      " |      \n",
      " |      Returns\n",
      " |      -------\n",
      " |      density : ndarray\n",
      " |          The array of (log)-density evaluations, shape = X.shape[:-1]\n",
      " |      \n",
      " |      Examples\n",
      " |      --------\n",
      " |      Compute a gaussian kernel density estimate:\n",
      " |      \n",
      " |      >>> import numpy as np\n",
      " |      >>> np.random.seed(1)\n",
      " |      >>> X = np.random.random((100, 3))\n",
      " |      >>> tree = BinaryTree(X)           # doctest: +SKIP\n",
      " |      >>> tree.kernel_density(X[:3], h=0.1, kernel='gaussian')\n",
      " |      array([ 6.94114649,  7.83281226,  7.2071716 ])\n",
      " |  \n",
      " |  query(...)\n",
      " |      query(X, k=1, return_distance=True,\n",
      " |            dualtree=False, breadth_first=False)\n",
      " |      \n",
      " |      query the tree for the k nearest neighbors\n",
      " |      \n",
      " |      Parameters\n",
      " |      ----------\n",
      " |      X : array-like, last dimension self.dim\n",
      " |          An array of points to query\n",
      " |      k : integer  (default = 1)\n",
      " |          The number of nearest neighbors to return\n",
      " |      return_distance : boolean (default = True)\n",
      " |          if True, return a tuple (d, i) of distances and indices\n",
      " |          if False, return array i\n",
      " |      dualtree : boolean (default = False)\n",
      " |          if True, use the dual tree formalism for the query: a tree is\n",
      " |          built for the query points, and the pair of trees is used to\n",
      " |          efficiently search this space.  This can lead to better\n",
      " |          performance as the number of points grows large.\n",
      " |      breadth_first : boolean (default = False)\n",
      " |          if True, then query the nodes in a breadth-first manner.\n",
      " |          Otherwise, query the nodes in a depth-first manner.\n",
      " |      sort_results : boolean (default = True)\n",
      " |          if True, then distances and indices of each point are sorted\n",
      " |          on return, so that the first column contains the closest points.\n",
      " |          Otherwise, neighbors are returned in an arbitrary order.\n",
      " |      \n",
      " |      Returns\n",
      " |      -------\n",
      " |      i    : if return_distance == False\n",
      " |      (d,i) : if return_distance == True\n",
      " |      \n",
      " |      d : array of doubles - shape: x.shape[:-1] + (k,)\n",
      " |          each entry gives the list of distances to the\n",
      " |          neighbors of the corresponding point\n",
      " |      \n",
      " |      i : array of integers - shape: x.shape[:-1] + (k,)\n",
      " |          each entry gives the list of indices of\n",
      " |          neighbors of the corresponding point\n",
      " |      \n",
      " |      Examples\n",
      " |      --------\n",
      " |      Query for k-nearest neighbors\n",
      " |      \n",
      " |          >>> import numpy as np\n",
      " |          >>> np.random.seed(0)\n",
      " |          >>> X = np.random.random((10, 3))  # 10 points in 3 dimensions\n",
      " |          >>> tree = BinaryTree(X, leaf_size=2)    # doctest: +SKIP\n",
      " |          >>> dist, ind = tree.query(X[0], k=3)    # doctest: +SKIP\n",
      " |          >>> print(ind)  # indices of 3 closest neighbors\n",
      " |          [0 3 1]\n",
      " |          >>> print(dist)  # distances to 3 closest neighbors\n",
      " |          [ 0.          0.19662693  0.29473397]\n",
      " |  \n",
      " |  query_radius(...)\n",
      " |      query_radius(self, X, r, count_only = False):\n",
      " |      \n",
      " |      query the tree for neighbors within a radius r\n",
      " |      \n",
      " |      Parameters\n",
      " |      ----------\n",
      " |      X : array-like, last dimension self.dim\n",
      " |          An array of points to query\n",
      " |      r : distance within which neighbors are returned\n",
      " |          r can be a single value, or an array of values of shape\n",
      " |          x.shape[:-1] if different radii are desired for each point.\n",
      " |      return_distance : boolean (default = False)\n",
      " |          if True,  return distances to neighbors of each point\n",
      " |          if False, return only neighbors\n",
      " |          Note that unlike the query() method, setting return_distance=True\n",
      " |          here adds to the computation time.  Not all distances need to be\n",
      " |          calculated explicitly for return_distance=False.  Results are\n",
      " |          not sorted by default: see ``sort_results`` keyword.\n",
      " |      count_only : boolean (default = False)\n",
      " |          if True,  return only the count of points within distance r\n",
      " |          if False, return the indices of all points within distance r\n",
      " |          If return_distance==True, setting count_only=True will\n",
      " |          result in an error.\n",
      " |      sort_results : boolean (default = False)\n",
      " |          if True, the distances and indices will be sorted before being\n",
      " |          returned.  If False, the results will not be sorted.  If\n",
      " |          return_distance == False, setting sort_results = True will\n",
      " |          result in an error.\n",
      " |      \n",
      " |      Returns\n",
      " |      -------\n",
      " |      count       : if count_only == True\n",
      " |      ind         : if count_only == False and return_distance == False\n",
      " |      (ind, dist) : if count_only == False and return_distance == True\n",
      " |      \n",
      " |      count : array of integers, shape = X.shape[:-1]\n",
      " |          each entry gives the number of neighbors within\n",
      " |          a distance r of the corresponding point.\n",
      " |      \n",
      " |      ind : array of objects, shape = X.shape[:-1]\n",
      " |          each element is a numpy integer array listing the indices of\n",
      " |          neighbors of the corresponding point.  Note that unlike\n",
      " |          the results of a k-neighbors query, the returned neighbors\n",
      " |          are not sorted by distance by default.\n",
      " |      \n",
      " |      dist : array of objects, shape = X.shape[:-1]\n",
      " |          each element is a numpy double array\n",
      " |          listing the distances corresponding to indices in i.\n",
      " |      \n",
      " |      Examples\n",
      " |      --------\n",
      " |      Query for neighbors in a given radius\n",
      " |      \n",
      " |      >>> import numpy as np\n",
      " |      >>> np.random.seed(0)\n",
      " |      >>> X = np.random.random((10, 3))  # 10 points in 3 dimensions\n",
      " |      >>> tree = BinaryTree(X, leaf_size=2)     # doctest: +SKIP\n",
      " |      >>> print(tree.query_radius(X[0], r=0.3, count_only=True))\n",
      " |      3\n",
      " |      >>> ind = tree.query_radius(X[0], r=0.3)  # doctest: +SKIP\n",
      " |      >>> print(ind)  # indices of neighbors within distance 0.3\n",
      " |      [3 0 1]\n",
      " |  \n",
      " |  reset_n_calls(...)\n",
      " |  \n",
      " |  two_point_correlation(...)\n",
      " |      Compute the two-point correlation function\n",
      " |      \n",
      " |      Parameters\n",
      " |      ----------\n",
      " |      X : array_like\n",
      " |          An array of points to query.  Last dimension should match dimension\n",
      " |          of training data.\n",
      " |      r : array_like\n",
      " |          A one-dimensional array of distances\n",
      " |      dualtree : boolean (default = False)\n",
      " |          If true, use a dualtree algorithm.  Otherwise, use a single-tree\n",
      " |          algorithm.  Dual tree algorithms can have better scaling for\n",
      " |          large N.\n",
      " |      \n",
      " |      Returns\n",
      " |      -------\n",
      " |      counts : ndarray\n",
      " |          counts[i] contains the number of pairs of points with distance\n",
      " |          less than or equal to r[i]\n",
      " |      \n",
      " |      Examples\n",
      " |      --------\n",
      " |      Compute the two-point autocorrelation function of X:\n",
      " |      \n",
      " |      >>> import numpy as np\n",
      " |      >>> np.random.seed(0)\n",
      " |      >>> X = np.random.random((30, 3))\n",
      " |      >>> r = np.linspace(0, 1, 5)\n",
      " |      >>> tree = BinaryTree(X)     # doctest: +SKIP\n",
      " |      >>> tree.two_point_correlation(X, r)\n",
      " |      array([ 30,  62, 278, 580, 820])\n",
      " |  \n",
      " |  ----------------------------------------------------------------------\n",
      " |  Data descriptors inherited from BinaryTree:\n",
      " |  \n",
      " |  data\n",
      " |  \n",
      " |  idx_array\n",
      " |  \n",
      " |  node_bounds\n",
      " |  \n",
      " |  node_data\n",
      " |  \n",
      " |  ----------------------------------------------------------------------\n",
      " |  Data and other attributes inherited from BinaryTree:\n",
      " |  \n",
      " |  valid_metrics = ['chebyshev', 'sokalmichener', 'canberra', 'haversine'...\n",
      "\n"
     ]
    }
   ],
   "source": [
    "help(BallTree)"
   ]
  },
  {
   "cell_type": "code",
   "execution_count": 77,
   "metadata": {},
   "outputs": [
    {
     "name": "stdout",
     "output_type": "stream",
     "text": [
      "CPU times: user 9.55 s, sys: 76.3 ms, total: 9.63 s\n",
      "Wall time: 9.71 s\n"
     ]
    }
   ],
   "source": [
    "%%time\n",
    "BT_R = BallTree(datR,metric='pyfunc',func=LCDMmetricsq,leaf_size=15) \n",
    "\n",
    "with open('BTRdr72lcdm2.pkl', 'w') as f:\n",
    "    pickle.dump(BT_R,f)"
   ]
  },
  {
   "cell_type": "code",
   "execution_count": 78,
   "metadata": {},
   "outputs": [
    {
     "data": {
      "text/plain": [
       "<sklearn.neighbors.ball_tree.BinaryTree at 0x7fe1792897f0>"
      ]
     },
     "execution_count": 78,
     "metadata": {},
     "output_type": "execute_result"
    }
   ],
   "source": [
    "with open('./BTRdr72lcdm2.pkl') as f:\n",
    "    BTR = pickle.load(f)\n",
    "    \n",
    "BTR"
   ]
  },
  {
   "cell_type": "code",
   "execution_count": 79,
   "metadata": {},
   "outputs": [
    {
     "data": {
      "text/plain": [
       "array([  2.50000000e-05,   5.62500000e-05,   1.00000000e-04,\n",
       "         1.56250000e-04,   2.25000000e-04,   3.06250000e-04,\n",
       "         4.00000000e-04,   5.06250000e-04,   6.25000000e-04,\n",
       "         7.56250000e-04,   9.00000000e-04,   1.05625000e-03,\n",
       "         1.22500000e-03,   1.40625000e-03,   1.60000000e-03,\n",
       "         1.80625000e-03,   2.02500000e-03,   2.25625000e-03,\n",
       "         2.50000000e-03,   2.75625000e-03,   3.02500000e-03,\n",
       "         3.30625000e-03,   3.60000000e-03,   3.90625000e-03,\n",
       "         4.22500000e-03,   4.55625000e-03,   4.90000000e-03,\n",
       "         5.25625000e-03,   5.62500000e-03,   6.00625000e-03])"
      ]
     },
     "execution_count": 79,
     "metadata": {},
     "output_type": "execute_result"
    }
   ],
   "source": [
    "binsq=bins**2\n",
    "binsq"
   ]
  },
  {
   "cell_type": "code",
   "execution_count": 80,
   "metadata": {},
   "outputs": [
    {
     "name": "stdout",
     "output_type": "stream",
     "text": [
      "[    671975    1717251    3680670    6828077   11399544   17645392\n",
      "   25816652   36207881   49151165   64924463   83824631  106109931\n",
      "  131983556  161714973  195475210  233472001  275891024  322861741\n",
      "  374548127  431075255  492644147  559354671  631376635  708769062\n",
      "  791638524  880028237  974028647 1073638771 1178989759 1290107093]\n",
      "CPU times: user 1h 12min 56s, sys: 11.4 s, total: 1h 13min 7s\n",
      "Wall time: 1h 13min 21s\n"
     ]
    }
   ],
   "source": [
    "%%time\n",
    "counts_RR=BTR.two_point_correlation(datR,binsq)\n",
    "print counts_RR"
   ]
  },
  {
   "cell_type": "code",
   "execution_count": 81,
   "metadata": {},
   "outputs": [
    {
     "data": {
      "text/plain": [
       "array([    671975,    1717251,    3680670,    6828077,   11399544,\n",
       "         17645392,   25816652,   36207881,   49151165,   64924463,\n",
       "         83824631,  106109931,  131983556,  161714973,  195475210,\n",
       "        233472001,  275891024,  322861741,  374548127,  431075255,\n",
       "        492644147,  559354671,  631376635,  708769062,  791638524,\n",
       "        880028237,  974028647, 1073638771, 1178989759, 1290107093])"
      ]
     },
     "execution_count": 81,
     "metadata": {},
     "output_type": "execute_result"
    }
   ],
   "source": [
    "with open('./RRDr72lcdm2.pkl', 'w') as f:\n",
    "    pickle.dump(counts_RR,f)\n",
    "\n",
    "with open('./RRDr72lcdm2.pkl') as f:\n",
    "    counts_RR = pickle.load(f)\n",
    "    \n",
    "counts_RR"
   ]
  },
  {
   "cell_type": "code",
   "execution_count": 82,
   "metadata": {},
   "outputs": [
    {
     "data": {
      "text/plain": [
       "array([  1045276,   1963419,   3147407,   4571467,   6245848,   8171260,\n",
       "        10391229,  12943284,  15773298,  18900168,  22285300,  25873625,\n",
       "        29731417,  33760237,  37996791,  42419023,  46970717,  51686386,\n",
       "        56527128,  61568892,  66710524,  72021964,  77392427,  82869462,\n",
       "        88389713,  94000410,  99610124, 105350988, 111117334])"
      ]
     },
     "execution_count": 82,
     "metadata": {},
     "output_type": "execute_result"
    }
   ],
   "source": [
    "RR=np.diff(counts_RR)\n",
    "RR"
   ]
  },
  {
   "cell_type": "code",
   "execution_count": 83,
   "metadata": {},
   "outputs": [
    {
     "name": "stdout",
     "output_type": "stream",
     "text": [
      "[   225550    745522   1729932   3302810   5594370   8725926  12834422\n",
      "  18070091  24591341  32560326  42109823  53357438  66419001  81441796\n",
      "  98514188 117703247 139140894 162904498 189092169 217693163 248853960\n",
      " 282653586 319118232 358309151 400298837 445138054 492923309 543534407\n",
      " 597055546 653423802]\n",
      "CPU times: user 36min 48s, sys: 3.31 s, total: 36min 51s\n",
      "Wall time: 36min 54s\n"
     ]
    }
   ],
   "source": [
    "%%time\n",
    "counts_DR=BTR.two_point_correlation(dat,binsq)\n",
    "print counts_DR"
   ]
  },
  {
   "cell_type": "code",
   "execution_count": 84,
   "metadata": {},
   "outputs": [
    {
     "data": {
      "text/plain": [
       "array([   225550,    745522,   1729932,   3302810,   5594370,   8725926,\n",
       "        12834422,  18070091,  24591341,  32560326,  42109823,  53357438,\n",
       "        66419001,  81441796,  98514188, 117703247, 139140894, 162904498,\n",
       "       189092169, 217693163, 248853960, 282653586, 319118232, 358309151,\n",
       "       400298837, 445138054, 492923309, 543534407, 597055546, 653423802])"
      ]
     },
     "execution_count": 84,
     "metadata": {},
     "output_type": "execute_result"
    }
   ],
   "source": [
    "with open('./DRDr72lcdm2.pkl', 'w') as f:\n",
    "    pickle.dump(counts_DR,f)\n",
    "\n",
    "with open('./DRDr72lcdm2.pkl') as f:\n",
    "    counts_DR = pickle.load(f)\n",
    "    \n",
    "counts_DR"
   ]
  },
  {
   "cell_type": "code",
   "execution_count": 85,
   "metadata": {},
   "outputs": [
    {
     "data": {
      "text/plain": [
       "array([  519972,   984410,  1572878,  2291560,  3131556,  4108496,\n",
       "        5235669,  6521250,  7968985,  9549497, 11247615, 13061563,\n",
       "       15022795, 17072392, 19189059, 21437647, 23763604, 26187671,\n",
       "       28600994, 31160797, 33799626, 36464646, 39190919, 41989686,\n",
       "       44839217, 47785255, 50611098, 53521139, 56368256])"
      ]
     },
     "execution_count": 85,
     "metadata": {},
     "output_type": "execute_result"
    }
   ],
   "source": [
    "DR=np.diff(counts_DR)\n",
    "DR"
   ]
  },
  {
   "cell_type": "code",
   "execution_count": 86,
   "metadata": {},
   "outputs": [
    {
     "data": {
      "text/plain": [
       "array([  376694,   599548,   888215,  1242779,  1663177,  2156938,\n",
       "        2707624,  3340259,  4030704,  4805150,  5655320,  6569499,\n",
       "        7546149,  8563442,  9640341, 10782864, 11961181, 13182008,\n",
       "       14413470, 15691600, 17037665, 18380616, 19743433, 21134941,\n",
       "       22569195, 24048832, 25509248, 27007700, 28585835])"
      ]
     },
     "execution_count": 86,
     "metadata": {},
     "output_type": "execute_result"
    }
   ],
   "source": [
    "DD"
   ]
  },
  {
   "cell_type": "code",
   "execution_count": 87,
   "metadata": {},
   "outputs": [
    {
     "data": {
      "text/plain": [
       "array([  1045276,   1963419,   3147407,   4571467,   6245848,   8171260,\n",
       "        10391229,  12943284,  15773298,  18900168,  22285300,  25873625,\n",
       "        29731417,  33760237,  37996791,  42419023,  46970717,  51686386,\n",
       "        56527128,  61568892,  66710524,  72021964,  77392427,  82869462,\n",
       "        88389713,  94000410,  99610124, 105350988, 111117334])"
      ]
     },
     "execution_count": 87,
     "metadata": {},
     "output_type": "execute_result"
    }
   ],
   "source": [
    "RR"
   ]
  },
  {
   "cell_type": "code",
   "execution_count": 66,
   "metadata": {},
   "outputs": [
    {
     "data": {
      "text/plain": [
       "array([  376694,   599548,   888215,  1242779,  1663177,  2156938,\n",
       "        2707624,  3340259,  4030704,  4805150,  5655320,  6569499,\n",
       "        7546149,  8563442,  9640341, 10782864, 11961181, 13182008,\n",
       "       14413470, 15691600, 17037665, 18380616, 19743433, 21134941,\n",
       "       22569195, 24048832, 25509248, 27007700, 28585835])"
      ]
     },
     "execution_count": 66,
     "metadata": {},
     "output_type": "execute_result"
    }
   ],
   "source": [
    "DR"
   ]
  },
  {
   "cell_type": "code",
   "execution_count": 67,
   "metadata": {},
   "outputs": [
    {
     "data": {
      "text/plain": [
       "array([  1.50677600e+06,   2.39819200e+06,   3.55286000e+06,\n",
       "         4.97111600e+06,   6.65270800e+06,   8.62775200e+06,\n",
       "         1.08304960e+07,   1.33610360e+07,   1.61228160e+07,\n",
       "         1.92206000e+07,   2.26212800e+07,   2.62779960e+07,\n",
       "         3.01845960e+07,   3.42537680e+07,   3.85613640e+07,\n",
       "         4.31314560e+07,   4.78447240e+07,   5.27280320e+07,\n",
       "         5.76538800e+07,   6.27664000e+07,   6.81506600e+07,\n",
       "         7.35224640e+07,   7.89737320e+07,   8.45397640e+07,\n",
       "         9.02767800e+07,   9.61953280e+07,   1.02036992e+08,\n",
       "         1.08030800e+08,   1.14343340e+08])"
      ]
     },
     "execution_count": 67,
     "metadata": {},
     "output_type": "execute_result"
    }
   ],
   "source": [
    "4.0*DD"
   ]
  },
  {
   "cell_type": "code",
   "execution_count": 88,
   "metadata": {
    "collapsed": true
   },
   "outputs": [],
   "source": [
    "correl=(4.0*DD+1.0*RR-4.0*DR)/(1.0*RR)"
   ]
  },
  {
   "cell_type": "code",
   "execution_count": 89,
   "metadata": {},
   "outputs": [
    {
     "data": {
      "text/plain": [
       "array([  4.51712275e-01,   2.15935060e-01,   1.29870398e-01,\n",
       "         8.23243392e-02,   5.96127219e-02,   4.46721803e-02,\n",
       "         2.68542826e-02,   1.69446950e-02,   1.27899695e-03,\n",
       "        -4.08567797e-03,  -3.76391612e-03,  -3.65743107e-03,\n",
       "        -5.89164654e-03,  -8.16235384e-03,  -5.21309813e-03,\n",
       "        -4.71743538e-03,  -5.08774435e-03,  -6.50589113e-03,\n",
       "        -3.94444239e-03,  -5.00083711e-03,  -5.05647355e-03,\n",
       "        -4.36194714e-03,  -5.13638111e-03,  -6.63112788e-03,\n",
       "        -7.81058085e-03,  -1.00561476e-02,  -8.00396554e-03,\n",
       "        -6.67073004e-03,  -1.11143775e-04])"
      ]
     },
     "execution_count": 89,
     "metadata": {},
     "output_type": "execute_result"
    }
   ],
   "source": [
    "correl"
   ]
  },
  {
   "cell_type": "code",
   "execution_count": 90,
   "metadata": {},
   "outputs": [
    {
     "name": "stdout",
     "output_type": "stream",
     "text": [
      "[  22.48443435   29.9792458    37.47405725   44.9688687    52.46368015\n",
      "   59.9584916    67.45330305   74.9481145    82.44292595   89.9377374\n",
      "   97.43254885  104.9273603   112.42217175  119.9169832   127.41179465\n",
      "  134.9066061   142.40141755  149.896229    157.39104045  164.8858519\n",
      "  172.38066335  179.8754748   187.37028625  194.8650977   202.35990915\n",
      "  209.8547206   217.34953205  224.8443435   232.33915495] m / s\n"
     ]
    }
   ],
   "source": [
    "binMpc=c*1e-5*bins[1:len(bins)]\n",
    "print binMpc"
   ]
  },
  {
   "cell_type": "code",
   "execution_count": 91,
   "metadata": {},
   "outputs": [
    {
     "data": {
      "text/plain": [
       "[<matplotlib.lines.Line2D at 0x119aeda90>]"
      ]
     },
     "execution_count": 91,
     "metadata": {},
     "output_type": "execute_result"
    },
    {
     "data": {
      "image/png": "[encoded data removed]",
      "text/plain": [
       "<matplotlib.figure.Figure at 0x11e548910>"
      ]
     },
     "metadata": {},
     "output_type": "display_data"
    }
   ],
   "source": [
    "plt.plot(binMpc,correl,'ro-')"
   ]
  },
  {
   "cell_type": "code",
   "execution_count": 93,
   "metadata": {},
   "outputs": [
    {
     "data": {
      "image/png": "[encoded data removed]",
      "text/plain": [
       "<matplotlib.figure.Figure at 0x127249b90>"
      ]
     },
     "metadata": {},
     "output_type": "display_data"
    }
   ],
   "source": [
    "plt.yscale('log')\n",
    "plt.plot(binMpc,correl+1.0,'bo-')\n",
    "plt.show()"
   ]
  },
  {
   "cell_type": "code",
   "execution_count": 94,
   "metadata": {},
   "outputs": [
    {
     "data": {
      "image/png": "[encoded data removed]",
      "text/plain": [
       "<matplotlib.figure.Figure at 0x11e548bd0>"
      ]
     },
     "metadata": {},
     "output_type": "display_data"
    }
   ],
   "source": [
    "plt.xscale('log')\n",
    "plt.yscale('log')\n",
    "plt.plot(binMpc,correl+1.0,'bo-')\n",
    "plt.show()"
   ]
  },
  {
   "cell_type": "code",
   "execution_count": null,
   "metadata": {
    "collapsed": true
   },
   "outputs": [],
   "source": []
  },
  {
   "cell_type": "code",
   "execution_count": null,
   "metadata": {
    "collapsed": true
   },
   "outputs": [],
   "source": []
  },
  {
   "cell_type": "code",
   "execution_count": null,
   "metadata": {
    "collapsed": true
   },
   "outputs": [],
   "source": []
  },
  {
   "cell_type": "code",
   "execution_count": null,
   "metadata": {
    "collapsed": true
   },
   "outputs": [],
   "source": []
  },
  {
   "cell_type": "code",
   "execution_count": null,
   "metadata": {
    "collapsed": true
   },
   "outputs": [],
   "source": []
  },
  {
   "cell_type": "code",
   "execution_count": null,
   "metadata": {
    "collapsed": true
   },
   "outputs": [],
   "source": []
  },
  {
   "cell_type": "code",
   "execution_count": null,
   "metadata": {
    "collapsed": true
   },
   "outputs": [],
   "source": []
  },
  {
   "cell_type": "code",
   "execution_count": null,
   "metadata": {
    "collapsed": true
   },
   "outputs": [],
   "source": []
  },
  {
   "cell_type": "code",
   "execution_count": null,
   "metadata": {
    "collapsed": true
   },
   "outputs": [],
   "source": []
  },
  {
   "cell_type": "code",
   "execution_count": null,
   "metadata": {
    "collapsed": true
   },
   "outputs": [],
   "source": []
  },
  {
   "cell_type": "code",
   "execution_count": null,
   "metadata": {
    "collapsed": true
   },
   "outputs": [],
   "source": []
  },
  {
   "cell_type": "code",
   "execution_count": null,
   "metadata": {
    "collapsed": true
   },
   "outputs": [],
   "source": []
  },
  {
   "cell_type": "code",
   "execution_count": null,
   "metadata": {
    "collapsed": true
   },
   "outputs": [],
   "source": []
  },
  {
   "cell_type": "code",
   "execution_count": null,
   "metadata": {
    "collapsed": true
   },
   "outputs": [],
   "source": []
  },
  {
   "cell_type": "code",
   "execution_count": null,
   "metadata": {
    "collapsed": true
   },
   "outputs": [],
   "source": []
  },
  {
   "cell_type": "code",
   "execution_count": null,
   "metadata": {
    "collapsed": true
   },
   "outputs": [],
   "source": [
    "from scipy.stats import norm\n",
    "from sklearn.neighbors import KernelDensity"
   ]
  },
  {
   "cell_type": "code",
   "execution_count": null,
   "metadata": {
    "collapsed": true
   },
   "outputs": [],
   "source": [
    "from lcdmmetric import *"
   ]
  },
  {
   "cell_type": "code",
   "execution_count": null,
   "metadata": {
    "collapsed": true
   },
   "outputs": [],
   "source": [
    "z=np.array(data['z'])"
   ]
  },
  {
   "cell_type": "code",
   "execution_count": null,
   "metadata": {
    "collapsed": true
   },
   "outputs": [],
   "source": [
    "zkde=z.reshape(1,-1)"
   ]
  },
  {
   "cell_type": "code",
   "execution_count": null,
   "metadata": {
    "collapsed": true
   },
   "outputs": [],
   "source": [
    "kde = KernelDensity(kernel='gaussian', bandwidth=0.75).fit(zkde)"
   ]
  },
  {
   "cell_type": "code",
   "execution_count": null,
   "metadata": {
    "collapsed": true
   },
   "outputs": [],
   "source": [
    "kde"
   ]
  },
  {
   "cell_type": "code",
   "execution_count": null,
   "metadata": {
    "collapsed": true
   },
   "outputs": [],
   "source": [
    "X_plot = np.arange(z.min(), z.max(), z.size())[:, np.newaxis]"
   ]
  },
  {
   "cell_type": "code",
   "execution_count": null,
   "metadata": {
    "collapsed": true
   },
   "outputs": [],
   "source": [
    "log_dens = kde.score_samples(zkde)"
   ]
  },
  {
   "cell_type": "code",
   "execution_count": null,
   "metadata": {
    "collapsed": true
   },
   "outputs": [],
   "source": [
    "log_dens"
   ]
  },
  {
   "cell_type": "code",
   "execution_count": null,
   "metadata": {
    "collapsed": true
   },
   "outputs": [],
   "source": [
    "d=ascii.read(\"./output/DR72LCsrarf.dat\")"
   ]
  },
  {
   "cell_type": "code",
   "execution_count": null,
   "metadata": {
    "collapsed": true
   },
   "outputs": [],
   "source": [
    "d"
   ]
  },
  {
   "cell_type": "code",
   "execution_count": null,
   "metadata": {
    "collapsed": true
   },
   "outputs": [],
   "source": [
    "dataR=ascii.read(\"./output/rand200kdr72.dat\")"
   ]
  },
  {
   "cell_type": "code",
   "execution_count": null,
   "metadata": {
    "collapsed": true
   },
   "outputs": [],
   "source": [
    "dataR['z']"
   ]
  },
  {
   "cell_type": "code",
   "execution_count": null,
   "metadata": {
    "collapsed": true
   },
   "outputs": [],
   "source": [
    "dataR['ra']"
   ]
  },
  {
   "cell_type": "code",
   "execution_count": null,
   "metadata": {
    "collapsed": true
   },
   "outputs": [],
   "source": [
    "dataR['dec']"
   ]
  },
  {
   "cell_type": "code",
   "execution_count": null,
   "metadata": {
    "collapsed": true
   },
   "outputs": [],
   "source": [
    "DCLCR=DC_LC(dataR['z'])"
   ]
  },
  {
   "cell_type": "code",
   "execution_count": null,
   "metadata": {
    "collapsed": true
   },
   "outputs": [],
   "source": [
    "rdr7f = open(\"./output/rDR7200kLCsrarf.dat\",'w')\n",
    "rdr7f.write(\"z\\t ra\\t dec\\t s\\t rar\\t decr \\n\")\n",
    "\n",
    "for i in range(0,len(dataR)):\n",
    "    rdr7f.write(\"%f\\t \" %dataR['z'][i])\n",
    "    rdr7f.write(\"%f\\t %f\\t \" %(dataR['ra'][i],dataR['dec'][i]))\n",
    "    rdr7f.write(\"%f\\t \" %DCLCR[i])\n",
    "    rdr7f.write(\"%f\\t %f\\n \" %(dataR['ra'][i]*pi/180.0,dataR['dec'][i]*pi/180.0))\n",
    "rdr7f.close()"
   ]
  },
  {
   "cell_type": "code",
   "execution_count": null,
   "metadata": {
    "collapsed": true
   },
   "outputs": [],
   "source": [
    "r=ascii.read(\"./output/rDR7200kLCsrarf.dat\")"
   ]
  },
  {
   "cell_type": "code",
   "execution_count": null,
   "metadata": {
    "collapsed": true
   },
   "outputs": [],
   "source": [
    "r"
   ]
  },
  {
   "cell_type": "code",
   "execution_count": null,
   "metadata": {
    "collapsed": true
   },
   "outputs": [],
   "source": [
    "dr7fdat=ascii.read(\"./output/DR7srarf.dat\")"
   ]
  },
  {
   "cell_type": "code",
   "execution_count": null,
   "metadata": {
    "collapsed": true
   },
   "outputs": [],
   "source": [
    "dr7fdat['s'][1:300]"
   ]
  },
  {
   "cell_type": "code",
   "execution_count": null,
   "metadata": {
    "collapsed": true
   },
   "outputs": [],
   "source": []
  },
  {
   "cell_type": "code",
   "execution_count": null,
   "metadata": {
    "collapsed": true
   },
   "outputs": [],
   "source": []
  },
  {
   "cell_type": "code",
   "execution_count": null,
   "metadata": {
    "collapsed": true
   },
   "outputs": [],
   "source": [
    "#fdata=fits.open(\"/Users/rohin/Downloads/DR7-Full.fits\")"
   ]
  },
  {
   "cell_type": "code",
   "execution_count": null,
   "metadata": {
    "collapsed": true
   },
   "outputs": [],
   "source": [
    "#fdata.writeto(\"./output/DR7fulltrim.fits\")"
   ]
  },
  {
   "cell_type": "code",
   "execution_count": null,
   "metadata": {
    "collapsed": true
   },
   "outputs": [],
   "source": [
    "fdata=fits.open(\"./output/DR7fulltrim.fits\")"
   ]
  },
  {
   "cell_type": "code",
   "execution_count": null,
   "metadata": {
    "collapsed": true
   },
   "outputs": [],
   "source": [
    "cols=fdata[1].columns"
   ]
  },
  {
   "cell_type": "code",
   "execution_count": null,
   "metadata": {
    "collapsed": true
   },
   "outputs": [],
   "source": [
    "cols.del_col('ZTYPE')"
   ]
  },
  {
   "cell_type": "code",
   "execution_count": null,
   "metadata": {
    "collapsed": true
   },
   "outputs": [],
   "source": [
    "cols.del_col('SECTOR')\n",
    "cols.del_col('FGOTMAIN')\n",
    "cols.del_col('QUALITY')\n",
    "cols.del_col('ISBAD')\n",
    "cols.del_col('M')\n",
    "cols.del_col('MMAX')\n",
    "cols.del_col('ILSS')\n",
    "cols.del_col('ICOMB')\n",
    "cols.del_col('VAGC_SELECT')\n",
    "cols.del_col('LSS_INDEX')\n",
    "cols.del_col('FIBERWEIGHT')\n",
    "cols.del_col('PRIMTARGET')\n",
    "cols.del_col('MG')\n",
    "cols.del_col('SECTOR_COMPLETENESS')\n",
    "cols.del_col('COMOV_DENSITY')\n",
    "cols.del_col('RADIAL_WEIGHT')"
   ]
  },
  {
   "cell_type": "code",
   "execution_count": null,
   "metadata": {
    "collapsed": true
   },
   "outputs": [],
   "source": [
    "fdata[1].columns"
   ]
  },
  {
   "cell_type": "code",
   "execution_count": null,
   "metadata": {
    "collapsed": true
   },
   "outputs": [],
   "source": [
    "fdata.writeto(\"./output/DR7fullzradec.fits\")"
   ]
  },
  {
   "cell_type": "code",
   "execution_count": null,
   "metadata": {
    "collapsed": true
   },
   "outputs": [],
   "source": [
    "fdat=fits.open(\"./output/DR7fullzradec.fits\")"
   ]
  },
  {
   "cell_type": "code",
   "execution_count": null,
   "metadata": {
    "collapsed": true
   },
   "outputs": [],
   "source": [
    "fdat[1].columns"
   ]
  },
  {
   "cell_type": "code",
   "execution_count": null,
   "metadata": {
    "collapsed": true
   },
   "outputs": [],
   "source": [
    "fdat[1].data['Z']"
   ]
  },
  {
   "cell_type": "code",
   "execution_count": null,
   "metadata": {
    "collapsed": true
   },
   "outputs": [],
   "source": [
    "fdat[1].data['RA']"
   ]
  },
  {
   "cell_type": "code",
   "execution_count": null,
   "metadata": {
    "collapsed": true
   },
   "outputs": [],
   "source": []
  },
  {
   "cell_type": "code",
   "execution_count": null,
   "metadata": {
    "collapsed": true
   },
   "outputs": [],
   "source": [
    "comovlcdm=DC_LCDM(fdat[1].data['Z'])"
   ]
  },
  {
   "cell_type": "code",
   "execution_count": null,
   "metadata": {
    "collapsed": true
   },
   "outputs": [],
   "source": [
    "fdat[1].data['Z']"
   ]
  },
  {
   "cell_type": "code",
   "execution_count": null,
   "metadata": {
    "collapsed": true
   },
   "outputs": [],
   "source": [
    "comovlcdm"
   ]
  },
  {
   "cell_type": "code",
   "execution_count": null,
   "metadata": {
    "collapsed": true
   },
   "outputs": [],
   "source": [
    "comovlcdm.dtype"
   ]
  },
  {
   "cell_type": "code",
   "execution_count": null,
   "metadata": {
    "collapsed": true
   },
   "outputs": [],
   "source": [
    "#cols=fdat[1].columns"
   ]
  },
  {
   "cell_type": "code",
   "execution_count": null,
   "metadata": {
    "collapsed": true
   },
   "outputs": [],
   "source": [
    "nc=fits.Column(name='COMOV',format='D',array=comovlcdm)"
   ]
  },
  {
   "cell_type": "code",
   "execution_count": null,
   "metadata": {
    "collapsed": true
   },
   "outputs": [],
   "source": [
    "nc1=fits.Column(name='COMOV',format='D')"
   ]
  },
  {
   "cell_type": "code",
   "execution_count": null,
   "metadata": {
    "collapsed": true
   },
   "outputs": [],
   "source": [
    "fdata[1].data['Z']"
   ]
  },
  {
   "cell_type": "code",
   "execution_count": null,
   "metadata": {
    "collapsed": true
   },
   "outputs": [],
   "source": [
    "fdata[1].data['RA']"
   ]
  },
  {
   "cell_type": "code",
   "execution_count": null,
   "metadata": {
    "collapsed": true
   },
   "outputs": [],
   "source": [
    "nc"
   ]
  },
  {
   "cell_type": "code",
   "execution_count": null,
   "metadata": {
    "collapsed": true
   },
   "outputs": [],
   "source": [
    "nc.dtype"
   ]
  },
  {
   "cell_type": "code",
   "execution_count": null,
   "metadata": {
    "collapsed": true
   },
   "outputs": [],
   "source": [
    "#cols.add_col(nc)"
   ]
  },
  {
   "cell_type": "code",
   "execution_count": null,
   "metadata": {
    "collapsed": true
   },
   "outputs": [],
   "source": [
    "fdat[1].columns"
   ]
  },
  {
   "cell_type": "code",
   "execution_count": null,
   "metadata": {
    "collapsed": true
   },
   "outputs": [],
   "source": [
    "fdat[1].columns.info()"
   ]
  },
  {
   "cell_type": "code",
   "execution_count": null,
   "metadata": {
    "collapsed": true
   },
   "outputs": [],
   "source": [
    "fdat[1].columns.add_col(nc1)"
   ]
  },
  {
   "cell_type": "code",
   "execution_count": null,
   "metadata": {
    "collapsed": true
   },
   "outputs": [],
   "source": [
    "fdat[1].data['COMOV']=comovlcdm"
   ]
  },
  {
   "cell_type": "code",
   "execution_count": null,
   "metadata": {
    "collapsed": true
   },
   "outputs": [],
   "source": [
    "comovlcdm"
   ]
  },
  {
   "cell_type": "code",
   "execution_count": null,
   "metadata": {
    "collapsed": true
   },
   "outputs": [],
   "source": [
    "fdat[1].data['Z']"
   ]
  },
  {
   "cell_type": "code",
   "execution_count": null,
   "metadata": {
    "collapsed": true
   },
   "outputs": [],
   "source": [
    "fdat[1].data['COMOV']"
   ]
  },
  {
   "cell_type": "code",
   "execution_count": null,
   "metadata": {
    "collapsed": true
   },
   "outputs": [],
   "source": [
    "fdat[1].data['RA']"
   ]
  },
  {
   "cell_type": "code",
   "execution_count": null,
   "metadata": {
    "collapsed": true
   },
   "outputs": [],
   "source": [
    "fdat[1].data['RA']=fdat[1].data['RA']*pi/180.0"
   ]
  },
  {
   "cell_type": "code",
   "execution_count": null,
   "metadata": {
    "collapsed": true
   },
   "outputs": [],
   "source": [
    "comovlcdm=DC_LCDM(fdat[1].data['Z'])\n",
    "comovlcdm"
   ]
  },
  {
   "cell_type": "code",
   "execution_count": null,
   "metadata": {
    "collapsed": true
   },
   "outputs": [],
   "source": []
  },
  {
   "cell_type": "code",
   "execution_count": null,
   "metadata": {
    "collapsed": true
   },
   "outputs": [],
   "source": []
  },
  {
   "cell_type": "markdown",
   "metadata": {},
   "source": [
    "Random catalog created based on the survey limitations also taken from http://cosmo.nyu.edu/~eak306/SDSS-LRG.html"
   ]
  },
  {
   "cell_type": "code",
   "execution_count": null,
   "metadata": {
    "collapsed": true
   },
   "outputs": [],
   "source": [
    "dataR=fits.open(\"/Users/rohin/Downloads/random-DR7-Full.fits\")"
   ]
  },
  {
   "cell_type": "code",
   "execution_count": null,
   "metadata": {
    "collapsed": true
   },
   "outputs": [],
   "source": [
    "dataR"
   ]
  },
  {
   "cell_type": "code",
   "execution_count": null,
   "metadata": {
    "collapsed": true
   },
   "outputs": [],
   "source": [
    "dataR=dataR[1].data"
   ]
  },
  {
   "cell_type": "code",
   "execution_count": null,
   "metadata": {
    "collapsed": true
   },
   "outputs": [],
   "source": [
    "len(dataR)"
   ]
  },
  {
   "cell_type": "code",
   "execution_count": null,
   "metadata": {
    "collapsed": true
   },
   "outputs": [],
   "source": [
    "NSIDE=512\n",
    "dr72hpix=hu.HealPix(\"ring\",NSIDE)"
   ]
  },
  {
   "cell_type": "code",
   "execution_count": null,
   "metadata": {
    "collapsed": true
   },
   "outputs": [],
   "source": [
    "pixdata = open(\"./output/pixdatadr72VAGCfullrand.dat\",'w')\n",
    "pixdata.write(\"z\\t pix \\n\")\n",
    "\n",
    "for i in range(0,len(data)-1):\n",
    "    pixdata.write(\"%f\\t\" %data['z'][i])\n",
    "    pixdata.write(\"%d\\n\" %dr72hpix.eq2pix(dataR['ra'][i],dataR['dec'][i]))\n",
    "pixdata.close()"
   ]
  },
  {
   "cell_type": "code",
   "execution_count": null,
   "metadata": {
    "collapsed": true
   },
   "outputs": [],
   "source": [
    "pixdata = ascii.read(\"./output/pixdatadr72VAGCfullrand.dat\")\n",
    "hpixdata=np.array(np.zeros(hu.nside2npix(NSIDE)))\n",
    "for j in range(len(pixdata)):\n",
    "    hpixdata[pixdata[j]['pix']]+=1"
   ]
  },
  {
   "cell_type": "code",
   "execution_count": null,
   "metadata": {
    "collapsed": true
   },
   "outputs": [],
   "source": [
    "hpixdata"
   ]
  },
  {
   "cell_type": "code",
   "execution_count": null,
   "metadata": {
    "collapsed": true
   },
   "outputs": [],
   "source": [
    "hu.mollview(hpixdata,rot=180)"
   ]
  },
  {
   "cell_type": "code",
   "execution_count": null,
   "metadata": {
    "collapsed": true
   },
   "outputs": [],
   "source": [
    "hu.orthview(hpixdata)"
   ]
  }
 ],
 "metadata": {
  "kernelspec": {
   "display_name": "Python 2",
   "language": "python",
   "name": "python2"
  },
  "language_info": {
   "codemirror_mode": {
    "name": "ipython",
    "version": 2
   },
   "file_extension": ".py",
   "mimetype": "text/x-python",
   "name": "python",
   "nbconvert_exporter": "python",
   "pygments_lexer": "ipython2",
   "version": "2.7.13"
  }
 },
 "nbformat": 4,
 "nbformat_minor": 1
}
