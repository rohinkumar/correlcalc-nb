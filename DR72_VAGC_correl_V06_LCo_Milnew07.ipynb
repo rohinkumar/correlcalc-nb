{
 "cells": [
  {
   "cell_type": "markdown",
   "metadata": {},
   "source": [
    "# Correlation function of DR72 SDSS VAGC Catalog"
   ]
  },
  {
   "cell_type": "markdown",
   "metadata": {},
   "source": [
    "First import all the modules such as healpy and astropy needed for analyzing the structure"
   ]
  },
  {
   "cell_type": "code",
   "execution_count": 1,
   "metadata": {
    "collapsed": true
   },
   "outputs": [],
   "source": [
    "import healpix_util as hu\n",
    "import astropy as ap\n",
    "import numpy as np\n",
    "from astropy.io import fits\n",
    "from astropy.table import Table\n",
    "import astropy.io.ascii as ascii\n",
    "from astropy.io import fits\n",
    "from astropy.constants import c\n",
    "import matplotlib.pyplot as plt\n",
    "import math as m\n",
    "from math import pi\n",
    "#from scipy.constants import c\n",
    "import scipy.special as sp\n",
    "from astroML.decorators import pickle_results\n",
    "from scipy import integrate\n",
    "import warnings\n",
    "from sklearn.neighbors import BallTree\n",
    "import pickle\n",
    "import multiprocessing as mp\n",
    "import time\n",
    "from lco07metric import *\n",
    "from progressbar import *\n",
    "from tqdm import *\n",
    "from functools import partial\n",
    "import pymangle\n",
    "#from astroML.datasets import fetch_sdss_specgals\n",
    "#from astroML.correlation import bootstrap_two_point_angular\n",
    "%matplotlib inline"
   ]
  },
  {
   "cell_type": "code",
   "execution_count": 2,
   "metadata": {},
   "outputs": [
    {
     "data": {
      "text/plain": [
       "array([[ 0.37169 ,  0.980185, -0.003863],\n",
       "       [ 0.312739,  1.016617,  0.003776],\n",
       "       [ 0.345944,  0.950251,  0.010821],\n",
       "       ..., \n",
       "       [ 0.290404,  2.829918,  0.173514],\n",
       "       [ 0.313432,  2.830242,  0.172112],\n",
       "       [ 0.199924,  2.831786,  0.173661]])"
      ]
     },
     "execution_count": 2,
     "metadata": {},
     "output_type": "execute_result"
    }
   ],
   "source": [
    "# Getting back the objects:\n",
    "with open('datsLCf.pkl') as f:  # Python 3: open(..., 'rb')\n",
    "    dat = pickle.load(f)\n",
    "dat"
   ]
  },
  {
   "cell_type": "code",
   "execution_count": 3,
   "metadata": {
    "collapsed": true
   },
   "outputs": [],
   "source": [
    "bins=np.arange(0.,0.08,0.005)"
   ]
  },
  {
   "cell_type": "code",
   "execution_count": 4,
   "metadata": {},
   "outputs": [
    {
     "name": "stdout",
     "output_type": "stream",
     "text": [
      "[ 0.     0.005  0.01   0.015  0.02   0.025  0.03   0.035  0.04   0.045\n",
      "  0.05   0.055  0.06   0.065  0.07   0.075]\n"
     ]
    }
   ],
   "source": [
    "print bins"
   ]
  },
  {
   "cell_type": "code",
   "execution_count": 5,
   "metadata": {
    "collapsed": true
   },
   "outputs": [],
   "source": [
    "Nbins=len(bins)"
   ]
  },
  {
   "cell_type": "code",
   "execution_count": 6,
   "metadata": {},
   "outputs": [
    {
     "data": {
      "text/plain": [
       "16"
      ]
     },
     "execution_count": 6,
     "metadata": {},
     "output_type": "execute_result"
    }
   ],
   "source": [
    "Nbins"
   ]
  },
  {
   "cell_type": "code",
   "execution_count": 7,
   "metadata": {
    "collapsed": true
   },
   "outputs": [],
   "source": [
    "binsq=(bins*0.007)**2"
   ]
  },
  {
   "cell_type": "code",
   "execution_count": 8,
   "metadata": {},
   "outputs": [
    {
     "data": {
      "text/plain": [
       "array([  0.00000000e+00,   1.22500000e-09,   4.90000000e-09,\n",
       "         1.10250000e-08,   1.96000000e-08,   3.06250000e-08,\n",
       "         4.41000000e-08,   6.00250000e-08,   7.84000000e-08,\n",
       "         9.92250000e-08,   1.22500000e-07,   1.48225000e-07,\n",
       "         1.76400000e-07,   2.07025000e-07,   2.40100000e-07,\n",
       "         2.75625000e-07])"
      ]
     },
     "execution_count": 8,
     "metadata": {},
     "output_type": "execute_result"
    }
   ],
   "source": [
    "binsq"
   ]
  },
  {
   "cell_type": "code",
   "execution_count": 10,
   "metadata": {},
   "outputs": [
    {
     "data": {
      "text/plain": [
       "1.781583356269078e-07"
      ]
     },
     "execution_count": 10,
     "metadata": {},
     "output_type": "execute_result"
    }
   ],
   "source": [
    "LCometric07(dat[0],dat[1])"
   ]
  },
  {
   "cell_type": "code",
   "execution_count": 11,
   "metadata": {},
   "outputs": [
    {
     "name": "stdout",
     "output_type": "stream",
     "text": [
      "CPU times: user 6.45 s, sys: 76.9 ms, total: 6.53 s\n",
      "Wall time: 6.65 s\n"
     ]
    }
   ],
   "source": [
    "%%time\n",
    "BT_DLCo = BallTree(dat,metric='pyfunc',func=LCometric07,leaf_size=5) \n",
    "\n",
    "with open('BTDdatsLCo07.pkl', 'w') as f:\n",
    "    pickle.dump(BT_DLCo,f)"
   ]
  },
  {
   "cell_type": "code",
   "execution_count": 12,
   "metadata": {},
   "outputs": [
    {
     "data": {
      "text/plain": [
       "<sklearn.neighbors.ball_tree.BinaryTree at 0x7fc83e7a5c80>"
      ]
     },
     "execution_count": 12,
     "metadata": {},
     "output_type": "execute_result"
    }
   ],
   "source": [
    "with open('BTDdatsLCo07.pkl') as f:\n",
    "    BTDLCo = pickle.load(f)\n",
    "    \n",
    "BTDLCo"
   ]
  },
  {
   "cell_type": "code",
   "execution_count": 13,
   "metadata": {},
   "outputs": [
    {
     "name": "stdout",
     "output_type": "stream",
     "text": [
      "[   103744    435025   1551330   4079261   8763916  16347206  27560814\n",
      "  43056907  63393150  88989951 120248171 157518583 201151426 251505218\n",
      " 308866081 373489442]\n",
      "Total run time:\n",
      "1349.90365291\n",
      "CPU times: user 18min 5s, sys: 631 ms, total: 18min 5s\n",
      "Wall time: 22min 29s\n"
     ]
    }
   ],
   "source": [
    "%%time\n",
    "start_time=time.time()\n",
    "counts_DD=BTDLCo.two_point_correlation(dat,binsq)\n",
    "print counts_DD\n",
    "end_time=time.time()\n",
    "tottime=end_time-start_time\n",
    "print \"Total run time:\"\n",
    "print tottime\n",
    "\n",
    "with open('BTDcDDLCo07.pkl', 'w') as f:\n",
    "    pickle.dump(counts_DD,f)"
   ]
  },
  {
   "cell_type": "code",
   "execution_count": 14,
   "metadata": {},
   "outputs": [
    {
     "data": {
      "text/plain": [
       "array([   103744,    435025,   1551330,   4079261,   8763916,  16347206,\n",
       "        27560814,  43056907,  63393150,  88989951, 120248171, 157518583,\n",
       "       201151426, 251505218, 308866081, 373489442])"
      ]
     },
     "execution_count": 14,
     "metadata": {},
     "output_type": "execute_result"
    }
   ],
   "source": [
    "with open('BTDcDDLCo07.pkl') as f:\n",
    "    counts_DD = pickle.load(f)\n",
    "    \n",
    "counts_DD"
   ]
  },
  {
   "cell_type": "code",
   "execution_count": 15,
   "metadata": {
    "collapsed": true
   },
   "outputs": [],
   "source": [
    "DD=np.diff(counts_DD)"
   ]
  },
  {
   "cell_type": "code",
   "execution_count": 16,
   "metadata": {},
   "outputs": [
    {
     "data": {
      "text/plain": [
       "array([  331281,  1116305,  2527931,  4684655,  7583290, 11213608,\n",
       "       15496093, 20336243, 25596801, 31258220, 37270412, 43632843,\n",
       "       50353792, 57360863, 64623361])"
      ]
     },
     "execution_count": 16,
     "metadata": {},
     "output_type": "execute_result"
    }
   ],
   "source": [
    "DD"
   ]
  },
  {
   "cell_type": "code",
   "execution_count": 17,
   "metadata": {},
   "outputs": [
    {
     "data": {
      "text/plain": [
       "[<matplotlib.lines.Line2D at 0x114aa2f10>]"
      ]
     },
     "execution_count": 17,
     "metadata": {},
     "output_type": "execute_result"
    },
    {
     "data": {
      "image/png": "[encoded data removed]",
      "text/plain": [
       "<matplotlib.figure.Figure at 0x10ae9a5d0>"
      ]
     },
     "metadata": {},
     "output_type": "display_data"
    }
   ],
   "source": [
    "plt.plot(bins[1:len(bins)],DD,'ro-')"
   ]
  },
  {
   "cell_type": "markdown",
   "metadata": {},
   "source": [
    "BallTree.two_point_correlation works almost 10 times faster! with leaf_size=5 Going with it to the random catalog"
   ]
  },
  {
   "cell_type": "code",
   "execution_count": 18,
   "metadata": {},
   "outputs": [
    {
     "data": {
      "text/plain": [
       "array([[ 0.37169 ,  2.992549,  0.248026],\n",
       "       [ 0.312739,  2.737752,  0.711236],\n",
       "       [ 0.345944,  2.367643,  0.341962],\n",
       "       ..., \n",
       "       [ 0.311286,  3.228052,  0.199013],\n",
       "       [ 0.283066,  3.218296,  0.052979],\n",
       "       [ 0.188215,  4.056418,  0.170602]])"
      ]
     },
     "execution_count": 18,
     "metadata": {},
     "output_type": "execute_result"
    }
   ],
   "source": [
    "# Getting back the objects:\n",
    "with open('rDR7200kLCsrarf.pkl') as f:  # Python 3: open(..., 'rb')\n",
    "    datR = pickle.load(f)\n",
    "datR"
   ]
  },
  {
   "cell_type": "code",
   "execution_count": 19,
   "metadata": {},
   "outputs": [
    {
     "name": "stdout",
     "output_type": "stream",
     "text": [
      "CPU times: user 12.4 s, sys: 108 ms, total: 12.5 s\n",
      "Wall time: 12.7 s\n"
     ]
    }
   ],
   "source": [
    "%%time\n",
    "BT_RLCo = BallTree(datR,metric='pyfunc',func=LCometric07,leaf_size=5) \n",
    "\n",
    "with open('BTR200kdatsLCo07.pkl', 'w') as f:\n",
    "    pickle.dump(BT_RLCo,f)"
   ]
  },
  {
   "cell_type": "code",
   "execution_count": 20,
   "metadata": {},
   "outputs": [
    {
     "data": {
      "text/plain": [
       "<sklearn.neighbors.ball_tree.BinaryTree at 0x7fc83e05ae20>"
      ]
     },
     "execution_count": 20,
     "metadata": {},
     "output_type": "execute_result"
    }
   ],
   "source": [
    "with open('BTR200kdatsLCo07.pkl') as f:\n",
    "    BTRLCo = pickle.load(f)\n",
    "    \n",
    "BTRLCo"
   ]
  },
  {
   "cell_type": "code",
   "execution_count": 21,
   "metadata": {},
   "outputs": [
    {
     "name": "stdout",
     "output_type": "stream",
     "text": [
      "[    202159     749815    4261628   13636493   31875354   61567045\n",
      "  104944962  164204504  241704541  339717638  459986498  603852978\n",
      "  771786451  964296405 1182565588 1428054195]\n",
      "Total run time:\n",
      "2988.938977\n",
      "CPU times: user 49min 37s, sys: 5.76 s, total: 49min 43s\n",
      "Wall time: 49min 48s\n"
     ]
    }
   ],
   "source": [
    "%%time\n",
    "start_time=time.time()\n",
    "counts_RR=BTRLCo.two_point_correlation(datR,binsq)\n",
    "print counts_RR\n",
    "end_time=time.time()\n",
    "tottime=end_time-start_time\n",
    "print \"Total run time:\"\n",
    "print tottime\n",
    "\n",
    "with open('BTR200kcRRLCo07.pkl', 'w') as f:\n",
    "    pickle.dump(counts_RR,f)"
   ]
  },
  {
   "cell_type": "code",
   "execution_count": 22,
   "metadata": {},
   "outputs": [
    {
     "data": {
      "text/plain": [
       "array([    202159,     749815,    4261628,   13636493,   31875354,\n",
       "         61567045,  104944962,  164204504,  241704541,  339717638,\n",
       "        459986498,  603852978,  771786451,  964296405, 1182565588,\n",
       "       1428054195])"
      ]
     },
     "execution_count": 22,
     "metadata": {},
     "output_type": "execute_result"
    }
   ],
   "source": [
    "with open('BTR200kcRRLCo07.pkl') as f:\n",
    "    counts_RR = pickle.load(f)\n",
    "    \n",
    "counts_RR"
   ]
  },
  {
   "cell_type": "code",
   "execution_count": 23,
   "metadata": {
    "collapsed": true
   },
   "outputs": [],
   "source": [
    "RR=np.diff(counts_RR)"
   ]
  },
  {
   "cell_type": "code",
   "execution_count": 24,
   "metadata": {},
   "outputs": [
    {
     "data": {
      "text/plain": [
       "array([   547656,   3511813,   9374865,  18238861,  29691691,  43377917,\n",
       "        59259542,  77500037,  98013097, 120268860, 143866480, 167933473,\n",
       "       192509954, 218269183, 245488607])"
      ]
     },
     "execution_count": 24,
     "metadata": {},
     "output_type": "execute_result"
    }
   ],
   "source": [
    "RR"
   ]
  },
  {
   "cell_type": "code",
   "execution_count": 25,
   "metadata": {},
   "outputs": [
    {
     "data": {
      "text/plain": [
       "[<matplotlib.lines.Line2D at 0x1149a95d0>]"
      ]
     },
     "execution_count": 25,
     "metadata": {},
     "output_type": "execute_result"
    },
    {
     "data": {
      "image/png": "[encoded data removed]",
      "text/plain": [
       "<matplotlib.figure.Figure at 0x114acf410>"
      ]
     },
     "metadata": {},
     "output_type": "display_data"
    }
   ],
   "source": [
    "plt.plot(bins[1:len(bins)],RR,'bo-')"
   ]
  },
  {
   "cell_type": "code",
   "execution_count": 26,
   "metadata": {
    "collapsed": true
   },
   "outputs": [],
   "source": [
    "RR_zero = (RR == 0)\n",
    "RR[RR_zero] = 1"
   ]
  },
  {
   "cell_type": "code",
   "execution_count": 27,
   "metadata": {},
   "outputs": [
    {
     "name": "stdout",
     "output_type": "stream",
     "text": [
      "[      191    259636   1983729   6633849  15704984  30478629  52128625\n",
      "  81773845 120687567 170040463 230726814 303540856 388693788 486504627\n",
      " 597612181 722921861]\n",
      "Total run time:\n",
      "1353.51121497\n",
      "CPU times: user 22min 31s, sys: 1.25 s, total: 22min 32s\n",
      "Wall time: 22min 33s\n"
     ]
    }
   ],
   "source": [
    "%%time\n",
    "start_time=time.time()\n",
    "counts_DR=BTRLCo.two_point_correlation(dat,binsq)\n",
    "print counts_DR\n",
    "end_time=time.time()\n",
    "tottime=end_time-start_time\n",
    "print \"Total run time:\"\n",
    "print tottime\n",
    "\n",
    "with open('BTR200kcDRLCo07.pkl', 'w') as f:\n",
    "    pickle.dump(counts_DR,f)"
   ]
  },
  {
   "cell_type": "code",
   "execution_count": 28,
   "metadata": {},
   "outputs": [
    {
     "data": {
      "text/plain": [
       "array([      191,    259636,   1983729,   6633849,  15704984,  30478629,\n",
       "        52128625,  81773845, 120687567, 170040463, 230726814, 303540856,\n",
       "       388693788, 486504627, 597612181, 722921861])"
      ]
     },
     "execution_count": 28,
     "metadata": {},
     "output_type": "execute_result"
    }
   ],
   "source": [
    "with open('BTR200kcDRLCo07.pkl') as f:\n",
    "    counts_DR = pickle.load(f)\n",
    "    \n",
    "counts_DR"
   ]
  },
  {
   "cell_type": "code",
   "execution_count": 42,
   "metadata": {
    "collapsed": true
   },
   "outputs": [],
   "source": [
    "DR=np.diff(counts_DR)"
   ]
  },
  {
   "cell_type": "code",
   "execution_count": 43,
   "metadata": {},
   "outputs": [
    {
     "data": {
      "text/plain": [
       "array([   259445,   1724093,   4650120,   9071135,  14773645,  21649996,\n",
       "        29645220,  38913722,  49352896,  60686351,  72814042,  85152932,\n",
       "        97810839, 111107554, 125309680])"
      ]
     },
     "execution_count": 43,
     "metadata": {},
     "output_type": "execute_result"
    }
   ],
   "source": [
    "DR"
   ]
  },
  {
   "cell_type": "code",
   "execution_count": 44,
   "metadata": {
    "collapsed": true
   },
   "outputs": [],
   "source": [
    "corrells=(4.0 * DD - 4.0 * DR + RR) / RR"
   ]
  },
  {
   "cell_type": "code",
   "execution_count": 45,
   "metadata": {},
   "outputs": [
    {
     "data": {
      "text/plain": [
       "array([ 1.52467973,  0.30772168,  0.09451965,  0.03799256,  0.03133102,\n",
       "        0.03763124,  0.04493848,  0.04116283,  0.03049304,  0.02125518,\n",
       "        0.01176063,  0.01103483,  0.01393053,  0.0150384 ,  0.01117498])"
      ]
     },
     "execution_count": 45,
     "metadata": {},
     "output_type": "execute_result"
    }
   ],
   "source": [
    "corrells"
   ]
  },
  {
   "cell_type": "code",
   "execution_count": 33,
   "metadata": {},
   "outputs": [
    {
     "data": {
      "text/plain": [
       "[<matplotlib.lines.Line2D at 0x116233d90>]"
      ]
     },
     "execution_count": 33,
     "metadata": {},
     "output_type": "execute_result"
    },
    {
     "data": {
      "image/png": "[encoded data removed]",
      "text/plain": [
       "<matplotlib.figure.Figure at 0x1149ce3d0>"
      ]
     },
     "metadata": {},
     "output_type": "display_data"
    }
   ],
   "source": [
    "plt.plot(bins[1:len(bins)],corrells,'go-')"
   ]
  },
  {
   "cell_type": "code",
   "execution_count": 34,
   "metadata": {},
   "outputs": [
    {
     "data": {
      "text/plain": [
       "[<matplotlib.lines.Line2D at 0x11965ff50>]"
      ]
     },
     "execution_count": 34,
     "metadata": {},
     "output_type": "execute_result"
    },
    {
     "data": {
      "image/png": "[encoded data removed]",
      "text/plain": [
       "<matplotlib.figure.Figure at 0x1168ed550>"
      ]
     },
     "metadata": {},
     "output_type": "display_data"
    }
   ],
   "source": [
    "plt.plot(bins[1:len(bins)],bins[1:len(bins)]*bins[1:len(bins)]*corrells*(c*1e-5)**2,'go-')"
   ]
  },
  {
   "cell_type": "code",
   "execution_count": 35,
   "metadata": {},
   "outputs": [
    {
     "data": {
      "text/plain": [
       "[<matplotlib.lines.Line2D at 0x11977a750>]"
      ]
     },
     "execution_count": 35,
     "metadata": {},
     "output_type": "execute_result"
    },
    {
     "data": {
      "image/png": "[encoded data removed]",
      "text/plain": [
       "<matplotlib.figure.Figure at 0x119679a90>"
      ]
     },
     "metadata": {},
     "output_type": "display_data"
    }
   ],
   "source": [
    "plt.plot(bins[2:len(bins)],bins[2:len(bins)]*bins[2:len(bins)]*corrells[1:len(bins)]*(c*1e-5)**2,'go-')"
   ]
  },
  {
   "cell_type": "code",
   "execution_count": 36,
   "metadata": {},
   "outputs": [
    {
     "data": {
      "text/plain": [
       "[<matplotlib.lines.Line2D at 0x11988cd50>]"
      ]
     },
     "execution_count": 36,
     "metadata": {},
     "output_type": "execute_result"
    },
    {
     "data": {
      "image/png": "[encoded data removed]",
      "text/plain": [
       "<matplotlib.figure.Figure at 0x119796810>"
      ]
     },
     "metadata": {},
     "output_type": "display_data"
    }
   ],
   "source": [
    "plt.plot(bins[2:len(bins)],corrells[1:len(bins)],'go-')"
   ]
  },
  {
   "cell_type": "code",
   "execution_count": 37,
   "metadata": {},
   "outputs": [
    {
     "data": {
      "image/png": "[encoded data removed]",
      "text/plain": [
       "<matplotlib.figure.Figure at 0x1198b2450>"
      ]
     },
     "metadata": {},
     "output_type": "display_data"
    }
   ],
   "source": [
    "plt.plot(bins[2:len(bins)],corrells[1:len(bins)],'go-')\n",
    "plt.savefig(\"correl2xlsLCo07.pdf\")"
   ]
  },
  {
   "cell_type": "code",
   "execution_count": 38,
   "metadata": {},
   "outputs": [
    {
     "data": {
      "image/png": "[encoded data removed]",
      "text/plain": [
       "<matplotlib.figure.Figure at 0x119a28590>"
      ]
     },
     "metadata": {},
     "output_type": "display_data"
    }
   ],
   "source": [
    "plt.plot(bins[2:len(bins)]*c/1e5,corrells[1:len(bins)],'bo-')\n",
    "plt.savefig(\"correl2x1lsLCo07.pdf\")"
   ]
  },
  {
   "cell_type": "code",
   "execution_count": 39,
   "metadata": {},
   "outputs": [
    {
     "data": {
      "image/png": "[encoded data removed]",
      "text/plain": [
       "<matplotlib.figure.Figure at 0x119b4ae90>"
      ]
     },
     "metadata": {},
     "output_type": "display_data"
    }
   ],
   "source": [
    "plt.yscale('log')\n",
    "plt.plot(bins[1:len(bins)]*c/1e5,corrells,'bo-')\n",
    "plt.savefig(\"correllsfiglogLCo07.pdf\")"
   ]
  },
  {
   "cell_type": "code",
   "execution_count": 40,
   "metadata": {},
   "outputs": [
    {
     "data": {
      "image/png": "[encoded data removed]",
      "text/plain": [
       "<matplotlib.figure.Figure at 0x119a1fa90>"
      ]
     },
     "metadata": {},
     "output_type": "display_data"
    }
   ],
   "source": [
    "plt.yscale('log')\n",
    "plt.plot(bins[2:len(bins)]*c/1e5,corrells[1:len(bins)],'ro-')\n",
    "plt.savefig(\"correllslog2xLCo07.pdf\")"
   ]
  },
  {
   "cell_type": "code",
   "execution_count": 41,
   "metadata": {},
   "outputs": [
    {
     "data": {
      "image/png": "[encoded data removed]",
      "text/plain": [
       "<matplotlib.figure.Figure at 0x11c865510>"
      ]
     },
     "metadata": {},
     "output_type": "display_data"
    }
   ],
   "source": [
    "plt.yscale('log')\n",
    "plt.xscale('log')\n",
    "plt.plot(bins[1:len(bins)]*c/1e5,corrells,'bo-')\n",
    "plt.savefig(\"correllsloglogLCo07.pdf\")"
   ]
  }
 ],
 "metadata": {
  "kernelspec": {
   "display_name": "Python 2",
   "language": "python",
   "name": "python2"
  },
  "language_info": {
   "codemirror_mode": {
    "name": "ipython",
    "version": 2
   },
   "file_extension": ".py",
   "mimetype": "text/x-python",
   "name": "python",
   "nbconvert_exporter": "python",
   "pygments_lexer": "ipython2",
   "version": "2.7.13"
  }
 },
 "nbformat": 4,
 "nbformat_minor": 1
}
