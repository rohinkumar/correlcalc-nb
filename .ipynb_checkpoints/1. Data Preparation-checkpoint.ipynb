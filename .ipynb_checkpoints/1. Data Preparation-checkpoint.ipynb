{
 "cells": [
  {
   "cell_type": "markdown",
   "metadata": {},
   "source": [
    "# Correlation function of DR72 SDSS VAGC Catalog"
   ]
  },
  {
   "cell_type": "markdown",
   "metadata": {},
   "source": [
    "First import all the modules such as healpy and astropy needed for analyzing the structure"
   ]
  },
  {
   "cell_type": "code",
   "execution_count": 1,
   "metadata": {
    "collapsed": true
   },
   "outputs": [],
   "source": [
    "import healpix_util as hu\n",
    "import astropy as ap\n",
    "import numpy as np\n",
    "from astropy.io import fits\n",
    "from astropy.table import Table\n",
    "import astropy.io.ascii as ascii\n",
    "from astropy.io import fits\n",
    "from astropy.constants import c\n",
    "import matplotlib.pyplot as plt\n",
    "import math as m\n",
    "from math import pi\n",
    "import scipy.special as sp\n",
    "from scipy import integrate\n",
    "import warnings\n",
    "from sklearn.neighbors import BallTree\n",
    "import pickle\n",
    "import pymangle\n",
    "from scipy.optimize import curve_fit\n",
    "%matplotlib inline"
   ]
  },
  {
   "cell_type": "code",
   "execution_count": null,
   "metadata": {},
   "outputs": [],
   "source": [
    "dr7full=ascii.read(\"./input/DR7-Full.ascii\")\n",
    "dr7full"
   ]
  },
  {
   "cell_type": "code",
   "execution_count": null,
   "metadata": {
    "collapsed": true
   },
   "outputs": [],
   "source": [
    "z=dr7full['col3']\n",
    "rad=dr7full['col1']\n",
    "decd=dr7full['col2']"
   ]
  },
  {
   "cell_type": "code",
   "execution_count": 2,
   "metadata": {},
   "outputs": [
    {
     "data": {
      "text/plain": [
       "<numpy.lib.function_base.vectorize at 0x113d9eb90>"
      ]
     },
     "execution_count": 2,
     "metadata": {},
     "output_type": "execute_result"
    }
   ],
   "source": [
    "#Ez = lambda x: 1.0/m.sqrt(0.3*(1+x)**3+0.7)\n",
    "Om=0.3\n",
    "Ol=0.7\n",
    "Ok=0.0\n",
    "def Ez(zv):\n",
    "    return 1.0/m.sqrt(Om*(1.0+zv)**3+Ok*(1.0+zv)**2+Ol)\n",
    "\n",
    "np.vectorize(Ez)\n",
    "#Calculate comoving distance of a data point using the Redshift - This definition is based on the cosmology model we take. Here the distance for E-dS universe is considered. Also note that c/H0 ratio is cancelled in the equations and hence not taken."
   ]
  },
  {
   "cell_type": "code",
   "execution_count": 3,
   "metadata": {
    "collapsed": true
   },
   "outputs": [],
   "source": [
    "def DC_LCDM(z):\n",
    "  return integrate.quad(Ez, 0, z)[0]\n",
    "DC_LCDM=np.vectorize(DC_LCDM)"
   ]
  },
  {
   "cell_type": "code",
   "execution_count": 26,
   "metadata": {},
   "outputs": [
    {
     "data": {
      "text/plain": [
       "array(1.20947120427111)"
      ]
     },
     "execution_count": 26,
     "metadata": {},
     "output_type": "execute_result"
    }
   ],
   "source": [
    "DC_LCDM(2.0)"
   ]
  },
  {
   "cell_type": "code",
   "execution_count": null,
   "metadata": {
    "collapsed": true
   },
   "outputs": [],
   "source": [
    "DC=DC_LCDM(z)\n",
    "DC"
   ]
  },
  {
   "cell_type": "code",
   "execution_count": null,
   "metadata": {
    "collapsed": true
   },
   "outputs": [],
   "source": [
    "dr7f = open(\"./output/DR72srarf.dat\",'w')\n",
    "dr7f.write(\"z\\t ra\\t dec\\t s\\t rar\\t decr \\n\")\n",
    "\n",
    "for i in range(0,len(dr7full)):\n",
    "    dr7f.write(\"%f\\t \" %z[i])\n",
    "    dr7f.write(\"%f\\t %f\\t \" %(rad[i],decd[i]))\n",
    "    dr7f.write(\"%f\\t \" %DC[i])\n",
    "    dr7f.write(\"%f\\t %f\\n \" %(rad[i]*pi/180.0,decd[i]*pi/180.0))\n",
    "dr7f.close()"
   ]
  },
  {
   "cell_type": "code",
   "execution_count": 4,
   "metadata": {},
   "outputs": [],
   "source": [
    "data=ascii.read(\"./output/DR72srarf.dat\")"
   ]
  },
  {
   "cell_type": "code",
   "execution_count": null,
   "metadata": {
    "collapsed": true
   },
   "outputs": [],
   "source": [
    "data['z']"
   ]
  },
  {
   "cell_type": "code",
   "execution_count": null,
   "metadata": {
    "collapsed": true
   },
   "outputs": [],
   "source": [
    "data['s']"
   ]
  },
  {
   "cell_type": "code",
   "execution_count": null,
   "metadata": {
    "collapsed": true
   },
   "outputs": [],
   "source": [
    "data['rar']"
   ]
  },
  {
   "cell_type": "code",
   "execution_count": null,
   "metadata": {
    "collapsed": true
   },
   "outputs": [],
   "source": [
    "data['decr']"
   ]
  },
  {
   "cell_type": "code",
   "execution_count": 7,
   "metadata": {
    "collapsed": true
   },
   "outputs": [],
   "source": [
    "NSIDE=512\n",
    "dr72hpix=hu.HealPix(\"ring\",NSIDE)"
   ]
  },
  {
   "cell_type": "code",
   "execution_count": null,
   "metadata": {
    "collapsed": true
   },
   "outputs": [],
   "source": [
    "pixdata = open(\"./output/pixdatadr72VAGCfull.dat\",'w')\n",
    "pixdata.write(\"z\\t pix \\n\")\n",
    "\n",
    "for i in range(0,len(data)):\n",
    "    pixdata.write(\"%f\\t\" %data['z'][i])\n",
    "    pixdata.write(\"%d\\n\" %dr72hpix.eq2pix(data['ra'][i],data['dec'][i]))\n",
    "pixdata.close()"
   ]
  },
  {
   "cell_type": "code",
   "execution_count": 8,
   "metadata": {},
   "outputs": [],
   "source": [
    "pixdata = ascii.read(\"./output/pixdatadr72VAGCfull.dat\")\n",
    "hpixdata=np.array(np.zeros(hu.nside2npix(NSIDE)))\n",
    "for j in range(len(pixdata)):\n",
    "    hpixdata[pixdata[j]['pix']]+=1"
   ]
  },
  {
   "cell_type": "code",
   "execution_count": 9,
   "metadata": {},
   "outputs": [
    {
     "data": {
      "text/plain": [
       "array([ 0.,  0.,  0., ...,  0.,  0.,  0.])"
      ]
     },
     "execution_count": 9,
     "metadata": {},
     "output_type": "execute_result"
    }
   ],
   "source": [
    "hpixdata"
   ]
  },
  {
   "cell_type": "code",
   "execution_count": 10,
   "metadata": {},
   "outputs": [
    {
     "data": {
      "image/png": "[encoded data removed]",
      "text/plain": [
       "<matplotlib.figure.Figure at 0x107af8110>"
      ]
     },
     "metadata": {},
     "output_type": "display_data"
    }
   ],
   "source": [
    "hu.mollview(hpixdata,rot=180)"
   ]
  },
  {
   "cell_type": "code",
   "execution_count": 35,
   "metadata": {},
   "outputs": [],
   "source": [
    "mangle=pymangle.Mangle(\"./masks/window.dr72safe0.ply\")"
   ]
  },
  {
   "cell_type": "markdown",
   "metadata": {},
   "source": [
    "Ref: https://pypi.python.org/pypi/pymangle/"
   ]
  },
  {
   "cell_type": "code",
   "execution_count": null,
   "metadata": {},
   "outputs": [],
   "source": [
    "%%time\n",
    "rar,decr=mangle.genrand(2*len(data))"
   ]
  },
  {
   "cell_type": "code",
   "execution_count": 13,
   "metadata": {},
   "outputs": [
    {
     "data": {
      "text/plain": [
       "array([ 167.13535,  149.94692,  29.025466, ...,  170.09184,  163.78547,\n",
       "        356.03997], dtype=float128)"
      ]
     },
     "execution_count": 13,
     "metadata": {},
     "output_type": "execute_result"
    }
   ],
   "source": [
    "rar"
   ]
  },
  {
   "cell_type": "code",
   "execution_count": 14,
   "metadata": {},
   "outputs": [
    {
     "data": {
      "text/plain": [
       "array([-0.88070859,  6.746407,  31.329933, ...,  24.982752,  44.375591,\n",
       "        21.040094], dtype=float128)"
      ]
     },
     "execution_count": 14,
     "metadata": {},
     "output_type": "execute_result"
    }
   ],
   "source": [
    "decr"
   ]
  },
  {
   "cell_type": "code",
   "execution_count": 16,
   "metadata": {},
   "outputs": [],
   "source": [
    "zr=np.array([data['z'],data['z']])"
   ]
  },
  {
   "cell_type": "code",
   "execution_count": 18,
   "metadata": {},
   "outputs": [
    {
     "data": {
      "text/plain": [
       "array([[ 0.450184,  0.367165,  0.413324, ...,  0.368113,  0.22131 ,\n",
       "         0.34707 ],\n",
       "       [ 0.450184,  0.367165,  0.413324, ...,  0.368113,  0.22131 ,\n",
       "         0.34707 ]])"
      ]
     },
     "execution_count": 18,
     "metadata": {},
     "output_type": "execute_result"
    }
   ],
   "source": [
    "zr"
   ]
  },
  {
   "cell_type": "code",
   "execution_count": 20,
   "metadata": {},
   "outputs": [],
   "source": [
    "zr=zr.flatten()"
   ]
  },
  {
   "cell_type": "code",
   "execution_count": 21,
   "metadata": {},
   "outputs": [
    {
     "data": {
      "text/plain": [
       "array([ 0.450184,  0.367165,  0.413324, ...,  0.368113,  0.22131 ,  0.34707 ])"
      ]
     },
     "execution_count": 21,
     "metadata": {},
     "output_type": "execute_result"
    }
   ],
   "source": [
    "zr"
   ]
  },
  {
   "cell_type": "code",
   "execution_count": 23,
   "metadata": {},
   "outputs": [
    {
     "name": "stdout",
     "output_type": "stream",
     "text": [
      "211662\n",
      "211662\n"
     ]
    }
   ],
   "source": [
    "print len(zr)\n",
    "print len(decr)"
   ]
  },
  {
   "cell_type": "code",
   "execution_count": 27,
   "metadata": {},
   "outputs": [],
   "source": [
    "rdr7f = open(\"./output/rDR72srarf.dat\",'w')\n",
    "rdr7f.write(\"z\\t ra\\t dec\\t s\\t rar\\t decr \\n\")\n",
    "\n",
    "for i in range(0,len(zr)):\n",
    "    rdr7f.write(\"%f\\t \" %zr[i])\n",
    "    rdr7f.write(\"%f\\t %f\\t \" %(rar[i]*180.0/pi,decr[i]*180.0/pi))\n",
    "    rdr7f.write(\"%f\\t \" %DC_LCDM(zr[i]))\n",
    "    rdr7f.write(\"%f\\t %f\\n \" %(rar[i],decr[i]))\n",
    "rdr7f.close()"
   ]
  },
  {
   "cell_type": "code",
   "execution_count": 28,
   "metadata": {
    "collapsed": true
   },
   "outputs": [],
   "source": [
    "dataR=ascii.read(\"./output/rDR72srarf.dat\")"
   ]
  },
  {
   "cell_type": "code",
   "execution_count": 29,
   "metadata": {
    "collapsed": true
   },
   "outputs": [
    {
     "data": {
      "text/html": [
       "&lt;Column name=&apos;z&apos; dtype=&apos;float64&apos; length=211662&gt;\n",
       "<table>\n",
       "<tr><td>0.450184</td></tr>\n",
       "<tr><td>0.367165</td></tr>\n",
       "<tr><td>0.413324</td></tr>\n",
       "<tr><td>0.32247</td></tr>\n",
       "<tr><td>0.322646</td></tr>\n",
       "<tr><td>0.233469</td></tr>\n",
       "<tr><td>0.313645</td></tr>\n",
       "<tr><td>0.351716</td></tr>\n",
       "<tr><td>0.403208</td></tr>\n",
       "<tr><td>0.37691</td></tr>\n",
       "<tr><td>0.168714</td></tr>\n",
       "<tr><td>0.301653</td></tr>\n",
       "<tr><td>...</td></tr>\n",
       "<tr><td>0.221458</td></tr>\n",
       "<tr><td>0.221777</td></tr>\n",
       "<tr><td>0.228503</td></tr>\n",
       "<tr><td>0.223359</td></tr>\n",
       "<tr><td>0.350793</td></tr>\n",
       "<tr><td>0.221193</td></tr>\n",
       "<tr><td>0.313262</td></tr>\n",
       "<tr><td>0.245009</td></tr>\n",
       "<tr><td>0.336967</td></tr>\n",
       "<tr><td>0.368113</td></tr>\n",
       "<tr><td>0.22131</td></tr>\n",
       "<tr><td>0.34707</td></tr>\n",
       "</table>"
      ],
      "text/plain": [
       "<Column name='z' dtype='float64' length=211662>\n",
       "0.450184\n",
       "0.367165\n",
       "0.413324\n",
       " 0.32247\n",
       "0.322646\n",
       "0.233469\n",
       "0.313645\n",
       "0.351716\n",
       "0.403208\n",
       " 0.37691\n",
       "0.168714\n",
       "0.301653\n",
       "     ...\n",
       "0.221458\n",
       "0.221777\n",
       "0.228503\n",
       "0.223359\n",
       "0.350793\n",
       "0.221193\n",
       "0.313262\n",
       "0.245009\n",
       "0.336967\n",
       "0.368113\n",
       " 0.22131\n",
       " 0.34707"
      ]
     },
     "execution_count": 29,
     "metadata": {},
     "output_type": "execute_result"
    }
   ],
   "source": [
    "dataR['z']"
   ]
  },
  {
   "cell_type": "code",
   "execution_count": 30,
   "metadata": {
    "collapsed": true
   },
   "outputs": [],
   "source": [
    "NSIDE=512\n",
    "rdr72hpix=hu.HealPix(\"ring\",NSIDE)"
   ]
  },
  {
   "cell_type": "code",
   "execution_count": 31,
   "metadata": {
    "collapsed": true
   },
   "outputs": [],
   "source": [
    "pixdata = open(\"./output/pixrand200kdr72.dat\",'w')\n",
    "pixdata.write(\"z\\t pix \\n\")\n",
    "for i in range(0,len(rar)):\n",
    "    pixdata.write(\"%f\\t\" %zr[i])\n",
    "    pixdata.write(\"%d\\n\" %rdr72hpix.eq2pix(rar[i],decr[i]))\n",
    "pixdata.close()"
   ]
  },
  {
   "cell_type": "code",
   "execution_count": 32,
   "metadata": {
    "collapsed": true
   },
   "outputs": [],
   "source": [
    "pixdata = ascii.read(\"./output/pixrand200kdr72.dat\")\n",
    "hpixdata=np.array(np.zeros(hu.nside2npix(NSIDE)))\n",
    "for j in range(len(pixdata)):\n",
    "    hpixdata[pixdata[j]['pix']]+=1"
   ]
  },
  {
   "cell_type": "code",
   "execution_count": 33,
   "metadata": {},
   "outputs": [
    {
     "data": {
      "text/plain": [
       "array([ 0.,  0.,  0., ...,  0.,  0.,  0.])"
      ]
     },
     "execution_count": 33,
     "metadata": {},
     "output_type": "execute_result"
    }
   ],
   "source": [
    "hpixdata"
   ]
  },
  {
   "cell_type": "code",
   "execution_count": 34,
   "metadata": {},
   "outputs": [
    {
     "data": {
      "image/png": "[encoded data removed]",
      "text/plain": [
       "<matplotlib.figure.Figure at 0x114ffb8d0>"
      ]
     },
     "metadata": {},
     "output_type": "display_data"
    }
   ],
   "source": [
    "hu.mollview(hpixdata,rot=180)\n",
    "plt.savefig(\"./plots/rand200kmnew.pdf\")"
   ]
  },
  {
   "cell_type": "code",
   "execution_count": null,
   "metadata": {
    "collapsed": true
   },
   "outputs": [],
   "source": []
  },
  {
   "cell_type": "code",
   "execution_count": null,
   "metadata": {
    "collapsed": true
   },
   "outputs": [],
   "source": []
  },
  {
   "cell_type": "code",
   "execution_count": null,
   "metadata": {
    "collapsed": true
   },
   "outputs": [],
   "source": []
  },
  {
   "cell_type": "code",
   "execution_count": null,
   "metadata": {
    "collapsed": true
   },
   "outputs": [],
   "source": []
  },
  {
   "cell_type": "code",
   "execution_count": null,
   "metadata": {
    "collapsed": true
   },
   "outputs": [],
   "source": []
  },
  {
   "cell_type": "code",
   "execution_count": null,
   "metadata": {
    "collapsed": true
   },
   "outputs": [],
   "source": []
  },
  {
   "cell_type": "code",
   "execution_count": null,
   "metadata": {
    "collapsed": true
   },
   "outputs": [],
   "source": []
  },
  {
   "cell_type": "code",
   "execution_count": null,
   "metadata": {
    "collapsed": true
   },
   "outputs": [],
   "source": [
    "from scipy.stats import norm\n",
    "from sklearn.neighbors import KernelDensity"
   ]
  },
  {
   "cell_type": "code",
   "execution_count": null,
   "metadata": {
    "collapsed": true
   },
   "outputs": [],
   "source": [
    "from lcdmmetric import *"
   ]
  },
  {
   "cell_type": "code",
   "execution_count": null,
   "metadata": {
    "collapsed": true
   },
   "outputs": [],
   "source": [
    "z=np.array(data['z'])"
   ]
  },
  {
   "cell_type": "code",
   "execution_count": null,
   "metadata": {
    "collapsed": true
   },
   "outputs": [],
   "source": [
    "zkde=z.reshape(1,-1)"
   ]
  },
  {
   "cell_type": "code",
   "execution_count": null,
   "metadata": {},
   "outputs": [],
   "source": [
    "kde = KernelDensity(kernel='gaussian', bandwidth=0.75).fit(zkde)"
   ]
  },
  {
   "cell_type": "code",
   "execution_count": null,
   "metadata": {},
   "outputs": [],
   "source": [
    "kde"
   ]
  },
  {
   "cell_type": "code",
   "execution_count": null,
   "metadata": {},
   "outputs": [],
   "source": [
    "X_plot = np.arange(z.min(), z.max(), z.size())[:, np.newaxis]"
   ]
  },
  {
   "cell_type": "code",
   "execution_count": null,
   "metadata": {},
   "outputs": [],
   "source": [
    "log_dens = kde.score_samples(zkde)"
   ]
  },
  {
   "cell_type": "code",
   "execution_count": null,
   "metadata": {},
   "outputs": [],
   "source": [
    "log_dens"
   ]
  },
  {
   "cell_type": "code",
   "execution_count": null,
   "metadata": {
    "collapsed": true
   },
   "outputs": [],
   "source": [
    "d=ascii.read(\"./output/DR72LCsrarf.dat\")"
   ]
  },
  {
   "cell_type": "code",
   "execution_count": null,
   "metadata": {},
   "outputs": [],
   "source": [
    "d"
   ]
  },
  {
   "cell_type": "code",
   "execution_count": null,
   "metadata": {
    "collapsed": true
   },
   "outputs": [],
   "source": [
    "dataR=ascii.read(\"./output/rand200kdr72.dat\")"
   ]
  },
  {
   "cell_type": "code",
   "execution_count": null,
   "metadata": {
    "collapsed": true
   },
   "outputs": [],
   "source": [
    "dataR['z']"
   ]
  },
  {
   "cell_type": "code",
   "execution_count": null,
   "metadata": {
    "collapsed": true
   },
   "outputs": [],
   "source": [
    "dataR['ra']"
   ]
  },
  {
   "cell_type": "code",
   "execution_count": null,
   "metadata": {
    "collapsed": true
   },
   "outputs": [],
   "source": [
    "dataR['dec']"
   ]
  },
  {
   "cell_type": "code",
   "execution_count": null,
   "metadata": {
    "collapsed": true
   },
   "outputs": [],
   "source": [
    "DCLCR=DC_LC(dataR['z'])"
   ]
  },
  {
   "cell_type": "code",
   "execution_count": null,
   "metadata": {
    "collapsed": true
   },
   "outputs": [],
   "source": [
    "rdr7f = open(\"./output/rDR7200kLCsrarf.dat\",'w')\n",
    "rdr7f.write(\"z\\t ra\\t dec\\t s\\t rar\\t decr \\n\")\n",
    "\n",
    "for i in range(0,len(dataR)):\n",
    "    rdr7f.write(\"%f\\t \" %dataR['z'][i])\n",
    "    rdr7f.write(\"%f\\t %f\\t \" %(dataR['ra'][i],dataR['dec'][i]))\n",
    "    rdr7f.write(\"%f\\t \" %DCLCR[i])\n",
    "    rdr7f.write(\"%f\\t %f\\n \" %(dataR['ra'][i]*pi/180.0,dataR['dec'][i]*pi/180.0))\n",
    "rdr7f.close()"
   ]
  },
  {
   "cell_type": "code",
   "execution_count": null,
   "metadata": {
    "collapsed": true
   },
   "outputs": [],
   "source": [
    "r=ascii.read(\"./output/rDR7200kLCsrarf.dat\")"
   ]
  },
  {
   "cell_type": "code",
   "execution_count": null,
   "metadata": {},
   "outputs": [],
   "source": [
    "r"
   ]
  },
  {
   "cell_type": "code",
   "execution_count": null,
   "metadata": {
    "collapsed": true
   },
   "outputs": [],
   "source": [
    "dr7fdat=ascii.read(\"./output/DR7srarf.dat\")"
   ]
  },
  {
   "cell_type": "code",
   "execution_count": null,
   "metadata": {},
   "outputs": [],
   "source": [
    "dr7fdat['s'][1:300]"
   ]
  },
  {
   "cell_type": "code",
   "execution_count": null,
   "metadata": {
    "collapsed": true
   },
   "outputs": [],
   "source": []
  },
  {
   "cell_type": "code",
   "execution_count": null,
   "metadata": {
    "collapsed": true
   },
   "outputs": [],
   "source": []
  },
  {
   "cell_type": "code",
   "execution_count": null,
   "metadata": {
    "collapsed": true
   },
   "outputs": [],
   "source": [
    "#fdata=fits.open(\"/Users/rohin/Downloads/DR7-Full.fits\")"
   ]
  },
  {
   "cell_type": "code",
   "execution_count": null,
   "metadata": {
    "collapsed": true
   },
   "outputs": [],
   "source": [
    "#fdata.writeto(\"./output/DR7fulltrim.fits\")"
   ]
  },
  {
   "cell_type": "code",
   "execution_count": null,
   "metadata": {
    "collapsed": true
   },
   "outputs": [],
   "source": [
    "fdata=fits.open(\"./output/DR7fulltrim.fits\")"
   ]
  },
  {
   "cell_type": "code",
   "execution_count": null,
   "metadata": {
    "collapsed": true
   },
   "outputs": [],
   "source": [
    "cols=fdata[1].columns"
   ]
  },
  {
   "cell_type": "code",
   "execution_count": null,
   "metadata": {},
   "outputs": [],
   "source": [
    "cols.del_col('ZTYPE')"
   ]
  },
  {
   "cell_type": "code",
   "execution_count": null,
   "metadata": {},
   "outputs": [],
   "source": [
    "cols.del_col('SECTOR')\n",
    "cols.del_col('FGOTMAIN')\n",
    "cols.del_col('QUALITY')\n",
    "cols.del_col('ISBAD')\n",
    "cols.del_col('M')\n",
    "cols.del_col('MMAX')\n",
    "cols.del_col('ILSS')\n",
    "cols.del_col('ICOMB')\n",
    "cols.del_col('VAGC_SELECT')\n",
    "cols.del_col('LSS_INDEX')\n",
    "cols.del_col('FIBERWEIGHT')\n",
    "cols.del_col('PRIMTARGET')\n",
    "cols.del_col('MG')\n",
    "cols.del_col('SECTOR_COMPLETENESS')\n",
    "cols.del_col('COMOV_DENSITY')\n",
    "cols.del_col('RADIAL_WEIGHT')"
   ]
  },
  {
   "cell_type": "code",
   "execution_count": null,
   "metadata": {},
   "outputs": [],
   "source": [
    "fdata[1].columns"
   ]
  },
  {
   "cell_type": "code",
   "execution_count": null,
   "metadata": {},
   "outputs": [],
   "source": [
    "fdata.writeto(\"./output/DR7fullzradec.fits\")"
   ]
  },
  {
   "cell_type": "code",
   "execution_count": null,
   "metadata": {
    "collapsed": true
   },
   "outputs": [],
   "source": [
    "fdat=fits.open(\"./output/DR7fullzradec.fits\")"
   ]
  },
  {
   "cell_type": "code",
   "execution_count": null,
   "metadata": {},
   "outputs": [],
   "source": [
    "fdat[1].columns"
   ]
  },
  {
   "cell_type": "code",
   "execution_count": null,
   "metadata": {},
   "outputs": [],
   "source": [
    "fdat[1].data['Z']"
   ]
  },
  {
   "cell_type": "code",
   "execution_count": null,
   "metadata": {},
   "outputs": [],
   "source": [
    "fdat[1].data['RA']"
   ]
  },
  {
   "cell_type": "code",
   "execution_count": null,
   "metadata": {
    "collapsed": true
   },
   "outputs": [],
   "source": []
  },
  {
   "cell_type": "code",
   "execution_count": null,
   "metadata": {
    "collapsed": true
   },
   "outputs": [],
   "source": [
    "comovlcdm=DC_LCDM(fdat[1].data['Z'])"
   ]
  },
  {
   "cell_type": "code",
   "execution_count": null,
   "metadata": {},
   "outputs": [],
   "source": [
    "fdat[1].data['Z']"
   ]
  },
  {
   "cell_type": "code",
   "execution_count": null,
   "metadata": {},
   "outputs": [],
   "source": [
    "comovlcdm"
   ]
  },
  {
   "cell_type": "code",
   "execution_count": null,
   "metadata": {},
   "outputs": [],
   "source": [
    "comovlcdm.dtype"
   ]
  },
  {
   "cell_type": "code",
   "execution_count": null,
   "metadata": {
    "collapsed": true
   },
   "outputs": [],
   "source": [
    "#cols=fdat[1].columns"
   ]
  },
  {
   "cell_type": "code",
   "execution_count": null,
   "metadata": {
    "collapsed": true
   },
   "outputs": [],
   "source": [
    "nc=fits.Column(name='COMOV',format='D',array=comovlcdm)"
   ]
  },
  {
   "cell_type": "code",
   "execution_count": null,
   "metadata": {
    "collapsed": true
   },
   "outputs": [],
   "source": [
    "nc1=fits.Column(name='COMOV',format='D')"
   ]
  },
  {
   "cell_type": "code",
   "execution_count": null,
   "metadata": {},
   "outputs": [],
   "source": [
    "fdata[1].data['Z']"
   ]
  },
  {
   "cell_type": "code",
   "execution_count": null,
   "metadata": {},
   "outputs": [],
   "source": [
    "fdata[1].data['RA']"
   ]
  },
  {
   "cell_type": "code",
   "execution_count": null,
   "metadata": {},
   "outputs": [],
   "source": [
    "nc"
   ]
  },
  {
   "cell_type": "code",
   "execution_count": null,
   "metadata": {},
   "outputs": [],
   "source": [
    "nc.dtype"
   ]
  },
  {
   "cell_type": "code",
   "execution_count": null,
   "metadata": {
    "collapsed": true
   },
   "outputs": [],
   "source": [
    "#cols.add_col(nc)"
   ]
  },
  {
   "cell_type": "code",
   "execution_count": null,
   "metadata": {},
   "outputs": [],
   "source": [
    "fdat[1].columns"
   ]
  },
  {
   "cell_type": "code",
   "execution_count": null,
   "metadata": {},
   "outputs": [],
   "source": [
    "fdat[1].columns.info()"
   ]
  },
  {
   "cell_type": "code",
   "execution_count": null,
   "metadata": {},
   "outputs": [],
   "source": [
    "fdat[1].columns.add_col(nc1)"
   ]
  },
  {
   "cell_type": "code",
   "execution_count": null,
   "metadata": {
    "collapsed": true
   },
   "outputs": [],
   "source": [
    "fdat[1].data['COMOV']=comovlcdm"
   ]
  },
  {
   "cell_type": "code",
   "execution_count": null,
   "metadata": {},
   "outputs": [],
   "source": [
    "comovlcdm"
   ]
  },
  {
   "cell_type": "code",
   "execution_count": null,
   "metadata": {},
   "outputs": [],
   "source": [
    "fdat[1].data['Z']"
   ]
  },
  {
   "cell_type": "code",
   "execution_count": null,
   "metadata": {},
   "outputs": [],
   "source": [
    "fdat[1].data['COMOV']"
   ]
  },
  {
   "cell_type": "code",
   "execution_count": null,
   "metadata": {},
   "outputs": [],
   "source": [
    "fdat[1].data['RA']"
   ]
  },
  {
   "cell_type": "code",
   "execution_count": null,
   "metadata": {
    "collapsed": true
   },
   "outputs": [],
   "source": [
    "fdat[1].data['RA']=fdat[1].data['RA']*pi/180.0"
   ]
  },
  {
   "cell_type": "code",
   "execution_count": null,
   "metadata": {},
   "outputs": [],
   "source": [
    "comovlcdm=DC_LCDM(fdat[1].data['Z'])\n",
    "comovlcdm"
   ]
  },
  {
   "cell_type": "code",
   "execution_count": null,
   "metadata": {
    "collapsed": true
   },
   "outputs": [],
   "source": []
  },
  {
   "cell_type": "code",
   "execution_count": null,
   "metadata": {
    "collapsed": true
   },
   "outputs": [],
   "source": []
  },
  {
   "cell_type": "markdown",
   "metadata": {},
   "source": [
    "Random catalog created based on the survey limitations also taken from http://cosmo.nyu.edu/~eak306/SDSS-LRG.html"
   ]
  },
  {
   "cell_type": "code",
   "execution_count": null,
   "metadata": {
    "collapsed": true
   },
   "outputs": [],
   "source": [
    "dataR=fits.open(\"/Users/rohin/Downloads/random-DR7-Full.fits\")"
   ]
  },
  {
   "cell_type": "code",
   "execution_count": null,
   "metadata": {},
   "outputs": [],
   "source": [
    "dataR"
   ]
  },
  {
   "cell_type": "code",
   "execution_count": null,
   "metadata": {
    "collapsed": true
   },
   "outputs": [],
   "source": [
    "dataR=dataR[1].data"
   ]
  },
  {
   "cell_type": "code",
   "execution_count": null,
   "metadata": {},
   "outputs": [],
   "source": [
    "len(dataR)"
   ]
  },
  {
   "cell_type": "code",
   "execution_count": null,
   "metadata": {
    "collapsed": true
   },
   "outputs": [],
   "source": [
    "NSIDE=512\n",
    "dr72hpix=hu.HealPix(\"ring\",NSIDE)"
   ]
  },
  {
   "cell_type": "code",
   "execution_count": null,
   "metadata": {
    "collapsed": true
   },
   "outputs": [],
   "source": [
    "pixdata = open(\"./output/pixdatadr72VAGCfullrand.dat\",'w')\n",
    "pixdata.write(\"z\\t pix \\n\")\n",
    "\n",
    "for i in range(0,len(data)-1):\n",
    "    pixdata.write(\"%f\\t\" %data['z'][i])\n",
    "    pixdata.write(\"%d\\n\" %dr72hpix.eq2pix(dataR['ra'][i],dataR['dec'][i]))\n",
    "pixdata.close()"
   ]
  },
  {
   "cell_type": "code",
   "execution_count": null,
   "metadata": {
    "collapsed": true
   },
   "outputs": [],
   "source": [
    "pixdata = ascii.read(\"./output/pixdatadr72VAGCfullrand.dat\")\n",
    "hpixdata=np.array(np.zeros(hu.nside2npix(NSIDE)))\n",
    "for j in range(len(pixdata)):\n",
    "    hpixdata[pixdata[j]['pix']]+=1"
   ]
  },
  {
   "cell_type": "code",
   "execution_count": null,
   "metadata": {},
   "outputs": [],
   "source": [
    "hpixdata"
   ]
  },
  {
   "cell_type": "code",
   "execution_count": null,
   "metadata": {},
   "outputs": [],
   "source": [
    "hu.mollview(hpixdata,rot=180)"
   ]
  },
  {
   "cell_type": "code",
   "execution_count": null,
   "metadata": {},
   "outputs": [],
   "source": [
    "hu.orthview(hpixdata)"
   ]
  }
 ],
 "metadata": {
  "kernelspec": {
   "display_name": "Python 2",
   "language": "python",
   "name": "python2"
  },
  "language_info": {
   "codemirror_mode": {
    "name": "ipython",
    "version": 2
   },
   "file_extension": ".py",
   "mimetype": "text/x-python",
   "name": "python",
   "nbconvert_exporter": "python",
   "pygments_lexer": "ipython2",
   "version": "2.7.13"
  }
 },
 "nbformat": 4,
 "nbformat_minor": 1
}
