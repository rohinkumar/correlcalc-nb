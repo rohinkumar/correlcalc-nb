{
 "cells": [
  {
   "cell_type": "markdown",
   "metadata": {},
   "source": [
    "# Correlation function of DR72 SDSS VAGC Catalog"
   ]
  },
  {
   "cell_type": "markdown",
   "metadata": {},
   "source": [
    "First import all the modules such as healpy and astropy needed for analyzing the structure"
   ]
  },
  {
   "cell_type": "code",
   "execution_count": 1,
   "metadata": {
    "collapsed": true
   },
   "outputs": [],
   "source": [
    "import healpix_util as hu\n",
    "import astropy as ap\n",
    "import numpy as np\n",
    "from astropy.io import fits\n",
    "from astropy.table import Table\n",
    "import astropy.io.ascii as ascii\n",
    "from astropy.io import fits\n",
    "from astropy.constants import c\n",
    "import matplotlib.pyplot as plt\n",
    "import math as m\n",
    "from math import pi\n",
    "import scipy.special as sp\n",
    "from scipy import integrate\n",
    "import warnings\n",
    "from sklearn.neighbors import BallTree\n",
    "import pickle\n",
    "import pymangle\n",
    "%matplotlib inline"
   ]
  },
  {
   "cell_type": "code",
   "execution_count": 2,
   "metadata": {},
   "outputs": [
    {
     "data": {
      "text/html": [
       "&lt;Table length=105831&gt;\n",
       "<table id=\"table4827935248\" class=\"table-striped table-bordered table-condensed\">\n",
       "<thead><tr><th>col1</th><th>col2</th><th>col3</th><th>col4</th><th>col5</th><th>col6</th><th>col7</th><th>col8</th><th>col9</th><th>col10</th><th>col11</th><th>col12</th></tr></thead>\n",
       "<thead><tr><th>float64</th><th>float64</th><th>float64</th><th>float64</th><th>float64</th><th>float64</th><th>float64</th><th>float64</th><th>float64</th><th>int64</th><th>int64</th><th>int64</th></tr></thead>\n",
       "<tr><td>56.1604523761</td><td>-0.221359772462</td><td>0.4501842</td><td>-22.0970516205</td><td>0.9943343</td><td>0.310859</td><td>1.7112147</td><td>1.0</td><td>0.9901478</td><td>32763</td><td>33480</td><td>784</td></tr>\n",
       "<tr><td>58.247844859</td><td>0.216329004672</td><td>0.3671646</td><td>-21.8688602448</td><td>0.9533011</td><td>0.7922078</td><td>0.9208817</td><td>1.0</td><td>0.9506173</td><td>303471</td><td>311902</td><td>3790</td></tr>\n",
       "<tr><td>54.445380928</td><td>0.619974218725</td><td>0.4133244</td><td>-21.7306137085</td><td>1.0</td><td>0.4315305</td><td>1.4082278</td><td>1.0</td><td>0.9183673</td><td>43630</td><td>44552</td><td>779</td></tr>\n",
       "<tr><td>54.4879828915</td><td>0.485825651457</td><td>0.3224697</td><td>-21.8775806427</td><td>1.0</td><td>0.9240486</td><td>0.8174705</td><td>1.0</td><td>0.9183673</td><td>43622</td><td>44544</td><td>779</td></tr>\n",
       "<tr><td>54.4932987631</td><td>0.483249792951</td><td>0.3226457</td><td>-21.6763000488</td><td>1.0</td><td>0.9249313</td><td>0.8168564</td><td>1.0</td><td>0.9183673</td><td>43622</td><td>44544</td><td>779</td></tr>\n",
       "<tr><td>55.5558858448</td><td>0.582441686132</td><td>0.2334688</td><td>-21.5131568909</td><td>0.9943343</td><td>1.0009493</td><td>0.7672175</td><td>1.0</td><td>0.9901478</td><td>43723</td><td>44650</td><td>784</td></tr>\n",
       "<tr><td>55.5686146471</td><td>0.608277412471</td><td>0.3136448</td><td>-21.5073776245</td><td>0.9943343</td><td>0.8425107</td><td>0.8784812</td><td>1.0</td><td>0.9901478</td><td>43727</td><td>44654</td><td>784</td></tr>\n",
       "<tr><td>55.5972002797</td><td>0.434026434704</td><td>0.3517163</td><td>-21.5829257965</td><td>0.9943343</td><td>0.8903325</td><td>0.8416406</td><td>1.0</td><td>0.9901478</td><td>43731</td><td>44658</td><td>784</td></tr>\n",
       "<tr><td>55.7617273511</td><td>0.495315330472</td><td>0.403208</td><td>-21.3501148224</td><td>0.9943343</td><td>0.4957986</td><td>1.2868758</td><td>1.0</td><td>0.9901478</td><td>43740</td><td>44667</td><td>784</td></tr>\n",
       "<tr><td>55.8125115924</td><td>0.521042073319</td><td>0.3769101</td><td>-21.6775398254</td><td>0.9943343</td><td>0.6858334</td><td>1.0255566</td><td>1.0</td><td>0.9901478</td><td>43740</td><td>44667</td><td>784</td></tr>\n",
       "<tr><td>...</td><td>...</td><td>...</td><td>...</td><td>...</td><td>...</td><td>...</td><td>...</td><td>...</td><td>...</td><td>...</td><td>...</td></tr>\n",
       "<tr><td>162.204837648</td><td>9.136054829</td><td>0.2285027</td><td>-21.6524200439</td><td>0.8557692</td><td>1.0650909</td><td>0.7297975</td><td>1.0</td><td>0.9716312</td><td>633991</td><td>650894</td><td>3789</td></tr>\n",
       "<tr><td>162.407014385</td><td>9.24223618476</td><td>0.2233595</td><td>-21.6275596619</td><td>0.8557692</td><td>1.0816779</td><td>0.7207074</td><td>1.0</td><td>0.9716312</td><td>633995</td><td>650898</td><td>3789</td></tr>\n",
       "<tr><td>162.631596919</td><td>9.11224932272</td><td>0.3507926</td><td>-21.7870635986</td><td>0.8557692</td><td>0.8983272</td><td>0.835781</td><td>1.0</td><td>0.9716312</td><td>633997</td><td>650900</td><td>3789</td></tr>\n",
       "<tr><td>162.792857827</td><td>9.06585769142</td><td>0.2211935</td><td>-22.1479187012</td><td>0.9936034</td><td>1.0758724</td><td>0.7238631</td><td>2.0</td><td>0.9100257</td><td>634001</td><td>650905</td><td>8537</td></tr>\n",
       "<tr><td>162.752716952</td><td>9.23526068256</td><td>0.3132616</td><td>-21.6552429199</td><td>0.8557692</td><td>0.8386317</td><td>0.8816114</td><td>1.0</td><td>0.9716312</td><td>634000</td><td>650903</td><td>3789</td></tr>\n",
       "<tr><td>162.013077975</td><td>9.58703483653</td><td>0.2450086</td><td>-21.6949653625</td><td>0.9907407</td><td>0.9167792</td><td>0.8225636</td><td>1.0</td><td>0.8892989</td><td>323046</td><td>331902</td><td>3787</td></tr>\n",
       "<tr><td>162.142350287</td><td>9.94163874778</td><td>0.3369665</td><td>-21.4902000427</td><td>0.6296296</td><td>1.0071049</td><td>0.7634606</td><td>1.0</td><td>0.8181818</td><td>634079</td><td>650985</td><td>3788</td></tr>\n",
       "<tr><td>162.160914924</td><td>9.86128115397</td><td>0.3681125</td><td>-21.9206676483</td><td>0.6296296</td><td>0.7820635</td><td>0.9299332</td><td>1.0</td><td>0.8181818</td><td>634079</td><td>650985</td><td>3788</td></tr>\n",
       "<tr><td>162.249397448</td><td>9.95005411419</td><td>0.2213098</td><td>-21.5619354248</td><td>0.8557692</td><td>1.0762938</td><td>0.7236331</td><td>1.0</td><td>0.9716312</td><td>634081</td><td>650987</td><td>3789</td></tr>\n",
       "<tr><td>162.61877369</td><td>9.9153390136</td><td>0.3470703</td><td>-21.6079502106</td><td>0.8557692</td><td>0.947932</td><td>0.8011724</td><td>1.0</td><td>0.9716312</td><td>634087</td><td>650993</td><td>3789</td></tr>\n",
       "</table>"
      ],
      "text/plain": [
       "<Table length=105831>\n",
       "     col1           col2         col3        col4      ... col10  col11  col12\n",
       "   float64        float64      float64     float64     ... int64  int64  int64\n",
       "------------- --------------- --------- -------------- ... ------ ------ -----\n",
       "56.1604523761 -0.221359772462 0.4501842 -22.0970516205 ...  32763  33480   784\n",
       " 58.247844859  0.216329004672 0.3671646 -21.8688602448 ... 303471 311902  3790\n",
       " 54.445380928  0.619974218725 0.4133244 -21.7306137085 ...  43630  44552   779\n",
       "54.4879828915  0.485825651457 0.3224697 -21.8775806427 ...  43622  44544   779\n",
       "54.4932987631  0.483249792951 0.3226457 -21.6763000488 ...  43622  44544   779\n",
       "55.5558858448  0.582441686132 0.2334688 -21.5131568909 ...  43723  44650   784\n",
       "55.5686146471  0.608277412471 0.3136448 -21.5073776245 ...  43727  44654   784\n",
       "55.5972002797  0.434026434704 0.3517163 -21.5829257965 ...  43731  44658   784\n",
       "55.7617273511  0.495315330472  0.403208 -21.3501148224 ...  43740  44667   784\n",
       "55.8125115924  0.521042073319 0.3769101 -21.6775398254 ...  43740  44667   784\n",
       "          ...             ...       ...            ... ...    ...    ...   ...\n",
       "162.204837648     9.136054829 0.2285027 -21.6524200439 ... 633991 650894  3789\n",
       "162.407014385   9.24223618476 0.2233595 -21.6275596619 ... 633995 650898  3789\n",
       "162.631596919   9.11224932272 0.3507926 -21.7870635986 ... 633997 650900  3789\n",
       "162.792857827   9.06585769142 0.2211935 -22.1479187012 ... 634001 650905  8537\n",
       "162.752716952   9.23526068256 0.3132616 -21.6552429199 ... 634000 650903  3789\n",
       "162.013077975   9.58703483653 0.2450086 -21.6949653625 ... 323046 331902  3787\n",
       "162.142350287   9.94163874778 0.3369665 -21.4902000427 ... 634079 650985  3788\n",
       "162.160914924   9.86128115397 0.3681125 -21.9206676483 ... 634079 650985  3788\n",
       "162.249397448   9.95005411419 0.2213098 -21.5619354248 ... 634081 650987  3789\n",
       " 162.61877369    9.9153390136 0.3470703 -21.6079502106 ... 634087 650993  3789"
      ]
     },
     "execution_count": 2,
     "metadata": {},
     "output_type": "execute_result"
    }
   ],
   "source": [
    "dr7full=ascii.read(\"./input/DR7-Full.ascii\")\n",
    "dr7full"
   ]
  },
  {
   "cell_type": "code",
   "execution_count": 10,
   "metadata": {
    "collapsed": true
   },
   "outputs": [],
   "source": [
    "z=dr7full['col3']\n",
    "rad=dr7full['col1']\n",
    "decd=dr7full['col2']"
   ]
  },
  {
   "cell_type": "code",
   "execution_count": 7,
   "metadata": {},
   "outputs": [
    {
     "data": {
      "text/plain": [
       "<numpy.lib.function_base.vectorize at 0x11a74fa10>"
      ]
     },
     "execution_count": 7,
     "metadata": {},
     "output_type": "execute_result"
    }
   ],
   "source": [
    "#Ez = lambda x: 1.0/m.sqrt(0.3*(1+x)**3+0.7)\n",
    "Om=0.3\n",
    "Ol=0.7\n",
    "Ok=0.0\n",
    "def Ez(zv):\n",
    "    return 1.0/m.sqrt(Om*(1.0+zv)**3+Ok*(1.0+zv)**2+Ol)\n",
    "\n",
    "np.vectorize(Ez)\n",
    "#Calculate comoving distance of a data point using the Redshift - This definition is based on the cosmology model we take. Here the distance for E-dS universe is considered. Also note that c/H0 ratio is cancelled in the equations and hence not taken."
   ]
  },
  {
   "cell_type": "code",
   "execution_count": 8,
   "metadata": {},
   "outputs": [],
   "source": [
    "def DC_LCDM(z):\n",
    "  return integrate.quad(Ez, 0, z)[0]\n",
    "DC_LCDM=np.vectorize(DC_LCDM)"
   ]
  },
  {
   "cell_type": "code",
   "execution_count": 9,
   "metadata": {},
   "outputs": [
    {
     "data": {
      "text/plain": [
       "array(1.20947120427111)"
      ]
     },
     "execution_count": 9,
     "metadata": {},
     "output_type": "execute_result"
    }
   ],
   "source": [
    "DC_LCDM(2.0)"
   ]
  },
  {
   "cell_type": "code",
   "execution_count": 11,
   "metadata": {
    "collapsed": true
   },
   "outputs": [
    {
     "data": {
      "text/html": [
       "&lt;Column name=&apos;col3&apos; dtype=&apos;float64&apos; length=105831&gt;\n",
       "<table>\n",
       "<tr><td>0.402352474282</td></tr>\n",
       "<tr><td>0.335419291795</td></tr>\n",
       "<tr><td>0.373032638536</td></tr>\n",
       "<tr><td>0.298038494099</td></tr>\n",
       "<tr><td>0.298187560536</td></tr>\n",
       "<tr><td>0.220751783751</td></tr>\n",
       "<tr><td>0.290545079047</td></tr>\n",
       "<tr><td>0.322606521262</td></tr>\n",
       "<tr><td>0.364874955446</td></tr>\n",
       "<tr><td>0.343444015506</td></tr>\n",
       "<tr><td>0.162121950353</td></tr>\n",
       "<tr><td>0.280302787153</td></tr>\n",
       "<tr><td>...</td></tr>\n",
       "<tr><td>0.210029801067</td></tr>\n",
       "<tr><td>0.210315206382</td></tr>\n",
       "<tr><td>0.216326933769</td></tr>\n",
       "<tr><td>0.211731746049</td></tr>\n",
       "<tr><td>0.321836817232</td></tr>\n",
       "<tr><td>0.209792717115</td></tr>\n",
       "<tr><td>0.290218850925</td></tr>\n",
       "<tr><td>0.230987936297</td></tr>\n",
       "<tr><td>0.310267227869</td></tr>\n",
       "<tr><td>0.33620179252</td></tr>\n",
       "<tr><td>0.209896887743</td></tr>\n",
       "<tr><td>0.318730973702</td></tr>\n",
       "</table>"
      ],
      "text/plain": [
       "<Column name='col3' dtype='float64' length=105831>\n",
       "0.402352474282\n",
       "0.335419291795\n",
       "0.373032638536\n",
       "0.298038494099\n",
       "0.298187560536\n",
       "0.220751783751\n",
       "0.290545079047\n",
       "0.322606521262\n",
       "0.364874955446\n",
       "0.343444015506\n",
       "0.162121950353\n",
       "0.280302787153\n",
       "           ...\n",
       "0.210029801067\n",
       "0.210315206382\n",
       "0.216326933769\n",
       "0.211731746049\n",
       "0.321836817232\n",
       "0.209792717115\n",
       "0.290218850925\n",
       "0.230987936297\n",
       "0.310267227869\n",
       " 0.33620179252\n",
       "0.209896887743\n",
       "0.318730973702"
      ]
     },
     "execution_count": 11,
     "metadata": {},
     "output_type": "execute_result"
    }
   ],
   "source": [
    "DC=DC_LCDM(z)\n",
    "DC"
   ]
  },
  {
   "cell_type": "code",
   "execution_count": 12,
   "metadata": {
    "collapsed": true
   },
   "outputs": [],
   "source": [
    "dr7f = open(\"./output/DR72srarf.dat\",'w')\n",
    "dr7f.write(\"z\\t ra\\t dec\\t s\\t rar\\t decr \\n\")\n",
    "\n",
    "for i in range(0,len(dr7full)):\n",
    "    dr7f.write(\"%f\\t \" %z[i])\n",
    "    dr7f.write(\"%f\\t %f\\t \" %(rad[i],decd[i]))\n",
    "    dr7f.write(\"%f\\t \" %DC[i])\n",
    "    dr7f.write(\"%f\\t %f\\n \" %(rad[i]*pi/180.0,decd[i]*pi/180.0))\n",
    "dr7f.close()"
   ]
  },
  {
   "cell_type": "code",
   "execution_count": 14,
   "metadata": {},
   "outputs": [],
   "source": [
    "data=ascii.read(\"./output/DR72srarf.dat\")"
   ]
  },
  {
   "cell_type": "code",
   "execution_count": 3,
   "metadata": {
    "collapsed": true
   },
   "outputs": [
    {
     "data": {
      "text/html": [
       "&lt;Column name=&apos;z&apos; dtype=&apos;float64&apos; length=105830&gt;\n",
       "<table>\n",
       "<tr><td>0.450184</td></tr>\n",
       "<tr><td>0.367165</td></tr>\n",
       "<tr><td>0.413324</td></tr>\n",
       "<tr><td>0.32247</td></tr>\n",
       "<tr><td>0.322646</td></tr>\n",
       "<tr><td>0.233469</td></tr>\n",
       "<tr><td>0.313645</td></tr>\n",
       "<tr><td>0.351716</td></tr>\n",
       "<tr><td>0.403208</td></tr>\n",
       "<tr><td>0.37691</td></tr>\n",
       "<tr><td>0.168714</td></tr>\n",
       "<tr><td>0.301653</td></tr>\n",
       "<tr><td>...</td></tr>\n",
       "<tr><td>0.337605</td></tr>\n",
       "<tr><td>0.221458</td></tr>\n",
       "<tr><td>0.221777</td></tr>\n",
       "<tr><td>0.228503</td></tr>\n",
       "<tr><td>0.223359</td></tr>\n",
       "<tr><td>0.350793</td></tr>\n",
       "<tr><td>0.221194</td></tr>\n",
       "<tr><td>0.313262</td></tr>\n",
       "<tr><td>0.245009</td></tr>\n",
       "<tr><td>0.336967</td></tr>\n",
       "<tr><td>0.368113</td></tr>\n",
       "<tr><td>0.22131</td></tr>\n",
       "</table>"
      ],
      "text/plain": [
       "<Column name='z' dtype='float64' length=105830>\n",
       "0.450184\n",
       "0.367165\n",
       "0.413324\n",
       " 0.32247\n",
       "0.322646\n",
       "0.233469\n",
       "0.313645\n",
       "0.351716\n",
       "0.403208\n",
       " 0.37691\n",
       "0.168714\n",
       "0.301653\n",
       "     ...\n",
       "0.337605\n",
       "0.221458\n",
       "0.221777\n",
       "0.228503\n",
       "0.223359\n",
       "0.350793\n",
       "0.221194\n",
       "0.313262\n",
       "0.245009\n",
       "0.336967\n",
       "0.368113\n",
       " 0.22131"
      ]
     },
     "execution_count": 3,
     "metadata": {},
     "output_type": "execute_result"
    }
   ],
   "source": [
    "data['z']"
   ]
  },
  {
   "cell_type": "code",
   "execution_count": 4,
   "metadata": {
    "collapsed": true
   },
   "outputs": [
    {
     "data": {
      "text/html": [
       "&lt;Column name=&apos;ra&apos; dtype=&apos;float64&apos; length=105830&gt;\n",
       "<table>\n",
       "<tr><td>56.160452</td></tr>\n",
       "<tr><td>58.247845</td></tr>\n",
       "<tr><td>54.445381</td></tr>\n",
       "<tr><td>54.487983</td></tr>\n",
       "<tr><td>54.493299</td></tr>\n",
       "<tr><td>55.555886</td></tr>\n",
       "<tr><td>55.568615</td></tr>\n",
       "<tr><td>55.5972</td></tr>\n",
       "<tr><td>55.761727</td></tr>\n",
       "<tr><td>55.812512</td></tr>\n",
       "<tr><td>55.870851</td></tr>\n",
       "<tr><td>55.925338</td></tr>\n",
       "<tr><td>...</td></tr>\n",
       "<tr><td>161.933599</td></tr>\n",
       "<tr><td>162.082142</td></tr>\n",
       "<tr><td>162.115407</td></tr>\n",
       "<tr><td>162.204838</td></tr>\n",
       "<tr><td>162.407014</td></tr>\n",
       "<tr><td>162.631597</td></tr>\n",
       "<tr><td>162.792858</td></tr>\n",
       "<tr><td>162.752717</td></tr>\n",
       "<tr><td>162.013078</td></tr>\n",
       "<tr><td>162.14235</td></tr>\n",
       "<tr><td>162.160915</td></tr>\n",
       "<tr><td>162.249397</td></tr>\n",
       "</table>"
      ],
      "text/plain": [
       "<Column name='ra' dtype='float64' length=105830>\n",
       " 56.160452\n",
       " 58.247845\n",
       " 54.445381\n",
       " 54.487983\n",
       " 54.493299\n",
       " 55.555886\n",
       " 55.568615\n",
       "   55.5972\n",
       " 55.761727\n",
       " 55.812512\n",
       " 55.870851\n",
       " 55.925338\n",
       "       ...\n",
       "161.933599\n",
       "162.082142\n",
       "162.115407\n",
       "162.204838\n",
       "162.407014\n",
       "162.631597\n",
       "162.792858\n",
       "162.752717\n",
       "162.013078\n",
       " 162.14235\n",
       "162.160915\n",
       "162.249397"
      ]
     },
     "execution_count": 4,
     "metadata": {},
     "output_type": "execute_result"
    }
   ],
   "source": [
    "data['ra']"
   ]
  },
  {
   "cell_type": "code",
   "execution_count": 5,
   "metadata": {
    "collapsed": true
   },
   "outputs": [
    {
     "data": {
      "text/html": [
       "&lt;Column name=&apos;dec&apos; dtype=&apos;float64&apos; length=105830&gt;\n",
       "<table>\n",
       "<tr><td>-0.22136</td></tr>\n",
       "<tr><td>0.216329</td></tr>\n",
       "<tr><td>0.619974</td></tr>\n",
       "<tr><td>0.485826</td></tr>\n",
       "<tr><td>0.48325</td></tr>\n",
       "<tr><td>0.582442</td></tr>\n",
       "<tr><td>0.608277</td></tr>\n",
       "<tr><td>0.434026</td></tr>\n",
       "<tr><td>0.495315</td></tr>\n",
       "<tr><td>0.521042</td></tr>\n",
       "<tr><td>0.4937</td></tr>\n",
       "<tr><td>0.484473</td></tr>\n",
       "<tr><td>...</td></tr>\n",
       "<tr><td>9.09877</td></tr>\n",
       "<tr><td>9.124882</td></tr>\n",
       "<tr><td>9.12498</td></tr>\n",
       "<tr><td>9.136055</td></tr>\n",
       "<tr><td>9.242236</td></tr>\n",
       "<tr><td>9.112249</td></tr>\n",
       "<tr><td>9.065858</td></tr>\n",
       "<tr><td>9.235261</td></tr>\n",
       "<tr><td>9.587035</td></tr>\n",
       "<tr><td>9.941639</td></tr>\n",
       "<tr><td>9.861281</td></tr>\n",
       "<tr><td>9.950054</td></tr>\n",
       "</table>"
      ],
      "text/plain": [
       "<Column name='dec' dtype='float64' length=105830>\n",
       "-0.22136\n",
       "0.216329\n",
       "0.619974\n",
       "0.485826\n",
       " 0.48325\n",
       "0.582442\n",
       "0.608277\n",
       "0.434026\n",
       "0.495315\n",
       "0.521042\n",
       "  0.4937\n",
       "0.484473\n",
       "     ...\n",
       " 9.09877\n",
       "9.124882\n",
       " 9.12498\n",
       "9.136055\n",
       "9.242236\n",
       "9.112249\n",
       "9.065858\n",
       "9.235261\n",
       "9.587035\n",
       "9.941639\n",
       "9.861281\n",
       "9.950054"
      ]
     },
     "execution_count": 5,
     "metadata": {},
     "output_type": "execute_result"
    }
   ],
   "source": [
    "data['dec']"
   ]
  },
  {
   "cell_type": "code",
   "execution_count": 6,
   "metadata": {
    "collapsed": true
   },
   "outputs": [],
   "source": [
    "def DC_LC(z):\n",
    "    return np.log(1+z)"
   ]
  },
  {
   "cell_type": "code",
   "execution_count": 7,
   "metadata": {
    "collapsed": true
   },
   "outputs": [],
   "source": [
    "DCLC=DC_LC(data['z'])"
   ]
  },
  {
   "cell_type": "code",
   "execution_count": 8,
   "metadata": {
    "collapsed": true
   },
   "outputs": [
    {
     "data": {
      "text/html": [
       "&lt;Column name=&apos;z&apos; dtype=&apos;float64&apos; length=105830&gt;\n",
       "<table>\n",
       "<tr><td>0.371690444934</td></tr>\n",
       "<tr><td>0.312739252726</td></tr>\n",
       "<tr><td>0.34594437678</td></tr>\n",
       "<tr><td>0.279501200183</td></tr>\n",
       "<tr><td>0.279634275632</td></tr>\n",
       "<tr><td>0.209830524933</td></tr>\n",
       "<tr><td>0.272805716133</td></tr>\n",
       "<tr><td>0.301374896384</td></tr>\n",
       "<tr><td>0.338761043874</td></tr>\n",
       "<tr><td>0.319841858133</td></tr>\n",
       "<tr><td>0.155903999007</td></tr>\n",
       "<tr><td>0.263634995209</td></tr>\n",
       "<tr><td>...</td></tr>\n",
       "<tr><td>0.29088070138</td></tr>\n",
       "<tr><td>0.20004522717</td></tr>\n",
       "<tr><td>0.200306356371</td></tr>\n",
       "<tr><td>0.205796354979</td></tr>\n",
       "<tr><td>0.201600354105</td></tr>\n",
       "<tr><td>0.300691827402</td></tr>\n",
       "<tr><td>0.199829068666</td></tr>\n",
       "<tr><td>0.272514118446</td></tr>\n",
       "<tr><td>0.219142758806</td></tr>\n",
       "<tr><td>0.290403615691</td></tr>\n",
       "<tr><td>0.313432418128</td></tr>\n",
       "<tr><td>0.199924053158</td></tr>\n",
       "</table>"
      ],
      "text/plain": [
       "<Column name='z' dtype='float64' length=105830>\n",
       "0.371690444934\n",
       "0.312739252726\n",
       " 0.34594437678\n",
       "0.279501200183\n",
       "0.279634275632\n",
       "0.209830524933\n",
       "0.272805716133\n",
       "0.301374896384\n",
       "0.338761043874\n",
       "0.319841858133\n",
       "0.155903999007\n",
       "0.263634995209\n",
       "           ...\n",
       " 0.29088070138\n",
       " 0.20004522717\n",
       "0.200306356371\n",
       "0.205796354979\n",
       "0.201600354105\n",
       "0.300691827402\n",
       "0.199829068666\n",
       "0.272514118446\n",
       "0.219142758806\n",
       "0.290403615691\n",
       "0.313432418128\n",
       "0.199924053158"
      ]
     },
     "execution_count": 8,
     "metadata": {},
     "output_type": "execute_result"
    }
   ],
   "source": [
    "DCLC"
   ]
  },
  {
   "cell_type": "code",
   "execution_count": 10,
   "metadata": {
    "collapsed": true
   },
   "outputs": [],
   "source": [
    "d=ascii.read(\"./output/DR72LCsrarf.dat\")"
   ]
  },
  {
   "cell_type": "code",
   "execution_count": 11,
   "metadata": {},
   "outputs": [
    {
     "data": {
      "text/html": [
       "&lt;Table length=105830&gt;\n",
       "<table id=\"table4574284496\" class=\"table-striped table-bordered table-condensed\">\n",
       "<thead><tr><th>z</th><th>ra</th><th>dec</th><th>s</th><th>rar</th><th>decr</th></tr></thead>\n",
       "<thead><tr><th>float64</th><th>float64</th><th>float64</th><th>float64</th><th>float64</th><th>float64</th></tr></thead>\n",
       "<tr><td>0.450184</td><td>56.160452</td><td>-0.22136</td><td>0.37169</td><td>0.980185</td><td>-0.003863</td></tr>\n",
       "<tr><td>0.367165</td><td>58.247845</td><td>0.216329</td><td>0.312739</td><td>1.016617</td><td>0.003776</td></tr>\n",
       "<tr><td>0.413324</td><td>54.445381</td><td>0.619974</td><td>0.345944</td><td>0.950251</td><td>0.010821</td></tr>\n",
       "<tr><td>0.32247</td><td>54.487983</td><td>0.485826</td><td>0.279501</td><td>0.950995</td><td>0.008479</td></tr>\n",
       "<tr><td>0.322646</td><td>54.493299</td><td>0.48325</td><td>0.279634</td><td>0.951087</td><td>0.008434</td></tr>\n",
       "<tr><td>0.233469</td><td>55.555886</td><td>0.582442</td><td>0.209831</td><td>0.969633</td><td>0.010166</td></tr>\n",
       "<tr><td>0.313645</td><td>55.568615</td><td>0.608277</td><td>0.272806</td><td>0.969855</td><td>0.010616</td></tr>\n",
       "<tr><td>0.351716</td><td>55.5972</td><td>0.434026</td><td>0.301375</td><td>0.970354</td><td>0.007575</td></tr>\n",
       "<tr><td>0.403208</td><td>55.761727</td><td>0.495315</td><td>0.338761</td><td>0.973226</td><td>0.008645</td></tr>\n",
       "<tr><td>0.37691</td><td>55.812512</td><td>0.521042</td><td>0.319842</td><td>0.974112</td><td>0.009094</td></tr>\n",
       "<tr><td>...</td><td>...</td><td>...</td><td>...</td><td>...</td><td>...</td></tr>\n",
       "<tr><td>0.221777</td><td>162.115407</td><td>9.12498</td><td>0.200306</td><td>2.829448</td><td>0.159261</td></tr>\n",
       "<tr><td>0.228503</td><td>162.204838</td><td>9.136055</td><td>0.205796</td><td>2.831008</td><td>0.159454</td></tr>\n",
       "<tr><td>0.223359</td><td>162.407014</td><td>9.242236</td><td>0.2016</td><td>2.834537</td><td>0.161307</td></tr>\n",
       "<tr><td>0.350793</td><td>162.631597</td><td>9.112249</td><td>0.300692</td><td>2.838457</td><td>0.159039</td></tr>\n",
       "<tr><td>0.221194</td><td>162.792858</td><td>9.065858</td><td>0.199829</td><td>2.841271</td><td>0.158229</td></tr>\n",
       "<tr><td>0.313262</td><td>162.752717</td><td>9.235261</td><td>0.272514</td><td>2.840571</td><td>0.161186</td></tr>\n",
       "<tr><td>0.245009</td><td>162.013078</td><td>9.587035</td><td>0.219143</td><td>2.827662</td><td>0.167325</td></tr>\n",
       "<tr><td>0.336967</td><td>162.14235</td><td>9.941639</td><td>0.290404</td><td>2.829918</td><td>0.173514</td></tr>\n",
       "<tr><td>0.368113</td><td>162.160915</td><td>9.861281</td><td>0.313432</td><td>2.830242</td><td>0.172112</td></tr>\n",
       "<tr><td>0.22131</td><td>162.249397</td><td>9.950054</td><td>0.199924</td><td>2.831786</td><td>0.173661</td></tr>\n",
       "</table>"
      ],
      "text/plain": [
       "<Table length=105830>\n",
       "   z         ra       dec       s       rar       decr  \n",
       "float64   float64   float64  float64  float64   float64 \n",
       "-------- ---------- -------- -------- -------- ---------\n",
       "0.450184  56.160452 -0.22136  0.37169 0.980185 -0.003863\n",
       "0.367165  58.247845 0.216329 0.312739 1.016617  0.003776\n",
       "0.413324  54.445381 0.619974 0.345944 0.950251  0.010821\n",
       " 0.32247  54.487983 0.485826 0.279501 0.950995  0.008479\n",
       "0.322646  54.493299  0.48325 0.279634 0.951087  0.008434\n",
       "0.233469  55.555886 0.582442 0.209831 0.969633  0.010166\n",
       "0.313645  55.568615 0.608277 0.272806 0.969855  0.010616\n",
       "0.351716    55.5972 0.434026 0.301375 0.970354  0.007575\n",
       "0.403208  55.761727 0.495315 0.338761 0.973226  0.008645\n",
       " 0.37691  55.812512 0.521042 0.319842 0.974112  0.009094\n",
       "     ...        ...      ...      ...      ...       ...\n",
       "0.221777 162.115407  9.12498 0.200306 2.829448  0.159261\n",
       "0.228503 162.204838 9.136055 0.205796 2.831008  0.159454\n",
       "0.223359 162.407014 9.242236   0.2016 2.834537  0.161307\n",
       "0.350793 162.631597 9.112249 0.300692 2.838457  0.159039\n",
       "0.221194 162.792858 9.065858 0.199829 2.841271  0.158229\n",
       "0.313262 162.752717 9.235261 0.272514 2.840571  0.161186\n",
       "0.245009 162.013078 9.587035 0.219143 2.827662  0.167325\n",
       "0.336967  162.14235 9.941639 0.290404 2.829918  0.173514\n",
       "0.368113 162.160915 9.861281 0.313432 2.830242  0.172112\n",
       " 0.22131 162.249397 9.950054 0.199924 2.831786  0.173661"
      ]
     },
     "execution_count": 11,
     "metadata": {},
     "output_type": "execute_result"
    }
   ],
   "source": [
    "d"
   ]
  },
  {
   "cell_type": "code",
   "execution_count": 12,
   "metadata": {
    "collapsed": true
   },
   "outputs": [],
   "source": [
    "dataR=ascii.read(\"./output/rand200kdr72.dat\")"
   ]
  },
  {
   "cell_type": "code",
   "execution_count": 13,
   "metadata": {
    "collapsed": true
   },
   "outputs": [
    {
     "data": {
      "text/html": [
       "&lt;Column name=&apos;z&apos; dtype=&apos;float64&apos; length=211661&gt;\n",
       "<table>\n",
       "<tr><td>0.450184</td></tr>\n",
       "<tr><td>0.367165</td></tr>\n",
       "<tr><td>0.413324</td></tr>\n",
       "<tr><td>0.32247</td></tr>\n",
       "<tr><td>0.322646</td></tr>\n",
       "<tr><td>0.233469</td></tr>\n",
       "<tr><td>0.313645</td></tr>\n",
       "<tr><td>0.351716</td></tr>\n",
       "<tr><td>0.403208</td></tr>\n",
       "<tr><td>0.37691</td></tr>\n",
       "<tr><td>0.168714</td></tr>\n",
       "<tr><td>0.301653</td></tr>\n",
       "<tr><td>...</td></tr>\n",
       "<tr><td>0.386714</td></tr>\n",
       "<tr><td>0.435683</td></tr>\n",
       "<tr><td>0.260919</td></tr>\n",
       "<tr><td>0.186362</td></tr>\n",
       "<tr><td>0.378593</td></tr>\n",
       "<tr><td>0.453896</td></tr>\n",
       "<tr><td>0.269251</td></tr>\n",
       "<tr><td>0.26528</td></tr>\n",
       "<tr><td>0.267663</td></tr>\n",
       "<tr><td>0.36518</td></tr>\n",
       "<tr><td>0.327193</td></tr>\n",
       "<tr><td>0.207093</td></tr>\n",
       "</table>"
      ],
      "text/plain": [
       "<Column name='z' dtype='float64' length=211661>\n",
       "0.450184\n",
       "0.367165\n",
       "0.413324\n",
       " 0.32247\n",
       "0.322646\n",
       "0.233469\n",
       "0.313645\n",
       "0.351716\n",
       "0.403208\n",
       " 0.37691\n",
       "0.168714\n",
       "0.301653\n",
       "     ...\n",
       "0.386714\n",
       "0.435683\n",
       "0.260919\n",
       "0.186362\n",
       "0.378593\n",
       "0.453896\n",
       "0.269251\n",
       " 0.26528\n",
       "0.267663\n",
       " 0.36518\n",
       "0.327193\n",
       "0.207093"
      ]
     },
     "execution_count": 13,
     "metadata": {},
     "output_type": "execute_result"
    }
   ],
   "source": [
    "dataR['z']"
   ]
  },
  {
   "cell_type": "code",
   "execution_count": 14,
   "metadata": {
    "collapsed": true
   },
   "outputs": [
    {
     "data": {
      "text/html": [
       "&lt;Column name=&apos;ra&apos; dtype=&apos;float64&apos; length=211661&gt;\n",
       "<table>\n",
       "<tr><td>171.460447</td></tr>\n",
       "<tr><td>156.861634</td></tr>\n",
       "<tr><td>135.655956</td></tr>\n",
       "<tr><td>151.1135</td></tr>\n",
       "<tr><td>327.045321</td></tr>\n",
       "<tr><td>222.706587</td></tr>\n",
       "<tr><td>132.163348</td></tr>\n",
       "<tr><td>214.239217</td></tr>\n",
       "<tr><td>310.627283</td></tr>\n",
       "<tr><td>143.795051</td></tr>\n",
       "<tr><td>168.941476</td></tr>\n",
       "<tr><td>149.195059</td></tr>\n",
       "<tr><td>...</td></tr>\n",
       "<tr><td>229.828647</td></tr>\n",
       "<tr><td>222.307662</td></tr>\n",
       "<tr><td>137.338184</td></tr>\n",
       "<tr><td>212.775182</td></tr>\n",
       "<tr><td>157.704931</td></tr>\n",
       "<tr><td>155.852813</td></tr>\n",
       "<tr><td>181.687843</td></tr>\n",
       "<tr><td>228.866114</td></tr>\n",
       "<tr><td>236.502458</td></tr>\n",
       "<tr><td>184.953736</td></tr>\n",
       "<tr><td>184.394802</td></tr>\n",
       "<tr><td>232.41561</td></tr>\n",
       "</table>"
      ],
      "text/plain": [
       "<Column name='ra' dtype='float64' length=211661>\n",
       "171.460447\n",
       "156.861634\n",
       "135.655956\n",
       "  151.1135\n",
       "327.045321\n",
       "222.706587\n",
       "132.163348\n",
       "214.239217\n",
       "310.627283\n",
       "143.795051\n",
       "168.941476\n",
       "149.195059\n",
       "       ...\n",
       "229.828647\n",
       "222.307662\n",
       "137.338184\n",
       "212.775182\n",
       "157.704931\n",
       "155.852813\n",
       "181.687843\n",
       "228.866114\n",
       "236.502458\n",
       "184.953736\n",
       "184.394802\n",
       " 232.41561"
      ]
     },
     "execution_count": 14,
     "metadata": {},
     "output_type": "execute_result"
    }
   ],
   "source": [
    "dataR['ra']"
   ]
  },
  {
   "cell_type": "code",
   "execution_count": 15,
   "metadata": {
    "collapsed": true
   },
   "outputs": [
    {
     "data": {
      "text/html": [
       "&lt;Column name=&apos;dec&apos; dtype=&apos;float64&apos; length=211661&gt;\n",
       "<table>\n",
       "<tr><td>14.210816</td></tr>\n",
       "<tr><td>40.750823</td></tr>\n",
       "<tr><td>19.592957</td></tr>\n",
       "<tr><td>24.245002</td></tr>\n",
       "<tr><td>-7.737766</td></tr>\n",
       "<tr><td>21.927202</td></tr>\n",
       "<tr><td>15.281744</td></tr>\n",
       "<tr><td>5.973424</td></tr>\n",
       "<tr><td>1.01386</td></tr>\n",
       "<tr><td>15.993848</td></tr>\n",
       "<tr><td>43.319462</td></tr>\n",
       "<tr><td>13.531564</td></tr>\n",
       "<tr><td>...</td></tr>\n",
       "<tr><td>24.816154</td></tr>\n",
       "<tr><td>31.128326</td></tr>\n",
       "<tr><td>32.232182</td></tr>\n",
       "<tr><td>-2.589495</td></tr>\n",
       "<tr><td>26.641368</td></tr>\n",
       "<tr><td>47.126498</td></tr>\n",
       "<tr><td>59.175281</td></tr>\n",
       "<tr><td>18.754199</td></tr>\n",
       "<tr><td>47.192155</td></tr>\n",
       "<tr><td>11.402623</td></tr>\n",
       "<tr><td>3.035483</td></tr>\n",
       "<tr><td>9.774797</td></tr>\n",
       "</table>"
      ],
      "text/plain": [
       "<Column name='dec' dtype='float64' length=211661>\n",
       "14.210816\n",
       "40.750823\n",
       "19.592957\n",
       "24.245002\n",
       "-7.737766\n",
       "21.927202\n",
       "15.281744\n",
       " 5.973424\n",
       "  1.01386\n",
       "15.993848\n",
       "43.319462\n",
       "13.531564\n",
       "      ...\n",
       "24.816154\n",
       "31.128326\n",
       "32.232182\n",
       "-2.589495\n",
       "26.641368\n",
       "47.126498\n",
       "59.175281\n",
       "18.754199\n",
       "47.192155\n",
       "11.402623\n",
       " 3.035483\n",
       " 9.774797"
      ]
     },
     "execution_count": 15,
     "metadata": {},
     "output_type": "execute_result"
    }
   ],
   "source": [
    "dataR['dec']"
   ]
  },
  {
   "cell_type": "code",
   "execution_count": 16,
   "metadata": {
    "collapsed": true
   },
   "outputs": [],
   "source": [
    "DCLCR=DC_LC(dataR['z'])"
   ]
  },
  {
   "cell_type": "code",
   "execution_count": 17,
   "metadata": {
    "collapsed": true
   },
   "outputs": [],
   "source": [
    "rdr7f = open(\"./output/rDR7200kLCsrarf.dat\",'w')\n",
    "rdr7f.write(\"z\\t ra\\t dec\\t s\\t rar\\t decr \\n\")\n",
    "\n",
    "for i in range(0,len(dataR)):\n",
    "    rdr7f.write(\"%f\\t \" %dataR['z'][i])\n",
    "    rdr7f.write(\"%f\\t %f\\t \" %(dataR['ra'][i],dataR['dec'][i]))\n",
    "    rdr7f.write(\"%f\\t \" %DCLCR[i])\n",
    "    rdr7f.write(\"%f\\t %f\\n \" %(dataR['ra'][i]*pi/180.0,dataR['dec'][i]*pi/180.0))\n",
    "rdr7f.close()"
   ]
  },
  {
   "cell_type": "code",
   "execution_count": 19,
   "metadata": {
    "collapsed": true
   },
   "outputs": [],
   "source": [
    "r=ascii.read(\"./output/rDR7200kLCsrarf.dat\")"
   ]
  },
  {
   "cell_type": "code",
   "execution_count": 20,
   "metadata": {},
   "outputs": [
    {
     "data": {
      "text/html": [
       "&lt;Table length=211661&gt;\n",
       "<table id=\"table4818143696\" class=\"table-striped table-bordered table-condensed\">\n",
       "<thead><tr><th>z</th><th>ra</th><th>dec</th><th>s</th><th>rar</th><th>decr</th></tr></thead>\n",
       "<thead><tr><th>float64</th><th>float64</th><th>float64</th><th>float64</th><th>float64</th><th>float64</th></tr></thead>\n",
       "<tr><td>0.450184</td><td>171.460447</td><td>14.210816</td><td>0.37169</td><td>2.992549</td><td>0.248026</td></tr>\n",
       "<tr><td>0.367165</td><td>156.861634</td><td>40.750823</td><td>0.312739</td><td>2.737752</td><td>0.711236</td></tr>\n",
       "<tr><td>0.413324</td><td>135.655956</td><td>19.592957</td><td>0.345944</td><td>2.367643</td><td>0.341962</td></tr>\n",
       "<tr><td>0.32247</td><td>151.1135</td><td>24.245002</td><td>0.279501</td><td>2.637428</td><td>0.423155</td></tr>\n",
       "<tr><td>0.322646</td><td>327.045321</td><td>-7.737766</td><td>0.279634</td><td>5.708018</td><td>-0.135049</td></tr>\n",
       "<tr><td>0.233469</td><td>222.706587</td><td>21.927202</td><td>0.209831</td><td>3.886963</td><td>0.382702</td></tr>\n",
       "<tr><td>0.313645</td><td>132.163348</td><td>15.281744</td><td>0.272806</td><td>2.306686</td><td>0.266717</td></tr>\n",
       "<tr><td>0.351716</td><td>214.239217</td><td>5.973424</td><td>0.301375</td><td>3.73918</td><td>0.104256</td></tr>\n",
       "<tr><td>0.403208</td><td>310.627283</td><td>1.01386</td><td>0.338761</td><td>5.421469</td><td>0.017695</td></tr>\n",
       "<tr><td>0.37691</td><td>143.795051</td><td>15.993848</td><td>0.319842</td><td>2.509697</td><td>0.279145</td></tr>\n",
       "<tr><td>...</td><td>...</td><td>...</td><td>...</td><td>...</td><td>...</td></tr>\n",
       "<tr><td>0.260919</td><td>137.338184</td><td>32.232182</td><td>0.231841</td><td>2.397003</td><td>0.562558</td></tr>\n",
       "<tr><td>0.186362</td><td>212.775182</td><td>-2.589495</td><td>0.170891</td><td>3.713627</td><td>-0.045195</td></tr>\n",
       "<tr><td>0.378593</td><td>157.704931</td><td>26.641368</td><td>0.321063</td><td>2.75247</td><td>0.46498</td></tr>\n",
       "<tr><td>0.453896</td><td>155.852813</td><td>47.126498</td><td>0.374247</td><td>2.720145</td><td>0.822513</td></tr>\n",
       "<tr><td>0.269251</td><td>181.687843</td><td>59.175281</td><td>0.238427</td><td>3.171051</td><td>1.032803</td></tr>\n",
       "<tr><td>0.26528</td><td>228.866114</td><td>18.754199</td><td>0.235293</td><td>3.994467</td><td>0.327323</td></tr>\n",
       "<tr><td>0.267663</td><td>236.502458</td><td>47.192155</td><td>0.237175</td><td>4.127747</td><td>0.823658</td></tr>\n",
       "<tr><td>0.36518</td><td>184.953736</td><td>11.402623</td><td>0.311286</td><td>3.228052</td><td>0.199013</td></tr>\n",
       "<tr><td>0.327193</td><td>184.394802</td><td>3.035483</td><td>0.283066</td><td>3.218296</td><td>0.052979</td></tr>\n",
       "<tr><td>0.207093</td><td>232.41561</td><td>9.774797</td><td>0.188215</td><td>4.056418</td><td>0.170602</td></tr>\n",
       "</table>"
      ],
      "text/plain": [
       "<Table length=211661>\n",
       "   z         ra        dec       s       rar       decr  \n",
       "float64   float64    float64  float64  float64   float64 \n",
       "-------- ---------- --------- -------- -------- ---------\n",
       "0.450184 171.460447 14.210816  0.37169 2.992549  0.248026\n",
       "0.367165 156.861634 40.750823 0.312739 2.737752  0.711236\n",
       "0.413324 135.655956 19.592957 0.345944 2.367643  0.341962\n",
       " 0.32247   151.1135 24.245002 0.279501 2.637428  0.423155\n",
       "0.322646 327.045321 -7.737766 0.279634 5.708018 -0.135049\n",
       "0.233469 222.706587 21.927202 0.209831 3.886963  0.382702\n",
       "0.313645 132.163348 15.281744 0.272806 2.306686  0.266717\n",
       "0.351716 214.239217  5.973424 0.301375  3.73918  0.104256\n",
       "0.403208 310.627283   1.01386 0.338761 5.421469  0.017695\n",
       " 0.37691 143.795051 15.993848 0.319842 2.509697  0.279145\n",
       "     ...        ...       ...      ...      ...       ...\n",
       "0.260919 137.338184 32.232182 0.231841 2.397003  0.562558\n",
       "0.186362 212.775182 -2.589495 0.170891 3.713627 -0.045195\n",
       "0.378593 157.704931 26.641368 0.321063  2.75247   0.46498\n",
       "0.453896 155.852813 47.126498 0.374247 2.720145  0.822513\n",
       "0.269251 181.687843 59.175281 0.238427 3.171051  1.032803\n",
       " 0.26528 228.866114 18.754199 0.235293 3.994467  0.327323\n",
       "0.267663 236.502458 47.192155 0.237175 4.127747  0.823658\n",
       " 0.36518 184.953736 11.402623 0.311286 3.228052  0.199013\n",
       "0.327193 184.394802  3.035483 0.283066 3.218296  0.052979\n",
       "0.207093  232.41561  9.774797 0.188215 4.056418  0.170602"
      ]
     },
     "execution_count": 20,
     "metadata": {},
     "output_type": "execute_result"
    }
   ],
   "source": [
    "r"
   ]
  },
  {
   "cell_type": "code",
   "execution_count": 180,
   "metadata": {
    "collapsed": true
   },
   "outputs": [],
   "source": [
    "dr7fdat=ascii.read(\"./output/DR7srarf.dat\")"
   ]
  },
  {
   "cell_type": "code",
   "execution_count": 181,
   "metadata": {},
   "outputs": [
    {
     "data": {
      "text/html": [
       "&lt;Column name=&apos;s&apos; dtype=&apos;float64&apos; length=299&gt;\n",
       "<table>\n",
       "<tr><td>0.335419</td></tr>\n",
       "<tr><td>0.373033</td></tr>\n",
       "<tr><td>0.298038</td></tr>\n",
       "<tr><td>0.298188</td></tr>\n",
       "<tr><td>0.220752</td></tr>\n",
       "<tr><td>0.290545</td></tr>\n",
       "<tr><td>0.322606</td></tr>\n",
       "<tr><td>0.364875</td></tr>\n",
       "<tr><td>0.343444</td></tr>\n",
       "<tr><td>0.162122</td></tr>\n",
       "<tr><td>0.280303</td></tr>\n",
       "<tr><td>0.412716</td></tr>\n",
       "<tr><td>...</td></tr>\n",
       "<tr><td>0.301257</td></tr>\n",
       "<tr><td>0.301582</td></tr>\n",
       "<tr><td>0.300455</td></tr>\n",
       "<tr><td>0.165786</td></tr>\n",
       "<tr><td>0.362673</td></tr>\n",
       "<tr><td>0.292963</td></tr>\n",
       "<tr><td>0.276082</td></tr>\n",
       "<tr><td>0.290453</td></tr>\n",
       "<tr><td>0.34018</td></tr>\n",
       "<tr><td>0.298307</td></tr>\n",
       "<tr><td>0.163916</td></tr>\n",
       "<tr><td>0.298332</td></tr>\n",
       "</table>"
      ],
      "text/plain": [
       "<Column name='s' dtype='float64' length=299>\n",
       "0.335419\n",
       "0.373033\n",
       "0.298038\n",
       "0.298188\n",
       "0.220752\n",
       "0.290545\n",
       "0.322606\n",
       "0.364875\n",
       "0.343444\n",
       "0.162122\n",
       "0.280303\n",
       "0.412716\n",
       "     ...\n",
       "0.301257\n",
       "0.301582\n",
       "0.300455\n",
       "0.165786\n",
       "0.362673\n",
       "0.292963\n",
       "0.276082\n",
       "0.290453\n",
       " 0.34018\n",
       "0.298307\n",
       "0.163916\n",
       "0.298332"
      ]
     },
     "execution_count": 181,
     "metadata": {},
     "output_type": "execute_result"
    }
   ],
   "source": [
    "dr7fdat['s'][1:300]"
   ]
  },
  {
   "cell_type": "code",
   "execution_count": null,
   "metadata": {
    "collapsed": true
   },
   "outputs": [],
   "source": []
  },
  {
   "cell_type": "code",
   "execution_count": null,
   "metadata": {
    "collapsed": true
   },
   "outputs": [],
   "source": []
  },
  {
   "cell_type": "code",
   "execution_count": 19,
   "metadata": {
    "collapsed": true
   },
   "outputs": [],
   "source": [
    "#fdata=fits.open(\"/Users/rohin/Downloads/DR7-Full.fits\")"
   ]
  },
  {
   "cell_type": "code",
   "execution_count": 20,
   "metadata": {
    "collapsed": true
   },
   "outputs": [],
   "source": [
    "#fdata.writeto(\"./output/DR7fulltrim.fits\")"
   ]
  },
  {
   "cell_type": "code",
   "execution_count": 70,
   "metadata": {
    "collapsed": true
   },
   "outputs": [],
   "source": [
    "fdata=fits.open(\"./output/DR7fulltrim.fits\")"
   ]
  },
  {
   "cell_type": "code",
   "execution_count": 71,
   "metadata": {
    "collapsed": true
   },
   "outputs": [],
   "source": [
    "cols=fdata[1].columns"
   ]
  },
  {
   "cell_type": "code",
   "execution_count": 72,
   "metadata": {},
   "outputs": [
    {
     "data": {
      "text/plain": [
       "ColDefs(\n",
       "    name = 'RA'; format = 'D'\n",
       "    name = 'DEC'; format = 'D'\n",
       "    name = 'Z'; format = 'E'\n",
       "    name = 'SECTOR'; format = 'J'\n",
       "    name = 'FGOTMAIN'; format = 'E'\n",
       "    name = 'QUALITY'; format = 'J'\n",
       "    name = 'ISBAD'; format = 'J'\n",
       "    name = 'M'; format = 'E'\n",
       "    name = 'MMAX'; format = 'E'\n",
       "    name = 'ILSS'; format = 'J'\n",
       "    name = 'ICOMB'; format = 'J'\n",
       "    name = 'VAGC_SELECT'; format = 'J'\n",
       "    name = 'LSS_INDEX'; format = 'J'\n",
       "    name = 'FIBERWEIGHT'; format = 'D'\n",
       "    name = 'PRIMTARGET'; format = 'D'\n",
       "    name = 'MG'; format = 'D'\n",
       "    name = 'SECTOR_COMPLETENESS'; format = 'E'\n",
       "    name = 'COMOV_DENSITY'; format = 'E'\n",
       "    name = 'RADIAL_WEIGHT'; format = 'E'\n",
       ")"
      ]
     },
     "execution_count": 72,
     "metadata": {},
     "output_type": "execute_result"
    }
   ],
   "source": [
    "cols.del_col('ZTYPE')"
   ]
  },
  {
   "cell_type": "code",
   "execution_count": 73,
   "metadata": {},
   "outputs": [
    {
     "data": {
      "text/plain": [
       "ColDefs(\n",
       "    name = 'RA'; format = 'D'\n",
       "    name = 'DEC'; format = 'D'\n",
       "    name = 'Z'; format = 'E'\n",
       ")"
      ]
     },
     "execution_count": 73,
     "metadata": {},
     "output_type": "execute_result"
    }
   ],
   "source": [
    "cols.del_col('SECTOR')\n",
    "cols.del_col('FGOTMAIN')\n",
    "cols.del_col('QUALITY')\n",
    "cols.del_col('ISBAD')\n",
    "cols.del_col('M')\n",
    "cols.del_col('MMAX')\n",
    "cols.del_col('ILSS')\n",
    "cols.del_col('ICOMB')\n",
    "cols.del_col('VAGC_SELECT')\n",
    "cols.del_col('LSS_INDEX')\n",
    "cols.del_col('FIBERWEIGHT')\n",
    "cols.del_col('PRIMTARGET')\n",
    "cols.del_col('MG')\n",
    "cols.del_col('SECTOR_COMPLETENESS')\n",
    "cols.del_col('COMOV_DENSITY')\n",
    "cols.del_col('RADIAL_WEIGHT')"
   ]
  },
  {
   "cell_type": "code",
   "execution_count": 74,
   "metadata": {},
   "outputs": [
    {
     "data": {
      "text/plain": [
       "ColDefs(\n",
       "    name = 'RA'; format = 'D'\n",
       "    name = 'DEC'; format = 'D'\n",
       "    name = 'Z'; format = 'E'\n",
       ")"
      ]
     },
     "execution_count": 74,
     "metadata": {},
     "output_type": "execute_result"
    }
   ],
   "source": [
    "fdata[1].columns"
   ]
  },
  {
   "cell_type": "code",
   "execution_count": 75,
   "metadata": {},
   "outputs": [
    {
     "ename": "IOError",
     "evalue": "File './output/DR7fullzradec.fits' already exists.",
     "output_type": "error",
     "traceback": [
      "\u001b[0;31m---------------------------------------------------------------------------\u001b[0m",
      "\u001b[0;31mIOError\u001b[0m                                   Traceback (most recent call last)",
      "\u001b[0;32m<ipython-input-75-95c0f7c40b6e>\u001b[0m in \u001b[0;36m<module>\u001b[0;34m()\u001b[0m\n\u001b[0;32m----> 1\u001b[0;31m \u001b[0mfdata\u001b[0m\u001b[0;34m.\u001b[0m\u001b[0mwriteto\u001b[0m\u001b[0;34m(\u001b[0m\u001b[0;34m\"./output/DR7fullzradec.fits\"\u001b[0m\u001b[0;34m)\u001b[0m\u001b[0;34m\u001b[0m\u001b[0m\n\u001b[0m",
      "\u001b[0;32m/Users/rohin/anaconda/lib/python2.7/site-packages/astropy/utils/decorators.pyc\u001b[0m in \u001b[0;36mwrapper\u001b[0;34m(*args, **kwargs)\u001b[0m\n\u001b[1;32m    491\u001b[0m                         \u001b[0;31m# one with the name of the new argument to the function\u001b[0m\u001b[0;34m\u001b[0m\u001b[0;34m\u001b[0m\u001b[0m\n\u001b[1;32m    492\u001b[0m                         \u001b[0mkwargs\u001b[0m\u001b[0;34m[\u001b[0m\u001b[0mnew_name\u001b[0m\u001b[0;34m[\u001b[0m\u001b[0mi\u001b[0m\u001b[0;34m]\u001b[0m\u001b[0;34m]\u001b[0m \u001b[0;34m=\u001b[0m \u001b[0mvalue\u001b[0m\u001b[0;34m\u001b[0m\u001b[0m\n\u001b[0;32m--> 493\u001b[0;31m             \u001b[0;32mreturn\u001b[0m \u001b[0mfunction\u001b[0m\u001b[0;34m(\u001b[0m\u001b[0;34m*\u001b[0m\u001b[0margs\u001b[0m\u001b[0;34m,\u001b[0m \u001b[0;34m**\u001b[0m\u001b[0mkwargs\u001b[0m\u001b[0;34m)\u001b[0m\u001b[0;34m\u001b[0m\u001b[0m\n\u001b[0m\u001b[1;32m    494\u001b[0m \u001b[0;34m\u001b[0m\u001b[0m\n\u001b[1;32m    495\u001b[0m         \u001b[0;32mreturn\u001b[0m \u001b[0mwrapper\u001b[0m\u001b[0;34m\u001b[0m\u001b[0m\n",
      "\u001b[0;32m/Users/rohin/anaconda/lib/python2.7/site-packages/astropy/io/fits/hdu/hdulist.pyc\u001b[0m in \u001b[0;36mwriteto\u001b[0;34m(self, fileobj, output_verify, overwrite, checksum)\u001b[0m\n\u001b[1;32m    867\u001b[0m         \u001b[0;31m# file object that's open to write only, or in append/update modes\u001b[0m\u001b[0;34m\u001b[0m\u001b[0;34m\u001b[0m\u001b[0m\n\u001b[1;32m    868\u001b[0m         \u001b[0;31m# but only if the file doesn't exist.\u001b[0m\u001b[0;34m\u001b[0m\u001b[0;34m\u001b[0m\u001b[0m\n\u001b[0;32m--> 869\u001b[0;31m         \u001b[0mfileobj\u001b[0m \u001b[0;34m=\u001b[0m \u001b[0m_File\u001b[0m\u001b[0;34m(\u001b[0m\u001b[0mfileobj\u001b[0m\u001b[0;34m,\u001b[0m \u001b[0mmode\u001b[0m\u001b[0;34m=\u001b[0m\u001b[0;34m'ostream'\u001b[0m\u001b[0;34m,\u001b[0m \u001b[0moverwrite\u001b[0m\u001b[0;34m=\u001b[0m\u001b[0moverwrite\u001b[0m\u001b[0;34m)\u001b[0m\u001b[0;34m\u001b[0m\u001b[0m\n\u001b[0m\u001b[1;32m    870\u001b[0m         \u001b[0mhdulist\u001b[0m \u001b[0;34m=\u001b[0m \u001b[0mself\u001b[0m\u001b[0;34m.\u001b[0m\u001b[0mfromfile\u001b[0m\u001b[0;34m(\u001b[0m\u001b[0mfileobj\u001b[0m\u001b[0;34m)\u001b[0m\u001b[0;34m\u001b[0m\u001b[0m\n\u001b[1;32m    871\u001b[0m \u001b[0;34m\u001b[0m\u001b[0m\n",
      "\u001b[0;32m/Users/rohin/anaconda/lib/python2.7/site-packages/astropy/utils/decorators.pyc\u001b[0m in \u001b[0;36mwrapper\u001b[0;34m(*args, **kwargs)\u001b[0m\n\u001b[1;32m    491\u001b[0m                         \u001b[0;31m# one with the name of the new argument to the function\u001b[0m\u001b[0;34m\u001b[0m\u001b[0;34m\u001b[0m\u001b[0m\n\u001b[1;32m    492\u001b[0m                         \u001b[0mkwargs\u001b[0m\u001b[0;34m[\u001b[0m\u001b[0mnew_name\u001b[0m\u001b[0;34m[\u001b[0m\u001b[0mi\u001b[0m\u001b[0;34m]\u001b[0m\u001b[0;34m]\u001b[0m \u001b[0;34m=\u001b[0m \u001b[0mvalue\u001b[0m\u001b[0;34m\u001b[0m\u001b[0m\n\u001b[0;32m--> 493\u001b[0;31m             \u001b[0;32mreturn\u001b[0m \u001b[0mfunction\u001b[0m\u001b[0;34m(\u001b[0m\u001b[0;34m*\u001b[0m\u001b[0margs\u001b[0m\u001b[0;34m,\u001b[0m \u001b[0;34m**\u001b[0m\u001b[0mkwargs\u001b[0m\u001b[0;34m)\u001b[0m\u001b[0;34m\u001b[0m\u001b[0m\n\u001b[0m\u001b[1;32m    494\u001b[0m \u001b[0;34m\u001b[0m\u001b[0m\n\u001b[1;32m    495\u001b[0m         \u001b[0;32mreturn\u001b[0m \u001b[0mwrapper\u001b[0m\u001b[0;34m\u001b[0m\u001b[0m\n",
      "\u001b[0;32m/Users/rohin/anaconda/lib/python2.7/site-packages/astropy/io/fits/file.pyc\u001b[0m in \u001b[0;36m__init__\u001b[0;34m(self, fileobj, mode, memmap, overwrite, cache)\u001b[0m\n\u001b[1;32m    142\u001b[0m             \u001b[0mself\u001b[0m\u001b[0;34m.\u001b[0m\u001b[0m_open_fileobj\u001b[0m\u001b[0;34m(\u001b[0m\u001b[0mfileobj\u001b[0m\u001b[0;34m,\u001b[0m \u001b[0mmode\u001b[0m\u001b[0;34m,\u001b[0m \u001b[0moverwrite\u001b[0m\u001b[0;34m)\u001b[0m\u001b[0;34m\u001b[0m\u001b[0m\n\u001b[1;32m    143\u001b[0m         \u001b[0;32melif\u001b[0m \u001b[0misinstance\u001b[0m\u001b[0;34m(\u001b[0m\u001b[0mfileobj\u001b[0m\u001b[0;34m,\u001b[0m \u001b[0mstring_types\u001b[0m\u001b[0;34m)\u001b[0m\u001b[0;34m:\u001b[0m\u001b[0;34m\u001b[0m\u001b[0m\n\u001b[0;32m--> 144\u001b[0;31m             \u001b[0mself\u001b[0m\u001b[0;34m.\u001b[0m\u001b[0m_open_filename\u001b[0m\u001b[0;34m(\u001b[0m\u001b[0mfileobj\u001b[0m\u001b[0;34m,\u001b[0m \u001b[0mmode\u001b[0m\u001b[0;34m,\u001b[0m \u001b[0moverwrite\u001b[0m\u001b[0;34m)\u001b[0m\u001b[0;34m\u001b[0m\u001b[0m\n\u001b[0m\u001b[1;32m    145\u001b[0m         \u001b[0;32melse\u001b[0m\u001b[0;34m:\u001b[0m\u001b[0;34m\u001b[0m\u001b[0m\n\u001b[1;32m    146\u001b[0m             \u001b[0mself\u001b[0m\u001b[0;34m.\u001b[0m\u001b[0m_open_filelike\u001b[0m\u001b[0;34m(\u001b[0m\u001b[0mfileobj\u001b[0m\u001b[0;34m,\u001b[0m \u001b[0mmode\u001b[0m\u001b[0;34m,\u001b[0m \u001b[0moverwrite\u001b[0m\u001b[0;34m)\u001b[0m\u001b[0;34m\u001b[0m\u001b[0m\n",
      "\u001b[0;32m/Users/rohin/anaconda/lib/python2.7/site-packages/astropy/io/fits/file.pyc\u001b[0m in \u001b[0;36m_open_filename\u001b[0;34m(self, filename, mode, overwrite)\u001b[0m\n\u001b[1;32m    471\u001b[0m \u001b[0;34m\u001b[0m\u001b[0m\n\u001b[1;32m    472\u001b[0m         \u001b[0;32mif\u001b[0m \u001b[0mmode\u001b[0m \u001b[0;34m==\u001b[0m \u001b[0;34m'ostream'\u001b[0m\u001b[0;34m:\u001b[0m\u001b[0;34m\u001b[0m\u001b[0m\n\u001b[0;32m--> 473\u001b[0;31m             \u001b[0mself\u001b[0m\u001b[0;34m.\u001b[0m\u001b[0m_overwrite_existing\u001b[0m\u001b[0;34m(\u001b[0m\u001b[0moverwrite\u001b[0m\u001b[0;34m,\u001b[0m \u001b[0mNone\u001b[0m\u001b[0;34m,\u001b[0m \u001b[0mTrue\u001b[0m\u001b[0;34m)\u001b[0m\u001b[0;34m\u001b[0m\u001b[0m\n\u001b[0m\u001b[1;32m    474\u001b[0m \u001b[0;34m\u001b[0m\u001b[0m\n\u001b[1;32m    475\u001b[0m         \u001b[0;32mif\u001b[0m \u001b[0mos\u001b[0m\u001b[0;34m.\u001b[0m\u001b[0mpath\u001b[0m\u001b[0;34m.\u001b[0m\u001b[0mexists\u001b[0m\u001b[0;34m(\u001b[0m\u001b[0mself\u001b[0m\u001b[0;34m.\u001b[0m\u001b[0mname\u001b[0m\u001b[0;34m)\u001b[0m\u001b[0;34m:\u001b[0m\u001b[0;34m\u001b[0m\u001b[0m\n",
      "\u001b[0;32m/Users/rohin/anaconda/lib/python2.7/site-packages/astropy/io/fits/file.pyc\u001b[0m in \u001b[0;36m_overwrite_existing\u001b[0;34m(self, overwrite, fileobj, closed)\u001b[0m\n\u001b[1;32m    392\u001b[0m                     \u001b[0mos\u001b[0m\u001b[0;34m.\u001b[0m\u001b[0mremove\u001b[0m\u001b[0;34m(\u001b[0m\u001b[0mself\u001b[0m\u001b[0;34m.\u001b[0m\u001b[0mname\u001b[0m\u001b[0;34m)\u001b[0m\u001b[0;34m\u001b[0m\u001b[0m\n\u001b[1;32m    393\u001b[0m             \u001b[0;32melse\u001b[0m\u001b[0;34m:\u001b[0m\u001b[0;34m\u001b[0m\u001b[0m\n\u001b[0;32m--> 394\u001b[0;31m                 \u001b[0;32mraise\u001b[0m \u001b[0mIOError\u001b[0m\u001b[0;34m(\u001b[0m\u001b[0;34m\"File {!r} already exists.\"\u001b[0m\u001b[0;34m.\u001b[0m\u001b[0mformat\u001b[0m\u001b[0;34m(\u001b[0m\u001b[0mself\u001b[0m\u001b[0;34m.\u001b[0m\u001b[0mname\u001b[0m\u001b[0;34m)\u001b[0m\u001b[0;34m)\u001b[0m\u001b[0;34m\u001b[0m\u001b[0m\n\u001b[0m\u001b[1;32m    395\u001b[0m \u001b[0;34m\u001b[0m\u001b[0m\n\u001b[1;32m    396\u001b[0m     \u001b[0;32mdef\u001b[0m \u001b[0m_open_fileobj\u001b[0m\u001b[0;34m(\u001b[0m\u001b[0mself\u001b[0m\u001b[0;34m,\u001b[0m \u001b[0mfileobj\u001b[0m\u001b[0;34m,\u001b[0m \u001b[0mmode\u001b[0m\u001b[0;34m,\u001b[0m \u001b[0moverwrite\u001b[0m\u001b[0;34m)\u001b[0m\u001b[0;34m:\u001b[0m\u001b[0;34m\u001b[0m\u001b[0m\n",
      "\u001b[0;31mIOError\u001b[0m: File './output/DR7fullzradec.fits' already exists."
     ]
    }
   ],
   "source": [
    "fdata.writeto(\"./output/DR7fullzradec.fits\")"
   ]
  },
  {
   "cell_type": "code",
   "execution_count": 166,
   "metadata": {
    "collapsed": true
   },
   "outputs": [],
   "source": [
    "fdat=fits.open(\"./output/DR7fullzradec.fits\")"
   ]
  },
  {
   "cell_type": "code",
   "execution_count": 154,
   "metadata": {},
   "outputs": [
    {
     "data": {
      "text/plain": [
       "ColDefs(\n",
       "    name = 'RA'; format = 'D'\n",
       "    name = 'DEC'; format = 'D'\n",
       "    name = 'Z'; format = 'E'\n",
       ")"
      ]
     },
     "execution_count": 154,
     "metadata": {},
     "output_type": "execute_result"
    }
   ],
   "source": [
    "fdat[1].columns"
   ]
  },
  {
   "cell_type": "code",
   "execution_count": 128,
   "metadata": {},
   "outputs": [
    {
     "data": {
      "text/plain": [
       "array([  4.50184196e-01,   0.00000000e+00,   4.20389539e-45, ...,\n",
       "         0.00000000e+00,   9.20399129e-01,   3.78571361e-01], dtype=float32)"
      ]
     },
     "execution_count": 128,
     "metadata": {},
     "output_type": "execute_result"
    }
   ],
   "source": [
    "fdat[1].data['Z']"
   ]
  },
  {
   "cell_type": "code",
   "execution_count": 173,
   "metadata": {},
   "outputs": [
    {
     "data": {
      "text/plain": [
       "array([  5.61604524e+001,   7.19673559e-003,   6.36598766e-314, ...,\n",
       "        -1.49166850e-154,   4.32171670e-281,   9.01242404e+007])"
      ]
     },
     "execution_count": 173,
     "metadata": {},
     "output_type": "execute_result"
    }
   ],
   "source": [
    "fdat[1].data['RA']"
   ]
  },
  {
   "cell_type": "code",
   "execution_count": null,
   "metadata": {
    "collapsed": true
   },
   "outputs": [],
   "source": []
  },
  {
   "cell_type": "code",
   "execution_count": 129,
   "metadata": {
    "collapsed": true
   },
   "outputs": [],
   "source": [
    "comovlcdm=DC_LCDM(fdat[1].data['Z'])"
   ]
  },
  {
   "cell_type": "code",
   "execution_count": 130,
   "metadata": {},
   "outputs": [
    {
     "data": {
      "text/plain": [
       "array([  4.50184196e-01,   0.00000000e+00,   4.20389539e-45, ...,\n",
       "         0.00000000e+00,   9.20399129e-01,   3.78571361e-01], dtype=float32)"
      ]
     },
     "execution_count": 130,
     "metadata": {},
     "output_type": "execute_result"
    }
   ],
   "source": [
    "fdat[1].data['Z']"
   ]
  },
  {
   "cell_type": "code",
   "execution_count": 131,
   "metadata": {},
   "outputs": [
    {
     "data": {
      "text/plain": [
       "array([  4.02352471e-01,   0.00000000e+00,   4.20389539e-45, ...,\n",
       "         0.00000000e+00,   7.25151263e-01,   3.44807467e-01])"
      ]
     },
     "execution_count": 131,
     "metadata": {},
     "output_type": "execute_result"
    }
   ],
   "source": [
    "comovlcdm"
   ]
  },
  {
   "cell_type": "code",
   "execution_count": 119,
   "metadata": {},
   "outputs": [
    {
     "data": {
      "text/plain": [
       "dtype('float64')"
      ]
     },
     "execution_count": 119,
     "metadata": {},
     "output_type": "execute_result"
    }
   ],
   "source": [
    "comovlcdm.dtype"
   ]
  },
  {
   "cell_type": "code",
   "execution_count": 96,
   "metadata": {
    "collapsed": true
   },
   "outputs": [],
   "source": [
    "#cols=fdat[1].columns"
   ]
  },
  {
   "cell_type": "code",
   "execution_count": 155,
   "metadata": {
    "collapsed": true
   },
   "outputs": [],
   "source": [
    "nc=fits.Column(name='COMOV',format='D',array=comovlcdm)"
   ]
  },
  {
   "cell_type": "code",
   "execution_count": 163,
   "metadata": {
    "collapsed": true
   },
   "outputs": [],
   "source": [
    "nc1=fits.Column(name='COMOV',format='D')"
   ]
  },
  {
   "cell_type": "code",
   "execution_count": 174,
   "metadata": {},
   "outputs": [
    {
     "data": {
      "text/plain": [
       "array([  4.50184196e-01,   1.76200008e+01,   1.60000019e+01, ...,\n",
       "         3.49009275e+00,   8.79396975e-01,   4.20389539e-45], dtype=float32)"
      ]
     },
     "execution_count": 174,
     "metadata": {},
     "output_type": "execute_result"
    }
   ],
   "source": [
    "fdata[1].data['Z']"
   ]
  },
  {
   "cell_type": "code",
   "execution_count": 175,
   "metadata": {},
   "outputs": [
    {
     "data": {
      "text/plain": [
       "array([  5.61604524e+001,   7.19673559e-003,   6.36598766e-314, ...,\n",
       "        -1.49166850e-154,   4.32171670e-281,   9.01242404e+007])"
      ]
     },
     "execution_count": 175,
     "metadata": {},
     "output_type": "execute_result"
    }
   ],
   "source": [
    "fdata[1].data['RA']"
   ]
  },
  {
   "cell_type": "code",
   "execution_count": 156,
   "metadata": {},
   "outputs": [
    {
     "data": {
      "text/plain": [
       "name = 'COMOV'; format = 'D'"
      ]
     },
     "execution_count": 156,
     "metadata": {},
     "output_type": "execute_result"
    }
   ],
   "source": [
    "nc"
   ]
  },
  {
   "cell_type": "code",
   "execution_count": 157,
   "metadata": {},
   "outputs": [
    {
     "data": {
      "text/plain": [
       "dtype('float64')"
      ]
     },
     "execution_count": 157,
     "metadata": {},
     "output_type": "execute_result"
    }
   ],
   "source": [
    "nc.dtype"
   ]
  },
  {
   "cell_type": "code",
   "execution_count": 158,
   "metadata": {
    "collapsed": true
   },
   "outputs": [],
   "source": [
    "#cols.add_col(nc)"
   ]
  },
  {
   "cell_type": "code",
   "execution_count": 159,
   "metadata": {},
   "outputs": [
    {
     "data": {
      "text/plain": [
       "ColDefs(\n",
       "    name = 'RA'; format = 'D'\n",
       "    name = 'DEC'; format = 'D'\n",
       "    name = 'Z'; format = 'E'\n",
       ")"
      ]
     },
     "execution_count": 159,
     "metadata": {},
     "output_type": "execute_result"
    }
   ],
   "source": [
    "fdat[1].columns"
   ]
  },
  {
   "cell_type": "code",
   "execution_count": 162,
   "metadata": {},
   "outputs": [
    {
     "name": "stdout",
     "output_type": "stream",
     "text": [
      "name:\n",
      "    ['RA', 'DEC', 'Z', 'COMOV']\n",
      "format:\n",
      "    ['D', 'D', 'E', 'D']\n",
      "unit:\n",
      "    ['', '', '', '']\n",
      "null:\n",
      "    ['', '', '', '']\n",
      "bscale:\n",
      "    ['', '', '', '']\n",
      "bzero:\n",
      "    ['', '', '', '']\n",
      "disp:\n",
      "    ['', '', '', '']\n",
      "start:\n",
      "    ['', '', '', '']\n",
      "dim:\n",
      "    ['', '', '', '']\n"
     ]
    }
   ],
   "source": [
    "fdat[1].columns.info()"
   ]
  },
  {
   "cell_type": "code",
   "execution_count": 167,
   "metadata": {},
   "outputs": [
    {
     "data": {
      "text/plain": [
       "ColDefs(\n",
       "    name = 'RA'; format = 'D'\n",
       "    name = 'DEC'; format = 'D'\n",
       "    name = 'Z'; format = 'E'\n",
       "    name = 'COMOV'; format = 'D'\n",
       ")"
      ]
     },
     "execution_count": 167,
     "metadata": {},
     "output_type": "execute_result"
    }
   ],
   "source": [
    "fdat[1].columns.add_col(nc1)"
   ]
  },
  {
   "cell_type": "code",
   "execution_count": 169,
   "metadata": {
    "collapsed": true
   },
   "outputs": [],
   "source": [
    "fdat[1].data['COMOV']=comovlcdm"
   ]
  },
  {
   "cell_type": "code",
   "execution_count": 138,
   "metadata": {},
   "outputs": [
    {
     "data": {
      "text/plain": [
       "array([  4.02352471e-01,   0.00000000e+00,   4.20389539e-45, ...,\n",
       "         0.00000000e+00,   7.25151263e-01,   3.44807467e-01])"
      ]
     },
     "execution_count": 138,
     "metadata": {},
     "output_type": "execute_result"
    }
   ],
   "source": [
    "comovlcdm"
   ]
  },
  {
   "cell_type": "code",
   "execution_count": 88,
   "metadata": {},
   "outputs": [
    {
     "data": {
      "text/plain": [
       "array([  4.50184196e-01,   1.76200008e+01,   1.60000019e+01, ...,\n",
       "         3.49009275e+00,   8.79396975e-01,   4.20389539e-45], dtype=float32)"
      ]
     },
     "execution_count": 88,
     "metadata": {},
     "output_type": "execute_result"
    }
   ],
   "source": [
    "fdat[1].data['Z']"
   ]
  },
  {
   "cell_type": "code",
   "execution_count": 170,
   "metadata": {},
   "outputs": [
    {
     "data": {
      "text/plain": [
       "array([  4.02352471e-01,   0.00000000e+00,   4.20389539e-45, ...,\n",
       "         0.00000000e+00,   7.25151263e-01,   3.44807467e-01])"
      ]
     },
     "execution_count": 170,
     "metadata": {},
     "output_type": "execute_result"
    }
   ],
   "source": [
    "fdat[1].data['COMOV']"
   ]
  },
  {
   "cell_type": "code",
   "execution_count": 171,
   "metadata": {},
   "outputs": [
    {
     "data": {
      "text/plain": [
       "array([  5.61604524e+001,   7.19673559e-003,   6.36598766e-314, ...,\n",
       "        -1.49166850e-154,   4.32171670e-281,   9.01242404e+007])"
      ]
     },
     "execution_count": 171,
     "metadata": {},
     "output_type": "execute_result"
    }
   ],
   "source": [
    "fdat[1].data['RA']"
   ]
  },
  {
   "cell_type": "code",
   "execution_count": null,
   "metadata": {
    "collapsed": true
   },
   "outputs": [],
   "source": [
    "fdat[1].data['RA']=fdat[1].data['RA']*pi/180.0"
   ]
  },
  {
   "cell_type": "code",
   "execution_count": 89,
   "metadata": {},
   "outputs": [
    {
     "ename": "ValueError",
     "evalue": "math domain error",
     "output_type": "error",
     "traceback": [
      "\u001b[0;31m---------------------------------------------------------------------------\u001b[0m",
      "\u001b[0;31mValueError\u001b[0m                                Traceback (most recent call last)",
      "\u001b[0;32m<ipython-input-89-d17dee1e5139>\u001b[0m in \u001b[0;36m<module>\u001b[0;34m()\u001b[0m\n\u001b[0;32m----> 1\u001b[0;31m \u001b[0mcomovlcdm\u001b[0m\u001b[0;34m=\u001b[0m\u001b[0mDC_LCDM\u001b[0m\u001b[0;34m(\u001b[0m\u001b[0mfdat\u001b[0m\u001b[0;34m[\u001b[0m\u001b[0;36m1\u001b[0m\u001b[0;34m]\u001b[0m\u001b[0;34m.\u001b[0m\u001b[0mdata\u001b[0m\u001b[0;34m[\u001b[0m\u001b[0;34m'Z'\u001b[0m\u001b[0;34m]\u001b[0m\u001b[0;34m)\u001b[0m\u001b[0;34m\u001b[0m\u001b[0m\n\u001b[0m\u001b[1;32m      2\u001b[0m \u001b[0mcomovlcdm\u001b[0m\u001b[0;34m\u001b[0m\u001b[0m\n",
      "\u001b[0;32m/Users/rohin/anaconda/lib/python2.7/site-packages/numpy/lib/function_base.pyc\u001b[0m in \u001b[0;36m__call__\u001b[0;34m(self, *args, **kwargs)\u001b[0m\n\u001b[1;32m   2216\u001b[0m             \u001b[0mvargs\u001b[0m\u001b[0;34m.\u001b[0m\u001b[0mextend\u001b[0m\u001b[0;34m(\u001b[0m\u001b[0;34m[\u001b[0m\u001b[0mkwargs\u001b[0m\u001b[0;34m[\u001b[0m\u001b[0m_n\u001b[0m\u001b[0;34m]\u001b[0m \u001b[0;32mfor\u001b[0m \u001b[0m_n\u001b[0m \u001b[0;32min\u001b[0m \u001b[0mnames\u001b[0m\u001b[0;34m]\u001b[0m\u001b[0;34m)\u001b[0m\u001b[0;34m\u001b[0m\u001b[0m\n\u001b[1;32m   2217\u001b[0m \u001b[0;34m\u001b[0m\u001b[0m\n\u001b[0;32m-> 2218\u001b[0;31m         \u001b[0;32mreturn\u001b[0m \u001b[0mself\u001b[0m\u001b[0;34m.\u001b[0m\u001b[0m_vectorize_call\u001b[0m\u001b[0;34m(\u001b[0m\u001b[0mfunc\u001b[0m\u001b[0;34m=\u001b[0m\u001b[0mfunc\u001b[0m\u001b[0;34m,\u001b[0m \u001b[0margs\u001b[0m\u001b[0;34m=\u001b[0m\u001b[0mvargs\u001b[0m\u001b[0;34m)\u001b[0m\u001b[0;34m\u001b[0m\u001b[0m\n\u001b[0m\u001b[1;32m   2219\u001b[0m \u001b[0;34m\u001b[0m\u001b[0m\n\u001b[1;32m   2220\u001b[0m     \u001b[0;32mdef\u001b[0m \u001b[0m_get_ufunc_and_otypes\u001b[0m\u001b[0;34m(\u001b[0m\u001b[0mself\u001b[0m\u001b[0;34m,\u001b[0m \u001b[0mfunc\u001b[0m\u001b[0;34m,\u001b[0m \u001b[0margs\u001b[0m\u001b[0;34m)\u001b[0m\u001b[0;34m:\u001b[0m\u001b[0;34m\u001b[0m\u001b[0m\n",
      "\u001b[0;32m/Users/rohin/anaconda/lib/python2.7/site-packages/numpy/lib/function_base.pyc\u001b[0m in \u001b[0;36m_vectorize_call\u001b[0;34m(self, func, args)\u001b[0m\n\u001b[1;32m   2285\u001b[0m                       for _a in args]\n\u001b[1;32m   2286\u001b[0m \u001b[0;34m\u001b[0m\u001b[0m\n\u001b[0;32m-> 2287\u001b[0;31m             \u001b[0moutputs\u001b[0m \u001b[0;34m=\u001b[0m \u001b[0mufunc\u001b[0m\u001b[0;34m(\u001b[0m\u001b[0;34m*\u001b[0m\u001b[0minputs\u001b[0m\u001b[0;34m)\u001b[0m\u001b[0;34m\u001b[0m\u001b[0m\n\u001b[0m\u001b[1;32m   2288\u001b[0m \u001b[0;34m\u001b[0m\u001b[0m\n\u001b[1;32m   2289\u001b[0m             \u001b[0;32mif\u001b[0m \u001b[0mufunc\u001b[0m\u001b[0;34m.\u001b[0m\u001b[0mnout\u001b[0m \u001b[0;34m==\u001b[0m \u001b[0;36m1\u001b[0m\u001b[0;34m:\u001b[0m\u001b[0;34m\u001b[0m\u001b[0m\n",
      "\u001b[0;32m<ipython-input-68-1b6afcfe262f>\u001b[0m in \u001b[0;36mDC_LCDM\u001b[0;34m(z)\u001b[0m\n\u001b[1;32m      5\u001b[0m \u001b[0;34m\u001b[0m\u001b[0m\n\u001b[1;32m      6\u001b[0m \u001b[0;32mdef\u001b[0m \u001b[0mDC_LCDM\u001b[0m\u001b[0;34m(\u001b[0m\u001b[0mz\u001b[0m\u001b[0;34m)\u001b[0m\u001b[0;34m:\u001b[0m\u001b[0;34m\u001b[0m\u001b[0m\n\u001b[0;32m----> 7\u001b[0;31m   \u001b[0;32mreturn\u001b[0m \u001b[0mintegrate\u001b[0m\u001b[0;34m.\u001b[0m\u001b[0mquad\u001b[0m\u001b[0;34m(\u001b[0m\u001b[0mEz\u001b[0m\u001b[0;34m,\u001b[0m \u001b[0;36m0\u001b[0m\u001b[0;34m,\u001b[0m \u001b[0mz\u001b[0m\u001b[0;34m)\u001b[0m\u001b[0;34m[\u001b[0m\u001b[0;36m0\u001b[0m\u001b[0;34m]\u001b[0m\u001b[0;34m\u001b[0m\u001b[0m\n\u001b[0m\u001b[1;32m      8\u001b[0m \u001b[0mDC_LCDM\u001b[0m\u001b[0;34m=\u001b[0m\u001b[0mnp\u001b[0m\u001b[0;34m.\u001b[0m\u001b[0mvectorize\u001b[0m\u001b[0;34m(\u001b[0m\u001b[0mDC_LCDM\u001b[0m\u001b[0;34m)\u001b[0m\u001b[0;34m\u001b[0m\u001b[0m\n",
      "\u001b[0;32m/Users/rohin/anaconda/lib/python2.7/site-packages/scipy/integrate/quadpack.pyc\u001b[0m in \u001b[0;36mquad\u001b[0;34m(func, a, b, args, full_output, epsabs, epsrel, limit, points, weight, wvar, wopts, maxp1, limlst)\u001b[0m\n\u001b[1;32m    313\u001b[0m     \u001b[0;32mif\u001b[0m \u001b[0;34m(\u001b[0m\u001b[0mweight\u001b[0m \u001b[0;32mis\u001b[0m \u001b[0mNone\u001b[0m\u001b[0;34m)\u001b[0m\u001b[0;34m:\u001b[0m\u001b[0;34m\u001b[0m\u001b[0m\n\u001b[1;32m    314\u001b[0m         retval = _quad(func, a, b, args, full_output, epsabs, epsrel, limit,\n\u001b[0;32m--> 315\u001b[0;31m                        points)\n\u001b[0m\u001b[1;32m    316\u001b[0m     \u001b[0;32melse\u001b[0m\u001b[0;34m:\u001b[0m\u001b[0;34m\u001b[0m\u001b[0m\n\u001b[1;32m    317\u001b[0m         retval = _quad_weight(func, a, b, args, full_output, epsabs, epsrel,\n",
      "\u001b[0;32m/Users/rohin/anaconda/lib/python2.7/site-packages/scipy/integrate/quadpack.pyc\u001b[0m in \u001b[0;36m_quad\u001b[0;34m(func, a, b, args, full_output, epsabs, epsrel, limit, points)\u001b[0m\n\u001b[1;32m    378\u001b[0m     \u001b[0;32mif\u001b[0m \u001b[0mpoints\u001b[0m \u001b[0;32mis\u001b[0m \u001b[0mNone\u001b[0m\u001b[0;34m:\u001b[0m\u001b[0;34m\u001b[0m\u001b[0m\n\u001b[1;32m    379\u001b[0m         \u001b[0;32mif\u001b[0m \u001b[0minfbounds\u001b[0m \u001b[0;34m==\u001b[0m \u001b[0;36m0\u001b[0m\u001b[0;34m:\u001b[0m\u001b[0;34m\u001b[0m\u001b[0m\n\u001b[0;32m--> 380\u001b[0;31m             \u001b[0;32mreturn\u001b[0m \u001b[0m_quadpack\u001b[0m\u001b[0;34m.\u001b[0m\u001b[0m_qagse\u001b[0m\u001b[0;34m(\u001b[0m\u001b[0mfunc\u001b[0m\u001b[0;34m,\u001b[0m\u001b[0ma\u001b[0m\u001b[0;34m,\u001b[0m\u001b[0mb\u001b[0m\u001b[0;34m,\u001b[0m\u001b[0margs\u001b[0m\u001b[0;34m,\u001b[0m\u001b[0mfull_output\u001b[0m\u001b[0;34m,\u001b[0m\u001b[0mepsabs\u001b[0m\u001b[0;34m,\u001b[0m\u001b[0mepsrel\u001b[0m\u001b[0;34m,\u001b[0m\u001b[0mlimit\u001b[0m\u001b[0;34m)\u001b[0m\u001b[0;34m\u001b[0m\u001b[0m\n\u001b[0m\u001b[1;32m    381\u001b[0m         \u001b[0;32melse\u001b[0m\u001b[0;34m:\u001b[0m\u001b[0;34m\u001b[0m\u001b[0m\n\u001b[1;32m    382\u001b[0m             \u001b[0;32mreturn\u001b[0m \u001b[0m_quadpack\u001b[0m\u001b[0;34m.\u001b[0m\u001b[0m_qagie\u001b[0m\u001b[0;34m(\u001b[0m\u001b[0mfunc\u001b[0m\u001b[0;34m,\u001b[0m\u001b[0mbound\u001b[0m\u001b[0;34m,\u001b[0m\u001b[0minfbounds\u001b[0m\u001b[0;34m,\u001b[0m\u001b[0margs\u001b[0m\u001b[0;34m,\u001b[0m\u001b[0mfull_output\u001b[0m\u001b[0;34m,\u001b[0m\u001b[0mepsabs\u001b[0m\u001b[0;34m,\u001b[0m\u001b[0mepsrel\u001b[0m\u001b[0;34m,\u001b[0m\u001b[0mlimit\u001b[0m\u001b[0;34m)\u001b[0m\u001b[0;34m\u001b[0m\u001b[0m\n",
      "\u001b[0;32m<ipython-input-68-1b6afcfe262f>\u001b[0m in \u001b[0;36m<lambda>\u001b[0;34m(x)\u001b[0m\n\u001b[0;32m----> 1\u001b[0;31m \u001b[0mEz\u001b[0m \u001b[0;34m=\u001b[0m \u001b[0;32mlambda\u001b[0m \u001b[0mx\u001b[0m\u001b[0;34m:\u001b[0m \u001b[0;36m1\u001b[0m\u001b[0;34m/\u001b[0m\u001b[0mm\u001b[0m\u001b[0;34m.\u001b[0m\u001b[0msqrt\u001b[0m\u001b[0;34m(\u001b[0m\u001b[0;36m0.3\u001b[0m\u001b[0;34m*\u001b[0m\u001b[0;34m(\u001b[0m\u001b[0;36m1\u001b[0m\u001b[0;34m+\u001b[0m\u001b[0mx\u001b[0m\u001b[0;34m)\u001b[0m\u001b[0;34m**\u001b[0m\u001b[0;36m3\u001b[0m\u001b[0;34m+\u001b[0m\u001b[0;36m0.7\u001b[0m\u001b[0;34m)\u001b[0m\u001b[0;34m\u001b[0m\u001b[0m\n\u001b[0m\u001b[1;32m      2\u001b[0m \u001b[0;34m\u001b[0m\u001b[0m\n\u001b[1;32m      3\u001b[0m \u001b[0mnp\u001b[0m\u001b[0;34m.\u001b[0m\u001b[0mvectorize\u001b[0m\u001b[0;34m(\u001b[0m\u001b[0mEz\u001b[0m\u001b[0;34m)\u001b[0m\u001b[0;34m\u001b[0m\u001b[0m\n\u001b[1;32m      4\u001b[0m \u001b[0;31m#Calculate comoving distance of a data point using the Redshift - This definition is based on the cosmology model we take. Here the distance for E-dS universe is considered. Also note that c/H0 ratio is cancelled in the equations and hence not taken.\u001b[0m\u001b[0;34m\u001b[0m\u001b[0;34m\u001b[0m\u001b[0m\n\u001b[1;32m      5\u001b[0m \u001b[0;34m\u001b[0m\u001b[0m\n",
      "\u001b[0;31mValueError\u001b[0m: math domain error"
     ]
    }
   ],
   "source": [
    "comovlcdm=DC_LCDM(fdat[1].data['Z'])\n",
    "comovlcdm"
   ]
  },
  {
   "cell_type": "code",
   "execution_count": null,
   "metadata": {
    "collapsed": true
   },
   "outputs": [],
   "source": []
  },
  {
   "cell_type": "code",
   "execution_count": null,
   "metadata": {
    "collapsed": true
   },
   "outputs": [],
   "source": []
  },
  {
   "cell_type": "markdown",
   "metadata": {},
   "source": [
    "Random catalog created based on the survey limitations also taken from http://cosmo.nyu.edu/~eak306/SDSS-LRG.html"
   ]
  },
  {
   "cell_type": "code",
   "execution_count": 46,
   "metadata": {
    "collapsed": true
   },
   "outputs": [],
   "source": [
    "dataR=fits.open(\"/Users/rohin/Downloads/random-DR7-Full.fits\")"
   ]
  },
  {
   "cell_type": "code",
   "execution_count": 47,
   "metadata": {},
   "outputs": [
    {
     "data": {
      "text/plain": [
       "[<astropy.io.fits.hdu.image.PrimaryHDU object at 0x10e515710>, <astropy.io.fits.hdu.table.BinTableHDU object at 0x10daf7c50>]"
      ]
     },
     "execution_count": 47,
     "metadata": {},
     "output_type": "execute_result"
    }
   ],
   "source": [
    "dataR"
   ]
  },
  {
   "cell_type": "code",
   "execution_count": 48,
   "metadata": {
    "collapsed": true
   },
   "outputs": [],
   "source": [
    "dataR=dataR[1].data"
   ]
  },
  {
   "cell_type": "code",
   "execution_count": 49,
   "metadata": {},
   "outputs": [
    {
     "data": {
      "text/plain": [
       "1664948"
      ]
     },
     "execution_count": 49,
     "metadata": {},
     "output_type": "execute_result"
    }
   ],
   "source": [
    "len(dataR)"
   ]
  },
  {
   "cell_type": "code",
   "execution_count": 19,
   "metadata": {
    "collapsed": true
   },
   "outputs": [],
   "source": [
    "NSIDE=512\n",
    "dr72hpix=hu.HealPix(\"ring\",NSIDE)"
   ]
  },
  {
   "cell_type": "code",
   "execution_count": 20,
   "metadata": {
    "collapsed": true
   },
   "outputs": [],
   "source": [
    "pixdata = open(\"./output/pixdatadr72VAGCfullrand.dat\",'w')\n",
    "pixdata.write(\"z\\t pix \\n\")\n",
    "\n",
    "for i in range(0,len(data)-1):\n",
    "    pixdata.write(\"%f\\t\" %data['z'][i])\n",
    "    pixdata.write(\"%d\\n\" %dr72hpix.eq2pix(dataR['ra'][i],dataR['dec'][i]))\n",
    "pixdata.close()"
   ]
  },
  {
   "cell_type": "code",
   "execution_count": 21,
   "metadata": {
    "collapsed": true
   },
   "outputs": [],
   "source": [
    "pixdata = ascii.read(\"./output/pixdatadr72VAGCfullrand.dat\")\n",
    "hpixdata=np.array(np.zeros(hu.nside2npix(NSIDE)))\n",
    "for j in range(len(pixdata)):\n",
    "    hpixdata[pixdata[j]['pix']]+=1"
   ]
  },
  {
   "cell_type": "code",
   "execution_count": 22,
   "metadata": {},
   "outputs": [
    {
     "data": {
      "text/plain": [
       "array([ 0.,  0.,  0., ...,  0.,  0.,  0.])"
      ]
     },
     "execution_count": 22,
     "metadata": {},
     "output_type": "execute_result"
    }
   ],
   "source": [
    "hpixdata"
   ]
  },
  {
   "cell_type": "code",
   "execution_count": 23,
   "metadata": {},
   "outputs": [
    {
     "data": {
      "image/png": "[encoded data removed]",
      "text/plain": [
       "<matplotlib.figure.Figure at 0x10337f890>"
      ]
     },
     "metadata": {},
     "output_type": "display_data"
    }
   ],
   "source": [
    "hu.mollview(hpixdata,rot=180)"
   ]
  },
  {
   "cell_type": "code",
   "execution_count": 24,
   "metadata": {},
   "outputs": [
    {
     "data": {
      "image/png": "[encoded data removed]",
      "text/plain": [
       "<matplotlib.figure.Figure at 0x10e179fd0>"
      ]
     },
     "metadata": {},
     "output_type": "display_data"
    }
   ],
   "source": [
    "hu.orthview(hpixdata)"
   ]
  }
 ],
 "metadata": {
  "kernelspec": {
   "display_name": "Python 2",
   "language": "python",
   "name": "python2"
  },
  "language_info": {
   "codemirror_mode": {
    "name": "ipython",
    "version": 2
   },
   "file_extension": ".py",
   "mimetype": "text/x-python",
   "name": "python",
   "nbconvert_exporter": "python",
   "pygments_lexer": "ipython2",
   "version": "2.7.13"
  }
 },
 "nbformat": 4,
 "nbformat_minor": 1
}
