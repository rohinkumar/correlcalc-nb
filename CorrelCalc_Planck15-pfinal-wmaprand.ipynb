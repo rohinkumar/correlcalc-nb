{
 "cells": [
  {
   "cell_type": "markdown",
   "metadata": {},
   "source": [
    "# Correlation function of DR72 SDSS VAGC Catalog"
   ]
  },
  {
   "cell_type": "markdown",
   "metadata": {},
   "source": [
    "First import all the modules such as healpy and astropy needed for analyzing the structure"
   ]
  },
  {
   "cell_type": "code",
   "execution_count": 1,
   "metadata": {
    "collapsed": true
   },
   "outputs": [],
   "source": [
    "import healpix_util as hu\n",
    "import astropy as ap\n",
    "import numpy as np\n",
    "from astropy.io import fits\n",
    "from astropy.table import Table\n",
    "import astropy.io.ascii as ascii\n",
    "from astropy.io import fits\n",
    "from astropy.constants import c\n",
    "import matplotlib.pyplot as plt\n",
    "import math as m\n",
    "from math import pi\n",
    "import scipy.special as sp\n",
    "from scipy import integrate\n",
    "import warnings\n",
    "from sklearn.neighbors import BallTree\n",
    "import pickle\n",
    "import pymangle\n",
    "from scipy.optimize import curve_fit\n",
    "%matplotlib inline\n",
    "from progressbar import *\n",
    "from tqdm import *\n",
    "from functools import partial\n",
    "from scipy.stats import gaussian_kde\n",
    "from __future__ import division"
   ]
  },
  {
   "cell_type": "code",
   "execution_count": 2,
   "metadata": {
    "collapsed": true
   },
   "outputs": [
    {
     "data": {
      "text/html": [
       "&lt;Table length=105831&gt;\n",
       "<table id=\"table5049363792\" class=\"table-striped table-bordered table-condensed\">\n",
       "<thead><tr><th>col1</th><th>col2</th><th>col3</th><th>col4</th><th>col5</th><th>col6</th><th>col7</th><th>col8</th><th>col9</th><th>col10</th><th>col11</th><th>col12</th></tr></thead>\n",
       "<thead><tr><th>float64</th><th>float64</th><th>float64</th><th>float64</th><th>float64</th><th>float64</th><th>float64</th><th>float64</th><th>float64</th><th>int64</th><th>int64</th><th>int64</th></tr></thead>\n",
       "<tr><td>56.1604523761</td><td>-0.221359772462</td><td>0.4501842</td><td>-22.0970516205</td><td>0.9943343</td><td>0.310859</td><td>1.7112147</td><td>1.0</td><td>0.9901478</td><td>32763</td><td>33480</td><td>784</td></tr>\n",
       "<tr><td>58.247844859</td><td>0.216329004672</td><td>0.3671646</td><td>-21.8688602448</td><td>0.9533011</td><td>0.7922078</td><td>0.9208817</td><td>1.0</td><td>0.9506173</td><td>303471</td><td>311902</td><td>3790</td></tr>\n",
       "<tr><td>54.445380928</td><td>0.619974218725</td><td>0.4133244</td><td>-21.7306137085</td><td>1.0</td><td>0.4315305</td><td>1.4082278</td><td>1.0</td><td>0.9183673</td><td>43630</td><td>44552</td><td>779</td></tr>\n",
       "<tr><td>54.4879828915</td><td>0.485825651457</td><td>0.3224697</td><td>-21.8775806427</td><td>1.0</td><td>0.9240486</td><td>0.8174705</td><td>1.0</td><td>0.9183673</td><td>43622</td><td>44544</td><td>779</td></tr>\n",
       "<tr><td>54.4932987631</td><td>0.483249792951</td><td>0.3226457</td><td>-21.6763000488</td><td>1.0</td><td>0.9249313</td><td>0.8168564</td><td>1.0</td><td>0.9183673</td><td>43622</td><td>44544</td><td>779</td></tr>\n",
       "<tr><td>55.5558858448</td><td>0.582441686132</td><td>0.2334688</td><td>-21.5131568909</td><td>0.9943343</td><td>1.0009493</td><td>0.7672175</td><td>1.0</td><td>0.9901478</td><td>43723</td><td>44650</td><td>784</td></tr>\n",
       "<tr><td>55.5686146471</td><td>0.608277412471</td><td>0.3136448</td><td>-21.5073776245</td><td>0.9943343</td><td>0.8425107</td><td>0.8784812</td><td>1.0</td><td>0.9901478</td><td>43727</td><td>44654</td><td>784</td></tr>\n",
       "<tr><td>55.5972002797</td><td>0.434026434704</td><td>0.3517163</td><td>-21.5829257965</td><td>0.9943343</td><td>0.8903325</td><td>0.8416406</td><td>1.0</td><td>0.9901478</td><td>43731</td><td>44658</td><td>784</td></tr>\n",
       "<tr><td>55.7617273511</td><td>0.495315330472</td><td>0.403208</td><td>-21.3501148224</td><td>0.9943343</td><td>0.4957986</td><td>1.2868758</td><td>1.0</td><td>0.9901478</td><td>43740</td><td>44667</td><td>784</td></tr>\n",
       "<tr><td>55.8125115924</td><td>0.521042073319</td><td>0.3769101</td><td>-21.6775398254</td><td>0.9943343</td><td>0.6858334</td><td>1.0255566</td><td>1.0</td><td>0.9901478</td><td>43740</td><td>44667</td><td>784</td></tr>\n",
       "<tr><td>...</td><td>...</td><td>...</td><td>...</td><td>...</td><td>...</td><td>...</td><td>...</td><td>...</td><td>...</td><td>...</td><td>...</td></tr>\n",
       "<tr><td>162.204837648</td><td>9.136054829</td><td>0.2285027</td><td>-21.6524200439</td><td>0.8557692</td><td>1.0650909</td><td>0.7297975</td><td>1.0</td><td>0.9716312</td><td>633991</td><td>650894</td><td>3789</td></tr>\n",
       "<tr><td>162.407014385</td><td>9.24223618476</td><td>0.2233595</td><td>-21.6275596619</td><td>0.8557692</td><td>1.0816779</td><td>0.7207074</td><td>1.0</td><td>0.9716312</td><td>633995</td><td>650898</td><td>3789</td></tr>\n",
       "<tr><td>162.631596919</td><td>9.11224932272</td><td>0.3507926</td><td>-21.7870635986</td><td>0.8557692</td><td>0.8983272</td><td>0.835781</td><td>1.0</td><td>0.9716312</td><td>633997</td><td>650900</td><td>3789</td></tr>\n",
       "<tr><td>162.792857827</td><td>9.06585769142</td><td>0.2211935</td><td>-22.1479187012</td><td>0.9936034</td><td>1.0758724</td><td>0.7238631</td><td>2.0</td><td>0.9100257</td><td>634001</td><td>650905</td><td>8537</td></tr>\n",
       "<tr><td>162.752716952</td><td>9.23526068256</td><td>0.3132616</td><td>-21.6552429199</td><td>0.8557692</td><td>0.8386317</td><td>0.8816114</td><td>1.0</td><td>0.9716312</td><td>634000</td><td>650903</td><td>3789</td></tr>\n",
       "<tr><td>162.013077975</td><td>9.58703483653</td><td>0.2450086</td><td>-21.6949653625</td><td>0.9907407</td><td>0.9167792</td><td>0.8225636</td><td>1.0</td><td>0.8892989</td><td>323046</td><td>331902</td><td>3787</td></tr>\n",
       "<tr><td>162.142350287</td><td>9.94163874778</td><td>0.3369665</td><td>-21.4902000427</td><td>0.6296296</td><td>1.0071049</td><td>0.7634606</td><td>1.0</td><td>0.8181818</td><td>634079</td><td>650985</td><td>3788</td></tr>\n",
       "<tr><td>162.160914924</td><td>9.86128115397</td><td>0.3681125</td><td>-21.9206676483</td><td>0.6296296</td><td>0.7820635</td><td>0.9299332</td><td>1.0</td><td>0.8181818</td><td>634079</td><td>650985</td><td>3788</td></tr>\n",
       "<tr><td>162.249397448</td><td>9.95005411419</td><td>0.2213098</td><td>-21.5619354248</td><td>0.8557692</td><td>1.0762938</td><td>0.7236331</td><td>1.0</td><td>0.9716312</td><td>634081</td><td>650987</td><td>3789</td></tr>\n",
       "<tr><td>162.61877369</td><td>9.9153390136</td><td>0.3470703</td><td>-21.6079502106</td><td>0.8557692</td><td>0.947932</td><td>0.8011724</td><td>1.0</td><td>0.9716312</td><td>634087</td><td>650993</td><td>3789</td></tr>\n",
       "</table>"
      ],
      "text/plain": [
       "<Table length=105831>\n",
       "     col1           col2         col3        col4      ... col10  col11  col12\n",
       "   float64        float64      float64     float64     ... int64  int64  int64\n",
       "------------- --------------- --------- -------------- ... ------ ------ -----\n",
       "56.1604523761 -0.221359772462 0.4501842 -22.0970516205 ...  32763  33480   784\n",
       " 58.247844859  0.216329004672 0.3671646 -21.8688602448 ... 303471 311902  3790\n",
       " 54.445380928  0.619974218725 0.4133244 -21.7306137085 ...  43630  44552   779\n",
       "54.4879828915  0.485825651457 0.3224697 -21.8775806427 ...  43622  44544   779\n",
       "54.4932987631  0.483249792951 0.3226457 -21.6763000488 ...  43622  44544   779\n",
       "55.5558858448  0.582441686132 0.2334688 -21.5131568909 ...  43723  44650   784\n",
       "55.5686146471  0.608277412471 0.3136448 -21.5073776245 ...  43727  44654   784\n",
       "55.5972002797  0.434026434704 0.3517163 -21.5829257965 ...  43731  44658   784\n",
       "55.7617273511  0.495315330472  0.403208 -21.3501148224 ...  43740  44667   784\n",
       "55.8125115924  0.521042073319 0.3769101 -21.6775398254 ...  43740  44667   784\n",
       "          ...             ...       ...            ... ...    ...    ...   ...\n",
       "162.204837648     9.136054829 0.2285027 -21.6524200439 ... 633991 650894  3789\n",
       "162.407014385   9.24223618476 0.2233595 -21.6275596619 ... 633995 650898  3789\n",
       "162.631596919   9.11224932272 0.3507926 -21.7870635986 ... 633997 650900  3789\n",
       "162.792857827   9.06585769142 0.2211935 -22.1479187012 ... 634001 650905  8537\n",
       "162.752716952   9.23526068256 0.3132616 -21.6552429199 ... 634000 650903  3789\n",
       "162.013077975   9.58703483653 0.2450086 -21.6949653625 ... 323046 331902  3787\n",
       "162.142350287   9.94163874778 0.3369665 -21.4902000427 ... 634079 650985  3788\n",
       "162.160914924   9.86128115397 0.3681125 -21.9206676483 ... 634079 650985  3788\n",
       "162.249397448   9.95005411419 0.2213098 -21.5619354248 ... 634081 650987  3789\n",
       " 162.61877369    9.9153390136 0.3470703 -21.6079502106 ... 634087 650993  3789"
      ]
     },
     "execution_count": 2,
     "metadata": {},
     "output_type": "execute_result"
    }
   ],
   "source": [
    "dr7full=ascii.read(\"./input/DR7-Full.ascii\")\n",
    "dr7full"
   ]
  },
  {
   "cell_type": "code",
   "execution_count": 3,
   "metadata": {
    "collapsed": true
   },
   "outputs": [],
   "source": [
    "z=dr7full['col3']\n",
    "rad=dr7full['col1']\n",
    "decd=dr7full['col2']"
   ]
  },
  {
   "cell_type": "code",
   "execution_count": 4,
   "metadata": {},
   "outputs": [
    {
     "data": {
      "text/plain": [
       "<numpy.lib.function_base.vectorize at 0x12cf72450>"
      ]
     },
     "execution_count": 4,
     "metadata": {},
     "output_type": "execute_result"
    }
   ],
   "source": [
    "#Ez = lambda x: 1.0/m.sqrt(0.3*(1+x)**3+0.7)\n",
    "Om=0.3121\n",
    "Ol=0.6879\n",
    "Ok=0.0\n",
    "def Ez(zv):\n",
    "    return 1.0/m.sqrt(Om*(1.0+zv)**3+Ok*(1.0+zv)**2+Ol)\n",
    "\n",
    "np.vectorize(Ez)\n",
    "#Calculate comoving distance of a data point using the Redshift - This definition is based on the cosmology model we take. Here the distance for E-dS universe is considered. Also note that c/H0 ratio is cancelled in the equations and hence not taken."
   ]
  },
  {
   "cell_type": "code",
   "execution_count": 5,
   "metadata": {
    "collapsed": true
   },
   "outputs": [],
   "source": [
    "def DC_LCDM(z):\n",
    "  return integrate.quad(Ez, 0, z)[0]\n",
    "DC_LCDM=np.vectorize(DC_LCDM)"
   ]
  },
  {
   "cell_type": "code",
   "execution_count": 6,
   "metadata": {},
   "outputs": [
    {
     "data": {
      "text/plain": [
       "array(1.1971544579923434)"
      ]
     },
     "execution_count": 6,
     "metadata": {},
     "output_type": "execute_result"
    }
   ],
   "source": [
    "DC_LCDM(2.0)"
   ]
  },
  {
   "cell_type": "code",
   "execution_count": 7,
   "metadata": {
    "collapsed": true
   },
   "outputs": [
    {
     "data": {
      "text/html": [
       "&lt;Column name=&apos;col3&apos; dtype=&apos;float64&apos; length=105831&gt;\n",
       "<table>\n",
       "<tr><td>0.400825072152</td></tr>\n",
       "<tr><td>0.334358854848</td></tr>\n",
       "<tr><td>0.371719971507</td></tr>\n",
       "<tr><td>0.297202470943</td></tr>\n",
       "<tr><td>0.297350694898</td></tr>\n",
       "<tr><td>0.220295493174</td></tr>\n",
       "<tr><td>0.289750863213</td></tr>\n",
       "<tr><td>0.321625971389</td></tr>\n",
       "<tr><td>0.363619224008</td></tr>\n",
       "<tr><td>0.342331977198</td></tr>\n",
       "<tr><td>0.161877291501</td></tr>\n",
       "<tr><td>0.279563988995</td></tr>\n",
       "<tr><td>...</td></tr>\n",
       "<tr><td>0.209617149644</td></tr>\n",
       "<tr><td>0.209901421966</td></tr>\n",
       "<tr><td>0.215888920354</td></tr>\n",
       "<tr><td>0.211312315124</td></tr>\n",
       "<tr><td>0.320860968173</td></tr>\n",
       "<tr><td>0.20938100567</td></tr>\n",
       "<tr><td>0.289426430964</td></tr>\n",
       "<tr><td>0.230487923135</td></tr>\n",
       "<tr><td>0.309360692249</td></tr>\n",
       "<tr><td>0.335136376898</td></tr>\n",
       "<tr><td>0.209484763421</td></tr>\n",
       "<tr><td>0.31777397962</td></tr>\n",
       "</table>"
      ],
      "text/plain": [
       "<Column name='col3' dtype='float64' length=105831>\n",
       "0.400825072152\n",
       "0.334358854848\n",
       "0.371719971507\n",
       "0.297202470943\n",
       "0.297350694898\n",
       "0.220295493174\n",
       "0.289750863213\n",
       "0.321625971389\n",
       "0.363619224008\n",
       "0.342331977198\n",
       "0.161877291501\n",
       "0.279563988995\n",
       "           ...\n",
       "0.209617149644\n",
       "0.209901421966\n",
       "0.215888920354\n",
       "0.211312315124\n",
       "0.320860968173\n",
       " 0.20938100567\n",
       "0.289426430964\n",
       "0.230487923135\n",
       "0.309360692249\n",
       "0.335136376898\n",
       "0.209484763421\n",
       " 0.31777397962"
      ]
     },
     "execution_count": 7,
     "metadata": {},
     "output_type": "execute_result"
    }
   ],
   "source": [
    "DC=DC_LCDM(z)\n",
    "DC"
   ]
  },
  {
   "cell_type": "code",
   "execution_count": 8,
   "metadata": {
    "collapsed": true
   },
   "outputs": [],
   "source": [
    "dr7f = open(\"./output/DR72srarfPlanck.dat\",'w')\n",
    "dr7f.write(\"z\\t ra\\t dec\\t s\\t rar\\t decr \\n\")\n",
    "\n",
    "for i in range(0,len(dr7full)):\n",
    "    dr7f.write(\"%f\\t \" %z[i])\n",
    "    dr7f.write(\"%f\\t %f\\t \" %(rad[i],decd[i]))\n",
    "    dr7f.write(\"%f\\t \" %DC[i])\n",
    "    dr7f.write(\"%f\\t %f\\n \" %(rad[i]*pi/180.0,decd[i]*pi/180.0))\n",
    "dr7f.close()"
   ]
  },
  {
   "cell_type": "code",
   "execution_count": 10,
   "metadata": {
    "collapsed": true
   },
   "outputs": [],
   "source": [
    "data=ascii.read(\"./output/DR72srarfPlanck.dat\")"
   ]
  },
  {
   "cell_type": "code",
   "execution_count": 8,
   "metadata": {
    "collapsed": true
   },
   "outputs": [
    {
     "data": {
      "text/html": [
       "&lt;Column name=&apos;z&apos; dtype=&apos;float64&apos; length=105831&gt;\n",
       "<table>\n",
       "<tr><td>0.450184</td></tr>\n",
       "<tr><td>0.367165</td></tr>\n",
       "<tr><td>0.413324</td></tr>\n",
       "<tr><td>0.32247</td></tr>\n",
       "<tr><td>0.322646</td></tr>\n",
       "<tr><td>0.233469</td></tr>\n",
       "<tr><td>0.313645</td></tr>\n",
       "<tr><td>0.351716</td></tr>\n",
       "<tr><td>0.403208</td></tr>\n",
       "<tr><td>0.37691</td></tr>\n",
       "<tr><td>0.168714</td></tr>\n",
       "<tr><td>0.301653</td></tr>\n",
       "<tr><td>...</td></tr>\n",
       "<tr><td>0.221458</td></tr>\n",
       "<tr><td>0.221777</td></tr>\n",
       "<tr><td>0.228503</td></tr>\n",
       "<tr><td>0.223359</td></tr>\n",
       "<tr><td>0.350793</td></tr>\n",
       "<tr><td>0.221193</td></tr>\n",
       "<tr><td>0.313262</td></tr>\n",
       "<tr><td>0.245009</td></tr>\n",
       "<tr><td>0.336967</td></tr>\n",
       "<tr><td>0.368113</td></tr>\n",
       "<tr><td>0.22131</td></tr>\n",
       "<tr><td>0.34707</td></tr>\n",
       "</table>"
      ],
      "text/plain": [
       "<Column name='z' dtype='float64' length=105831>\n",
       "0.450184\n",
       "0.367165\n",
       "0.413324\n",
       " 0.32247\n",
       "0.322646\n",
       "0.233469\n",
       "0.313645\n",
       "0.351716\n",
       "0.403208\n",
       " 0.37691\n",
       "0.168714\n",
       "0.301653\n",
       "     ...\n",
       "0.221458\n",
       "0.221777\n",
       "0.228503\n",
       "0.223359\n",
       "0.350793\n",
       "0.221193\n",
       "0.313262\n",
       "0.245009\n",
       "0.336967\n",
       "0.368113\n",
       " 0.22131\n",
       " 0.34707"
      ]
     },
     "execution_count": 8,
     "metadata": {},
     "output_type": "execute_result"
    }
   ],
   "source": [
    "data['z']"
   ]
  },
  {
   "cell_type": "code",
   "execution_count": 9,
   "metadata": {
    "collapsed": true
   },
   "outputs": [
    {
     "data": {
      "text/html": [
       "&lt;Column name=&apos;s&apos; dtype=&apos;float64&apos; length=105831&gt;\n",
       "<table>\n",
       "<tr><td>0.400825</td></tr>\n",
       "<tr><td>0.334359</td></tr>\n",
       "<tr><td>0.37172</td></tr>\n",
       "<tr><td>0.297202</td></tr>\n",
       "<tr><td>0.297351</td></tr>\n",
       "<tr><td>0.220295</td></tr>\n",
       "<tr><td>0.289751</td></tr>\n",
       "<tr><td>0.321626</td></tr>\n",
       "<tr><td>0.363619</td></tr>\n",
       "<tr><td>0.342332</td></tr>\n",
       "<tr><td>0.161877</td></tr>\n",
       "<tr><td>0.279564</td></tr>\n",
       "<tr><td>...</td></tr>\n",
       "<tr><td>0.209617</td></tr>\n",
       "<tr><td>0.209901</td></tr>\n",
       "<tr><td>0.215889</td></tr>\n",
       "<tr><td>0.211312</td></tr>\n",
       "<tr><td>0.320861</td></tr>\n",
       "<tr><td>0.209381</td></tr>\n",
       "<tr><td>0.289426</td></tr>\n",
       "<tr><td>0.230488</td></tr>\n",
       "<tr><td>0.309361</td></tr>\n",
       "<tr><td>0.335136</td></tr>\n",
       "<tr><td>0.209485</td></tr>\n",
       "<tr><td>0.317774</td></tr>\n",
       "</table>"
      ],
      "text/plain": [
       "<Column name='s' dtype='float64' length=105831>\n",
       "0.400825\n",
       "0.334359\n",
       " 0.37172\n",
       "0.297202\n",
       "0.297351\n",
       "0.220295\n",
       "0.289751\n",
       "0.321626\n",
       "0.363619\n",
       "0.342332\n",
       "0.161877\n",
       "0.279564\n",
       "     ...\n",
       "0.209617\n",
       "0.209901\n",
       "0.215889\n",
       "0.211312\n",
       "0.320861\n",
       "0.209381\n",
       "0.289426\n",
       "0.230488\n",
       "0.309361\n",
       "0.335136\n",
       "0.209485\n",
       "0.317774"
      ]
     },
     "execution_count": 9,
     "metadata": {},
     "output_type": "execute_result"
    }
   ],
   "source": [
    "data['s']"
   ]
  },
  {
   "cell_type": "code",
   "execution_count": 10,
   "metadata": {
    "collapsed": true
   },
   "outputs": [
    {
     "data": {
      "text/html": [
       "&lt;Column name=&apos;rar&apos; dtype=&apos;float64&apos; length=105831&gt;\n",
       "<table>\n",
       "<tr><td>0.980185</td></tr>\n",
       "<tr><td>1.016617</td></tr>\n",
       "<tr><td>0.950251</td></tr>\n",
       "<tr><td>0.950995</td></tr>\n",
       "<tr><td>0.951087</td></tr>\n",
       "<tr><td>0.969633</td></tr>\n",
       "<tr><td>0.969855</td></tr>\n",
       "<tr><td>0.970354</td></tr>\n",
       "<tr><td>0.973226</td></tr>\n",
       "<tr><td>0.974112</td></tr>\n",
       "<tr><td>0.97513</td></tr>\n",
       "<tr><td>0.976081</td></tr>\n",
       "<tr><td>...</td></tr>\n",
       "<tr><td>2.828867</td></tr>\n",
       "<tr><td>2.829448</td></tr>\n",
       "<tr><td>2.831008</td></tr>\n",
       "<tr><td>2.834537</td></tr>\n",
       "<tr><td>2.838457</td></tr>\n",
       "<tr><td>2.841271</td></tr>\n",
       "<tr><td>2.840571</td></tr>\n",
       "<tr><td>2.827662</td></tr>\n",
       "<tr><td>2.829918</td></tr>\n",
       "<tr><td>2.830242</td></tr>\n",
       "<tr><td>2.831786</td></tr>\n",
       "<tr><td>2.838233</td></tr>\n",
       "</table>"
      ],
      "text/plain": [
       "<Column name='rar' dtype='float64' length=105831>\n",
       "0.980185\n",
       "1.016617\n",
       "0.950251\n",
       "0.950995\n",
       "0.951087\n",
       "0.969633\n",
       "0.969855\n",
       "0.970354\n",
       "0.973226\n",
       "0.974112\n",
       " 0.97513\n",
       "0.976081\n",
       "     ...\n",
       "2.828867\n",
       "2.829448\n",
       "2.831008\n",
       "2.834537\n",
       "2.838457\n",
       "2.841271\n",
       "2.840571\n",
       "2.827662\n",
       "2.829918\n",
       "2.830242\n",
       "2.831786\n",
       "2.838233"
      ]
     },
     "execution_count": 10,
     "metadata": {},
     "output_type": "execute_result"
    }
   ],
   "source": [
    "data['rar']"
   ]
  },
  {
   "cell_type": "code",
   "execution_count": 11,
   "metadata": {
    "collapsed": true
   },
   "outputs": [
    {
     "data": {
      "text/html": [
       "&lt;Column name=&apos;decr&apos; dtype=&apos;float64&apos; length=105831&gt;\n",
       "<table>\n",
       "<tr><td>-0.003863</td></tr>\n",
       "<tr><td>0.003776</td></tr>\n",
       "<tr><td>0.010821</td></tr>\n",
       "<tr><td>0.008479</td></tr>\n",
       "<tr><td>0.008434</td></tr>\n",
       "<tr><td>0.010166</td></tr>\n",
       "<tr><td>0.010616</td></tr>\n",
       "<tr><td>0.007575</td></tr>\n",
       "<tr><td>0.008645</td></tr>\n",
       "<tr><td>0.009094</td></tr>\n",
       "<tr><td>0.008617</td></tr>\n",
       "<tr><td>0.008456</td></tr>\n",
       "<tr><td>...</td></tr>\n",
       "<tr><td>0.159259</td></tr>\n",
       "<tr><td>0.159261</td></tr>\n",
       "<tr><td>0.159454</td></tr>\n",
       "<tr><td>0.161307</td></tr>\n",
       "<tr><td>0.159039</td></tr>\n",
       "<tr><td>0.158229</td></tr>\n",
       "<tr><td>0.161186</td></tr>\n",
       "<tr><td>0.167325</td></tr>\n",
       "<tr><td>0.173514</td></tr>\n",
       "<tr><td>0.172112</td></tr>\n",
       "<tr><td>0.173661</td></tr>\n",
       "<tr><td>0.173055</td></tr>\n",
       "</table>"
      ],
      "text/plain": [
       "<Column name='decr' dtype='float64' length=105831>\n",
       "-0.003863\n",
       " 0.003776\n",
       " 0.010821\n",
       " 0.008479\n",
       " 0.008434\n",
       " 0.010166\n",
       " 0.010616\n",
       " 0.007575\n",
       " 0.008645\n",
       " 0.009094\n",
       " 0.008617\n",
       " 0.008456\n",
       "      ...\n",
       " 0.159259\n",
       " 0.159261\n",
       " 0.159454\n",
       " 0.161307\n",
       " 0.159039\n",
       " 0.158229\n",
       " 0.161186\n",
       " 0.167325\n",
       " 0.173514\n",
       " 0.172112\n",
       " 0.173661\n",
       " 0.173055"
      ]
     },
     "execution_count": 11,
     "metadata": {},
     "output_type": "execute_result"
    }
   ],
   "source": [
    "data['decr']"
   ]
  },
  {
   "cell_type": "code",
   "execution_count": 14,
   "metadata": {
    "collapsed": true
   },
   "outputs": [],
   "source": [
    "NSIDE=512\n",
    "dr72hpix=hu.HealPix(\"ring\",NSIDE)"
   ]
  },
  {
   "cell_type": "code",
   "execution_count": 16,
   "metadata": {
    "collapsed": true
   },
   "outputs": [],
   "source": [
    "pixdata = open(\"./output/pixdatadr72VAGCfullPlanck.dat\",'w')\n",
    "pixdata.write(\"z\\t pix \\n\")\n",
    "\n",
    "for i in range(0,len(data)):\n",
    "    pixdata.write(\"%f\\t\" %data['z'][i])\n",
    "    pixdata.write(\"%d\\n\" %dr72hpix.eq2pix(data['ra'][i],data['dec'][i]))\n",
    "pixdata.close()"
   ]
  },
  {
   "cell_type": "code",
   "execution_count": 17,
   "metadata": {
    "collapsed": true
   },
   "outputs": [],
   "source": [
    "pixdata = ascii.read(\"./output/pixdatadr72VAGCfullPlanck.dat\")\n",
    "hpixdata=np.array(np.zeros(hu.nside2npix(NSIDE)))\n",
    "for j in range(len(pixdata)):\n",
    "    hpixdata[pixdata[j]['pix']]+=1"
   ]
  },
  {
   "cell_type": "code",
   "execution_count": 18,
   "metadata": {},
   "outputs": [
    {
     "data": {
      "text/plain": [
       "array([ 0.,  0.,  0., ...,  0.,  0.,  0.])"
      ]
     },
     "execution_count": 18,
     "metadata": {},
     "output_type": "execute_result"
    }
   ],
   "source": [
    "hpixdata"
   ]
  },
  {
   "cell_type": "code",
   "execution_count": 19,
   "metadata": {},
   "outputs": [
    {
     "data": {
      "image/png": "[encoded data removed]",
      "text/plain": [
       "<matplotlib.figure.Figure at 0x125d55790>"
      ]
     },
     "metadata": {},
     "output_type": "display_data"
    }
   ],
   "source": [
    "hu.mollview(hpixdata,rot=180)"
   ]
  },
  {
   "cell_type": "code",
   "execution_count": null,
   "metadata": {
    "collapsed": true
   },
   "outputs": [],
   "source": [
    "mangle=pymangle.Mangle(\"./masks/\")"
   ]
  },
  {
   "cell_type": "markdown",
   "metadata": {},
   "source": [
    "Ref: https://pypi.python.org/pypi/pymangle/"
   ]
  },
  {
   "cell_type": "code",
   "execution_count": null,
   "metadata": {
    "collapsed": true
   },
   "outputs": [],
   "source": [
    "%%time\n",
    "rar,decr=mangle.genrand(2*len(data))"
   ]
  },
  {
   "cell_type": "code",
   "execution_count": 11,
   "metadata": {
    "collapsed": true
   },
   "outputs": [],
   "source": [
    "dataR=ascii.read(\"./output/rand200kdr72.dat\")"
   ]
  },
  {
   "cell_type": "code",
   "execution_count": 13,
   "metadata": {
    "collapsed": true
   },
   "outputs": [
    {
     "data": {
      "text/html": [
       "&lt;Column name=&apos;z&apos; dtype=&apos;float64&apos; length=211661&gt;\n",
       "<table>\n",
       "<tr><td>0.450184</td></tr>\n",
       "<tr><td>0.367165</td></tr>\n",
       "<tr><td>0.413324</td></tr>\n",
       "<tr><td>0.32247</td></tr>\n",
       "<tr><td>0.322646</td></tr>\n",
       "<tr><td>0.233469</td></tr>\n",
       "<tr><td>0.313645</td></tr>\n",
       "<tr><td>0.351716</td></tr>\n",
       "<tr><td>0.403208</td></tr>\n",
       "<tr><td>0.37691</td></tr>\n",
       "<tr><td>0.168714</td></tr>\n",
       "<tr><td>0.301653</td></tr>\n",
       "<tr><td>...</td></tr>\n",
       "<tr><td>0.386714</td></tr>\n",
       "<tr><td>0.435683</td></tr>\n",
       "<tr><td>0.260919</td></tr>\n",
       "<tr><td>0.186362</td></tr>\n",
       "<tr><td>0.378593</td></tr>\n",
       "<tr><td>0.453896</td></tr>\n",
       "<tr><td>0.269251</td></tr>\n",
       "<tr><td>0.26528</td></tr>\n",
       "<tr><td>0.267663</td></tr>\n",
       "<tr><td>0.36518</td></tr>\n",
       "<tr><td>0.327193</td></tr>\n",
       "<tr><td>0.207093</td></tr>\n",
       "</table>"
      ],
      "text/plain": [
       "<Column name='z' dtype='float64' length=211661>\n",
       "0.450184\n",
       "0.367165\n",
       "0.413324\n",
       " 0.32247\n",
       "0.322646\n",
       "0.233469\n",
       "0.313645\n",
       "0.351716\n",
       "0.403208\n",
       " 0.37691\n",
       "0.168714\n",
       "0.301653\n",
       "     ...\n",
       "0.386714\n",
       "0.435683\n",
       "0.260919\n",
       "0.186362\n",
       "0.378593\n",
       "0.453896\n",
       "0.269251\n",
       " 0.26528\n",
       "0.267663\n",
       " 0.36518\n",
       "0.327193\n",
       "0.207093"
      ]
     },
     "execution_count": 13,
     "metadata": {},
     "output_type": "execute_result"
    }
   ],
   "source": [
    "dataR['z']"
   ]
  },
  {
   "cell_type": "code",
   "execution_count": 14,
   "metadata": {
    "collapsed": true
   },
   "outputs": [
    {
     "data": {
      "text/html": [
       "&lt;Column name=&apos;ra&apos; dtype=&apos;float64&apos; length=211661&gt;\n",
       "<table>\n",
       "<tr><td>171.460447</td></tr>\n",
       "<tr><td>156.861634</td></tr>\n",
       "<tr><td>135.655956</td></tr>\n",
       "<tr><td>151.1135</td></tr>\n",
       "<tr><td>327.045321</td></tr>\n",
       "<tr><td>222.706587</td></tr>\n",
       "<tr><td>132.163348</td></tr>\n",
       "<tr><td>214.239217</td></tr>\n",
       "<tr><td>310.627283</td></tr>\n",
       "<tr><td>143.795051</td></tr>\n",
       "<tr><td>168.941476</td></tr>\n",
       "<tr><td>149.195059</td></tr>\n",
       "<tr><td>...</td></tr>\n",
       "<tr><td>229.828647</td></tr>\n",
       "<tr><td>222.307662</td></tr>\n",
       "<tr><td>137.338184</td></tr>\n",
       "<tr><td>212.775182</td></tr>\n",
       "<tr><td>157.704931</td></tr>\n",
       "<tr><td>155.852813</td></tr>\n",
       "<tr><td>181.687843</td></tr>\n",
       "<tr><td>228.866114</td></tr>\n",
       "<tr><td>236.502458</td></tr>\n",
       "<tr><td>184.953736</td></tr>\n",
       "<tr><td>184.394802</td></tr>\n",
       "<tr><td>232.41561</td></tr>\n",
       "</table>"
      ],
      "text/plain": [
       "<Column name='ra' dtype='float64' length=211661>\n",
       "171.460447\n",
       "156.861634\n",
       "135.655956\n",
       "  151.1135\n",
       "327.045321\n",
       "222.706587\n",
       "132.163348\n",
       "214.239217\n",
       "310.627283\n",
       "143.795051\n",
       "168.941476\n",
       "149.195059\n",
       "       ...\n",
       "229.828647\n",
       "222.307662\n",
       "137.338184\n",
       "212.775182\n",
       "157.704931\n",
       "155.852813\n",
       "181.687843\n",
       "228.866114\n",
       "236.502458\n",
       "184.953736\n",
       "184.394802\n",
       " 232.41561"
      ]
     },
     "execution_count": 14,
     "metadata": {},
     "output_type": "execute_result"
    }
   ],
   "source": [
    "dataR['ra']"
   ]
  },
  {
   "cell_type": "code",
   "execution_count": 15,
   "metadata": {
    "collapsed": true
   },
   "outputs": [
    {
     "data": {
      "text/html": [
       "&lt;Column name=&apos;dec&apos; dtype=&apos;float64&apos; length=211661&gt;\n",
       "<table>\n",
       "<tr><td>14.210816</td></tr>\n",
       "<tr><td>40.750823</td></tr>\n",
       "<tr><td>19.592957</td></tr>\n",
       "<tr><td>24.245002</td></tr>\n",
       "<tr><td>-7.737766</td></tr>\n",
       "<tr><td>21.927202</td></tr>\n",
       "<tr><td>15.281744</td></tr>\n",
       "<tr><td>5.973424</td></tr>\n",
       "<tr><td>1.01386</td></tr>\n",
       "<tr><td>15.993848</td></tr>\n",
       "<tr><td>43.319462</td></tr>\n",
       "<tr><td>13.531564</td></tr>\n",
       "<tr><td>...</td></tr>\n",
       "<tr><td>24.816154</td></tr>\n",
       "<tr><td>31.128326</td></tr>\n",
       "<tr><td>32.232182</td></tr>\n",
       "<tr><td>-2.589495</td></tr>\n",
       "<tr><td>26.641368</td></tr>\n",
       "<tr><td>47.126498</td></tr>\n",
       "<tr><td>59.175281</td></tr>\n",
       "<tr><td>18.754199</td></tr>\n",
       "<tr><td>47.192155</td></tr>\n",
       "<tr><td>11.402623</td></tr>\n",
       "<tr><td>3.035483</td></tr>\n",
       "<tr><td>9.774797</td></tr>\n",
       "</table>"
      ],
      "text/plain": [
       "<Column name='dec' dtype='float64' length=211661>\n",
       "14.210816\n",
       "40.750823\n",
       "19.592957\n",
       "24.245002\n",
       "-7.737766\n",
       "21.927202\n",
       "15.281744\n",
       " 5.973424\n",
       "  1.01386\n",
       "15.993848\n",
       "43.319462\n",
       "13.531564\n",
       "      ...\n",
       "24.816154\n",
       "31.128326\n",
       "32.232182\n",
       "-2.589495\n",
       "26.641368\n",
       "47.126498\n",
       "59.175281\n",
       "18.754199\n",
       "47.192155\n",
       "11.402623\n",
       " 3.035483\n",
       " 9.774797"
      ]
     },
     "execution_count": 15,
     "metadata": {},
     "output_type": "execute_result"
    }
   ],
   "source": [
    "dataR['dec']"
   ]
  },
  {
   "cell_type": "code",
   "execution_count": 8,
   "metadata": {
    "collapsed": true
   },
   "outputs": [],
   "source": [
    "def kde(x, x_grid, bandwidth=0.2, **kwargs):\n",
    "    \"\"\"Kernel Density Estimation with Scipy\"\"\"\n",
    "    kde = gaussian_kde(x, bw_method=bandwidth / x.std(ddof=1), **kwargs)\n",
    "    return kde.evaluate(x_grid)\n",
    "\n",
    "\n",
    "def generate_rand_from_pdf(pdf, x_grid, N):\n",
    "    cdf = np.cumsum(pdf)\n",
    "    cdf = cdf / cdf[-1]\n",
    "    values = np.random.rand(N)\n",
    "    value_bins = np.searchsorted(cdf, values)\n",
    "    random_from_cdf = x_grid[value_bins]\n",
    "    return random_from_cdf"
   ]
  },
  {
   "cell_type": "code",
   "execution_count": 12,
   "metadata": {},
   "outputs": [
    {
     "data": {
      "text/plain": [
       "array([ 0.450184,  0.367165,  0.413324, ...,  0.368113,  0.22131 ,  0.34707 ])"
      ]
     },
     "execution_count": 12,
     "metadata": {},
     "output_type": "execute_result"
    }
   ],
   "source": [
    "z=np.array(data['z'])\n",
    "z"
   ]
  },
  {
   "cell_type": "code",
   "execution_count": 13,
   "metadata": {},
   "outputs": [
    {
     "data": {
      "image/png": "[encoded data removed]",
      "text/plain": [
       "<matplotlib.figure.Figure at 0x13086ccd0>"
      ]
     },
     "metadata": {},
     "output_type": "display_data"
    },
    {
     "name": "stdout",
     "output_type": "stream",
     "text": [
      "CPU times: user 14min 31s, sys: 6min 39s, total: 21min 10s\n",
      "Wall time: 10min 44s\n"
     ]
    }
   ],
   "source": [
    "%%time\n",
    "hist, bins = np.histogram(z, bins=1000)\n",
    "N=len(dataR)\n",
    "\n",
    "x_grid = np.linspace(min(z), max(z), N)\n",
    "kdepdf = kde(z, x_grid, bandwidth=0.01)\n",
    "random_from_kde = generate_rand_from_pdf(kdepdf, x_grid, N)\n",
    "\n",
    "bin_midpoints = bins[:-1] + np.diff(bins) / 2\n",
    "zr=random_from_cdf = generate_rand_from_pdf(hist, bin_midpoints, N)\n",
    "\n",
    "plt.subplot(121)\n",
    "plt.hist(z, 100, normed=True, alpha=0.5, label='hist')\n",
    "plt.plot(x_grid, kdepdf, color='r', alpha=0.5, lw=3, label='kde')\n",
    "plt.legend()\n",
    "plt.subplot(122)\n",
    "plt.hist(random_from_cdf, 50, alpha=0.5, label='from hist')\n",
    "plt.hist(random_from_kde, 50, alpha=0.5, label='from kde')\n",
    "plt.legend()\n",
    "plt.show()"
   ]
  },
  {
   "cell_type": "code",
   "execution_count": 14,
   "metadata": {},
   "outputs": [
    {
     "data": {
      "text/plain": [
       "(array([  6709.,   7702.,   9090.,   9435.,  11252.,  15976.,  15887.,\n",
       "         12406.,   9497.,   7877.]),\n",
       " array([ 0.160002 ,  0.1910014,  0.2220008,  0.2530002,  0.2839996,\n",
       "         0.314999 ,  0.3459984,  0.3769978,  0.4079972,  0.4389966,\n",
       "         0.469996 ]),\n",
       " <a list of 10 Patch objects>)"
      ]
     },
     "execution_count": 14,
     "metadata": {},
     "output_type": "execute_result"
    },
    {
     "data": {
      "image/png": "[encoded data removed]",
      "text/plain": [
       "<matplotlib.figure.Figure at 0x11ff6e550>"
      ]
     },
     "metadata": {},
     "output_type": "display_data"
    }
   ],
   "source": [
    "plt.hist(z)"
   ]
  },
  {
   "cell_type": "code",
   "execution_count": 15,
   "metadata": {},
   "outputs": [
    {
     "data": {
      "text/plain": [
       "(array([ 13405.,  15523.,  18025.,  18908.,  22283.,  32179.,  32116.,\n",
       "         24824.,  18752.,  15646.]),\n",
       " array([ 0.160157 ,  0.1911254,  0.2220938,  0.2530622,  0.2840306,\n",
       "         0.314999 ,  0.3459674,  0.3769358,  0.4079042,  0.4388726,\n",
       "         0.469841 ]),\n",
       " <a list of 10 Patch objects>)"
      ]
     },
     "execution_count": 15,
     "metadata": {},
     "output_type": "execute_result"
    },
    {
     "data": {
      "image/png": "[encoded data removed]",
      "text/plain": [
       "<matplotlib.figure.Figure at 0x1183d2690>"
      ]
     },
     "metadata": {},
     "output_type": "display_data"
    }
   ],
   "source": [
    "plt.hist(zr)"
   ]
  },
  {
   "cell_type": "code",
   "execution_count": 16,
   "metadata": {},
   "outputs": [
    {
     "data": {
      "text/plain": [
       "array([ 0.2876154 ,  0.28182223,  0.34707379, ...,  0.21575828,\n",
       "        0.39071783,  0.33543194])"
      ]
     },
     "execution_count": 16,
     "metadata": {},
     "output_type": "execute_result"
    }
   ],
   "source": [
    "DCr=DC_LCDM(zr)\n",
    "DCr"
   ]
  },
  {
   "cell_type": "code",
   "execution_count": 17,
   "metadata": {
    "collapsed": true
   },
   "outputs": [],
   "source": [
    "rdr7f = open(\"./output/rDR72srarfPlanckpfinal2.dat\",'w')\n",
    "rdr7f.write(\"z\\t ra\\t dec\\t s\\t rar\\t decr \\n\")\n",
    "\n",
    "for i in range(0,len(dataR)):\n",
    "    rdr7f.write(\"%f\\t \" %zr[i])\n",
    "    rdr7f.write(\"%f\\t %f\\t \" %(dataR['ra'][i],dataR['dec'][i]))\n",
    "    rdr7f.write(\"%f\\t \" %DCr[i])\n",
    "    rdr7f.write(\"%f\\t %f\\n \" %(dataR['ra'][i]*pi/180.0,dataR['dec'][i]*pi/180.0))\n",
    "rdr7f.close()"
   ]
  },
  {
   "cell_type": "code",
   "execution_count": 18,
   "metadata": {
    "collapsed": true
   },
   "outputs": [],
   "source": [
    "dataR=ascii.read(\"./output/rDR72srarfPlanckpfinal2.dat\")"
   ]
  },
  {
   "cell_type": "code",
   "execution_count": 19,
   "metadata": {
    "collapsed": true
   },
   "outputs": [
    {
     "data": {
      "text/html": [
       "&lt;Column name=&apos;z&apos; dtype=&apos;float64&apos; length=211661&gt;\n",
       "<table>\n",
       "<tr><td>0.311124</td></tr>\n",
       "<tr><td>0.304304</td></tr>\n",
       "<tr><td>0.382733</td></tr>\n",
       "<tr><td>0.419932</td></tr>\n",
       "<tr><td>0.315154</td></tr>\n",
       "<tr><td>0.329104</td></tr>\n",
       "<tr><td>0.175347</td></tr>\n",
       "<tr><td>0.184957</td></tr>\n",
       "<tr><td>0.412182</td></tr>\n",
       "<tr><td>0.272375</td></tr>\n",
       "<tr><td>0.409392</td></tr>\n",
       "<tr><td>0.353283</td></tr>\n",
       "<tr><td>...</td></tr>\n",
       "<tr><td>0.437292</td></tr>\n",
       "<tr><td>0.433572</td></tr>\n",
       "<tr><td>0.439772</td></tr>\n",
       "<tr><td>0.283225</td></tr>\n",
       "<tr><td>0.342123</td></tr>\n",
       "<tr><td>0.427682</td></tr>\n",
       "<tr><td>0.328794</td></tr>\n",
       "<tr><td>0.314224</td></tr>\n",
       "<tr><td>0.389553</td></tr>\n",
       "<tr><td>0.228356</td></tr>\n",
       "<tr><td>0.437292</td></tr>\n",
       "<tr><td>0.368473</td></tr>\n",
       "</table>"
      ],
      "text/plain": [
       "<Column name='z' dtype='float64' length=211661>\n",
       "0.311124\n",
       "0.304304\n",
       "0.382733\n",
       "0.419932\n",
       "0.315154\n",
       "0.329104\n",
       "0.175347\n",
       "0.184957\n",
       "0.412182\n",
       "0.272375\n",
       "0.409392\n",
       "0.353283\n",
       "     ...\n",
       "0.437292\n",
       "0.433572\n",
       "0.439772\n",
       "0.283225\n",
       "0.342123\n",
       "0.427682\n",
       "0.328794\n",
       "0.314224\n",
       "0.389553\n",
       "0.228356\n",
       "0.437292\n",
       "0.368473"
      ]
     },
     "execution_count": 19,
     "metadata": {},
     "output_type": "execute_result"
    }
   ],
   "source": [
    "dataR['z']"
   ]
  },
  {
   "cell_type": "code",
   "execution_count": 20,
   "metadata": {
    "collapsed": true
   },
   "outputs": [],
   "source": [
    "dat=ascii.read(\"./output/DR72srarfPlanck.dat\")"
   ]
  },
  {
   "cell_type": "code",
   "execution_count": 21,
   "metadata": {
    "collapsed": true
   },
   "outputs": [],
   "source": [
    "dat=np.array([dat['s'],dat['rar'],dat['decr']])"
   ]
  },
  {
   "cell_type": "code",
   "execution_count": 22,
   "metadata": {},
   "outputs": [
    {
     "data": {
      "text/plain": [
       "array([[ 0.400825,  0.334359,  0.37172 , ...,  0.335136,  0.209485,\n",
       "         0.317774],\n",
       "       [ 0.980185,  1.016617,  0.950251, ...,  2.830242,  2.831786,\n",
       "         2.838233],\n",
       "       [-0.003863,  0.003776,  0.010821, ...,  0.172112,  0.173661,\n",
       "         0.173055]])"
      ]
     },
     "execution_count": 22,
     "metadata": {},
     "output_type": "execute_result"
    }
   ],
   "source": [
    "dat.reshape(3,len(data['s']))"
   ]
  },
  {
   "cell_type": "code",
   "execution_count": 23,
   "metadata": {
    "collapsed": true
   },
   "outputs": [],
   "source": [
    "dat=dat.transpose()"
   ]
  },
  {
   "cell_type": "code",
   "execution_count": 24,
   "metadata": {},
   "outputs": [
    {
     "data": {
      "text/plain": [
       "array([[ 0.400825,  0.980185, -0.003863],\n",
       "       [ 0.334359,  1.016617,  0.003776],\n",
       "       [ 0.37172 ,  0.950251,  0.010821],\n",
       "       ..., \n",
       "       [ 0.335136,  2.830242,  0.172112],\n",
       "       [ 0.209485,  2.831786,  0.173661],\n",
       "       [ 0.317774,  2.838233,  0.173055]])"
      ]
     },
     "execution_count": 24,
     "metadata": {},
     "output_type": "execute_result"
    }
   ],
   "source": [
    "dat"
   ]
  },
  {
   "cell_type": "code",
   "execution_count": 25,
   "metadata": {
    "collapsed": true
   },
   "outputs": [],
   "source": [
    "from lcdmmetric import *"
   ]
  },
  {
   "cell_type": "code",
   "execution_count": 26,
   "metadata": {},
   "outputs": [
    {
     "data": {
      "text/plain": [
       "0.004603410216694359"
      ]
     },
     "execution_count": 26,
     "metadata": {},
     "output_type": "execute_result"
    }
   ],
   "source": [
    "LCDMmetricsq(dat[0],dat[1])"
   ]
  },
  {
   "cell_type": "code",
   "execution_count": 27,
   "metadata": {
    "collapsed": true
   },
   "outputs": [],
   "source": [
    "bins=np.arange(0.005,0.08,0.0025)"
   ]
  },
  {
   "cell_type": "code",
   "execution_count": 28,
   "metadata": {},
   "outputs": [
    {
     "name": "stdout",
     "output_type": "stream",
     "text": [
      "[ 0.005   0.0075  0.01    0.0125  0.015   0.0175  0.02    0.0225  0.025\n",
      "  0.0275  0.03    0.0325  0.035   0.0375  0.04    0.0425  0.045   0.0475\n",
      "  0.05    0.0525  0.055   0.0575  0.06    0.0625  0.065   0.0675  0.07\n",
      "  0.0725  0.075   0.0775]\n"
     ]
    }
   ],
   "source": [
    "print bins"
   ]
  },
  {
   "cell_type": "code",
   "execution_count": 34,
   "metadata": {
    "collapsed": true
   },
   "outputs": [],
   "source": [
    "Nbins=len(bins)"
   ]
  },
  {
   "cell_type": "code",
   "execution_count": 35,
   "metadata": {},
   "outputs": [
    {
     "data": {
      "text/plain": [
       "30"
      ]
     },
     "execution_count": 35,
     "metadata": {},
     "output_type": "execute_result"
    }
   ],
   "source": [
    "Nbins"
   ]
  },
  {
   "cell_type": "code",
   "execution_count": 36,
   "metadata": {},
   "outputs": [
    {
     "name": "stdout",
     "output_type": "stream",
     "text": [
      "CPU times: user 4.66 s, sys: 40.4 ms, total: 4.7 s\n",
      "Wall time: 4.76 s\n"
     ]
    }
   ],
   "source": [
    "%%time\n",
    "BT_D = BallTree(dat,metric='pyfunc',func=LCDMmetricsq,leaf_size=15) \n",
    "\n",
    "with open('BTDdr72Planck.pkl', 'w') as f:\n",
    "    pickle.dump(BT_D,f)"
   ]
  },
  {
   "cell_type": "code",
   "execution_count": 37,
   "metadata": {},
   "outputs": [
    {
     "data": {
      "text/plain": [
       "<sklearn.neighbors.ball_tree.BinaryTree at 0x7fc527a19140>"
      ]
     },
     "execution_count": 37,
     "metadata": {},
     "output_type": "execute_result"
    }
   ],
   "source": [
    "with open('./BTDdr72Planck.pkl') as f:\n",
    "    BTD = pickle.load(f)\n",
    "    \n",
    "BTD"
   ]
  },
  {
   "cell_type": "code",
   "execution_count": 41,
   "metadata": {},
   "outputs": [
    {
     "data": {
      "text/plain": [
       "array([  2.50000000e-05,   5.62500000e-05,   1.00000000e-04,\n",
       "         1.56250000e-04,   2.25000000e-04,   3.06250000e-04,\n",
       "         4.00000000e-04,   5.06250000e-04,   6.25000000e-04,\n",
       "         7.56250000e-04,   9.00000000e-04,   1.05625000e-03,\n",
       "         1.22500000e-03,   1.40625000e-03,   1.60000000e-03,\n",
       "         1.80625000e-03,   2.02500000e-03,   2.25625000e-03,\n",
       "         2.50000000e-03,   2.75625000e-03,   3.02500000e-03,\n",
       "         3.30625000e-03,   3.60000000e-03,   3.90625000e-03,\n",
       "         4.22500000e-03,   4.55625000e-03,   4.90000000e-03,\n",
       "         5.25625000e-03,   5.62500000e-03,   6.00625000e-03])"
      ]
     },
     "execution_count": 41,
     "metadata": {},
     "output_type": "execute_result"
    }
   ],
   "source": [
    "binsq=bins**2\n",
    "binsq"
   ]
  },
  {
   "cell_type": "code",
   "execution_count": 39,
   "metadata": {},
   "outputs": [
    {
     "name": "stdout",
     "output_type": "stream",
     "text": [
      "[   408547    788300   1393246   2290478   3546836   5226849   7405446\n",
      "  10142866  13520295  17594645  22453754  28171185  34809136  42435348\n",
      "  51094665  60837704  71736093  83823261  97141984 111691953 127535863\n",
      " 144733147 163299520 183242654 204573919 227362618 251645350 277418723\n",
      " 304716606 333599277]\n",
      "CPU times: user 21min 38s, sys: 1.13 s, total: 21min 39s\n",
      "Wall time: 21min 40s\n"
     ]
    }
   ],
   "source": [
    "%%time\n",
    "counts_DD=BTD.two_point_correlation(dat,binsq)\n",
    "print counts_DD"
   ]
  },
  {
   "cell_type": "code",
   "execution_count": 40,
   "metadata": {},
   "outputs": [
    {
     "data": {
      "text/plain": [
       "array([   408547,    788300,   1393246,   2290478,   3546836,   5226849,\n",
       "         7405446,  10142866,  13520295,  17594645,  22453754,  28171185,\n",
       "        34809136,  42435348,  51094665,  60837704,  71736093,  83823261,\n",
       "        97141984, 111691953, 127535863, 144733147, 163299520, 183242654,\n",
       "       204573919, 227362618, 251645350, 277418723, 304716606, 333599277])"
      ]
     },
     "execution_count": 40,
     "metadata": {},
     "output_type": "execute_result"
    }
   ],
   "source": [
    "with open('./DDDr72Planck.pkl', 'w') as f:\n",
    "    pickle.dump(counts_DD,f)"
   ]
  },
  {
   "cell_type": "code",
   "execution_count": 29,
   "metadata": {},
   "outputs": [
    {
     "data": {
      "text/plain": [
       "array([   408547,    788300,   1393246,   2290478,   3546836,   5226849,\n",
       "         7405446,  10142866,  13520295,  17594645,  22453754,  28171185,\n",
       "        34809136,  42435348,  51094665,  60837704,  71736093,  83823261,\n",
       "        97141984, 111691953, 127535863, 144733147, 163299520, 183242654,\n",
       "       204573919, 227362618, 251645350, 277418723, 304716606, 333599277])"
      ]
     },
     "execution_count": 29,
     "metadata": {},
     "output_type": "execute_result"
    }
   ],
   "source": [
    "with open('./DDDr72Planck.pkl') as f:\n",
    "    counts_DD = pickle.load(f)\n",
    "    \n",
    "counts_DD"
   ]
  },
  {
   "cell_type": "code",
   "execution_count": 30,
   "metadata": {},
   "outputs": [
    {
     "data": {
      "text/plain": [
       "array([  379753,   604946,   897232,  1256358,  1680013,  2178597,\n",
       "        2737420,  3377429,  4074350,  4859109,  5717431,  6637951,\n",
       "        7626212,  8659317,  9743039, 10898389, 12087168, 13318723,\n",
       "       14549969, 15843910, 17197284, 18566373, 19943134, 21331265,\n",
       "       22788699, 24282732, 25773373, 27297883, 28882671])"
      ]
     },
     "execution_count": 30,
     "metadata": {},
     "output_type": "execute_result"
    }
   ],
   "source": [
    "DD=np.diff(counts_DD)\n",
    "DD"
   ]
  },
  {
   "cell_type": "code",
   "execution_count": 31,
   "metadata": {
    "collapsed": true
   },
   "outputs": [],
   "source": [
    "dataR=ascii.read(\"./output/rDR72srarfPlanckpfinal2.dat\")"
   ]
  },
  {
   "cell_type": "code",
   "execution_count": 32,
   "metadata": {
    "collapsed": true
   },
   "outputs": [
    {
     "data": {
      "text/html": [
       "&lt;Column name=&apos;z&apos; dtype=&apos;float64&apos; length=211661&gt;\n",
       "<table>\n",
       "<tr><td>0.311124</td></tr>\n",
       "<tr><td>0.304304</td></tr>\n",
       "<tr><td>0.382733</td></tr>\n",
       "<tr><td>0.419932</td></tr>\n",
       "<tr><td>0.315154</td></tr>\n",
       "<tr><td>0.329104</td></tr>\n",
       "<tr><td>0.175347</td></tr>\n",
       "<tr><td>0.184957</td></tr>\n",
       "<tr><td>0.412182</td></tr>\n",
       "<tr><td>0.272375</td></tr>\n",
       "<tr><td>0.409392</td></tr>\n",
       "<tr><td>0.353283</td></tr>\n",
       "<tr><td>...</td></tr>\n",
       "<tr><td>0.437292</td></tr>\n",
       "<tr><td>0.433572</td></tr>\n",
       "<tr><td>0.439772</td></tr>\n",
       "<tr><td>0.283225</td></tr>\n",
       "<tr><td>0.342123</td></tr>\n",
       "<tr><td>0.427682</td></tr>\n",
       "<tr><td>0.328794</td></tr>\n",
       "<tr><td>0.314224</td></tr>\n",
       "<tr><td>0.389553</td></tr>\n",
       "<tr><td>0.228356</td></tr>\n",
       "<tr><td>0.437292</td></tr>\n",
       "<tr><td>0.368473</td></tr>\n",
       "</table>"
      ],
      "text/plain": [
       "<Column name='z' dtype='float64' length=211661>\n",
       "0.311124\n",
       "0.304304\n",
       "0.382733\n",
       "0.419932\n",
       "0.315154\n",
       "0.329104\n",
       "0.175347\n",
       "0.184957\n",
       "0.412182\n",
       "0.272375\n",
       "0.409392\n",
       "0.353283\n",
       "     ...\n",
       "0.437292\n",
       "0.433572\n",
       "0.439772\n",
       "0.283225\n",
       "0.342123\n",
       "0.427682\n",
       "0.328794\n",
       "0.314224\n",
       "0.389553\n",
       "0.228356\n",
       "0.437292\n",
       "0.368473"
      ]
     },
     "execution_count": 32,
     "metadata": {},
     "output_type": "execute_result"
    }
   ],
   "source": [
    "dataR['z']"
   ]
  },
  {
   "cell_type": "code",
   "execution_count": 33,
   "metadata": {
    "collapsed": true
   },
   "outputs": [],
   "source": [
    "datR=np.array([dataR['s'],dataR['rar'],dataR['decr']])"
   ]
  },
  {
   "cell_type": "code",
   "execution_count": 34,
   "metadata": {},
   "outputs": [
    {
     "data": {
      "text/plain": [
       "array([[ 0.287615,  0.281822,  0.347074, ...,  0.215758,  0.390718,\n",
       "         0.335432],\n",
       "       [ 2.992549,  2.737752,  2.367643, ...,  3.228052,  3.218296,\n",
       "         4.056418],\n",
       "       [ 0.248026,  0.711236,  0.341962, ...,  0.199013,  0.052979,\n",
       "         0.170602]])"
      ]
     },
     "execution_count": 34,
     "metadata": {},
     "output_type": "execute_result"
    }
   ],
   "source": [
    "datR.reshape(3,len(dataR['s']))"
   ]
  },
  {
   "cell_type": "code",
   "execution_count": 35,
   "metadata": {
    "collapsed": true
   },
   "outputs": [],
   "source": [
    "datR=datR.transpose()"
   ]
  },
  {
   "cell_type": "code",
   "execution_count": 36,
   "metadata": {},
   "outputs": [
    {
     "data": {
      "text/plain": [
       "array([[ 0.287615,  2.992549,  0.248026],\n",
       "       [ 0.281822,  2.737752,  0.711236],\n",
       "       [ 0.347074,  2.367643,  0.341962],\n",
       "       ..., \n",
       "       [ 0.215758,  3.228052,  0.199013],\n",
       "       [ 0.390718,  3.218296,  0.052979],\n",
       "       [ 0.335432,  4.056418,  0.170602]])"
      ]
     },
     "execution_count": 36,
     "metadata": {},
     "output_type": "execute_result"
    }
   ],
   "source": [
    "datR"
   ]
  },
  {
   "cell_type": "code",
   "execution_count": 37,
   "metadata": {},
   "outputs": [
    {
     "data": {
      "text/plain": [
       "0.02096014235221777"
      ]
     },
     "execution_count": 37,
     "metadata": {},
     "output_type": "execute_result"
    }
   ],
   "source": [
    "LCDMmetricsq(datR[0],datR[1])"
   ]
  },
  {
   "cell_type": "code",
   "execution_count": 38,
   "metadata": {},
   "outputs": [
    {
     "name": "stdout",
     "output_type": "stream",
     "text": [
      "CPU times: user 11 s, sys: 228 ms, total: 11.2 s\n",
      "Wall time: 11.8 s\n"
     ]
    }
   ],
   "source": [
    "%%time\n",
    "BT_R = BallTree(datR,metric='pyfunc',func=LCDMmetricsq,leaf_size=15) \n",
    "\n",
    "with open('BTRdr72Planckpfinal2.pkl', 'w') as f:\n",
    "    pickle.dump(BT_R,f)"
   ]
  },
  {
   "cell_type": "code",
   "execution_count": 39,
   "metadata": {},
   "outputs": [
    {
     "data": {
      "text/plain": [
       "<sklearn.neighbors.ball_tree.BinaryTree at 0x7f7f7fac0110>"
      ]
     },
     "execution_count": 39,
     "metadata": {},
     "output_type": "execute_result"
    }
   ],
   "source": [
    "with open('./BTRdr72Planckpfinal2.pkl') as f:\n",
    "    BTR = pickle.load(f)\n",
    "    \n",
    "BTR"
   ]
  },
  {
   "cell_type": "code",
   "execution_count": 42,
   "metadata": {},
   "outputs": [
    {
     "name": "stdout",
     "output_type": "stream",
     "text": [
      "[    678090    1736301    3727660    6908267   11521781   17829367\n",
      "   26097985   36629846   49745587   65751104   84925860  107505779\n",
      "  133781753  163916904  198153899  236656869  279673710  327307431\n",
      "  379669349  436987367  499347609  566925894  639856979  718275677\n",
      "  802168746  891628944  986639823 1087367608 1193905481 1306317797]\n",
      "CPU times: user 1h 17min 4s, sys: 10.8 s, total: 1h 17min 15s\n",
      "Wall time: 1h 17min 25s\n"
     ]
    }
   ],
   "source": [
    "%%time\n",
    "counts_RR=BTR.two_point_correlation(datR,binsq)\n",
    "print counts_RR"
   ]
  },
  {
   "cell_type": "code",
   "execution_count": 43,
   "metadata": {
    "collapsed": true
   },
   "outputs": [],
   "source": [
    "with open('./RRDr72Planckpfinal2.pkl', 'w') as f:\n",
    "    pickle.dump(counts_RR,f)"
   ]
  },
  {
   "cell_type": "code",
   "execution_count": 44,
   "metadata": {},
   "outputs": [
    {
     "data": {
      "text/plain": [
       "array([    678090,    1736301,    3727660,    6908267,   11521781,\n",
       "         17829367,   26097985,   36629846,   49745587,   65751104,\n",
       "         84925860,  107505779,  133781753,  163916904,  198153899,\n",
       "        236656869,  279673710,  327307431,  379669349,  436987367,\n",
       "        499347609,  566925894,  639856979,  718275677,  802168746,\n",
       "        891628944,  986639823, 1087367608, 1193905481, 1306317797])"
      ]
     },
     "execution_count": 44,
     "metadata": {},
     "output_type": "execute_result"
    }
   ],
   "source": [
    "with open('./RRDr72Planckpfinal2.pkl') as f:\n",
    "    counts_RR = pickle.load(f)\n",
    "    \n",
    "counts_RR"
   ]
  },
  {
   "cell_type": "code",
   "execution_count": 45,
   "metadata": {},
   "outputs": [
    {
     "data": {
      "text/plain": [
       "array([  1058211,   1991359,   3180607,   4613514,   6307586,   8268618,\n",
       "        10531861,  13115741,  16005517,  19174756,  22579919,  26275974,\n",
       "        30135151,  34236995,  38502970,  43016841,  47633721,  52361918,\n",
       "        57318018,  62360242,  67578285,  72931085,  78418698,  83893069,\n",
       "        89460198,  95010879, 100727785, 106537873, 112412316])"
      ]
     },
     "execution_count": 45,
     "metadata": {},
     "output_type": "execute_result"
    }
   ],
   "source": [
    "RR=np.diff(counts_RR)\n",
    "RR"
   ]
  },
  {
   "cell_type": "code",
   "execution_count": 46,
   "metadata": {},
   "outputs": [
    {
     "name": "stdout",
     "output_type": "stream",
     "text": [
      "[   229874    756205   1749489   3343761   5659588   8826764  12981355\n",
      "  18273438  24867340  32929385  42610949  54001606  67239054  82446662\n",
      "  99710094 119149778 140833687 164865627 191336054 220288702 251864543\n",
      " 286081727 323017100 362689764 405095998 450412806 498685047 549794351\n",
      " 603808365 660825246]\n",
      "CPU times: user 39min 20s, sys: 9.58 s, total: 39min 30s\n",
      "Wall time: 39min 39s\n"
     ]
    }
   ],
   "source": [
    "%%time\n",
    "counts_DR=BTR.two_point_correlation(dat,binsq)\n",
    "print counts_DR"
   ]
  },
  {
   "cell_type": "code",
   "execution_count": 47,
   "metadata": {
    "collapsed": true
   },
   "outputs": [],
   "source": [
    "with open('./DRDr72Planckpfinal2.pkl', 'w') as f:\n",
    "    pickle.dump(counts_DR,f)"
   ]
  },
  {
   "cell_type": "code",
   "execution_count": 48,
   "metadata": {},
   "outputs": [
    {
     "data": {
      "text/plain": [
       "array([   229874,    756205,   1749489,   3343761,   5659588,   8826764,\n",
       "        12981355,  18273438,  24867340,  32929385,  42610949,  54001606,\n",
       "        67239054,  82446662,  99710094, 119149778, 140833687, 164865627,\n",
       "       191336054, 220288702, 251864543, 286081727, 323017100, 362689764,\n",
       "       405095998, 450412806, 498685047, 549794351, 603808365, 660825246])"
      ]
     },
     "execution_count": 48,
     "metadata": {},
     "output_type": "execute_result"
    }
   ],
   "source": [
    "with open('./DRDr72Planckpfinal2.pkl') as f:\n",
    "    counts_DR = pickle.load(f)\n",
    "    \n",
    "counts_DR"
   ]
  },
  {
   "cell_type": "code",
   "execution_count": 49,
   "metadata": {},
   "outputs": [
    {
     "data": {
      "text/plain": [
       "array([  526331,   993284,  1594272,  2315827,  3167176,  4154591,\n",
       "        5292083,  6593902,  8062045,  9681564, 11390657, 13237448,\n",
       "       15207608, 17263432, 19439684, 21683909, 24031940, 26470427,\n",
       "       28952648, 31575841, 34217184, 36935373, 39672664, 42406234,\n",
       "       45316808, 48272241, 51109304, 54014014, 57016881])"
      ]
     },
     "execution_count": 49,
     "metadata": {},
     "output_type": "execute_result"
    }
   ],
   "source": [
    "DR=np.diff(counts_DR)\n",
    "DR"
   ]
  },
  {
   "cell_type": "code",
   "execution_count": 50,
   "metadata": {
    "collapsed": true
   },
   "outputs": [],
   "source": [
    "from __future__ import division\n",
    "correl=(4.0*DD-4.0*DR+1.0*RR)/(1.0*RR)"
   ]
  },
  {
   "cell_type": "code",
   "execution_count": 51,
   "metadata": {},
   "outputs": [
    {
     "data": {
      "text/plain": [
       "array([ 0.44594037,  0.21995381,  0.12338745,  0.08142123,  0.05690513,\n",
       "        0.04409951,  0.02973919,  0.01904955,  0.00341988, -0.00600081,\n",
       "       -0.00500378, -0.00464356, -0.0063193 , -0.00524184, -0.00736593,\n",
       "       -0.00291139, -0.00305177, -0.00467703, -0.00510656, -0.00910006,\n",
       "       -0.00741829, -0.00747164, -0.00636866, -0.00484911, -0.00729082,\n",
       "       -0.00996893, -0.00611489, -0.00306606, -0.00110774])"
      ]
     },
     "execution_count": 51,
     "metadata": {},
     "output_type": "execute_result"
    }
   ],
   "source": [
    "correl"
   ]
  },
  {
   "cell_type": "code",
   "execution_count": 52,
   "metadata": {},
   "outputs": [
    {
     "name": "stdout",
     "output_type": "stream",
     "text": [
      "[  22.48443435   29.9792458    37.47405725   44.9688687    52.46368015\n",
      "   59.9584916    67.45330305   74.9481145    82.44292595   89.9377374\n",
      "   97.43254885  104.9273603   112.42217175  119.9169832   127.41179465\n",
      "  134.9066061   142.40141755  149.896229    157.39104045  164.8858519\n",
      "  172.38066335  179.8754748   187.37028625  194.8650977   202.35990915\n",
      "  209.8547206   217.34953205  224.8443435   232.33915495] m / s\n"
     ]
    }
   ],
   "source": [
    "binMpc=c*1e-5*bins[1:len(bins)]\n",
    "print binMpc\n",
    "binMpc=np.array(binMpc)"
   ]
  },
  {
   "cell_type": "code",
   "execution_count": 53,
   "metadata": {},
   "outputs": [
    {
     "data": {
      "text/plain": [
       "[<matplotlib.lines.Line2D at 0x119e6af90>]"
      ]
     },
     "execution_count": 53,
     "metadata": {},
     "output_type": "execute_result"
    },
    {
     "data": {
      "image/png": "[encoded data removed]",
      "text/plain": [
       "<matplotlib.figure.Figure at 0x124b23910>"
      ]
     },
     "metadata": {},
     "output_type": "display_data"
    }
   ],
   "source": [
    "plt.plot(binMpc,correl,'ro-')"
   ]
  },
  {
   "cell_type": "code",
   "execution_count": 54,
   "metadata": {},
   "outputs": [
    {
     "data": {
      "text/plain": [
       "[<matplotlib.lines.Line2D at 0x128312950>]"
      ]
     },
     "execution_count": 54,
     "metadata": {},
     "output_type": "execute_result"
    },
    {
     "data": {
      "image/png": "[encoded data removed]",
      "text/plain": [
       "<matplotlib.figure.Figure at 0x116f48c50>"
      ]
     },
     "metadata": {},
     "output_type": "display_data"
    }
   ],
   "source": [
    "plt.plot(binMpc[2:],correl[2:],'ro-')"
   ]
  },
  {
   "cell_type": "code",
   "execution_count": 55,
   "metadata": {},
   "outputs": [
    {
     "data": {
      "image/png": "[encoded data removed]",
      "text/plain": [
       "<matplotlib.figure.Figure at 0x122766810>"
      ]
     },
     "metadata": {},
     "output_type": "display_data"
    }
   ],
   "source": [
    "plt.yscale('log')\n",
    "plt.plot(binMpc,correl+1.0,'bo-')\n",
    "plt.show()"
   ]
  },
  {
   "cell_type": "code",
   "execution_count": 56,
   "metadata": {},
   "outputs": [
    {
     "data": {
      "image/png": "[encoded data removed]",
      "text/plain": [
       "<matplotlib.figure.Figure at 0x11bd640d0>"
      ]
     },
     "metadata": {},
     "output_type": "display_data"
    }
   ],
   "source": [
    "plt.xscale('log')\n",
    "plt.yscale('log')\n",
    "plt.plot(binMpc,correl+1.0,'bo-')\n",
    "plt.show()"
   ]
  },
  {
   "cell_type": "code",
   "execution_count": 57,
   "metadata": {
    "collapsed": true
   },
   "outputs": [],
   "source": [
    "correlwmap9=np.array([ 0.45552161,  0.22289505,  0.12810905,  0.08355131,  0.05824024,\n",
    "        0.04359931,  0.0242798 ,  0.01603602,  0.00361481, -0.00058804,\n",
    "       -0.00444422, -0.00113054, -0.00620357, -0.0064377 , -0.00669751,\n",
    "       -0.00545295, -0.00350499, -0.00418113, -0.00769799, -0.00647038,\n",
    "       -0.00407041, -0.00516079, -0.00450893, -0.0052692 , -0.00627156,\n",
    "       -0.00602616, -0.00851133, -0.00456382, -0.00102027])"
   ]
  },
  {
   "cell_type": "code",
   "execution_count": 58,
   "metadata": {},
   "outputs": [
    {
     "data": {
      "text/plain": [
       "[<matplotlib.lines.Line2D at 0x11bd3fe90>]"
      ]
     },
     "execution_count": 58,
     "metadata": {},
     "output_type": "execute_result"
    },
    {
     "data": {
      "image/png": "[encoded data removed]",
      "text/plain": [
       "<matplotlib.figure.Figure at 0x11bd3fb50>"
      ]
     },
     "metadata": {},
     "output_type": "display_data"
    }
   ],
   "source": [
    "plt.plot(binMpc[2:],correl[2:],'ro-')\n",
    "plt.plot(binMpc[2:],correlwmap9[2:],'bo-')"
   ]
  },
  {
   "cell_type": "code",
   "execution_count": 59,
   "metadata": {},
   "outputs": [
    {
     "data": {
      "text/plain": [
       "[<matplotlib.lines.Line2D at 0x1267fefd0>]"
      ]
     },
     "execution_count": 59,
     "metadata": {},
     "output_type": "execute_result"
    },
    {
     "data": {
      "image/png": "[encoded data removed]",
      "text/plain": [
       "<matplotlib.figure.Figure at 0x1267fe8d0>"
      ]
     },
     "metadata": {},
     "output_type": "display_data"
    }
   ],
   "source": [
    "plt.plot(binMpc[6:],correl[6:],'ro-')\n",
    "plt.plot(binMpc[6:],correlwmap9[6:],'bo-')"
   ]
  },
  {
   "cell_type": "code",
   "execution_count": null,
   "metadata": {
    "collapsed": true
   },
   "outputs": [],
   "source": []
  }
 ],
 "metadata": {
  "kernelspec": {
   "display_name": "Python 2",
   "language": "python",
   "name": "python2"
  },
  "language_info": {
   "codemirror_mode": {
    "name": "ipython",
    "version": 2
   },
   "file_extension": ".py",
   "mimetype": "text/x-python",
   "name": "python",
   "nbconvert_exporter": "python",
   "pygments_lexer": "ipython2",
   "version": "2.7.13"
  }
 },
 "nbformat": 4,
 "nbformat_minor": 1
}
