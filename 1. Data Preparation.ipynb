{
 "cells": [
  {
   "cell_type": "markdown",
   "metadata": {},
   "source": [
    "# Correlation function of DR72 SDSS VAGC Catalog"
   ]
  },
  {
   "cell_type": "markdown",
   "metadata": {},
   "source": [
    "First import all the modules such as healpy and astropy needed for analyzing the structure"
   ]
  },
  {
   "cell_type": "code",
   "execution_count": 1,
   "metadata": {
    "collapsed": true
   },
   "outputs": [],
   "source": [
    "import healpix_util as hu\n",
    "import astropy as ap\n",
    "import numpy as np\n",
    "from astropy.io import fits\n",
    "from astropy.table import Table\n",
    "import astropy.io.ascii as ascii\n",
    "from astropy.io import fits\n",
    "from astropy.constants import c\n",
    "import matplotlib.pyplot as plt\n",
    "import math as m\n",
    "from math import pi\n",
    "import scipy.special as sp\n",
    "from scipy import integrate\n",
    "import warnings\n",
    "from sklearn.neighbors import BallTree\n",
    "import pickle\n",
    "import pymangle\n",
    "from scipy.optimize import curve_fit\n",
    "%matplotlib inline"
   ]
  },
  {
   "cell_type": "code",
   "execution_count": 3,
   "metadata": {},
   "outputs": [
    {
     "data": {
      "text/html": [
       "&lt;Table length=105831&gt;\n",
       "<table id=\"table4884160656\" class=\"table-striped table-bordered table-condensed\">\n",
       "<thead><tr><th>col1</th><th>col2</th><th>col3</th><th>col4</th><th>col5</th><th>col6</th><th>col7</th><th>col8</th><th>col9</th><th>col10</th><th>col11</th><th>col12</th></tr></thead>\n",
       "<thead><tr><th>float64</th><th>float64</th><th>float64</th><th>float64</th><th>float64</th><th>float64</th><th>float64</th><th>float64</th><th>float64</th><th>int64</th><th>int64</th><th>int64</th></tr></thead>\n",
       "<tr><td>56.1604523761</td><td>-0.221359772462</td><td>0.4501842</td><td>-22.0970516205</td><td>0.9943343</td><td>0.310859</td><td>1.7112147</td><td>1.0</td><td>0.9901478</td><td>32763</td><td>33480</td><td>784</td></tr>\n",
       "<tr><td>58.247844859</td><td>0.216329004672</td><td>0.3671646</td><td>-21.8688602448</td><td>0.9533011</td><td>0.7922078</td><td>0.9208817</td><td>1.0</td><td>0.9506173</td><td>303471</td><td>311902</td><td>3790</td></tr>\n",
       "<tr><td>54.445380928</td><td>0.619974218725</td><td>0.4133244</td><td>-21.7306137085</td><td>1.0</td><td>0.4315305</td><td>1.4082278</td><td>1.0</td><td>0.9183673</td><td>43630</td><td>44552</td><td>779</td></tr>\n",
       "<tr><td>54.4879828915</td><td>0.485825651457</td><td>0.3224697</td><td>-21.8775806427</td><td>1.0</td><td>0.9240486</td><td>0.8174705</td><td>1.0</td><td>0.9183673</td><td>43622</td><td>44544</td><td>779</td></tr>\n",
       "<tr><td>54.4932987631</td><td>0.483249792951</td><td>0.3226457</td><td>-21.6763000488</td><td>1.0</td><td>0.9249313</td><td>0.8168564</td><td>1.0</td><td>0.9183673</td><td>43622</td><td>44544</td><td>779</td></tr>\n",
       "<tr><td>55.5558858448</td><td>0.582441686132</td><td>0.2334688</td><td>-21.5131568909</td><td>0.9943343</td><td>1.0009493</td><td>0.7672175</td><td>1.0</td><td>0.9901478</td><td>43723</td><td>44650</td><td>784</td></tr>\n",
       "<tr><td>55.5686146471</td><td>0.608277412471</td><td>0.3136448</td><td>-21.5073776245</td><td>0.9943343</td><td>0.8425107</td><td>0.8784812</td><td>1.0</td><td>0.9901478</td><td>43727</td><td>44654</td><td>784</td></tr>\n",
       "<tr><td>55.5972002797</td><td>0.434026434704</td><td>0.3517163</td><td>-21.5829257965</td><td>0.9943343</td><td>0.8903325</td><td>0.8416406</td><td>1.0</td><td>0.9901478</td><td>43731</td><td>44658</td><td>784</td></tr>\n",
       "<tr><td>55.7617273511</td><td>0.495315330472</td><td>0.403208</td><td>-21.3501148224</td><td>0.9943343</td><td>0.4957986</td><td>1.2868758</td><td>1.0</td><td>0.9901478</td><td>43740</td><td>44667</td><td>784</td></tr>\n",
       "<tr><td>55.8125115924</td><td>0.521042073319</td><td>0.3769101</td><td>-21.6775398254</td><td>0.9943343</td><td>0.6858334</td><td>1.0255566</td><td>1.0</td><td>0.9901478</td><td>43740</td><td>44667</td><td>784</td></tr>\n",
       "<tr><td>...</td><td>...</td><td>...</td><td>...</td><td>...</td><td>...</td><td>...</td><td>...</td><td>...</td><td>...</td><td>...</td><td>...</td></tr>\n",
       "<tr><td>162.204837648</td><td>9.136054829</td><td>0.2285027</td><td>-21.6524200439</td><td>0.8557692</td><td>1.0650909</td><td>0.7297975</td><td>1.0</td><td>0.9716312</td><td>633991</td><td>650894</td><td>3789</td></tr>\n",
       "<tr><td>162.407014385</td><td>9.24223618476</td><td>0.2233595</td><td>-21.6275596619</td><td>0.8557692</td><td>1.0816779</td><td>0.7207074</td><td>1.0</td><td>0.9716312</td><td>633995</td><td>650898</td><td>3789</td></tr>\n",
       "<tr><td>162.631596919</td><td>9.11224932272</td><td>0.3507926</td><td>-21.7870635986</td><td>0.8557692</td><td>0.8983272</td><td>0.835781</td><td>1.0</td><td>0.9716312</td><td>633997</td><td>650900</td><td>3789</td></tr>\n",
       "<tr><td>162.792857827</td><td>9.06585769142</td><td>0.2211935</td><td>-22.1479187012</td><td>0.9936034</td><td>1.0758724</td><td>0.7238631</td><td>2.0</td><td>0.9100257</td><td>634001</td><td>650905</td><td>8537</td></tr>\n",
       "<tr><td>162.752716952</td><td>9.23526068256</td><td>0.3132616</td><td>-21.6552429199</td><td>0.8557692</td><td>0.8386317</td><td>0.8816114</td><td>1.0</td><td>0.9716312</td><td>634000</td><td>650903</td><td>3789</td></tr>\n",
       "<tr><td>162.013077975</td><td>9.58703483653</td><td>0.2450086</td><td>-21.6949653625</td><td>0.9907407</td><td>0.9167792</td><td>0.8225636</td><td>1.0</td><td>0.8892989</td><td>323046</td><td>331902</td><td>3787</td></tr>\n",
       "<tr><td>162.142350287</td><td>9.94163874778</td><td>0.3369665</td><td>-21.4902000427</td><td>0.6296296</td><td>1.0071049</td><td>0.7634606</td><td>1.0</td><td>0.8181818</td><td>634079</td><td>650985</td><td>3788</td></tr>\n",
       "<tr><td>162.160914924</td><td>9.86128115397</td><td>0.3681125</td><td>-21.9206676483</td><td>0.6296296</td><td>0.7820635</td><td>0.9299332</td><td>1.0</td><td>0.8181818</td><td>634079</td><td>650985</td><td>3788</td></tr>\n",
       "<tr><td>162.249397448</td><td>9.95005411419</td><td>0.2213098</td><td>-21.5619354248</td><td>0.8557692</td><td>1.0762938</td><td>0.7236331</td><td>1.0</td><td>0.9716312</td><td>634081</td><td>650987</td><td>3789</td></tr>\n",
       "<tr><td>162.61877369</td><td>9.9153390136</td><td>0.3470703</td><td>-21.6079502106</td><td>0.8557692</td><td>0.947932</td><td>0.8011724</td><td>1.0</td><td>0.9716312</td><td>634087</td><td>650993</td><td>3789</td></tr>\n",
       "</table>"
      ],
      "text/plain": [
       "<Table length=105831>\n",
       "     col1           col2         col3        col4      ... col10  col11  col12\n",
       "   float64        float64      float64     float64     ... int64  int64  int64\n",
       "------------- --------------- --------- -------------- ... ------ ------ -----\n",
       "56.1604523761 -0.221359772462 0.4501842 -22.0970516205 ...  32763  33480   784\n",
       " 58.247844859  0.216329004672 0.3671646 -21.8688602448 ... 303471 311902  3790\n",
       " 54.445380928  0.619974218725 0.4133244 -21.7306137085 ...  43630  44552   779\n",
       "54.4879828915  0.485825651457 0.3224697 -21.8775806427 ...  43622  44544   779\n",
       "54.4932987631  0.483249792951 0.3226457 -21.6763000488 ...  43622  44544   779\n",
       "55.5558858448  0.582441686132 0.2334688 -21.5131568909 ...  43723  44650   784\n",
       "55.5686146471  0.608277412471 0.3136448 -21.5073776245 ...  43727  44654   784\n",
       "55.5972002797  0.434026434704 0.3517163 -21.5829257965 ...  43731  44658   784\n",
       "55.7617273511  0.495315330472  0.403208 -21.3501148224 ...  43740  44667   784\n",
       "55.8125115924  0.521042073319 0.3769101 -21.6775398254 ...  43740  44667   784\n",
       "          ...             ...       ...            ... ...    ...    ...   ...\n",
       "162.204837648     9.136054829 0.2285027 -21.6524200439 ... 633991 650894  3789\n",
       "162.407014385   9.24223618476 0.2233595 -21.6275596619 ... 633995 650898  3789\n",
       "162.631596919   9.11224932272 0.3507926 -21.7870635986 ... 633997 650900  3789\n",
       "162.792857827   9.06585769142 0.2211935 -22.1479187012 ... 634001 650905  8537\n",
       "162.752716952   9.23526068256 0.3132616 -21.6552429199 ... 634000 650903  3789\n",
       "162.013077975   9.58703483653 0.2450086 -21.6949653625 ... 323046 331902  3787\n",
       "162.142350287   9.94163874778 0.3369665 -21.4902000427 ... 634079 650985  3788\n",
       "162.160914924   9.86128115397 0.3681125 -21.9206676483 ... 634079 650985  3788\n",
       "162.249397448   9.95005411419 0.2213098 -21.5619354248 ... 634081 650987  3789\n",
       " 162.61877369    9.9153390136 0.3470703 -21.6079502106 ... 634087 650993  3789"
      ]
     },
     "execution_count": 3,
     "metadata": {},
     "output_type": "execute_result"
    }
   ],
   "source": [
    "dr7full=ascii.read(\"./input/DR7-Full.ascii\")\n",
    "dr7full"
   ]
  },
  {
   "cell_type": "code",
   "execution_count": null,
   "metadata": {
    "collapsed": true
   },
   "outputs": [],
   "source": [
    "z=dr7full['col3']\n",
    "rad=dr7full['col1']\n",
    "decd=dr7full['col2']"
   ]
  },
  {
   "cell_type": "code",
   "execution_count": 4,
   "metadata": {},
   "outputs": [
    {
     "data": {
      "text/plain": [
       "<numpy.lib.function_base.vectorize at 0x11eb6bc50>"
      ]
     },
     "execution_count": 4,
     "metadata": {},
     "output_type": "execute_result"
    }
   ],
   "source": [
    "#Ez = lambda x: 1.0/m.sqrt(0.3*(1+x)**3+0.7)\n",
    "Om=0.3\n",
    "Ol=0.7\n",
    "Ok=0.0\n",
    "def Ez(zv):\n",
    "    return 1.0/m.sqrt(Om*(1.0+zv)**3+Ok*(1.0+zv)**2+Ol)\n",
    "\n",
    "np.vectorize(Ez)\n",
    "#Calculate comoving distance of a data point using the Redshift - This definition is based on the cosmology model we take. Here the distance for E-dS universe is considered. Also note that c/H0 ratio is cancelled in the equations and hence not taken."
   ]
  },
  {
   "cell_type": "code",
   "execution_count": 11,
   "metadata": {
    "collapsed": true
   },
   "outputs": [],
   "source": [
    "def DC_LCDM(z):\n",
    "  return integrate.quad(Ez, 0, z)[0]\n",
    "DC_LCDM=np.vectorize(DC_LCDM)"
   ]
  },
  {
   "cell_type": "code",
   "execution_count": null,
   "metadata": {},
   "outputs": [],
   "source": [
    "DC_LCDM(2.0)"
   ]
  },
  {
   "cell_type": "code",
   "execution_count": null,
   "metadata": {
    "collapsed": true
   },
   "outputs": [],
   "source": [
    "DC=DC_LCDM(z)\n",
    "DC"
   ]
  },
  {
   "cell_type": "code",
   "execution_count": null,
   "metadata": {
    "collapsed": true
   },
   "outputs": [],
   "source": [
    "dr7f = open(\"./output/DR72srarf.dat\",'w')\n",
    "dr7f.write(\"z\\t ra\\t dec\\t s\\t rar\\t decr \\n\")\n",
    "\n",
    "for i in range(0,len(dr7full)):\n",
    "    dr7f.write(\"%f\\t \" %z[i])\n",
    "    dr7f.write(\"%f\\t %f\\t \" %(rad[i],decd[i]))\n",
    "    dr7f.write(\"%f\\t \" %DC[i])\n",
    "    dr7f.write(\"%f\\t %f\\n \" %(rad[i]*pi/180.0,decd[i]*pi/180.0))\n",
    "dr7f.close()"
   ]
  },
  {
   "cell_type": "code",
   "execution_count": 5,
   "metadata": {},
   "outputs": [],
   "source": [
    "data=ascii.read(\"./output/DR72srarf.dat\")"
   ]
  },
  {
   "cell_type": "code",
   "execution_count": null,
   "metadata": {
    "collapsed": true
   },
   "outputs": [],
   "source": [
    "data['z']"
   ]
  },
  {
   "cell_type": "code",
   "execution_count": null,
   "metadata": {
    "collapsed": true
   },
   "outputs": [],
   "source": [
    "data['s']"
   ]
  },
  {
   "cell_type": "code",
   "execution_count": null,
   "metadata": {
    "collapsed": true
   },
   "outputs": [],
   "source": [
    "data['rar']"
   ]
  },
  {
   "cell_type": "code",
   "execution_count": null,
   "metadata": {
    "collapsed": true
   },
   "outputs": [],
   "source": [
    "data['decr']"
   ]
  },
  {
   "cell_type": "code",
   "execution_count": null,
   "metadata": {
    "collapsed": true
   },
   "outputs": [],
   "source": [
    "NSIDE=512\n",
    "dr72hpix=hu.HealPix(\"ring\",NSIDE)"
   ]
  },
  {
   "cell_type": "code",
   "execution_count": null,
   "metadata": {
    "collapsed": true
   },
   "outputs": [],
   "source": [
    "pixdata = open(\"./output/pixdatadr72VAGCfull.dat\",'w')\n",
    "pixdata.write(\"z\\t pix \\n\")\n",
    "\n",
    "for i in range(0,len(data)):\n",
    "    pixdata.write(\"%f\\t\" %data['z'][i])\n",
    "    pixdata.write(\"%d\\n\" %dr72hpix.eq2pix(data['ra'][i],data['dec'][i]))\n",
    "pixdata.close()"
   ]
  },
  {
   "cell_type": "code",
   "execution_count": null,
   "metadata": {},
   "outputs": [],
   "source": [
    "pixdata = ascii.read(\"./output/pixdatadr72VAGCfull.dat\")\n",
    "hpixdata=np.array(np.zeros(hu.nside2npix(NSIDE)))\n",
    "for j in range(len(pixdata)):\n",
    "    hpixdata[pixdata[j]['pix']]+=1"
   ]
  },
  {
   "cell_type": "code",
   "execution_count": null,
   "metadata": {},
   "outputs": [],
   "source": [
    "hpixdata"
   ]
  },
  {
   "cell_type": "code",
   "execution_count": null,
   "metadata": {},
   "outputs": [],
   "source": [
    "hu.mollview(hpixdata,rot=180)"
   ]
  },
  {
   "cell_type": "code",
   "execution_count": null,
   "metadata": {},
   "outputs": [],
   "source": [
    "mangle=pymangle.Mangle(\"./masks/window.dr72safe0.ply\")"
   ]
  },
  {
   "cell_type": "markdown",
   "metadata": {},
   "source": [
    "Ref: https://pypi.python.org/pypi/pymangle/"
   ]
  },
  {
   "cell_type": "code",
   "execution_count": null,
   "metadata": {},
   "outputs": [],
   "source": [
    "%%time\n",
    "rar,decr=mangle.genrand(2*len(data))"
   ]
  },
  {
   "cell_type": "code",
   "execution_count": null,
   "metadata": {},
   "outputs": [],
   "source": [
    "rar"
   ]
  },
  {
   "cell_type": "code",
   "execution_count": null,
   "metadata": {},
   "outputs": [],
   "source": [
    "decr"
   ]
  },
  {
   "cell_type": "code",
   "execution_count": 6,
   "metadata": {},
   "outputs": [],
   "source": [
    "zr=np.array([data['z'],data['z']])"
   ]
  },
  {
   "cell_type": "code",
   "execution_count": 7,
   "metadata": {},
   "outputs": [
    {
     "data": {
      "text/plain": [
       "array([[ 0.450184,  0.367165,  0.413324, ...,  0.368113,  0.22131 ,\n",
       "         0.34707 ],\n",
       "       [ 0.450184,  0.367165,  0.413324, ...,  0.368113,  0.22131 ,\n",
       "         0.34707 ]])"
      ]
     },
     "execution_count": 7,
     "metadata": {},
     "output_type": "execute_result"
    }
   ],
   "source": [
    "zr"
   ]
  },
  {
   "cell_type": "code",
   "execution_count": 8,
   "metadata": {},
   "outputs": [],
   "source": [
    "zr=zr.flatten()"
   ]
  },
  {
   "cell_type": "code",
   "execution_count": 9,
   "metadata": {},
   "outputs": [
    {
     "data": {
      "text/plain": [
       "array([ 0.450184,  0.367165,  0.413324, ...,  0.368113,  0.22131 ,  0.34707 ])"
      ]
     },
     "execution_count": 9,
     "metadata": {},
     "output_type": "execute_result"
    }
   ],
   "source": [
    "zr"
   ]
  },
  {
   "cell_type": "code",
   "execution_count": 14,
   "metadata": {},
   "outputs": [
    {
     "name": "stdout",
     "output_type": "stream",
     "text": [
      "211662\n",
      "211661\n"
     ]
    }
   ],
   "source": [
    "print len(zr)\n",
    "print len(dec)"
   ]
  },
  {
   "cell_type": "code",
   "execution_count": 2,
   "metadata": {
    "collapsed": true
   },
   "outputs": [],
   "source": [
    "datR=ascii.read(\"./output/rand200kdr72.dat\")"
   ]
  },
  {
   "cell_type": "code",
   "execution_count": 10,
   "metadata": {
    "collapsed": true
   },
   "outputs": [],
   "source": [
    "ra=datR['ra']\n",
    "dec=datR['dec']"
   ]
  },
  {
   "cell_type": "code",
   "execution_count": 12,
   "metadata": {
    "collapsed": true
   },
   "outputs": [],
   "source": [
    "DCr=DC_LCDM(zr)"
   ]
  },
  {
   "cell_type": "code",
   "execution_count": 15,
   "metadata": {},
   "outputs": [],
   "source": [
    "rdr7f = open(\"./output/rDR72srarf.dat\",'w')\n",
    "rdr7f.write(\"z\\t ra\\t dec\\t s\\t rar\\t decr \\n\")\n",
    "\n",
    "for i in range(0,len(zr)-1):\n",
    "    rdr7f.write(\"%f\\t \" %zr[i])\n",
    "    rdr7f.write(\"%f\\t %f\\t \" %(ra[i],dec[i]))\n",
    "    rdr7f.write(\"%f\\t \" %DCr[i])\n",
    "    rdr7f.write(\"%f\\t %f\\n \" %(ra[i]*pi/180.0,dec[i]*pi/180.0))\n",
    "rdr7f.close()"
   ]
  },
  {
   "cell_type": "code",
   "execution_count": 16,
   "metadata": {
    "collapsed": true
   },
   "outputs": [],
   "source": [
    "dataR=ascii.read(\"./output/rDR72srarf.dat\")"
   ]
  },
  {
   "cell_type": "code",
   "execution_count": 17,
   "metadata": {
    "collapsed": true
   },
   "outputs": [
    {
     "data": {
      "text/html": [
       "&lt;Column name=&apos;z&apos; dtype=&apos;float64&apos; length=211661&gt;\n",
       "<table>\n",
       "<tr><td>0.450184</td></tr>\n",
       "<tr><td>0.367165</td></tr>\n",
       "<tr><td>0.413324</td></tr>\n",
       "<tr><td>0.32247</td></tr>\n",
       "<tr><td>0.322646</td></tr>\n",
       "<tr><td>0.233469</td></tr>\n",
       "<tr><td>0.313645</td></tr>\n",
       "<tr><td>0.351716</td></tr>\n",
       "<tr><td>0.403208</td></tr>\n",
       "<tr><td>0.37691</td></tr>\n",
       "<tr><td>0.168714</td></tr>\n",
       "<tr><td>0.301653</td></tr>\n",
       "<tr><td>...</td></tr>\n",
       "<tr><td>0.337605</td></tr>\n",
       "<tr><td>0.221458</td></tr>\n",
       "<tr><td>0.221777</td></tr>\n",
       "<tr><td>0.228503</td></tr>\n",
       "<tr><td>0.223359</td></tr>\n",
       "<tr><td>0.350793</td></tr>\n",
       "<tr><td>0.221193</td></tr>\n",
       "<tr><td>0.313262</td></tr>\n",
       "<tr><td>0.245009</td></tr>\n",
       "<tr><td>0.336967</td></tr>\n",
       "<tr><td>0.368113</td></tr>\n",
       "<tr><td>0.22131</td></tr>\n",
       "</table>"
      ],
      "text/plain": [
       "<Column name='z' dtype='float64' length=211661>\n",
       "0.450184\n",
       "0.367165\n",
       "0.413324\n",
       " 0.32247\n",
       "0.322646\n",
       "0.233469\n",
       "0.313645\n",
       "0.351716\n",
       "0.403208\n",
       " 0.37691\n",
       "0.168714\n",
       "0.301653\n",
       "     ...\n",
       "0.337605\n",
       "0.221458\n",
       "0.221777\n",
       "0.228503\n",
       "0.223359\n",
       "0.350793\n",
       "0.221193\n",
       "0.313262\n",
       "0.245009\n",
       "0.336967\n",
       "0.368113\n",
       " 0.22131"
      ]
     },
     "execution_count": 17,
     "metadata": {},
     "output_type": "execute_result"
    }
   ],
   "source": [
    "dataR['z']"
   ]
  },
  {
   "cell_type": "code",
   "execution_count": 18,
   "metadata": {
    "collapsed": true
   },
   "outputs": [],
   "source": [
    "NSIDE=512\n",
    "rdr72hpix=hu.HealPix(\"ring\",NSIDE)"
   ]
  },
  {
   "cell_type": "code",
   "execution_count": 22,
   "metadata": {},
   "outputs": [],
   "source": [
    "pixdata = open(\"./output/pixrand200kdr72.dat\",'w')\n",
    "pixdata.write(\"z\\t pix \\n\")\n",
    "for i in range(0,len(ra)):\n",
    "    pixdata.write(\"%f\\t\" %zr[i])\n",
    "    pixdata.write(\"%d\\n\" %rdr72hpix.eq2pix(ra[i],dec[i]))\n",
    "pixdata.close()"
   ]
  },
  {
   "cell_type": "code",
   "execution_count": 23,
   "metadata": {},
   "outputs": [],
   "source": [
    "pixdata = ascii.read(\"./output/pixrand200kdr72.dat\")\n",
    "hpixdata=np.array(np.zeros(hu.nside2npix(NSIDE)))\n",
    "for j in range(len(pixdata)):\n",
    "    hpixdata[pixdata[j]['pix']]+=1"
   ]
  },
  {
   "cell_type": "code",
   "execution_count": 24,
   "metadata": {},
   "outputs": [
    {
     "data": {
      "text/plain": [
       "array([ 0.,  0.,  0., ...,  0.,  0.,  0.])"
      ]
     },
     "execution_count": 24,
     "metadata": {},
     "output_type": "execute_result"
    }
   ],
   "source": [
    "hpixdata"
   ]
  },
  {
   "cell_type": "code",
   "execution_count": 25,
   "metadata": {},
   "outputs": [
    {
     "data": {
      "image/png": "[encoded data removed]",
      "text/plain": [
       "<matplotlib.figure.Figure at 0x11eb6b990>"
      ]
     },
     "metadata": {},
     "output_type": "display_data"
    }
   ],
   "source": [
    "hu.mollview(hpixdata,rot=180)\n",
    "plt.savefig(\"./plots/rand200kmnew.pdf\")"
   ]
  },
  {
   "cell_type": "code",
   "execution_count": null,
   "metadata": {
    "collapsed": true
   },
   "outputs": [],
   "source": []
  },
  {
   "cell_type": "code",
   "execution_count": null,
   "metadata": {
    "collapsed": true
   },
   "outputs": [],
   "source": []
  },
  {
   "cell_type": "code",
   "execution_count": null,
   "metadata": {
    "collapsed": true
   },
   "outputs": [],
   "source": []
  },
  {
   "cell_type": "code",
   "execution_count": null,
   "metadata": {
    "collapsed": true
   },
   "outputs": [],
   "source": []
  },
  {
   "cell_type": "code",
   "execution_count": null,
   "metadata": {
    "collapsed": true
   },
   "outputs": [],
   "source": []
  },
  {
   "cell_type": "code",
   "execution_count": null,
   "metadata": {
    "collapsed": true
   },
   "outputs": [],
   "source": []
  },
  {
   "cell_type": "code",
   "execution_count": null,
   "metadata": {
    "collapsed": true
   },
   "outputs": [],
   "source": []
  },
  {
   "cell_type": "code",
   "execution_count": null,
   "metadata": {
    "collapsed": true
   },
   "outputs": [],
   "source": [
    "from scipy.stats import norm\n",
    "from sklearn.neighbors import KernelDensity"
   ]
  },
  {
   "cell_type": "code",
   "execution_count": null,
   "metadata": {
    "collapsed": true
   },
   "outputs": [],
   "source": [
    "from lcdmmetric import *"
   ]
  },
  {
   "cell_type": "code",
   "execution_count": null,
   "metadata": {
    "collapsed": true
   },
   "outputs": [],
   "source": [
    "z=np.array(data['z'])"
   ]
  },
  {
   "cell_type": "code",
   "execution_count": null,
   "metadata": {
    "collapsed": true
   },
   "outputs": [],
   "source": [
    "zkde=z.reshape(1,-1)"
   ]
  },
  {
   "cell_type": "code",
   "execution_count": null,
   "metadata": {},
   "outputs": [],
   "source": [
    "kde = KernelDensity(kernel='gaussian', bandwidth=0.75).fit(zkde)"
   ]
  },
  {
   "cell_type": "code",
   "execution_count": null,
   "metadata": {},
   "outputs": [],
   "source": [
    "kde"
   ]
  },
  {
   "cell_type": "code",
   "execution_count": null,
   "metadata": {},
   "outputs": [],
   "source": [
    "X_plot = np.arange(z.min(), z.max(), z.size())[:, np.newaxis]"
   ]
  },
  {
   "cell_type": "code",
   "execution_count": null,
   "metadata": {},
   "outputs": [],
   "source": [
    "log_dens = kde.score_samples(zkde)"
   ]
  },
  {
   "cell_type": "code",
   "execution_count": null,
   "metadata": {},
   "outputs": [],
   "source": [
    "log_dens"
   ]
  },
  {
   "cell_type": "code",
   "execution_count": null,
   "metadata": {
    "collapsed": true
   },
   "outputs": [],
   "source": [
    "d=ascii.read(\"./output/DR72LCsrarf.dat\")"
   ]
  },
  {
   "cell_type": "code",
   "execution_count": null,
   "metadata": {},
   "outputs": [],
   "source": [
    "d"
   ]
  },
  {
   "cell_type": "code",
   "execution_count": null,
   "metadata": {
    "collapsed": true
   },
   "outputs": [],
   "source": [
    "dataR=ascii.read(\"./output/rand200kdr72.dat\")"
   ]
  },
  {
   "cell_type": "code",
   "execution_count": null,
   "metadata": {
    "collapsed": true
   },
   "outputs": [],
   "source": [
    "dataR['z']"
   ]
  },
  {
   "cell_type": "code",
   "execution_count": null,
   "metadata": {
    "collapsed": true
   },
   "outputs": [],
   "source": [
    "dataR['ra']"
   ]
  },
  {
   "cell_type": "code",
   "execution_count": null,
   "metadata": {
    "collapsed": true
   },
   "outputs": [],
   "source": [
    "dataR['dec']"
   ]
  },
  {
   "cell_type": "code",
   "execution_count": null,
   "metadata": {
    "collapsed": true
   },
   "outputs": [],
   "source": [
    "DCLCR=DC_LC(dataR['z'])"
   ]
  },
  {
   "cell_type": "code",
   "execution_count": null,
   "metadata": {
    "collapsed": true
   },
   "outputs": [],
   "source": [
    "rdr7f = open(\"./output/rDR7200kLCsrarf.dat\",'w')\n",
    "rdr7f.write(\"z\\t ra\\t dec\\t s\\t rar\\t decr \\n\")\n",
    "\n",
    "for i in range(0,len(dataR)):\n",
    "    rdr7f.write(\"%f\\t \" %dataR['z'][i])\n",
    "    rdr7f.write(\"%f\\t %f\\t \" %(dataR['ra'][i],dataR['dec'][i]))\n",
    "    rdr7f.write(\"%f\\t \" %DCLCR[i])\n",
    "    rdr7f.write(\"%f\\t %f\\n \" %(dataR['ra'][i]*pi/180.0,dataR['dec'][i]*pi/180.0))\n",
    "rdr7f.close()"
   ]
  },
  {
   "cell_type": "code",
   "execution_count": null,
   "metadata": {
    "collapsed": true
   },
   "outputs": [],
   "source": [
    "r=ascii.read(\"./output/rDR7200kLCsrarf.dat\")"
   ]
  },
  {
   "cell_type": "code",
   "execution_count": null,
   "metadata": {},
   "outputs": [],
   "source": [
    "r"
   ]
  },
  {
   "cell_type": "code",
   "execution_count": null,
   "metadata": {
    "collapsed": true
   },
   "outputs": [],
   "source": [
    "dr7fdat=ascii.read(\"./output/DR7srarf.dat\")"
   ]
  },
  {
   "cell_type": "code",
   "execution_count": null,
   "metadata": {},
   "outputs": [],
   "source": [
    "dr7fdat['s'][1:300]"
   ]
  },
  {
   "cell_type": "code",
   "execution_count": null,
   "metadata": {
    "collapsed": true
   },
   "outputs": [],
   "source": []
  },
  {
   "cell_type": "code",
   "execution_count": null,
   "metadata": {
    "collapsed": true
   },
   "outputs": [],
   "source": []
  },
  {
   "cell_type": "code",
   "execution_count": null,
   "metadata": {
    "collapsed": true
   },
   "outputs": [],
   "source": [
    "#fdata=fits.open(\"/Users/rohin/Downloads/DR7-Full.fits\")"
   ]
  },
  {
   "cell_type": "code",
   "execution_count": null,
   "metadata": {
    "collapsed": true
   },
   "outputs": [],
   "source": [
    "#fdata.writeto(\"./output/DR7fulltrim.fits\")"
   ]
  },
  {
   "cell_type": "code",
   "execution_count": null,
   "metadata": {
    "collapsed": true
   },
   "outputs": [],
   "source": [
    "fdata=fits.open(\"./output/DR7fulltrim.fits\")"
   ]
  },
  {
   "cell_type": "code",
   "execution_count": null,
   "metadata": {
    "collapsed": true
   },
   "outputs": [],
   "source": [
    "cols=fdata[1].columns"
   ]
  },
  {
   "cell_type": "code",
   "execution_count": null,
   "metadata": {},
   "outputs": [],
   "source": [
    "cols.del_col('ZTYPE')"
   ]
  },
  {
   "cell_type": "code",
   "execution_count": null,
   "metadata": {},
   "outputs": [],
   "source": [
    "cols.del_col('SECTOR')\n",
    "cols.del_col('FGOTMAIN')\n",
    "cols.del_col('QUALITY')\n",
    "cols.del_col('ISBAD')\n",
    "cols.del_col('M')\n",
    "cols.del_col('MMAX')\n",
    "cols.del_col('ILSS')\n",
    "cols.del_col('ICOMB')\n",
    "cols.del_col('VAGC_SELECT')\n",
    "cols.del_col('LSS_INDEX')\n",
    "cols.del_col('FIBERWEIGHT')\n",
    "cols.del_col('PRIMTARGET')\n",
    "cols.del_col('MG')\n",
    "cols.del_col('SECTOR_COMPLETENESS')\n",
    "cols.del_col('COMOV_DENSITY')\n",
    "cols.del_col('RADIAL_WEIGHT')"
   ]
  },
  {
   "cell_type": "code",
   "execution_count": null,
   "metadata": {},
   "outputs": [],
   "source": [
    "fdata[1].columns"
   ]
  },
  {
   "cell_type": "code",
   "execution_count": null,
   "metadata": {},
   "outputs": [],
   "source": [
    "fdata.writeto(\"./output/DR7fullzradec.fits\")"
   ]
  },
  {
   "cell_type": "code",
   "execution_count": null,
   "metadata": {
    "collapsed": true
   },
   "outputs": [],
   "source": [
    "fdat=fits.open(\"./output/DR7fullzradec.fits\")"
   ]
  },
  {
   "cell_type": "code",
   "execution_count": null,
   "metadata": {},
   "outputs": [],
   "source": [
    "fdat[1].columns"
   ]
  },
  {
   "cell_type": "code",
   "execution_count": null,
   "metadata": {},
   "outputs": [],
   "source": [
    "fdat[1].data['Z']"
   ]
  },
  {
   "cell_type": "code",
   "execution_count": null,
   "metadata": {},
   "outputs": [],
   "source": [
    "fdat[1].data['RA']"
   ]
  },
  {
   "cell_type": "code",
   "execution_count": null,
   "metadata": {
    "collapsed": true
   },
   "outputs": [],
   "source": []
  },
  {
   "cell_type": "code",
   "execution_count": null,
   "metadata": {
    "collapsed": true
   },
   "outputs": [],
   "source": [
    "comovlcdm=DC_LCDM(fdat[1].data['Z'])"
   ]
  },
  {
   "cell_type": "code",
   "execution_count": null,
   "metadata": {},
   "outputs": [],
   "source": [
    "fdat[1].data['Z']"
   ]
  },
  {
   "cell_type": "code",
   "execution_count": null,
   "metadata": {},
   "outputs": [],
   "source": [
    "comovlcdm"
   ]
  },
  {
   "cell_type": "code",
   "execution_count": null,
   "metadata": {},
   "outputs": [],
   "source": [
    "comovlcdm.dtype"
   ]
  },
  {
   "cell_type": "code",
   "execution_count": null,
   "metadata": {
    "collapsed": true
   },
   "outputs": [],
   "source": [
    "#cols=fdat[1].columns"
   ]
  },
  {
   "cell_type": "code",
   "execution_count": null,
   "metadata": {
    "collapsed": true
   },
   "outputs": [],
   "source": [
    "nc=fits.Column(name='COMOV',format='D',array=comovlcdm)"
   ]
  },
  {
   "cell_type": "code",
   "execution_count": null,
   "metadata": {
    "collapsed": true
   },
   "outputs": [],
   "source": [
    "nc1=fits.Column(name='COMOV',format='D')"
   ]
  },
  {
   "cell_type": "code",
   "execution_count": null,
   "metadata": {},
   "outputs": [],
   "source": [
    "fdata[1].data['Z']"
   ]
  },
  {
   "cell_type": "code",
   "execution_count": null,
   "metadata": {},
   "outputs": [],
   "source": [
    "fdata[1].data['RA']"
   ]
  },
  {
   "cell_type": "code",
   "execution_count": null,
   "metadata": {},
   "outputs": [],
   "source": [
    "nc"
   ]
  },
  {
   "cell_type": "code",
   "execution_count": null,
   "metadata": {},
   "outputs": [],
   "source": [
    "nc.dtype"
   ]
  },
  {
   "cell_type": "code",
   "execution_count": null,
   "metadata": {
    "collapsed": true
   },
   "outputs": [],
   "source": [
    "#cols.add_col(nc)"
   ]
  },
  {
   "cell_type": "code",
   "execution_count": null,
   "metadata": {},
   "outputs": [],
   "source": [
    "fdat[1].columns"
   ]
  },
  {
   "cell_type": "code",
   "execution_count": null,
   "metadata": {},
   "outputs": [],
   "source": [
    "fdat[1].columns.info()"
   ]
  },
  {
   "cell_type": "code",
   "execution_count": null,
   "metadata": {},
   "outputs": [],
   "source": [
    "fdat[1].columns.add_col(nc1)"
   ]
  },
  {
   "cell_type": "code",
   "execution_count": null,
   "metadata": {
    "collapsed": true
   },
   "outputs": [],
   "source": [
    "fdat[1].data['COMOV']=comovlcdm"
   ]
  },
  {
   "cell_type": "code",
   "execution_count": null,
   "metadata": {},
   "outputs": [],
   "source": [
    "comovlcdm"
   ]
  },
  {
   "cell_type": "code",
   "execution_count": null,
   "metadata": {},
   "outputs": [],
   "source": [
    "fdat[1].data['Z']"
   ]
  },
  {
   "cell_type": "code",
   "execution_count": null,
   "metadata": {},
   "outputs": [],
   "source": [
    "fdat[1].data['COMOV']"
   ]
  },
  {
   "cell_type": "code",
   "execution_count": null,
   "metadata": {},
   "outputs": [],
   "source": [
    "fdat[1].data['RA']"
   ]
  },
  {
   "cell_type": "code",
   "execution_count": null,
   "metadata": {
    "collapsed": true
   },
   "outputs": [],
   "source": [
    "fdat[1].data['RA']=fdat[1].data['RA']*pi/180.0"
   ]
  },
  {
   "cell_type": "code",
   "execution_count": null,
   "metadata": {},
   "outputs": [],
   "source": [
    "comovlcdm=DC_LCDM(fdat[1].data['Z'])\n",
    "comovlcdm"
   ]
  },
  {
   "cell_type": "code",
   "execution_count": null,
   "metadata": {
    "collapsed": true
   },
   "outputs": [],
   "source": []
  },
  {
   "cell_type": "code",
   "execution_count": null,
   "metadata": {
    "collapsed": true
   },
   "outputs": [],
   "source": []
  },
  {
   "cell_type": "markdown",
   "metadata": {},
   "source": [
    "Random catalog created based on the survey limitations also taken from http://cosmo.nyu.edu/~eak306/SDSS-LRG.html"
   ]
  },
  {
   "cell_type": "code",
   "execution_count": null,
   "metadata": {
    "collapsed": true
   },
   "outputs": [],
   "source": [
    "dataR=fits.open(\"/Users/rohin/Downloads/random-DR7-Full.fits\")"
   ]
  },
  {
   "cell_type": "code",
   "execution_count": null,
   "metadata": {},
   "outputs": [],
   "source": [
    "dataR"
   ]
  },
  {
   "cell_type": "code",
   "execution_count": null,
   "metadata": {
    "collapsed": true
   },
   "outputs": [],
   "source": [
    "dataR=dataR[1].data"
   ]
  },
  {
   "cell_type": "code",
   "execution_count": null,
   "metadata": {},
   "outputs": [],
   "source": [
    "len(dataR)"
   ]
  },
  {
   "cell_type": "code",
   "execution_count": null,
   "metadata": {
    "collapsed": true
   },
   "outputs": [],
   "source": [
    "NSIDE=512\n",
    "dr72hpix=hu.HealPix(\"ring\",NSIDE)"
   ]
  },
  {
   "cell_type": "code",
   "execution_count": null,
   "metadata": {
    "collapsed": true
   },
   "outputs": [],
   "source": [
    "pixdata = open(\"./output/pixdatadr72VAGCfullrand.dat\",'w')\n",
    "pixdata.write(\"z\\t pix \\n\")\n",
    "\n",
    "for i in range(0,len(data)-1):\n",
    "    pixdata.write(\"%f\\t\" %data['z'][i])\n",
    "    pixdata.write(\"%d\\n\" %dr72hpix.eq2pix(dataR['ra'][i],dataR['dec'][i]))\n",
    "pixdata.close()"
   ]
  },
  {
   "cell_type": "code",
   "execution_count": null,
   "metadata": {
    "collapsed": true
   },
   "outputs": [],
   "source": [
    "pixdata = ascii.read(\"./output/pixdatadr72VAGCfullrand.dat\")\n",
    "hpixdata=np.array(np.zeros(hu.nside2npix(NSIDE)))\n",
    "for j in range(len(pixdata)):\n",
    "    hpixdata[pixdata[j]['pix']]+=1"
   ]
  },
  {
   "cell_type": "code",
   "execution_count": null,
   "metadata": {},
   "outputs": [],
   "source": [
    "hpixdata"
   ]
  },
  {
   "cell_type": "code",
   "execution_count": null,
   "metadata": {},
   "outputs": [],
   "source": [
    "hu.mollview(hpixdata,rot=180)"
   ]
  },
  {
   "cell_type": "code",
   "execution_count": null,
   "metadata": {},
   "outputs": [],
   "source": [
    "hu.orthview(hpixdata)"
   ]
  }
 ],
 "metadata": {
  "kernelspec": {
   "display_name": "Python 2",
   "language": "python",
   "name": "python2"
  },
  "language_info": {
   "codemirror_mode": {
    "name": "ipython",
    "version": 2
   },
   "file_extension": ".py",
   "mimetype": "text/x-python",
   "name": "python",
   "nbconvert_exporter": "python",
   "pygments_lexer": "ipython2",
   "version": "2.7.13"
  }
 },
 "nbformat": 4,
 "nbformat_minor": 1
}
