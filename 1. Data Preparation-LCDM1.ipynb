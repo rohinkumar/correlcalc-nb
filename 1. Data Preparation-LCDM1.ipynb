{
 "cells": [
  {
   "cell_type": "markdown",
   "metadata": {},
   "source": [
    "# Correlation function of DR72 SDSS VAGC Catalog"
   ]
  },
  {
   "cell_type": "markdown",
   "metadata": {},
   "source": [
    "First import all the modules such as healpy and astropy needed for analyzing the structure"
   ]
  },
  {
   "cell_type": "code",
   "execution_count": 1,
   "metadata": {
    "collapsed": true
   },
   "outputs": [],
   "source": [
    "import healpix_util as hu\n",
    "import astropy as ap\n",
    "import numpy as np\n",
    "from astropy.io import fits\n",
    "from astropy.table import Table\n",
    "import astropy.io.ascii as ascii\n",
    "from astropy.io import fits\n",
    "from astropy.constants import c\n",
    "import matplotlib.pyplot as plt\n",
    "import math as m\n",
    "from math import pi\n",
    "import scipy.special as sp\n",
    "from scipy import integrate\n",
    "import warnings\n",
    "from sklearn.neighbors import BallTree\n",
    "import pickle\n",
    "import pymangle\n",
    "from scipy.optimize import curve_fit\n",
    "%matplotlib inline"
   ]
  },
  {
   "cell_type": "code",
   "execution_count": null,
   "metadata": {
    "scrolled": true
   },
   "outputs": [],
   "source": [
    "dr7full=ascii.read(\"./input/DR7-Full.ascii\")\n",
    "dr7full"
   ]
  },
  {
   "cell_type": "code",
   "execution_count": null,
   "metadata": {
    "collapsed": true
   },
   "outputs": [],
   "source": [
    "z=dr7full['col3']\n",
    "rad=dr7full['col1']\n",
    "decd=dr7full['col2']"
   ]
  },
  {
   "cell_type": "code",
   "execution_count": 28,
   "metadata": {},
   "outputs": [
    {
     "data": {
      "text/plain": [
       "<numpy.lib.function_base.vectorize at 0x1150aa510>"
      ]
     },
     "execution_count": 28,
     "metadata": {},
     "output_type": "execute_result"
    }
   ],
   "source": [
    "#Ez = lambda x: 1.0/m.sqrt(0.3*(1+x)**3+0.7)\n",
    "Om=0.25\n",
    "Ol=0.75\n",
    "Ok=0.0\n",
    "def Ez(zv):\n",
    "    return 1.0/m.sqrt(Om*(1.0+zv)**3+Ok*(1.0+zv)**2+Ol)\n",
    "\n",
    "np.vectorize(Ez)\n",
    "#Calculate comoving distance of a data point using the Redshift - This definition is based on the cosmology model we take. Here the distance for E-dS universe is considered. Also note that c/H0 ratio is cancelled in the equations and hence not taken."
   ]
  },
  {
   "cell_type": "code",
   "execution_count": 29,
   "metadata": {
    "collapsed": true
   },
   "outputs": [],
   "source": [
    "def DC_LCDM(z):\n",
    "  return integrate.quad(Ez, 0, z)[0]\n",
    "DC_LCDM=np.vectorize(DC_LCDM)"
   ]
  },
  {
   "cell_type": "code",
   "execution_count": 30,
   "metadata": {},
   "outputs": [
    {
     "data": {
      "text/plain": [
       "array(1.2660810187999292)"
      ]
     },
     "execution_count": 30,
     "metadata": {},
     "output_type": "execute_result"
    }
   ],
   "source": [
    "DC_LCDM(2.0)"
   ]
  },
  {
   "cell_type": "code",
   "execution_count": null,
   "metadata": {
    "collapsed": true
   },
   "outputs": [],
   "source": [
    "DC=DC_LCDM(z)\n",
    "DC"
   ]
  },
  {
   "cell_type": "code",
   "execution_count": null,
   "metadata": {
    "collapsed": true
   },
   "outputs": [],
   "source": [
    "dr7f = open(\"./output/DR72srarflcdm1.dat\",'w')\n",
    "dr7f.write(\"z\\t ra\\t dec\\t s\\t rar\\t decr \\n\")\n",
    "\n",
    "for i in range(0,len(dr7full)):\n",
    "    dr7f.write(\"%f\\t \" %z[i])\n",
    "    dr7f.write(\"%f\\t %f\\t \" %(rad[i],decd[i]))\n",
    "    dr7f.write(\"%f\\t \" %DC[i])\n",
    "    dr7f.write(\"%f\\t %f\\n \" %(rad[i]*pi/180.0,decd[i]*pi/180.0))\n",
    "dr7f.close()"
   ]
  },
  {
   "cell_type": "code",
   "execution_count": 6,
   "metadata": {
    "collapsed": true
   },
   "outputs": [],
   "source": [
    "data=ascii.read(\"./output/DR72srarflcdm1.dat\")"
   ]
  },
  {
   "cell_type": "code",
   "execution_count": null,
   "metadata": {
    "collapsed": true
   },
   "outputs": [],
   "source": [
    "data['z']"
   ]
  },
  {
   "cell_type": "code",
   "execution_count": null,
   "metadata": {
    "collapsed": true
   },
   "outputs": [],
   "source": [
    "data['s']"
   ]
  },
  {
   "cell_type": "code",
   "execution_count": null,
   "metadata": {
    "collapsed": true
   },
   "outputs": [],
   "source": [
    "data['rar']"
   ]
  },
  {
   "cell_type": "code",
   "execution_count": null,
   "metadata": {
    "collapsed": true
   },
   "outputs": [],
   "source": [
    "data['decr']"
   ]
  },
  {
   "cell_type": "code",
   "execution_count": null,
   "metadata": {
    "collapsed": true
   },
   "outputs": [],
   "source": [
    "NSIDE=512\n",
    "dr72hpix=hu.HealPix(\"ring\",NSIDE)"
   ]
  },
  {
   "cell_type": "code",
   "execution_count": null,
   "metadata": {
    "collapsed": true
   },
   "outputs": [],
   "source": [
    "pixdata = open(\"./output/pixdatadr72VAGCfulllcdm1.dat\",'w')\n",
    "pixdata.write(\"z\\t pix \\n\")\n",
    "\n",
    "for i in range(0,len(data)):\n",
    "    pixdata.write(\"%f\\t\" %data['z'][i])\n",
    "    pixdata.write(\"%d\\n\" %dr72hpix.eq2pix(data['ra'][i],data['dec'][i]))\n",
    "pixdata.close()"
   ]
  },
  {
   "cell_type": "code",
   "execution_count": null,
   "metadata": {
    "collapsed": true
   },
   "outputs": [],
   "source": [
    "pixdata = ascii.read(\"./output/pixdatadr72VAGCfulllcdm1.dat\")\n",
    "hpixdata=np.array(np.zeros(hu.nside2npix(NSIDE)))\n",
    "for j in range(len(pixdata)):\n",
    "    hpixdata[pixdata[j]['pix']]+=1"
   ]
  },
  {
   "cell_type": "code",
   "execution_count": null,
   "metadata": {},
   "outputs": [],
   "source": [
    "hpixdata"
   ]
  },
  {
   "cell_type": "code",
   "execution_count": null,
   "metadata": {},
   "outputs": [],
   "source": [
    "hu.mollview(hpixdata,rot=180)"
   ]
  },
  {
   "cell_type": "code",
   "execution_count": null,
   "metadata": {
    "collapsed": true
   },
   "outputs": [],
   "source": [
    "mangle=pymangle.Mangle(\"./masks/\")"
   ]
  },
  {
   "cell_type": "markdown",
   "metadata": {},
   "source": [
    "Ref: https://pypi.python.org/pypi/pymangle/"
   ]
  },
  {
   "cell_type": "code",
   "execution_count": null,
   "metadata": {
    "collapsed": true
   },
   "outputs": [],
   "source": [
    "%%time\n",
    "rar,decr=mangle.genrand(2*len(data))"
   ]
  },
  {
   "cell_type": "code",
   "execution_count": 22,
   "metadata": {
    "collapsed": true
   },
   "outputs": [],
   "source": [
    "dataR=ascii.read(\"./output/rand200kdr72.dat\")"
   ]
  },
  {
   "cell_type": "code",
   "execution_count": 23,
   "metadata": {},
   "outputs": [
    {
     "data": {
      "text/html": [
       "&lt;Column name=&apos;z&apos; dtype=&apos;float64&apos; length=211661&gt;\n",
       "<table>\n",
       "<tr><td>0.450184</td></tr>\n",
       "<tr><td>0.367165</td></tr>\n",
       "<tr><td>0.413324</td></tr>\n",
       "<tr><td>0.32247</td></tr>\n",
       "<tr><td>0.322646</td></tr>\n",
       "<tr><td>0.233469</td></tr>\n",
       "<tr><td>0.313645</td></tr>\n",
       "<tr><td>0.351716</td></tr>\n",
       "<tr><td>0.403208</td></tr>\n",
       "<tr><td>0.37691</td></tr>\n",
       "<tr><td>0.168714</td></tr>\n",
       "<tr><td>0.301653</td></tr>\n",
       "<tr><td>...</td></tr>\n",
       "<tr><td>0.386714</td></tr>\n",
       "<tr><td>0.435683</td></tr>\n",
       "<tr><td>0.260919</td></tr>\n",
       "<tr><td>0.186362</td></tr>\n",
       "<tr><td>0.378593</td></tr>\n",
       "<tr><td>0.453896</td></tr>\n",
       "<tr><td>0.269251</td></tr>\n",
       "<tr><td>0.26528</td></tr>\n",
       "<tr><td>0.267663</td></tr>\n",
       "<tr><td>0.36518</td></tr>\n",
       "<tr><td>0.327193</td></tr>\n",
       "<tr><td>0.207093</td></tr>\n",
       "</table>"
      ],
      "text/plain": [
       "<Column name='z' dtype='float64' length=211661>\n",
       "0.450184\n",
       "0.367165\n",
       "0.413324\n",
       " 0.32247\n",
       "0.322646\n",
       "0.233469\n",
       "0.313645\n",
       "0.351716\n",
       "0.403208\n",
       " 0.37691\n",
       "0.168714\n",
       "0.301653\n",
       "     ...\n",
       "0.386714\n",
       "0.435683\n",
       "0.260919\n",
       "0.186362\n",
       "0.378593\n",
       "0.453896\n",
       "0.269251\n",
       " 0.26528\n",
       "0.267663\n",
       " 0.36518\n",
       "0.327193\n",
       "0.207093"
      ]
     },
     "execution_count": 23,
     "metadata": {},
     "output_type": "execute_result"
    }
   ],
   "source": [
    "dataR['z']"
   ]
  },
  {
   "cell_type": "code",
   "execution_count": 24,
   "metadata": {},
   "outputs": [
    {
     "data": {
      "text/html": [
       "&lt;Column name=&apos;ra&apos; dtype=&apos;float64&apos; length=211661&gt;\n",
       "<table>\n",
       "<tr><td>171.460447</td></tr>\n",
       "<tr><td>156.861634</td></tr>\n",
       "<tr><td>135.655956</td></tr>\n",
       "<tr><td>151.1135</td></tr>\n",
       "<tr><td>327.045321</td></tr>\n",
       "<tr><td>222.706587</td></tr>\n",
       "<tr><td>132.163348</td></tr>\n",
       "<tr><td>214.239217</td></tr>\n",
       "<tr><td>310.627283</td></tr>\n",
       "<tr><td>143.795051</td></tr>\n",
       "<tr><td>168.941476</td></tr>\n",
       "<tr><td>149.195059</td></tr>\n",
       "<tr><td>...</td></tr>\n",
       "<tr><td>229.828647</td></tr>\n",
       "<tr><td>222.307662</td></tr>\n",
       "<tr><td>137.338184</td></tr>\n",
       "<tr><td>212.775182</td></tr>\n",
       "<tr><td>157.704931</td></tr>\n",
       "<tr><td>155.852813</td></tr>\n",
       "<tr><td>181.687843</td></tr>\n",
       "<tr><td>228.866114</td></tr>\n",
       "<tr><td>236.502458</td></tr>\n",
       "<tr><td>184.953736</td></tr>\n",
       "<tr><td>184.394802</td></tr>\n",
       "<tr><td>232.41561</td></tr>\n",
       "</table>"
      ],
      "text/plain": [
       "<Column name='ra' dtype='float64' length=211661>\n",
       "171.460447\n",
       "156.861634\n",
       "135.655956\n",
       "  151.1135\n",
       "327.045321\n",
       "222.706587\n",
       "132.163348\n",
       "214.239217\n",
       "310.627283\n",
       "143.795051\n",
       "168.941476\n",
       "149.195059\n",
       "       ...\n",
       "229.828647\n",
       "222.307662\n",
       "137.338184\n",
       "212.775182\n",
       "157.704931\n",
       "155.852813\n",
       "181.687843\n",
       "228.866114\n",
       "236.502458\n",
       "184.953736\n",
       "184.394802\n",
       " 232.41561"
      ]
     },
     "execution_count": 24,
     "metadata": {},
     "output_type": "execute_result"
    }
   ],
   "source": [
    "dataR['ra']"
   ]
  },
  {
   "cell_type": "code",
   "execution_count": 25,
   "metadata": {
    "collapsed": true
   },
   "outputs": [
    {
     "data": {
      "text/html": [
       "&lt;Column name=&apos;dec&apos; dtype=&apos;float64&apos; length=211661&gt;\n",
       "<table>\n",
       "<tr><td>14.210816</td></tr>\n",
       "<tr><td>40.750823</td></tr>\n",
       "<tr><td>19.592957</td></tr>\n",
       "<tr><td>24.245002</td></tr>\n",
       "<tr><td>-7.737766</td></tr>\n",
       "<tr><td>21.927202</td></tr>\n",
       "<tr><td>15.281744</td></tr>\n",
       "<tr><td>5.973424</td></tr>\n",
       "<tr><td>1.01386</td></tr>\n",
       "<tr><td>15.993848</td></tr>\n",
       "<tr><td>43.319462</td></tr>\n",
       "<tr><td>13.531564</td></tr>\n",
       "<tr><td>...</td></tr>\n",
       "<tr><td>24.816154</td></tr>\n",
       "<tr><td>31.128326</td></tr>\n",
       "<tr><td>32.232182</td></tr>\n",
       "<tr><td>-2.589495</td></tr>\n",
       "<tr><td>26.641368</td></tr>\n",
       "<tr><td>47.126498</td></tr>\n",
       "<tr><td>59.175281</td></tr>\n",
       "<tr><td>18.754199</td></tr>\n",
       "<tr><td>47.192155</td></tr>\n",
       "<tr><td>11.402623</td></tr>\n",
       "<tr><td>3.035483</td></tr>\n",
       "<tr><td>9.774797</td></tr>\n",
       "</table>"
      ],
      "text/plain": [
       "<Column name='dec' dtype='float64' length=211661>\n",
       "14.210816\n",
       "40.750823\n",
       "19.592957\n",
       "24.245002\n",
       "-7.737766\n",
       "21.927202\n",
       "15.281744\n",
       " 5.973424\n",
       "  1.01386\n",
       "15.993848\n",
       "43.319462\n",
       "13.531564\n",
       "      ...\n",
       "24.816154\n",
       "31.128326\n",
       "32.232182\n",
       "-2.589495\n",
       "26.641368\n",
       "47.126498\n",
       "59.175281\n",
       "18.754199\n",
       "47.192155\n",
       "11.402623\n",
       " 3.035483\n",
       " 9.774797"
      ]
     },
     "execution_count": 25,
     "metadata": {},
     "output_type": "execute_result"
    }
   ],
   "source": [
    "dataR['dec']"
   ]
  },
  {
   "cell_type": "code",
   "execution_count": 31,
   "metadata": {},
   "outputs": [],
   "source": [
    "DCr=DC_LCDM(dataR['z'])"
   ]
  },
  {
   "cell_type": "code",
   "execution_count": 32,
   "metadata": {
    "collapsed": true
   },
   "outputs": [],
   "source": [
    "rdr7f = open(\"./output/rDR72srarflcdm1.dat\",'w')\n",
    "rdr7f.write(\"z\\t ra\\t dec\\t s\\t rar\\t decr \\n\")\n",
    "\n",
    "for i in range(0,len(dataR)):\n",
    "    rdr7f.write(\"%f\\t \" %dataR['z'][i])\n",
    "    rdr7f.write(\"%f\\t %f\\t \" %(dataR['ra'][i],dataR['dec'][i]))\n",
    "    rdr7f.write(\"%f\\t \" %DCr[i])\n",
    "    rdr7f.write(\"%f\\t %f\\n \" %(dataR['ra'][i]*pi/180.0,dataR['dec'][i]*pi/180.0))\n",
    "rdr7f.close()"
   ]
  },
  {
   "cell_type": "code",
   "execution_count": null,
   "metadata": {
    "collapsed": true
   },
   "outputs": [],
   "source": [
    "r=ascii.read(\"./output/rDR7200kLCsrarf.dat\")"
   ]
  },
  {
   "cell_type": "code",
   "execution_count": null,
   "metadata": {
    "collapsed": true
   },
   "outputs": [],
   "source": []
  },
  {
   "cell_type": "code",
   "execution_count": null,
   "metadata": {},
   "outputs": [],
   "source": [
    "rar"
   ]
  },
  {
   "cell_type": "code",
   "execution_count": null,
   "metadata": {},
   "outputs": [],
   "source": [
    "decr"
   ]
  },
  {
   "cell_type": "code",
   "execution_count": null,
   "metadata": {
    "collapsed": true
   },
   "outputs": [],
   "source": [
    "zr=np.array([data['z'],data['z']])"
   ]
  },
  {
   "cell_type": "code",
   "execution_count": null,
   "metadata": {},
   "outputs": [],
   "source": [
    "zr"
   ]
  },
  {
   "cell_type": "code",
   "execution_count": null,
   "metadata": {
    "collapsed": true
   },
   "outputs": [],
   "source": [
    "zr=zr.flatten()"
   ]
  },
  {
   "cell_type": "code",
   "execution_count": null,
   "metadata": {},
   "outputs": [],
   "source": [
    "zr"
   ]
  },
  {
   "cell_type": "code",
   "execution_count": null,
   "metadata": {},
   "outputs": [],
   "source": [
    "print len(zr)\n",
    "print len(decr)"
   ]
  },
  {
   "cell_type": "code",
   "execution_count": null,
   "metadata": {
    "collapsed": true
   },
   "outputs": [],
   "source": [
    "rdr7f = open(\"./output/rDR72srarf.dat\",'w')\n",
    "rdr7f.write(\"z\\t ra\\t dec\\t s\\t rar\\t decr \\n\")\n",
    "\n",
    "for i in range(0,len(zr)):\n",
    "    rdr7f.write(\"%f\\t \" %zr[i])\n",
    "    rdr7f.write(\"%f\\t %f\\t \" %(rar[i]*180.0/pi,decr[i]*180.0/pi))\n",
    "    rdr7f.write(\"%f\\t \" %DC_LCDM(zr[i]))\n",
    "    rdr7f.write(\"%f\\t %f\\n \" %(rar[i],decr[i]))\n",
    "rdr7f.close()"
   ]
  },
  {
   "cell_type": "code",
   "execution_count": null,
   "metadata": {
    "collapsed": true
   },
   "outputs": [],
   "source": [
    "dataR=ascii.read(\"./output/rDR72srarf.dat\")"
   ]
  },
  {
   "cell_type": "code",
   "execution_count": null,
   "metadata": {
    "collapsed": true
   },
   "outputs": [],
   "source": [
    "dataR['z']"
   ]
  },
  {
   "cell_type": "code",
   "execution_count": 2,
   "metadata": {
    "collapsed": true
   },
   "outputs": [],
   "source": [
    "dat=ascii.read(\"./output/DR72srarflcdm1.dat\")"
   ]
  },
  {
   "cell_type": "code",
   "execution_count": 3,
   "metadata": {
    "collapsed": true
   },
   "outputs": [],
   "source": [
    "dat=np.array([dat['s'],dat['rar'],dat['decr']])"
   ]
  },
  {
   "cell_type": "code",
   "execution_count": 7,
   "metadata": {},
   "outputs": [
    {
     "data": {
      "text/plain": [
       "array([[ 0.408923,  0.33995 ,  0.378663, ...,  0.340754,  0.211635,\n",
       "         0.322813],\n",
       "       [ 0.980185,  1.016617,  0.950251, ...,  2.830242,  2.831786,\n",
       "         2.838233],\n",
       "       [-0.003863,  0.003776,  0.010821, ...,  0.172112,  0.173661,\n",
       "         0.173055]])"
      ]
     },
     "execution_count": 7,
     "metadata": {},
     "output_type": "execute_result"
    }
   ],
   "source": [
    "dat.reshape(3,len(data['s']))"
   ]
  },
  {
   "cell_type": "code",
   "execution_count": 8,
   "metadata": {
    "collapsed": true
   },
   "outputs": [],
   "source": [
    "dat=dat.transpose()"
   ]
  },
  {
   "cell_type": "code",
   "execution_count": 9,
   "metadata": {},
   "outputs": [
    {
     "data": {
      "text/plain": [
       "array([[ 0.408923,  0.980185, -0.003863],\n",
       "       [ 0.33995 ,  1.016617,  0.003776],\n",
       "       [ 0.378663,  0.950251,  0.010821],\n",
       "       ..., \n",
       "       [ 0.340754,  2.830242,  0.172112],\n",
       "       [ 0.211635,  2.831786,  0.173661],\n",
       "       [ 0.322813,  2.838233,  0.173055]])"
      ]
     },
     "execution_count": 9,
     "metadata": {},
     "output_type": "execute_result"
    }
   ],
   "source": [
    "dat"
   ]
  },
  {
   "cell_type": "code",
   "execution_count": 10,
   "metadata": {
    "collapsed": true
   },
   "outputs": [],
   "source": [
    "from lcdmmetric import *"
   ]
  },
  {
   "cell_type": "code",
   "execution_count": 11,
   "metadata": {},
   "outputs": [
    {
     "data": {
      "text/plain": [
       "0.004949874769097584"
      ]
     },
     "execution_count": 11,
     "metadata": {},
     "output_type": "execute_result"
    }
   ],
   "source": [
    "LCDMmetricsq(dat[0],dat[1])"
   ]
  },
  {
   "cell_type": "code",
   "execution_count": 12,
   "metadata": {
    "collapsed": true
   },
   "outputs": [],
   "source": [
    "bins=np.arange(0.005,0.08,0.0025)"
   ]
  },
  {
   "cell_type": "code",
   "execution_count": 13,
   "metadata": {},
   "outputs": [
    {
     "name": "stdout",
     "output_type": "stream",
     "text": [
      "[ 0.005   0.0075  0.01    0.0125  0.015   0.0175  0.02    0.0225  0.025\n",
      "  0.0275  0.03    0.0325  0.035   0.0375  0.04    0.0425  0.045   0.0475\n",
      "  0.05    0.0525  0.055   0.0575  0.06    0.0625  0.065   0.0675  0.07\n",
      "  0.0725  0.075   0.0775]\n"
     ]
    }
   ],
   "source": [
    "print bins"
   ]
  },
  {
   "cell_type": "code",
   "execution_count": 14,
   "metadata": {
    "collapsed": true
   },
   "outputs": [],
   "source": [
    "Nbins=len(bins)"
   ]
  },
  {
   "cell_type": "code",
   "execution_count": 15,
   "metadata": {},
   "outputs": [
    {
     "data": {
      "text/plain": [
       "30"
      ]
     },
     "execution_count": 15,
     "metadata": {},
     "output_type": "execute_result"
    }
   ],
   "source": [
    "Nbins"
   ]
  },
  {
   "cell_type": "code",
   "execution_count": null,
   "metadata": {
    "collapsed": true
   },
   "outputs": [],
   "source": [
    "help(BallTree)"
   ]
  },
  {
   "cell_type": "code",
   "execution_count": 16,
   "metadata": {},
   "outputs": [
    {
     "name": "stdout",
     "output_type": "stream",
     "text": [
      "CPU times: user 4.84 s, sys: 46.5 ms, total: 4.89 s\n",
      "Wall time: 4.94 s\n"
     ]
    }
   ],
   "source": [
    "%%time\n",
    "BT_D = BallTree(dat,metric='pyfunc',func=LCDMmetricsq,leaf_size=15) \n",
    "\n",
    "with open('BTDdr72lcdm1.pkl', 'w') as f:\n",
    "    pickle.dump(BT_D,f)"
   ]
  },
  {
   "cell_type": "code",
   "execution_count": 17,
   "metadata": {},
   "outputs": [
    {
     "data": {
      "text/plain": [
       "<sklearn.neighbors.ball_tree.BinaryTree at 0x7feb98831a80>"
      ]
     },
     "execution_count": 17,
     "metadata": {},
     "output_type": "execute_result"
    }
   ],
   "source": [
    "with open('./BTDdr72lcdm1.pkl') as f:\n",
    "    BTD = pickle.load(f)\n",
    "    \n",
    "BTD"
   ]
  },
  {
   "cell_type": "code",
   "execution_count": 18,
   "metadata": {},
   "outputs": [
    {
     "data": {
      "text/plain": [
       "array([  2.50000000e-05,   5.62500000e-05,   1.00000000e-04,\n",
       "         1.56250000e-04,   2.25000000e-04,   3.06250000e-04,\n",
       "         4.00000000e-04,   5.06250000e-04,   6.25000000e-04,\n",
       "         7.56250000e-04,   9.00000000e-04,   1.05625000e-03,\n",
       "         1.22500000e-03,   1.40625000e-03,   1.60000000e-03,\n",
       "         1.80625000e-03,   2.02500000e-03,   2.25625000e-03,\n",
       "         2.50000000e-03,   2.75625000e-03,   3.02500000e-03,\n",
       "         3.30625000e-03,   3.60000000e-03,   3.90625000e-03,\n",
       "         4.22500000e-03,   4.55625000e-03,   4.90000000e-03,\n",
       "         5.25625000e-03,   5.62500000e-03,   6.00625000e-03])"
      ]
     },
     "execution_count": 18,
     "metadata": {},
     "output_type": "execute_result"
    }
   ],
   "source": [
    "binsq=bins**2\n",
    "binsq"
   ]
  },
  {
   "cell_type": "code",
   "execution_count": 19,
   "metadata": {},
   "outputs": [
    {
     "name": "stdout",
     "output_type": "stream",
     "text": [
      "[   398144    762387   1339274   2191788   3382758   4978021   7042612\n",
      "   9632016  12827932  16684648  21279983  26677220  32962485  40179458\n",
      "  48371637  57601351  67921520  79370882  92002867 105815985 120862717\n",
      " 137188043 154832230 173812300 194093787 215786834 238874784 263357865\n",
      " 289309916 316747614]\n",
      "CPU times: user 24min 27s, sys: 4.02 s, total: 24min 31s\n",
      "Wall time: 24min 35s\n"
     ]
    }
   ],
   "source": [
    "%%time\n",
    "counts_DD=BTD.two_point_correlation(dat,binsq)\n",
    "print counts_DD"
   ]
  },
  {
   "cell_type": "code",
   "execution_count": 20,
   "metadata": {},
   "outputs": [
    {
     "data": {
      "text/plain": [
       "array([   398144,    762387,   1339274,   2191788,   3382758,   4978021,\n",
       "         7042612,   9632016,  12827932,  16684648,  21279983,  26677220,\n",
       "        32962485,  40179458,  48371637,  57601351,  67921520,  79370882,\n",
       "        92002867, 105815985, 120862717, 137188043, 154832230, 173812300,\n",
       "       194093787, 215786834, 238874784, 263357865, 289309916, 316747614])"
      ]
     },
     "execution_count": 20,
     "metadata": {},
     "output_type": "execute_result"
    }
   ],
   "source": [
    "with open('./DDDr72lcdm1.pkl', 'w') as f:\n",
    "    pickle.dump(counts_DD,f)\n",
    "\n",
    "with open('./DDDr72lcdm1.pkl') as f:\n",
    "    counts_DD = pickle.load(f)\n",
    "    \n",
    "counts_DD"
   ]
  },
  {
   "cell_type": "code",
   "execution_count": 21,
   "metadata": {},
   "outputs": [
    {
     "data": {
      "text/plain": [
       "array([  364243,   576887,   852514,  1190970,  1595263,  2064591,\n",
       "        2589404,  3195916,  3856716,  4595335,  5397237,  6285265,\n",
       "        7216973,  8192179,  9229714, 10320169, 11449362, 12631985,\n",
       "       13813118, 15046732, 16325326, 17644187, 18980070, 20281487,\n",
       "       21693047, 23087950, 24483081, 25952051, 27437698])"
      ]
     },
     "execution_count": 21,
     "metadata": {},
     "output_type": "execute_result"
    }
   ],
   "source": [
    "DD=np.diff(counts_DD)\n",
    "DD"
   ]
  },
  {
   "cell_type": "code",
   "execution_count": 33,
   "metadata": {
    "collapsed": true
   },
   "outputs": [],
   "source": [
    "dataR=ascii.read(\"./output/rDR72srarflcdm1.dat\")"
   ]
  },
  {
   "cell_type": "code",
   "execution_count": 34,
   "metadata": {
    "collapsed": true
   },
   "outputs": [
    {
     "data": {
      "text/html": [
       "&lt;Column name=&apos;z&apos; dtype=&apos;float64&apos; length=211661&gt;\n",
       "<table>\n",
       "<tr><td>0.450184</td></tr>\n",
       "<tr><td>0.367165</td></tr>\n",
       "<tr><td>0.413324</td></tr>\n",
       "<tr><td>0.32247</td></tr>\n",
       "<tr><td>0.322646</td></tr>\n",
       "<tr><td>0.233469</td></tr>\n",
       "<tr><td>0.313645</td></tr>\n",
       "<tr><td>0.351716</td></tr>\n",
       "<tr><td>0.403208</td></tr>\n",
       "<tr><td>0.37691</td></tr>\n",
       "<tr><td>0.168714</td></tr>\n",
       "<tr><td>0.301653</td></tr>\n",
       "<tr><td>...</td></tr>\n",
       "<tr><td>0.386714</td></tr>\n",
       "<tr><td>0.435683</td></tr>\n",
       "<tr><td>0.260919</td></tr>\n",
       "<tr><td>0.186362</td></tr>\n",
       "<tr><td>0.378593</td></tr>\n",
       "<tr><td>0.453896</td></tr>\n",
       "<tr><td>0.269251</td></tr>\n",
       "<tr><td>0.26528</td></tr>\n",
       "<tr><td>0.267663</td></tr>\n",
       "<tr><td>0.36518</td></tr>\n",
       "<tr><td>0.327193</td></tr>\n",
       "<tr><td>0.207093</td></tr>\n",
       "</table>"
      ],
      "text/plain": [
       "<Column name='z' dtype='float64' length=211661>\n",
       "0.450184\n",
       "0.367165\n",
       "0.413324\n",
       " 0.32247\n",
       "0.322646\n",
       "0.233469\n",
       "0.313645\n",
       "0.351716\n",
       "0.403208\n",
       " 0.37691\n",
       "0.168714\n",
       "0.301653\n",
       "     ...\n",
       "0.386714\n",
       "0.435683\n",
       "0.260919\n",
       "0.186362\n",
       "0.378593\n",
       "0.453896\n",
       "0.269251\n",
       " 0.26528\n",
       "0.267663\n",
       " 0.36518\n",
       "0.327193\n",
       "0.207093"
      ]
     },
     "execution_count": 34,
     "metadata": {},
     "output_type": "execute_result"
    }
   ],
   "source": [
    "dataR['z']"
   ]
  },
  {
   "cell_type": "code",
   "execution_count": 35,
   "metadata": {
    "collapsed": true
   },
   "outputs": [],
   "source": [
    "datR=np.array([dataR['s'],dataR['rar'],dataR['decr']])"
   ]
  },
  {
   "cell_type": "code",
   "execution_count": 36,
   "metadata": {},
   "outputs": [
    {
     "data": {
      "text/plain": [
       "array([[ 0.408923,  0.33995 ,  0.378662, ...,  0.338265,  0.30569 ,\n",
       "         0.198644],\n",
       "       [ 2.992549,  2.737752,  2.367643, ...,  3.228052,  3.218296,\n",
       "         4.056418],\n",
       "       [ 0.248026,  0.711236,  0.341962, ...,  0.199013,  0.052979,\n",
       "         0.170602]])"
      ]
     },
     "execution_count": 36,
     "metadata": {},
     "output_type": "execute_result"
    }
   ],
   "source": [
    "datR.reshape(3,len(dataR['s']))"
   ]
  },
  {
   "cell_type": "code",
   "execution_count": 37,
   "metadata": {
    "collapsed": true
   },
   "outputs": [],
   "source": [
    "datR=datR.transpose()"
   ]
  },
  {
   "cell_type": "code",
   "execution_count": 38,
   "metadata": {},
   "outputs": [
    {
     "data": {
      "text/plain": [
       "array([[ 0.408923,  2.992549,  0.248026],\n",
       "       [ 0.33995 ,  2.737752,  0.711236],\n",
       "       [ 0.378662,  2.367643,  0.341962],\n",
       "       ..., \n",
       "       [ 0.338265,  3.228052,  0.199013],\n",
       "       [ 0.30569 ,  3.218296,  0.052979],\n",
       "       [ 0.198644,  4.056418,  0.170602]])"
      ]
     },
     "execution_count": 38,
     "metadata": {},
     "output_type": "execute_result"
    }
   ],
   "source": [
    "datR"
   ]
  },
  {
   "cell_type": "code",
   "execution_count": 39,
   "metadata": {
    "collapsed": true
   },
   "outputs": [],
   "source": [
    "from lcdmmetric import *"
   ]
  },
  {
   "cell_type": "code",
   "execution_count": 40,
   "metadata": {},
   "outputs": [
    {
     "data": {
      "text/plain": [
       "0.040646864133247085"
      ]
     },
     "execution_count": 40,
     "metadata": {},
     "output_type": "execute_result"
    }
   ],
   "source": [
    "LCDMmetricsq(datR[0],datR[1])"
   ]
  },
  {
   "cell_type": "code",
   "execution_count": 34,
   "metadata": {
    "collapsed": true
   },
   "outputs": [],
   "source": [
    "bins=np.arange(0.005,0.08,0.0025)"
   ]
  },
  {
   "cell_type": "code",
   "execution_count": 35,
   "metadata": {},
   "outputs": [
    {
     "name": "stdout",
     "output_type": "stream",
     "text": [
      "[ 0.005   0.0075  0.01    0.0125  0.015   0.0175  0.02    0.0225  0.025\n",
      "  0.0275  0.03    0.0325  0.035   0.0375  0.04    0.0425  0.045   0.0475\n",
      "  0.05    0.0525  0.055   0.0575  0.06    0.0625  0.065   0.0675  0.07\n",
      "  0.0725  0.075   0.0775]\n"
     ]
    }
   ],
   "source": [
    "print bins"
   ]
  },
  {
   "cell_type": "code",
   "execution_count": 36,
   "metadata": {
    "collapsed": true
   },
   "outputs": [],
   "source": [
    "Nbins=len(bins)"
   ]
  },
  {
   "cell_type": "code",
   "execution_count": 37,
   "metadata": {},
   "outputs": [
    {
     "data": {
      "text/plain": [
       "30"
      ]
     },
     "execution_count": 37,
     "metadata": {},
     "output_type": "execute_result"
    }
   ],
   "source": [
    "Nbins"
   ]
  },
  {
   "cell_type": "code",
   "execution_count": 38,
   "metadata": {
    "collapsed": true
   },
   "outputs": [
    {
     "name": "stdout",
     "output_type": "stream",
     "text": [
      "Help on class BallTree in module sklearn.neighbors.ball_tree:\n",
      "\n",
      "class BallTree(BinaryTree)\n",
      " |  BallTree for fast generalized N-point problems\n",
      " |  \n",
      " |  BallTree(X, leaf_size=40, metric='minkowski', \\**kwargs)\n",
      " |  \n",
      " |  Parameters\n",
      " |  ----------\n",
      " |  X : array-like, shape = [n_samples, n_features]\n",
      " |      n_samples is the number of points in the data set, and\n",
      " |      n_features is the dimension of the parameter space.\n",
      " |      Note: if X is a C-contiguous array of doubles then data will\n",
      " |      not be copied. Otherwise, an internal copy will be made.\n",
      " |  \n",
      " |  leaf_size : positive integer (default = 40)\n",
      " |      Number of points at which to switch to brute-force. Changing\n",
      " |      leaf_size will not affect the results of a query, but can\n",
      " |      significantly impact the speed of a query and the memory required\n",
      " |      to store the constructed tree.  The amount of memory needed to\n",
      " |      store the tree scales as approximately n_samples / leaf_size.\n",
      " |      For a specified ``leaf_size``, a leaf node is guaranteed to\n",
      " |      satisfy ``leaf_size <= n_points <= 2 * leaf_size``, except in\n",
      " |      the case that ``n_samples < leaf_size``.\n",
      " |  \n",
      " |  metric : string or DistanceMetric object\n",
      " |      the distance metric to use for the tree.  Default='minkowski'\n",
      " |      with p=2 (that is, a euclidean metric). See the documentation\n",
      " |      of the DistanceMetric class for a list of available metrics.\n",
      " |      ball_tree.valid_metrics gives a list of the metrics which\n",
      " |      are valid for BallTree.\n",
      " |  \n",
      " |  Additional keywords are passed to the distance metric class.\n",
      " |  \n",
      " |  Attributes\n",
      " |  ----------\n",
      " |  data : np.ndarray\n",
      " |      The training data\n",
      " |  \n",
      " |  Examples\n",
      " |  --------\n",
      " |  Query for k-nearest neighbors\n",
      " |  \n",
      " |      >>> import numpy as np\n",
      " |      >>> np.random.seed(0)\n",
      " |      >>> X = np.random.random((10, 3))  # 10 points in 3 dimensions\n",
      " |      >>> tree = BallTree(X, leaf_size=2)              # doctest: +SKIP\n",
      " |      >>> dist, ind = tree.query([X[0]], k=3)                # doctest: +SKIP\n",
      " |      >>> print(ind)  # indices of 3 closest neighbors\n",
      " |      [0 3 1]\n",
      " |      >>> print(dist)  # distances to 3 closest neighbors\n",
      " |      [ 0.          0.19662693  0.29473397]\n",
      " |  \n",
      " |  Pickle and Unpickle a tree.  Note that the state of the tree is saved in the\n",
      " |  pickle operation: the tree needs not be rebuilt upon unpickling.\n",
      " |  \n",
      " |      >>> import numpy as np\n",
      " |      >>> import pickle\n",
      " |      >>> np.random.seed(0)\n",
      " |      >>> X = np.random.random((10, 3))  # 10 points in 3 dimensions\n",
      " |      >>> tree = BallTree(X, leaf_size=2)        # doctest: +SKIP\n",
      " |      >>> s = pickle.dumps(tree)                     # doctest: +SKIP\n",
      " |      >>> tree_copy = pickle.loads(s)                # doctest: +SKIP\n",
      " |      >>> dist, ind = tree_copy.query(X[0], k=3)     # doctest: +SKIP\n",
      " |      >>> print(ind)  # indices of 3 closest neighbors\n",
      " |      [0 3 1]\n",
      " |      >>> print(dist)  # distances to 3 closest neighbors\n",
      " |      [ 0.          0.19662693  0.29473397]\n",
      " |  \n",
      " |  Query for neighbors within a given radius\n",
      " |  \n",
      " |      >>> import numpy as np\n",
      " |      >>> np.random.seed(0)\n",
      " |      >>> X = np.random.random((10, 3))  # 10 points in 3 dimensions\n",
      " |      >>> tree = BallTree(X, leaf_size=2)     # doctest: +SKIP\n",
      " |      >>> print(tree.query_radius(X[0], r=0.3, count_only=True))\n",
      " |      3\n",
      " |      >>> ind = tree.query_radius(X[0], r=0.3)  # doctest: +SKIP\n",
      " |      >>> print(ind)  # indices of neighbors within distance 0.3\n",
      " |      [3 0 1]\n",
      " |  \n",
      " |  \n",
      " |  Compute a gaussian kernel density estimate:\n",
      " |  \n",
      " |      >>> import numpy as np\n",
      " |      >>> np.random.seed(1)\n",
      " |      >>> X = np.random.random((100, 3))\n",
      " |      >>> tree = BallTree(X)                # doctest: +SKIP\n",
      " |      >>> tree.kernel_density(X[:3], h=0.1, kernel='gaussian')\n",
      " |      array([ 6.94114649,  7.83281226,  7.2071716 ])\n",
      " |  \n",
      " |  Compute a two-point auto-correlation function\n",
      " |  \n",
      " |      >>> import numpy as np\n",
      " |      >>> np.random.seed(0)\n",
      " |      >>> X = np.random.random((30, 3))\n",
      " |      >>> r = np.linspace(0, 1, 5)\n",
      " |      >>> tree = BallTree(X)                # doctest: +SKIP\n",
      " |      >>> tree.two_point_correlation(X, r)\n",
      " |      array([ 30,  62, 278, 580, 820])\n",
      " |  \n",
      " |  Method resolution order:\n",
      " |      BallTree\n",
      " |      BinaryTree\n",
      " |      __builtin__.object\n",
      " |  \n",
      " |  Data and other attributes defined here:\n",
      " |  \n",
      " |  __new__ = <built-in method __new__ of type object>\n",
      " |      T.__new__(S, ...) -> a new object with type S, a subtype of T\n",
      " |  \n",
      " |  __pyx_vtable__ = <capsule object NULL>\n",
      " |  \n",
      " |  ----------------------------------------------------------------------\n",
      " |  Methods inherited from BinaryTree:\n",
      " |  \n",
      " |  __getstate__(...)\n",
      " |      get state for pickling\n",
      " |  \n",
      " |  __init__(...)\n",
      " |      x.__init__(...) initializes x; see help(type(x)) for signature\n",
      " |  \n",
      " |  __reduce__(...)\n",
      " |      reduce method used for pickling\n",
      " |  \n",
      " |  __setstate__(...)\n",
      " |      set state for pickling\n",
      " |  \n",
      " |  get_arrays(...)\n",
      " |  \n",
      " |  get_n_calls(...)\n",
      " |  \n",
      " |  get_tree_stats(...)\n",
      " |  \n",
      " |  kernel_density(...)\n",
      " |      kernel_density(self, X, h, kernel='gaussian', atol=0, rtol=1E-8,\n",
      " |                     breadth_first=True, return_log=False)\n",
      " |      \n",
      " |      Compute the kernel density estimate at points X with the given kernel,\n",
      " |      using the distance metric specified at tree creation.\n",
      " |      \n",
      " |      Parameters\n",
      " |      ----------\n",
      " |      X : array_like\n",
      " |          An array of points to query.  Last dimension should match dimension\n",
      " |          of training data.\n",
      " |      h : float\n",
      " |          the bandwidth of the kernel\n",
      " |      kernel : string\n",
      " |          specify the kernel to use.  Options are\n",
      " |          - 'gaussian'\n",
      " |          - 'tophat'\n",
      " |          - 'epanechnikov'\n",
      " |          - 'exponential'\n",
      " |          - 'linear'\n",
      " |          - 'cosine'\n",
      " |          Default is kernel = 'gaussian'\n",
      " |      atol, rtol : float (default = 0)\n",
      " |          Specify the desired relative and absolute tolerance of the result.\n",
      " |          If the true result is K_true, then the returned result K_ret\n",
      " |          satisfies ``abs(K_true - K_ret) < atol + rtol * K_ret``\n",
      " |          The default is zero (i.e. machine precision) for both.\n",
      " |      breadth_first : boolean (default = False)\n",
      " |          if True, use a breadth-first search.  If False (default) use a\n",
      " |          depth-first search.  Breadth-first is generally faster for\n",
      " |          compact kernels and/or high tolerances.\n",
      " |      return_log : boolean (default = False)\n",
      " |          return the logarithm of the result.  This can be more accurate\n",
      " |          than returning the result itself for narrow kernels.\n",
      " |      \n",
      " |      Returns\n",
      " |      -------\n",
      " |      density : ndarray\n",
      " |          The array of (log)-density evaluations, shape = X.shape[:-1]\n",
      " |      \n",
      " |      Examples\n",
      " |      --------\n",
      " |      Compute a gaussian kernel density estimate:\n",
      " |      \n",
      " |      >>> import numpy as np\n",
      " |      >>> np.random.seed(1)\n",
      " |      >>> X = np.random.random((100, 3))\n",
      " |      >>> tree = BinaryTree(X)           # doctest: +SKIP\n",
      " |      >>> tree.kernel_density(X[:3], h=0.1, kernel='gaussian')\n",
      " |      array([ 6.94114649,  7.83281226,  7.2071716 ])\n",
      " |  \n",
      " |  query(...)\n",
      " |      query(X, k=1, return_distance=True,\n",
      " |            dualtree=False, breadth_first=False)\n",
      " |      \n",
      " |      query the tree for the k nearest neighbors\n",
      " |      \n",
      " |      Parameters\n",
      " |      ----------\n",
      " |      X : array-like, last dimension self.dim\n",
      " |          An array of points to query\n",
      " |      k : integer  (default = 1)\n",
      " |          The number of nearest neighbors to return\n",
      " |      return_distance : boolean (default = True)\n",
      " |          if True, return a tuple (d, i) of distances and indices\n",
      " |          if False, return array i\n",
      " |      dualtree : boolean (default = False)\n",
      " |          if True, use the dual tree formalism for the query: a tree is\n",
      " |          built for the query points, and the pair of trees is used to\n",
      " |          efficiently search this space.  This can lead to better\n",
      " |          performance as the number of points grows large.\n",
      " |      breadth_first : boolean (default = False)\n",
      " |          if True, then query the nodes in a breadth-first manner.\n",
      " |          Otherwise, query the nodes in a depth-first manner.\n",
      " |      sort_results : boolean (default = True)\n",
      " |          if True, then distances and indices of each point are sorted\n",
      " |          on return, so that the first column contains the closest points.\n",
      " |          Otherwise, neighbors are returned in an arbitrary order.\n",
      " |      \n",
      " |      Returns\n",
      " |      -------\n",
      " |      i    : if return_distance == False\n",
      " |      (d,i) : if return_distance == True\n",
      " |      \n",
      " |      d : array of doubles - shape: x.shape[:-1] + (k,)\n",
      " |          each entry gives the list of distances to the\n",
      " |          neighbors of the corresponding point\n",
      " |      \n",
      " |      i : array of integers - shape: x.shape[:-1] + (k,)\n",
      " |          each entry gives the list of indices of\n",
      " |          neighbors of the corresponding point\n",
      " |      \n",
      " |      Examples\n",
      " |      --------\n",
      " |      Query for k-nearest neighbors\n",
      " |      \n",
      " |          >>> import numpy as np\n",
      " |          >>> np.random.seed(0)\n",
      " |          >>> X = np.random.random((10, 3))  # 10 points in 3 dimensions\n",
      " |          >>> tree = BinaryTree(X, leaf_size=2)    # doctest: +SKIP\n",
      " |          >>> dist, ind = tree.query(X[0], k=3)    # doctest: +SKIP\n",
      " |          >>> print(ind)  # indices of 3 closest neighbors\n",
      " |          [0 3 1]\n",
      " |          >>> print(dist)  # distances to 3 closest neighbors\n",
      " |          [ 0.          0.19662693  0.29473397]\n",
      " |  \n",
      " |  query_radius(...)\n",
      " |      query_radius(self, X, r, count_only = False):\n",
      " |      \n",
      " |      query the tree for neighbors within a radius r\n",
      " |      \n",
      " |      Parameters\n",
      " |      ----------\n",
      " |      X : array-like, last dimension self.dim\n",
      " |          An array of points to query\n",
      " |      r : distance within which neighbors are returned\n",
      " |          r can be a single value, or an array of values of shape\n",
      " |          x.shape[:-1] if different radii are desired for each point.\n",
      " |      return_distance : boolean (default = False)\n",
      " |          if True,  return distances to neighbors of each point\n",
      " |          if False, return only neighbors\n",
      " |          Note that unlike the query() method, setting return_distance=True\n",
      " |          here adds to the computation time.  Not all distances need to be\n",
      " |          calculated explicitly for return_distance=False.  Results are\n",
      " |          not sorted by default: see ``sort_results`` keyword.\n",
      " |      count_only : boolean (default = False)\n",
      " |          if True,  return only the count of points within distance r\n",
      " |          if False, return the indices of all points within distance r\n",
      " |          If return_distance==True, setting count_only=True will\n",
      " |          result in an error.\n",
      " |      sort_results : boolean (default = False)\n",
      " |          if True, the distances and indices will be sorted before being\n",
      " |          returned.  If False, the results will not be sorted.  If\n",
      " |          return_distance == False, setting sort_results = True will\n",
      " |          result in an error.\n",
      " |      \n",
      " |      Returns\n",
      " |      -------\n",
      " |      count       : if count_only == True\n",
      " |      ind         : if count_only == False and return_distance == False\n",
      " |      (ind, dist) : if count_only == False and return_distance == True\n",
      " |      \n",
      " |      count : array of integers, shape = X.shape[:-1]\n",
      " |          each entry gives the number of neighbors within\n",
      " |          a distance r of the corresponding point.\n",
      " |      \n",
      " |      ind : array of objects, shape = X.shape[:-1]\n",
      " |          each element is a numpy integer array listing the indices of\n",
      " |          neighbors of the corresponding point.  Note that unlike\n",
      " |          the results of a k-neighbors query, the returned neighbors\n",
      " |          are not sorted by distance by default.\n",
      " |      \n",
      " |      dist : array of objects, shape = X.shape[:-1]\n",
      " |          each element is a numpy double array\n",
      " |          listing the distances corresponding to indices in i.\n",
      " |      \n",
      " |      Examples\n",
      " |      --------\n",
      " |      Query for neighbors in a given radius\n",
      " |      \n",
      " |      >>> import numpy as np\n",
      " |      >>> np.random.seed(0)\n",
      " |      >>> X = np.random.random((10, 3))  # 10 points in 3 dimensions\n",
      " |      >>> tree = BinaryTree(X, leaf_size=2)     # doctest: +SKIP\n",
      " |      >>> print(tree.query_radius(X[0], r=0.3, count_only=True))\n",
      " |      3\n",
      " |      >>> ind = tree.query_radius(X[0], r=0.3)  # doctest: +SKIP\n",
      " |      >>> print(ind)  # indices of neighbors within distance 0.3\n",
      " |      [3 0 1]\n",
      " |  \n",
      " |  reset_n_calls(...)\n",
      " |  \n",
      " |  two_point_correlation(...)\n",
      " |      Compute the two-point correlation function\n",
      " |      \n",
      " |      Parameters\n",
      " |      ----------\n",
      " |      X : array_like\n",
      " |          An array of points to query.  Last dimension should match dimension\n",
      " |          of training data.\n",
      " |      r : array_like\n",
      " |          A one-dimensional array of distances\n",
      " |      dualtree : boolean (default = False)\n",
      " |          If true, use a dualtree algorithm.  Otherwise, use a single-tree\n",
      " |          algorithm.  Dual tree algorithms can have better scaling for\n",
      " |          large N.\n",
      " |      \n",
      " |      Returns\n",
      " |      -------\n",
      " |      counts : ndarray\n",
      " |          counts[i] contains the number of pairs of points with distance\n",
      " |          less than or equal to r[i]\n",
      " |      \n",
      " |      Examples\n",
      " |      --------\n",
      " |      Compute the two-point autocorrelation function of X:\n",
      " |      \n",
      " |      >>> import numpy as np\n",
      " |      >>> np.random.seed(0)\n",
      " |      >>> X = np.random.random((30, 3))\n",
      " |      >>> r = np.linspace(0, 1, 5)\n",
      " |      >>> tree = BinaryTree(X)     # doctest: +SKIP\n",
      " |      >>> tree.two_point_correlation(X, r)\n",
      " |      array([ 30,  62, 278, 580, 820])\n",
      " |  \n",
      " |  ----------------------------------------------------------------------\n",
      " |  Data descriptors inherited from BinaryTree:\n",
      " |  \n",
      " |  data\n",
      " |  \n",
      " |  idx_array\n",
      " |  \n",
      " |  node_bounds\n",
      " |  \n",
      " |  node_data\n",
      " |  \n",
      " |  ----------------------------------------------------------------------\n",
      " |  Data and other attributes inherited from BinaryTree:\n",
      " |  \n",
      " |  valid_metrics = ['chebyshev', 'sokalmichener', 'canberra', 'haversine'...\n",
      "\n"
     ]
    }
   ],
   "source": [
    "help(BallTree)"
   ]
  },
  {
   "cell_type": "code",
   "execution_count": 59,
   "metadata": {},
   "outputs": [
    {
     "name": "stdout",
     "output_type": "stream",
     "text": [
      "CPU times: user 10.1 s, sys: 75.7 ms, total: 10.2 s\n",
      "Wall time: 10.3 s\n"
     ]
    }
   ],
   "source": [
    "%%time\n",
    "BT_R = BallTree(datR,metric='pyfunc',func=LCDMmetricsq,leaf_size=15) \n",
    "\n",
    "with open('BTRdr72lcdm1.pkl', 'w') as f:\n",
    "    pickle.dump(BT_R,f)"
   ]
  },
  {
   "cell_type": "code",
   "execution_count": 60,
   "metadata": {},
   "outputs": [
    {
     "data": {
      "text/plain": [
       "<sklearn.neighbors.ball_tree.BinaryTree at 0x7feb95415220>"
      ]
     },
     "execution_count": 60,
     "metadata": {},
     "output_type": "execute_result"
    }
   ],
   "source": [
    "with open('./BTRdr72lcdm1.pkl') as f:\n",
    "    BTR = pickle.load(f)\n",
    "    \n",
    "BTR"
   ]
  },
  {
   "cell_type": "code",
   "execution_count": 61,
   "metadata": {},
   "outputs": [
    {
     "data": {
      "text/plain": [
       "array([  2.50000000e-05,   5.62500000e-05,   1.00000000e-04,\n",
       "         1.56250000e-04,   2.25000000e-04,   3.06250000e-04,\n",
       "         4.00000000e-04,   5.06250000e-04,   6.25000000e-04,\n",
       "         7.56250000e-04,   9.00000000e-04,   1.05625000e-03,\n",
       "         1.22500000e-03,   1.40625000e-03,   1.60000000e-03,\n",
       "         1.80625000e-03,   2.02500000e-03,   2.25625000e-03,\n",
       "         2.50000000e-03,   2.75625000e-03,   3.02500000e-03,\n",
       "         3.30625000e-03,   3.60000000e-03,   3.90625000e-03,\n",
       "         4.22500000e-03,   4.55625000e-03,   4.90000000e-03,\n",
       "         5.25625000e-03,   5.62500000e-03,   6.00625000e-03])"
      ]
     },
     "execution_count": 61,
     "metadata": {},
     "output_type": "execute_result"
    }
   ],
   "source": [
    "binsq=bins**2\n",
    "binsq"
   ]
  },
  {
   "cell_type": "code",
   "execution_count": 62,
   "metadata": {},
   "outputs": [
    {
     "name": "stdout",
     "output_type": "stream",
     "text": [
      "[    658212    1675362    3578864    6615368   11027785   17047561\n",
      "   24928013   34942054   47359061   62437325   80420873  101560927\n",
      "  126008956  154020795  185792308  221514569  261491806  305840319\n",
      "  354707342  408329739  466833829  530291524  598834080  672396793\n",
      "  751002764  834608776  923358792 1017342433 1116698922 1221326157]\n",
      "CPU times: user 1h 11min 6s, sys: 11.3 s, total: 1h 11min 18s\n",
      "Wall time: 1h 11min 31s\n"
     ]
    }
   ],
   "source": [
    "%%time\n",
    "counts_RR=BTR.two_point_correlation(datR,binsq)\n",
    "print counts_RR"
   ]
  },
  {
   "cell_type": "code",
   "execution_count": 63,
   "metadata": {},
   "outputs": [
    {
     "data": {
      "text/plain": [
       "array([    658212,    1675362,    3578864,    6615368,   11027785,\n",
       "         17047561,   24928013,   34942054,   47359061,   62437325,\n",
       "         80420873,  101560927,  126008956,  154020795,  185792308,\n",
       "        221514569,  261491806,  305840319,  354707342,  408329739,\n",
       "        466833829,  530291524,  598834080,  672396793,  751002764,\n",
       "        834608776,  923358792, 1017342433, 1116698922, 1221326157])"
      ]
     },
     "execution_count": 63,
     "metadata": {},
     "output_type": "execute_result"
    }
   ],
   "source": [
    "with open('./RRDr72lcdm1.pkl', 'w') as f:\n",
    "    pickle.dump(counts_RR,f)\n",
    "\n",
    "with open('./RRDr72lcdm1.pkl') as f:\n",
    "    counts_RR = pickle.load(f)\n",
    "    \n",
    "counts_RR"
   ]
  },
  {
   "cell_type": "code",
   "execution_count": 64,
   "metadata": {},
   "outputs": [
    {
     "data": {
      "text/plain": [
       "array([  1017150,   1903502,   3036504,   4412417,   6019776,   7880452,\n",
       "        10014041,  12417007,  15078264,  17983548,  21140054,  24448029,\n",
       "        28011839,  31771513,  35722261,  39977237,  44348513,  48867023,\n",
       "        53622397,  58504090,  63457695,  68542556,  73562713,  78605971,\n",
       "        83606012,  88750016,  93983641,  99356489, 104627235])"
      ]
     },
     "execution_count": 64,
     "metadata": {},
     "output_type": "execute_result"
    }
   ],
   "source": [
    "RR=np.diff(counts_RR)\n",
    "RR"
   ]
  },
  {
   "cell_type": "code",
   "execution_count": 65,
   "metadata": {},
   "outputs": [
    {
     "name": "stdout",
     "output_type": "stream",
     "text": [
      "[   216181    712108   1646016   3141364   5317989   8287258  12181949\n",
      "  17133171  23279050  30735003  39652749  50139841  62309693  76259401\n",
      "  92111142 109972908 129973908 152212373 176757815 203670063 233118290\n",
      " 265069414 299604032 336744754 376492454 418817738 463755911 511388018\n",
      " 561734298 614801925]\n",
      "CPU times: user 35min 10s, sys: 3.04 s, total: 35min 13s\n",
      "Wall time: 35min 16s\n"
     ]
    }
   ],
   "source": [
    "%%time\n",
    "counts_DR=BTR.two_point_correlation(dat,binsq)\n",
    "print counts_DR"
   ]
  },
  {
   "cell_type": "code",
   "execution_count": 66,
   "metadata": {},
   "outputs": [
    {
     "data": {
      "text/plain": [
       "array([   216181,    712108,   1646016,   3141364,   5317989,   8287258,\n",
       "        12181949,  17133171,  23279050,  30735003,  39652749,  50139841,\n",
       "        62309693,  76259401,  92111142, 109972908, 129973908, 152212373,\n",
       "       176757815, 203670063, 233118290, 265069414, 299604032, 336744754,\n",
       "       376492454, 418817738, 463755911, 511388018, 561734298, 614801925])"
      ]
     },
     "execution_count": 66,
     "metadata": {},
     "output_type": "execute_result"
    }
   ],
   "source": [
    "with open('./DRDr72lcdm1.pkl', 'w') as f:\n",
    "    pickle.dump(counts_DR,f)\n",
    "\n",
    "with open('./DRDr72lcdm1.pkl') as f:\n",
    "    counts_DR = pickle.load(f)\n",
    "    \n",
    "counts_DR"
   ]
  },
  {
   "cell_type": "code",
   "execution_count": 67,
   "metadata": {},
   "outputs": [
    {
     "data": {
      "text/plain": [
       "array([  495927,   933908,  1495348,  2176625,  2969269,  3894691,\n",
       "        4951222,  6145879,  7455953,  8917746, 10487092, 12169852,\n",
       "       13949708, 15851741, 17861766, 20001000, 22238465, 24545442,\n",
       "       26912248, 29448227, 31951124, 34534618, 37140722, 39747700,\n",
       "       42325284, 44938173, 47632107, 50346280, 53067627])"
      ]
     },
     "execution_count": 67,
     "metadata": {},
     "output_type": "execute_result"
    }
   ],
   "source": [
    "DR=np.diff(counts_DR)\n",
    "DR"
   ]
  },
  {
   "cell_type": "code",
   "execution_count": 68,
   "metadata": {
    "collapsed": true
   },
   "outputs": [],
   "source": [
    "from __future__ import division\n",
    "correl=(4.0*DD-4.0*DR+1.0*RR)/(1.0*RR)"
   ]
  },
  {
   "cell_type": "code",
   "execution_count": 69,
   "metadata": {},
   "outputs": [
    {
     "data": {
      "text/plain": [
       "array([ 0.48214521,  0.24975965,  0.15319196,  0.10647158,  0.08700523,\n",
       "        0.07106851,  0.05659743,  0.0497024 ,  0.04518531,  0.03858549,\n",
       "        0.03692677,  0.03720877,  0.03858722,  0.03566922,  0.03342602,\n",
       "        0.03136567,  0.02688029,  0.02482646,  0.02286129,  0.01535123,\n",
       "        0.01504156,  0.01430983,  0.01250776,  0.00942828,  0.01288261,\n",
       "        0.01520139,  0.0147636 ,  0.01791099,  0.02014312])"
      ]
     },
     "execution_count": 69,
     "metadata": {},
     "output_type": "execute_result"
    }
   ],
   "source": [
    "correl"
   ]
  },
  {
   "cell_type": "code",
   "execution_count": 75,
   "metadata": {},
   "outputs": [
    {
     "name": "stdout",
     "output_type": "stream",
     "text": [
      "[  22.48443435   29.9792458    37.47405725   44.9688687    52.46368015\n",
      "   59.9584916    67.45330305   74.9481145    82.44292595   89.9377374\n",
      "   97.43254885  104.9273603   112.42217175  119.9169832   127.41179465\n",
      "  134.9066061   142.40141755  149.896229    157.39104045  164.8858519\n",
      "  172.38066335  179.8754748   187.37028625  194.8650977   202.35990915\n",
      "  209.8547206   217.34953205  224.8443435   232.33915495] m / s\n"
     ]
    }
   ],
   "source": [
    "binMpc=c*1e-5*bins[1:len(bins)]\n",
    "print binMpc"
   ]
  },
  {
   "cell_type": "code",
   "execution_count": 77,
   "metadata": {},
   "outputs": [
    {
     "data": {
      "text/plain": [
       "[<matplotlib.lines.Line2D at 0x115ea4290>]"
      ]
     },
     "execution_count": 77,
     "metadata": {},
     "output_type": "execute_result"
    },
    {
     "data": {
      "image/png": "[encoded data removed]",
      "text/plain": [
       "<matplotlib.figure.Figure at 0x117b75590>"
      ]
     },
     "metadata": {},
     "output_type": "display_data"
    }
   ],
   "source": [
    "plt.plot(binMpc,correl,'ro-')"
   ]
  },
  {
   "cell_type": "code",
   "execution_count": 78,
   "metadata": {},
   "outputs": [
    {
     "data": {
      "image/png": "[encoded data removed]",
      "text/plain": [
       "<matplotlib.figure.Figure at 0x115e02050>"
      ]
     },
     "metadata": {},
     "output_type": "display_data"
    }
   ],
   "source": [
    "plt.yscale('log')\n",
    "plt.plot(binMpc,correl,'bo-')\n",
    "plt.show()"
   ]
  },
  {
   "cell_type": "code",
   "execution_count": 79,
   "metadata": {},
   "outputs": [
    {
     "data": {
      "image/png": "[encoded data removed]",
      "text/plain": [
       "<matplotlib.figure.Figure at 0x116139410>"
      ]
     },
     "metadata": {},
     "output_type": "display_data"
    }
   ],
   "source": [
    "plt.xscale('log')\n",
    "plt.yscale('log')\n",
    "plt.plot(binMpc,correl,'bo-')\n",
    "plt.show()"
   ]
  },
  {
   "cell_type": "code",
   "execution_count": 80,
   "metadata": {
    "collapsed": true
   },
   "outputs": [],
   "source": [
    "from operator import truediv\n",
    "correl=truediv((4.0*DD-4.0*DR+1.0*RR),(1.0*RR))"
   ]
  },
  {
   "cell_type": "code",
   "execution_count": 81,
   "metadata": {},
   "outputs": [
    {
     "data": {
      "text/plain": [
       "array([ 0.48214521,  0.24975965,  0.15319196,  0.10647158,  0.08700523,\n",
       "        0.07106851,  0.05659743,  0.0497024 ,  0.04518531,  0.03858549,\n",
       "        0.03692677,  0.03720877,  0.03858722,  0.03566922,  0.03342602,\n",
       "        0.03136567,  0.02688029,  0.02482646,  0.02286129,  0.01535123,\n",
       "        0.01504156,  0.01430983,  0.01250776,  0.00942828,  0.01288261,\n",
       "        0.01520139,  0.0147636 ,  0.01791099,  0.02014312])"
      ]
     },
     "execution_count": 81,
     "metadata": {},
     "output_type": "execute_result"
    }
   ],
   "source": [
    "correl"
   ]
  },
  {
   "cell_type": "code",
   "execution_count": 54,
   "metadata": {},
   "outputs": [
    {
     "data": {
      "text/plain": [
       "array([   497388.,    940784.,   1510288.,   2202777.,   3012123.,\n",
       "         3944764.,   5001194.,   6186308.,   7491653.,   8940703.,\n",
       "        10517684.,  12202870.,  14029031.,  15959797.,  17993993.,\n",
       "        20112902.,  22331587.,  24620837.,  26989933.,  29422067.,\n",
       "        31900863.,  34424195.,  37034746.,  39690847.,  42372475.,\n",
       "        45109391.,  47837628.,  50633578.,  53493065.])"
      ]
     },
     "execution_count": 54,
     "metadata": {},
     "output_type": "execute_result"
    }
   ],
   "source": [
    "4.0*DD-4.0*DR+1.0*RR"
   ]
  },
  {
   "cell_type": "code",
   "execution_count": 55,
   "metadata": {},
   "outputs": [
    {
     "data": {
      "text/plain": [
       "array([  497388,   940784,  1510288,  2202777,  3012123,  3944764,\n",
       "        5001194,  6186308,  7491653,  8940703, 10517684, 12202870,\n",
       "       14029031, 15959797, 17993993, 20112902, 22331587, 24620837,\n",
       "       26989933, 29422067, 31900863, 34424195, 37034746, 39690847,\n",
       "       42372475, 45109391, 47837628, 50633578, 53493065])"
      ]
     },
     "execution_count": 55,
     "metadata": {},
     "output_type": "execute_result"
    }
   ],
   "source": [
    "RR"
   ]
  },
  {
   "cell_type": "code",
   "execution_count": 58,
   "metadata": {},
   "outputs": [
    {
     "data": {
      "text/plain": [
       "array([  364243,   576887,   852514,  1190970,  1595263,  2064591,\n",
       "        2589404,  3195916,  3856716,  4595335,  5397237,  6285265,\n",
       "        7216973,  8192179,  9229714, 10320169, 11449362, 12631985,\n",
       "       13813118, 15046732, 16325326, 17644187, 18980070, 20281487,\n",
       "       21693047, 23087950, 24483081, 25952051, 27437698])"
      ]
     },
     "execution_count": 58,
     "metadata": {},
     "output_type": "execute_result"
    }
   ],
   "source": [
    "DR"
   ]
  },
  {
   "cell_type": "code",
   "execution_count": 57,
   "metadata": {},
   "outputs": [],
   "source": [
    "DD = np.array([  364243,   576887,   852514,  1190970,  1595263,  2064591,\n",
    "        2589404,  3195916,  3856716,  4595335,  5397237,  6285265,\n",
    "        7216973,  8192179,  9229714, 10320169, 11449362, 12631985,\n",
    "       13813118, 15046732, 16325326, 17644187, 18980070, 20281487,\n",
    "       21693047, 23087950, 24483081, 25952051, 27437698])"
   ]
  },
  {
   "cell_type": "code",
   "execution_count": null,
   "metadata": {
    "collapsed": true
   },
   "outputs": [],
   "source": [
    "from scipy.stats import norm\n",
    "from sklearn.neighbors import KernelDensity"
   ]
  },
  {
   "cell_type": "code",
   "execution_count": null,
   "metadata": {
    "collapsed": true
   },
   "outputs": [],
   "source": [
    "from lcdmmetric import *"
   ]
  },
  {
   "cell_type": "code",
   "execution_count": null,
   "metadata": {
    "collapsed": true
   },
   "outputs": [],
   "source": [
    "z=np.array(data['z'])"
   ]
  },
  {
   "cell_type": "code",
   "execution_count": null,
   "metadata": {
    "collapsed": true
   },
   "outputs": [],
   "source": [
    "zkde=z.reshape(1,-1)"
   ]
  },
  {
   "cell_type": "code",
   "execution_count": null,
   "metadata": {
    "collapsed": true
   },
   "outputs": [],
   "source": [
    "kde = KernelDensity(kernel='gaussian', bandwidth=0.75).fit(zkde)"
   ]
  },
  {
   "cell_type": "code",
   "execution_count": null,
   "metadata": {
    "collapsed": true
   },
   "outputs": [],
   "source": [
    "kde"
   ]
  },
  {
   "cell_type": "code",
   "execution_count": null,
   "metadata": {
    "collapsed": true
   },
   "outputs": [],
   "source": [
    "X_plot = np.arange(z.min(), z.max(), z.size())[:, np.newaxis]"
   ]
  },
  {
   "cell_type": "code",
   "execution_count": null,
   "metadata": {
    "collapsed": true
   },
   "outputs": [],
   "source": [
    "log_dens = kde.score_samples(zkde)"
   ]
  },
  {
   "cell_type": "code",
   "execution_count": null,
   "metadata": {
    "collapsed": true
   },
   "outputs": [],
   "source": [
    "log_dens"
   ]
  },
  {
   "cell_type": "code",
   "execution_count": null,
   "metadata": {
    "collapsed": true
   },
   "outputs": [],
   "source": [
    "d=ascii.read(\"./output/DR72LCsrarf.dat\")"
   ]
  },
  {
   "cell_type": "code",
   "execution_count": null,
   "metadata": {
    "collapsed": true
   },
   "outputs": [],
   "source": [
    "d"
   ]
  },
  {
   "cell_type": "code",
   "execution_count": null,
   "metadata": {
    "collapsed": true
   },
   "outputs": [],
   "source": [
    "dataR=ascii.read(\"./output/rand200kdr72.dat\")"
   ]
  },
  {
   "cell_type": "code",
   "execution_count": null,
   "metadata": {
    "collapsed": true
   },
   "outputs": [],
   "source": [
    "dataR['z']"
   ]
  },
  {
   "cell_type": "code",
   "execution_count": null,
   "metadata": {
    "collapsed": true
   },
   "outputs": [],
   "source": [
    "dataR['ra']"
   ]
  },
  {
   "cell_type": "code",
   "execution_count": null,
   "metadata": {
    "collapsed": true
   },
   "outputs": [],
   "source": [
    "dataR['dec']"
   ]
  },
  {
   "cell_type": "code",
   "execution_count": null,
   "metadata": {
    "collapsed": true
   },
   "outputs": [],
   "source": [
    "DCLCR=DC_LC(dataR['z'])"
   ]
  },
  {
   "cell_type": "code",
   "execution_count": null,
   "metadata": {
    "collapsed": true
   },
   "outputs": [],
   "source": [
    "rdr7f = open(\"./output/rDR7200kLCsrarf.dat\",'w')\n",
    "rdr7f.write(\"z\\t ra\\t dec\\t s\\t rar\\t decr \\n\")\n",
    "\n",
    "for i in range(0,len(dataR)):\n",
    "    rdr7f.write(\"%f\\t \" %dataR['z'][i])\n",
    "    rdr7f.write(\"%f\\t %f\\t \" %(dataR['ra'][i],dataR['dec'][i]))\n",
    "    rdr7f.write(\"%f\\t \" %DCLCR[i])\n",
    "    rdr7f.write(\"%f\\t %f\\n \" %(dataR['ra'][i]*pi/180.0,dataR['dec'][i]*pi/180.0))\n",
    "rdr7f.close()"
   ]
  },
  {
   "cell_type": "code",
   "execution_count": null,
   "metadata": {
    "collapsed": true
   },
   "outputs": [],
   "source": [
    "r=ascii.read(\"./output/rDR7200kLCsrarf.dat\")"
   ]
  },
  {
   "cell_type": "code",
   "execution_count": null,
   "metadata": {
    "collapsed": true
   },
   "outputs": [],
   "source": [
    "r"
   ]
  },
  {
   "cell_type": "code",
   "execution_count": null,
   "metadata": {
    "collapsed": true
   },
   "outputs": [],
   "source": [
    "dr7fdat=ascii.read(\"./output/DR7srarf.dat\")"
   ]
  },
  {
   "cell_type": "code",
   "execution_count": null,
   "metadata": {
    "collapsed": true
   },
   "outputs": [],
   "source": [
    "dr7fdat['s'][1:300]"
   ]
  },
  {
   "cell_type": "code",
   "execution_count": null,
   "metadata": {
    "collapsed": true
   },
   "outputs": [],
   "source": []
  },
  {
   "cell_type": "code",
   "execution_count": null,
   "metadata": {
    "collapsed": true
   },
   "outputs": [],
   "source": []
  },
  {
   "cell_type": "code",
   "execution_count": null,
   "metadata": {
    "collapsed": true
   },
   "outputs": [],
   "source": [
    "#fdata=fits.open(\"/Users/rohin/Downloads/DR7-Full.fits\")"
   ]
  },
  {
   "cell_type": "code",
   "execution_count": null,
   "metadata": {
    "collapsed": true
   },
   "outputs": [],
   "source": [
    "#fdata.writeto(\"./output/DR7fulltrim.fits\")"
   ]
  },
  {
   "cell_type": "code",
   "execution_count": null,
   "metadata": {
    "collapsed": true
   },
   "outputs": [],
   "source": [
    "fdata=fits.open(\"./output/DR7fulltrim.fits\")"
   ]
  },
  {
   "cell_type": "code",
   "execution_count": null,
   "metadata": {
    "collapsed": true
   },
   "outputs": [],
   "source": [
    "cols=fdata[1].columns"
   ]
  },
  {
   "cell_type": "code",
   "execution_count": null,
   "metadata": {
    "collapsed": true
   },
   "outputs": [],
   "source": [
    "cols.del_col('ZTYPE')"
   ]
  },
  {
   "cell_type": "code",
   "execution_count": null,
   "metadata": {
    "collapsed": true
   },
   "outputs": [],
   "source": [
    "cols.del_col('SECTOR')\n",
    "cols.del_col('FGOTMAIN')\n",
    "cols.del_col('QUALITY')\n",
    "cols.del_col('ISBAD')\n",
    "cols.del_col('M')\n",
    "cols.del_col('MMAX')\n",
    "cols.del_col('ILSS')\n",
    "cols.del_col('ICOMB')\n",
    "cols.del_col('VAGC_SELECT')\n",
    "cols.del_col('LSS_INDEX')\n",
    "cols.del_col('FIBERWEIGHT')\n",
    "cols.del_col('PRIMTARGET')\n",
    "cols.del_col('MG')\n",
    "cols.del_col('SECTOR_COMPLETENESS')\n",
    "cols.del_col('COMOV_DENSITY')\n",
    "cols.del_col('RADIAL_WEIGHT')"
   ]
  },
  {
   "cell_type": "code",
   "execution_count": null,
   "metadata": {
    "collapsed": true
   },
   "outputs": [],
   "source": [
    "fdata[1].columns"
   ]
  },
  {
   "cell_type": "code",
   "execution_count": null,
   "metadata": {
    "collapsed": true
   },
   "outputs": [],
   "source": [
    "fdata.writeto(\"./output/DR7fullzradec.fits\")"
   ]
  },
  {
   "cell_type": "code",
   "execution_count": null,
   "metadata": {
    "collapsed": true
   },
   "outputs": [],
   "source": [
    "fdat=fits.open(\"./output/DR7fullzradec.fits\")"
   ]
  },
  {
   "cell_type": "code",
   "execution_count": null,
   "metadata": {
    "collapsed": true
   },
   "outputs": [],
   "source": [
    "fdat[1].columns"
   ]
  },
  {
   "cell_type": "code",
   "execution_count": null,
   "metadata": {
    "collapsed": true
   },
   "outputs": [],
   "source": [
    "fdat[1].data['Z']"
   ]
  },
  {
   "cell_type": "code",
   "execution_count": null,
   "metadata": {
    "collapsed": true
   },
   "outputs": [],
   "source": [
    "fdat[1].data['RA']"
   ]
  },
  {
   "cell_type": "code",
   "execution_count": null,
   "metadata": {
    "collapsed": true
   },
   "outputs": [],
   "source": []
  },
  {
   "cell_type": "code",
   "execution_count": null,
   "metadata": {
    "collapsed": true
   },
   "outputs": [],
   "source": [
    "comovlcdm=DC_LCDM(fdat[1].data['Z'])"
   ]
  },
  {
   "cell_type": "code",
   "execution_count": null,
   "metadata": {
    "collapsed": true
   },
   "outputs": [],
   "source": [
    "fdat[1].data['Z']"
   ]
  },
  {
   "cell_type": "code",
   "execution_count": null,
   "metadata": {
    "collapsed": true
   },
   "outputs": [],
   "source": [
    "comovlcdm"
   ]
  },
  {
   "cell_type": "code",
   "execution_count": null,
   "metadata": {
    "collapsed": true
   },
   "outputs": [],
   "source": [
    "comovlcdm.dtype"
   ]
  },
  {
   "cell_type": "code",
   "execution_count": null,
   "metadata": {
    "collapsed": true
   },
   "outputs": [],
   "source": [
    "#cols=fdat[1].columns"
   ]
  },
  {
   "cell_type": "code",
   "execution_count": null,
   "metadata": {
    "collapsed": true
   },
   "outputs": [],
   "source": [
    "nc=fits.Column(name='COMOV',format='D',array=comovlcdm)"
   ]
  },
  {
   "cell_type": "code",
   "execution_count": null,
   "metadata": {
    "collapsed": true
   },
   "outputs": [],
   "source": [
    "nc1=fits.Column(name='COMOV',format='D')"
   ]
  },
  {
   "cell_type": "code",
   "execution_count": null,
   "metadata": {
    "collapsed": true
   },
   "outputs": [],
   "source": [
    "fdata[1].data['Z']"
   ]
  },
  {
   "cell_type": "code",
   "execution_count": null,
   "metadata": {
    "collapsed": true
   },
   "outputs": [],
   "source": [
    "fdata[1].data['RA']"
   ]
  },
  {
   "cell_type": "code",
   "execution_count": null,
   "metadata": {
    "collapsed": true
   },
   "outputs": [],
   "source": [
    "nc"
   ]
  },
  {
   "cell_type": "code",
   "execution_count": null,
   "metadata": {
    "collapsed": true
   },
   "outputs": [],
   "source": [
    "nc.dtype"
   ]
  },
  {
   "cell_type": "code",
   "execution_count": null,
   "metadata": {
    "collapsed": true
   },
   "outputs": [],
   "source": [
    "#cols.add_col(nc)"
   ]
  },
  {
   "cell_type": "code",
   "execution_count": null,
   "metadata": {
    "collapsed": true
   },
   "outputs": [],
   "source": [
    "fdat[1].columns"
   ]
  },
  {
   "cell_type": "code",
   "execution_count": null,
   "metadata": {
    "collapsed": true
   },
   "outputs": [],
   "source": [
    "fdat[1].columns.info()"
   ]
  },
  {
   "cell_type": "code",
   "execution_count": null,
   "metadata": {
    "collapsed": true
   },
   "outputs": [],
   "source": [
    "fdat[1].columns.add_col(nc1)"
   ]
  },
  {
   "cell_type": "code",
   "execution_count": null,
   "metadata": {
    "collapsed": true
   },
   "outputs": [],
   "source": [
    "fdat[1].data['COMOV']=comovlcdm"
   ]
  },
  {
   "cell_type": "code",
   "execution_count": null,
   "metadata": {
    "collapsed": true
   },
   "outputs": [],
   "source": [
    "comovlcdm"
   ]
  },
  {
   "cell_type": "code",
   "execution_count": null,
   "metadata": {
    "collapsed": true
   },
   "outputs": [],
   "source": [
    "fdat[1].data['Z']"
   ]
  },
  {
   "cell_type": "code",
   "execution_count": null,
   "metadata": {
    "collapsed": true
   },
   "outputs": [],
   "source": [
    "fdat[1].data['COMOV']"
   ]
  },
  {
   "cell_type": "code",
   "execution_count": null,
   "metadata": {
    "collapsed": true
   },
   "outputs": [],
   "source": [
    "fdat[1].data['RA']"
   ]
  },
  {
   "cell_type": "code",
   "execution_count": null,
   "metadata": {
    "collapsed": true
   },
   "outputs": [],
   "source": [
    "fdat[1].data['RA']=fdat[1].data['RA']*pi/180.0"
   ]
  },
  {
   "cell_type": "code",
   "execution_count": null,
   "metadata": {
    "collapsed": true
   },
   "outputs": [],
   "source": [
    "comovlcdm=DC_LCDM(fdat[1].data['Z'])\n",
    "comovlcdm"
   ]
  },
  {
   "cell_type": "code",
   "execution_count": null,
   "metadata": {
    "collapsed": true
   },
   "outputs": [],
   "source": []
  },
  {
   "cell_type": "code",
   "execution_count": null,
   "metadata": {
    "collapsed": true
   },
   "outputs": [],
   "source": []
  },
  {
   "cell_type": "markdown",
   "metadata": {},
   "source": [
    "Random catalog created based on the survey limitations also taken from http://cosmo.nyu.edu/~eak306/SDSS-LRG.html"
   ]
  },
  {
   "cell_type": "code",
   "execution_count": null,
   "metadata": {
    "collapsed": true
   },
   "outputs": [],
   "source": [
    "dataR=fits.open(\"/Users/rohin/Downloads/random-DR7-Full.fits\")"
   ]
  },
  {
   "cell_type": "code",
   "execution_count": null,
   "metadata": {
    "collapsed": true
   },
   "outputs": [],
   "source": [
    "dataR"
   ]
  },
  {
   "cell_type": "code",
   "execution_count": null,
   "metadata": {
    "collapsed": true
   },
   "outputs": [],
   "source": [
    "dataR=dataR[1].data"
   ]
  },
  {
   "cell_type": "code",
   "execution_count": null,
   "metadata": {
    "collapsed": true
   },
   "outputs": [],
   "source": [
    "len(dataR)"
   ]
  },
  {
   "cell_type": "code",
   "execution_count": null,
   "metadata": {
    "collapsed": true
   },
   "outputs": [],
   "source": [
    "NSIDE=512\n",
    "dr72hpix=hu.HealPix(\"ring\",NSIDE)"
   ]
  },
  {
   "cell_type": "code",
   "execution_count": null,
   "metadata": {
    "collapsed": true
   },
   "outputs": [],
   "source": [
    "pixdata = open(\"./output/pixdatadr72VAGCfullrand.dat\",'w')\n",
    "pixdata.write(\"z\\t pix \\n\")\n",
    "\n",
    "for i in range(0,len(data)-1):\n",
    "    pixdata.write(\"%f\\t\" %data['z'][i])\n",
    "    pixdata.write(\"%d\\n\" %dr72hpix.eq2pix(dataR['ra'][i],dataR['dec'][i]))\n",
    "pixdata.close()"
   ]
  },
  {
   "cell_type": "code",
   "execution_count": null,
   "metadata": {
    "collapsed": true
   },
   "outputs": [],
   "source": [
    "pixdata = ascii.read(\"./output/pixdatadr72VAGCfullrand.dat\")\n",
    "hpixdata=np.array(np.zeros(hu.nside2npix(NSIDE)))\n",
    "for j in range(len(pixdata)):\n",
    "    hpixdata[pixdata[j]['pix']]+=1"
   ]
  },
  {
   "cell_type": "code",
   "execution_count": null,
   "metadata": {
    "collapsed": true
   },
   "outputs": [],
   "source": [
    "hpixdata"
   ]
  },
  {
   "cell_type": "code",
   "execution_count": null,
   "metadata": {
    "collapsed": true
   },
   "outputs": [],
   "source": [
    "hu.mollview(hpixdata,rot=180)"
   ]
  },
  {
   "cell_type": "code",
   "execution_count": null,
   "metadata": {
    "collapsed": true
   },
   "outputs": [],
   "source": [
    "hu.orthview(hpixdata)"
   ]
  }
 ],
 "metadata": {
  "kernelspec": {
   "display_name": "Python 2",
   "language": "python",
   "name": "python2"
  },
  "language_info": {
   "codemirror_mode": {
    "name": "ipython",
    "version": 2
   },
   "file_extension": ".py",
   "mimetype": "text/x-python",
   "name": "python",
   "nbconvert_exporter": "python",
   "pygments_lexer": "ipython2",
   "version": "2.7.13"
  }
 },
 "nbformat": 4,
 "nbformat_minor": 1
}
