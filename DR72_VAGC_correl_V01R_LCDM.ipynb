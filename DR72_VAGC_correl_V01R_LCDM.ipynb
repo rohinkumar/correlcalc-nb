{
 "cells": [
  {
   "cell_type": "markdown",
   "metadata": {},
   "source": [
    "# Correlation function of DR72 SDSS VAGC Catalog"
   ]
  },
  {
   "cell_type": "markdown",
   "metadata": {},
   "source": [
    "First import all the modules such as healpy and astropy needed for analyzing the structure"
   ]
  },
  {
   "cell_type": "code",
   "execution_count": 1,
   "metadata": {
    "collapsed": false
   },
   "outputs": [],
   "source": [
    "import healpix_util as hu\n",
    "import astropy as ap\n",
    "import numpy as np\n",
    "from astropy.io import fits\n",
    "from astropy.table import Table\n",
    "import astropy.io.ascii as ascii\n",
    "from astropy.io import fits\n",
    "from astropy.constants import c\n",
    "import matplotlib.pyplot as plt\n",
    "import math as m\n",
    "from math import pi\n",
    "import scipy.special as sp\n",
    "from astroML.decorators import pickle_results\n",
    "from scipy import integrate\n",
    "import warnings\n",
    "from sklearn.neighbors import BallTree\n",
    "import pickle\n",
    "import multiprocessing as mp\n",
    "import time\n",
    "from cython_metric import *\n",
    "from progressbar import *\n",
    "#from astroML.datasets import fetch_sdss_specgals\n",
    "#from astroML.correlation import bootstrap_two_point_angular\n",
    "%matplotlib inline"
   ]
  },
  {
   "cell_type": "markdown",
   "metadata": {},
   "source": [
    "Random catalog created based on the survey limitations also taken from http://cosmo.nyu.edu/~eak306/SDSS-LRG.html"
   ]
  },
  {
   "cell_type": "code",
   "execution_count": 2,
   "metadata": {
    "collapsed": false
   },
   "outputs": [],
   "source": [
    "dataR=fits.open(\"/Users/rohin/Downloads/random-DR7-Full.fits\")"
   ]
  },
  {
   "cell_type": "code",
   "execution_count": 3,
   "metadata": {
    "collapsed": false
   },
   "outputs": [
    {
     "data": {
      "text/plain": [
       "[<astropy.io.fits.hdu.image.PrimaryHDU object at 0x10eac5910>, <astropy.io.fits.hdu.table.BinTableHDU object at 0x10941ffd0>]"
      ]
     },
     "execution_count": 3,
     "metadata": {},
     "output_type": "execute_result"
    }
   ],
   "source": [
    "dataR"
   ]
  },
  {
   "cell_type": "code",
   "execution_count": 4,
   "metadata": {
    "collapsed": false
   },
   "outputs": [],
   "source": [
    "dataR=dataR[1].data"
   ]
  },
  {
   "cell_type": "code",
   "execution_count": 5,
   "metadata": {
    "collapsed": false
   },
   "outputs": [
    {
     "data": {
      "text/plain": [
       "1664948"
      ]
     },
     "execution_count": 5,
     "metadata": {},
     "output_type": "execute_result"
    }
   ],
   "source": [
    "len(dataR)"
   ]
  },
  {
   "cell_type": "code",
   "execution_count": 6,
   "metadata": {
    "collapsed": false
   },
   "outputs": [
    {
     "data": {
      "text/plain": [
       "FITS_rec([ (37.837992999999997, -0.62006700000000003, 28631, 0.025870252, 731, 0.4343251833233247, 1.0, 5.3768849, 1.9245105),\n",
       "       (209.089259, 17.276520999999999, 607527, 0.027706305, 8282, 0.29326452640687256, 1.0, 12.520595, 0.84796357),\n",
       "       (258.46493900000002, 28.215748000000001, 198135, 0.058957841, 2379, 0.22274562266367232, 1.0, 16.267647, 0.6556018),\n",
       "       ...,\n",
       "       (229.83728400000001, 32.709685999999998, 306299, 0.017827285, 4524, 0.29215485317197082, 0.99242425, 12.497682, 0.84948772),\n",
       "       (132.83980500000001, 35.648184000000001, 242314, 0.036420144, 2914, 0.18659365873670164, 0.9952153, 18.512594, 0.57715893),\n",
       "       (192.403007, 43.611770999999997, 352971, 0.016170749, 4240, 0.307947945236697, 0.94999999, 13.008629, 0.81675106)], \n",
       "      dtype=(numpy.record, [('RA', '>f8'), ('DEC', '>f8'), ('ILSS', '>i4'), ('EBV', '>f4'), ('SECTOR', '>i4'), ('Z', '>f8'), ('SECTOR_COMPLETENESS', '>f4'), ('COMOV_DENSITY', '>f4'), ('RADIAL_WEIGHT', '>f4')]))"
      ]
     },
     "execution_count": 6,
     "metadata": {},
     "output_type": "execute_result"
    }
   ],
   "source": [
    "dataR"
   ]
  },
  {
   "cell_type": "code",
   "execution_count": 7,
   "metadata": {
    "collapsed": false
   },
   "outputs": [
    {
     "data": {
      "text/plain": [
       "ColDefs(\n",
       "    name = 'RA'; format = 'D'\n",
       "    name = 'DEC'; format = 'D'\n",
       "    name = 'ILSS'; format = 'J'\n",
       "    name = 'EBV'; format = 'E'\n",
       "    name = 'SECTOR'; format = 'J'\n",
       "    name = 'Z'; format = 'D'\n",
       "    name = 'SECTOR_COMPLETENESS'; format = 'E'\n",
       "    name = 'COMOV_DENSITY'; format = 'E'\n",
       "    name = 'RADIAL_WEIGHT'; format = 'E'\n",
       ")"
      ]
     },
     "execution_count": 7,
     "metadata": {},
     "output_type": "execute_result"
    }
   ],
   "source": [
    "dataR.columns"
   ]
  },
  {
   "cell_type": "code",
   "execution_count": 8,
   "metadata": {
    "collapsed": false
   },
   "outputs": [
    {
     "data": {
      "text/plain": [
       "array([ 0.43432518,  0.29326453,  0.22274562, ...,  0.29215485,\n",
       "        0.18659366,  0.30794795])"
      ]
     },
     "execution_count": 8,
     "metadata": {},
     "output_type": "execute_result"
    }
   ],
   "source": [
    "dataR['Z']"
   ]
  },
  {
   "cell_type": "code",
   "execution_count": 9,
   "metadata": {
    "collapsed": false
   },
   "outputs": [
    {
     "data": {
      "text/plain": [
       "array([  37.837993,  209.089259,  258.464939, ...,  229.837284,\n",
       "        132.839805,  192.403007])"
      ]
     },
     "execution_count": 9,
     "metadata": {},
     "output_type": "execute_result"
    }
   ],
   "source": [
    "dataR['RA']"
   ]
  },
  {
   "cell_type": "code",
   "execution_count": 10,
   "metadata": {
    "collapsed": false
   },
   "outputs": [
    {
     "data": {
      "text/plain": [
       "array([ -0.620067,  17.276521,  28.215748, ...,  32.709686,  35.648184,\n",
       "        43.611771])"
      ]
     },
     "execution_count": 10,
     "metadata": {},
     "output_type": "execute_result"
    }
   ],
   "source": [
    "dataR['DEC']"
   ]
  },
  {
   "cell_type": "code",
   "execution_count": 11,
   "metadata": {
    "collapsed": true
   },
   "outputs": [],
   "source": [
    "Ez = lambda x: 1/m.sqrt(0.3*(1+x)**3+0.7)\n",
    "\n",
    "np.vectorize(Ez)\n",
    "#Calculate comoving distance of a data point using the Redshift - This definition is based on the cosmology model we take. Here the distance for E-dS universe is considered. Also note that c/H0 ratio is cancelled in the equations and hence not taken.\n",
    "\n",
    "def DC_LCDM(z):\n",
    "  return integrate.quad(Ez, 0, z)[0]\n",
    "DC_LCDM=np.vectorize(DC_LCDM)"
   ]
  },
  {
   "cell_type": "code",
   "execution_count": 14,
   "metadata": {
    "collapsed": false
   },
   "outputs": [],
   "source": [
    "rdr7f = open(\"./output/randDR7srarf.dat\",'w')\n",
    "rdr7f.write(\"z\\t ra\\t dec\\t s\\t rar\\t decr \\n\")\n",
    "\n",
    "for i in range(0,len(dataR)-1):\n",
    "    rdr7f.write(\"%f\\t \" %dataR['Z'][i])\n",
    "    rdr7f.write(\"%f\\t %f\\t \" %(dataR['RA'][i],dataR['DEC'][i]))\n",
    "    rdr7f.write(\"%f\\t \" %DC_LCDM(dataR['Z'][i]))\n",
    "    rdr7f.write(\"%f\\t %f\\n \" %(dataR['RA'][i]*pi/180.0,dataR['DEC'][i]*pi/180.0))\n",
    "rdr7f.close()"
   ]
  },
  {
   "cell_type": "code",
   "execution_count": 15,
   "metadata": {
    "collapsed": true
   },
   "outputs": [],
   "source": [
    "data=ascii.read(\"./output/randDR7srarf.dat\")"
   ]
  },
  {
   "cell_type": "code",
   "execution_count": 16,
   "metadata": {
    "collapsed": false
   },
   "outputs": [
    {
     "data": {
      "text/html": [
       "&lt;Table length=1664947&gt;\n",
       "<table id=\"table4450287248\" class=\"table-striped table-bordered table-condensed\">\n",
       "<thead><tr><th>z</th><th>ra</th><th>dec</th><th>s</th><th>rar</th><th>decr</th></tr></thead>\n",
       "<thead><tr><th>float64</th><th>float64</th><th>float64</th><th>float64</th><th>float64</th><th>float64</th></tr></thead>\n",
       "<tr><td>0.434325</td><td>37.837993</td><td>-0.620067</td><td>0.389815</td><td>0.660398</td><td>-0.010822</td></tr>\n",
       "<tr><td>0.293265</td><td>209.089259</td><td>17.276521</td><td>0.273097</td><td>3.649296</td><td>0.301532</td></tr>\n",
       "<tr><td>0.222746</td><td>258.464939</td><td>28.215748</td><td>0.211182</td><td>4.511064</td><td>0.492458</td></tr>\n",
       "<tr><td>0.279301</td><td>183.927141</td><td>37.379032</td><td>0.261027</td><td>3.210134</td><td>0.652387</td></tr>\n",
       "<tr><td>0.324714</td><td>170.682777</td><td>1.206543</td><td>0.299939</td><td>2.978976</td><td>0.021058</td></tr>\n",
       "<tr><td>0.3653</td><td>172.780433</td><td>32.981495</td><td>0.333879</td><td>3.015587</td><td>0.575636</td></tr>\n",
       "<tr><td>0.431968</td><td>154.275288</td><td>32.160072</td><td>0.387941</td><td>2.692612</td><td>0.561299</td></tr>\n",
       "<tr><td>0.276107</td><td>187.272243</td><td>16.128839</td><td>0.258254</td><td>3.268517</td><td>0.281501</td></tr>\n",
       "<tr><td>0.241847</td><td>130.655784</td><td>38.45825</td><td>0.22819</td><td>2.280374</td><td>0.671223</td></tr>\n",
       "<tr><td>0.270847</td><td>146.681736</td><td>53.845964</td><td>0.253675</td><td>2.560079</td><td>0.939789</td></tr>\n",
       "<tr><td>...</td><td>...</td><td>...</td><td>...</td><td>...</td><td>...</td></tr>\n",
       "<tr><td>0.380025</td><td>22.479891</td><td>-10.801148</td><td>0.345999</td><td>0.392348</td><td>-0.188516</td></tr>\n",
       "<tr><td>0.376247</td><td>241.167565</td><td>43.744758</td><td>0.3429</td><td>4.209168</td><td>0.76349</td></tr>\n",
       "<tr><td>0.43682</td><td>202.263266</td><td>39.420732</td><td>0.391795</td><td>3.53016</td><td>0.688022</td></tr>\n",
       "<tr><td>0.341468</td><td>165.964837</td><td>38.414029</td><td>0.314044</td><td>2.896633</td><td>0.670451</td></tr>\n",
       "<tr><td>0.275896</td><td>136.73796</td><td>6.622873</td><td>0.25807</td><td>2.386528</td><td>0.115591</td></tr>\n",
       "<tr><td>0.320891</td><td>158.155643</td><td>25.049336</td><td>0.296701</td><td>2.760337</td><td>0.437193</td></tr>\n",
       "<tr><td>0.394642</td><td>148.921972</td><td>8.516993</td><td>0.35793</td><td>2.599179</td><td>0.14865</td></tr>\n",
       "<tr><td>0.232127</td><td>203.894397</td><td>24.951558</td><td>0.219557</td><td>3.558629</td><td>0.435487</td></tr>\n",
       "<tr><td>0.292155</td><td>229.837284</td><td>32.709686</td><td>0.272141</td><td>4.011417</td><td>0.570892</td></tr>\n",
       "<tr><td>0.186594</td><td>132.839805</td><td>35.648184</td><td>0.178512</td><td>2.318492</td><td>0.622178</td></tr>\n",
       "</table>"
      ],
      "text/plain": [
       "<Table length=1664947>\n",
       "   z         ra        dec        s       rar       decr  \n",
       "float64   float64    float64   float64  float64   float64 \n",
       "-------- ---------- ---------- -------- -------- ---------\n",
       "0.434325  37.837993  -0.620067 0.389815 0.660398 -0.010822\n",
       "0.293265 209.089259  17.276521 0.273097 3.649296  0.301532\n",
       "0.222746 258.464939  28.215748 0.211182 4.511064  0.492458\n",
       "0.279301 183.927141  37.379032 0.261027 3.210134  0.652387\n",
       "0.324714 170.682777   1.206543 0.299939 2.978976  0.021058\n",
       "  0.3653 172.780433  32.981495 0.333879 3.015587  0.575636\n",
       "0.431968 154.275288  32.160072 0.387941 2.692612  0.561299\n",
       "0.276107 187.272243  16.128839 0.258254 3.268517  0.281501\n",
       "0.241847 130.655784   38.45825  0.22819 2.280374  0.671223\n",
       "0.270847 146.681736  53.845964 0.253675 2.560079  0.939789\n",
       "     ...        ...        ...      ...      ...       ...\n",
       "0.380025  22.479891 -10.801148 0.345999 0.392348 -0.188516\n",
       "0.376247 241.167565  43.744758   0.3429 4.209168   0.76349\n",
       " 0.43682 202.263266  39.420732 0.391795  3.53016  0.688022\n",
       "0.341468 165.964837  38.414029 0.314044 2.896633  0.670451\n",
       "0.275896  136.73796   6.622873  0.25807 2.386528  0.115591\n",
       "0.320891 158.155643  25.049336 0.296701 2.760337  0.437193\n",
       "0.394642 148.921972   8.516993  0.35793 2.599179   0.14865\n",
       "0.232127 203.894397  24.951558 0.219557 3.558629  0.435487\n",
       "0.292155 229.837284  32.709686 0.272141 4.011417  0.570892\n",
       "0.186594 132.839805  35.648184 0.178512 2.318492  0.622178"
      ]
     },
     "execution_count": 16,
     "metadata": {},
     "output_type": "execute_result"
    }
   ],
   "source": [
    "data"
   ]
  },
  {
   "cell_type": "code",
   "execution_count": 17,
   "metadata": {
    "collapsed": false
   },
   "outputs": [
    {
     "data": {
      "text/plain": [
       "1664947"
      ]
     },
     "execution_count": 17,
     "metadata": {},
     "output_type": "execute_result"
    }
   ],
   "source": [
    "len(data)"
   ]
  },
  {
   "cell_type": "code",
   "execution_count": 18,
   "metadata": {
    "collapsed": true
   },
   "outputs": [],
   "source": [
    "data.remove_column('z')\n",
    "data.remove_column('ra')\n",
    "data.remove_column('dec')"
   ]
  },
  {
   "cell_type": "code",
   "execution_count": 19,
   "metadata": {
    "collapsed": false
   },
   "outputs": [
    {
     "data": {
      "text/html": [
       "&lt;Table length=1664947&gt;\n",
       "<table id=\"table4450287248\" class=\"table-striped table-bordered table-condensed\">\n",
       "<thead><tr><th>s</th><th>rar</th><th>decr</th></tr></thead>\n",
       "<thead><tr><th>float64</th><th>float64</th><th>float64</th></tr></thead>\n",
       "<tr><td>0.389815</td><td>0.660398</td><td>-0.010822</td></tr>\n",
       "<tr><td>0.273097</td><td>3.649296</td><td>0.301532</td></tr>\n",
       "<tr><td>0.211182</td><td>4.511064</td><td>0.492458</td></tr>\n",
       "<tr><td>0.261027</td><td>3.210134</td><td>0.652387</td></tr>\n",
       "<tr><td>0.299939</td><td>2.978976</td><td>0.021058</td></tr>\n",
       "<tr><td>0.333879</td><td>3.015587</td><td>0.575636</td></tr>\n",
       "<tr><td>0.387941</td><td>2.692612</td><td>0.561299</td></tr>\n",
       "<tr><td>0.258254</td><td>3.268517</td><td>0.281501</td></tr>\n",
       "<tr><td>0.22819</td><td>2.280374</td><td>0.671223</td></tr>\n",
       "<tr><td>0.253675</td><td>2.560079</td><td>0.939789</td></tr>\n",
       "<tr><td>...</td><td>...</td><td>...</td></tr>\n",
       "<tr><td>0.345999</td><td>0.392348</td><td>-0.188516</td></tr>\n",
       "<tr><td>0.3429</td><td>4.209168</td><td>0.76349</td></tr>\n",
       "<tr><td>0.391795</td><td>3.53016</td><td>0.688022</td></tr>\n",
       "<tr><td>0.314044</td><td>2.896633</td><td>0.670451</td></tr>\n",
       "<tr><td>0.25807</td><td>2.386528</td><td>0.115591</td></tr>\n",
       "<tr><td>0.296701</td><td>2.760337</td><td>0.437193</td></tr>\n",
       "<tr><td>0.35793</td><td>2.599179</td><td>0.14865</td></tr>\n",
       "<tr><td>0.219557</td><td>3.558629</td><td>0.435487</td></tr>\n",
       "<tr><td>0.272141</td><td>4.011417</td><td>0.570892</td></tr>\n",
       "<tr><td>0.178512</td><td>2.318492</td><td>0.622178</td></tr>\n",
       "</table>"
      ],
      "text/plain": [
       "<Table length=1664947>\n",
       "   s       rar       decr  \n",
       "float64  float64   float64 \n",
       "-------- -------- ---------\n",
       "0.389815 0.660398 -0.010822\n",
       "0.273097 3.649296  0.301532\n",
       "0.211182 4.511064  0.492458\n",
       "0.261027 3.210134  0.652387\n",
       "0.299939 2.978976  0.021058\n",
       "0.333879 3.015587  0.575636\n",
       "0.387941 2.692612  0.561299\n",
       "0.258254 3.268517  0.281501\n",
       " 0.22819 2.280374  0.671223\n",
       "0.253675 2.560079  0.939789\n",
       "     ...      ...       ...\n",
       "0.345999 0.392348 -0.188516\n",
       "  0.3429 4.209168   0.76349\n",
       "0.391795  3.53016  0.688022\n",
       "0.314044 2.896633  0.670451\n",
       " 0.25807 2.386528  0.115591\n",
       "0.296701 2.760337  0.437193\n",
       " 0.35793 2.599179   0.14865\n",
       "0.219557 3.558629  0.435487\n",
       "0.272141 4.011417  0.570892\n",
       "0.178512 2.318492  0.622178"
      ]
     },
     "execution_count": 19,
     "metadata": {},
     "output_type": "execute_result"
    }
   ],
   "source": [
    "data"
   ]
  },
  {
   "cell_type": "code",
   "execution_count": 20,
   "metadata": {
    "collapsed": true
   },
   "outputs": [],
   "source": [
    "s=np.array(data['s'])\n",
    "rar=np.array(data['rar'])\n",
    "decr=np.array(data['decr'])"
   ]
  },
  {
   "cell_type": "code",
   "execution_count": 21,
   "metadata": {
    "collapsed": true
   },
   "outputs": [],
   "source": [
    "dat=np.array([s,rar,decr])"
   ]
  },
  {
   "cell_type": "code",
   "execution_count": 22,
   "metadata": {
    "collapsed": false
   },
   "outputs": [
    {
     "data": {
      "text/plain": [
       "array([[ 0.389815,  0.273097,  0.211182, ...,  0.219557,  0.272141,\n",
       "         0.178512],\n",
       "       [ 0.660398,  3.649296,  4.511064, ...,  3.558629,  4.011417,\n",
       "         2.318492],\n",
       "       [-0.010822,  0.301532,  0.492458, ...,  0.435487,  0.570892,\n",
       "         0.622178]])"
      ]
     },
     "execution_count": 22,
     "metadata": {},
     "output_type": "execute_result"
    }
   ],
   "source": [
    "dat.reshape(3,len(data['s']))"
   ]
  },
  {
   "cell_type": "code",
   "execution_count": 23,
   "metadata": {
    "collapsed": true
   },
   "outputs": [],
   "source": [
    "dat=dat.transpose()"
   ]
  },
  {
   "cell_type": "code",
   "execution_count": 24,
   "metadata": {
    "collapsed": false
   },
   "outputs": [
    {
     "data": {
      "text/plain": [
       "array([[ 0.389815,  0.660398, -0.010822],\n",
       "       [ 0.273097,  3.649296,  0.301532],\n",
       "       [ 0.211182,  4.511064,  0.492458],\n",
       "       ..., \n",
       "       [ 0.219557,  3.558629,  0.435487],\n",
       "       [ 0.272141,  4.011417,  0.570892],\n",
       "       [ 0.178512,  2.318492,  0.622178]])"
      ]
     },
     "execution_count": 24,
     "metadata": {},
     "output_type": "execute_result"
    }
   ],
   "source": [
    "dat"
   ]
  },
  {
   "cell_type": "code",
   "execution_count": 25,
   "metadata": {
    "collapsed": false
   },
   "outputs": [
    {
     "data": {
      "text/plain": [
       "0.6543341323471775"
      ]
     },
     "execution_count": 25,
     "metadata": {},
     "output_type": "execute_result"
    }
   ],
   "source": [
    "LCDMmetric(dat[0],dat[1])"
   ]
  },
  {
   "cell_type": "code",
   "execution_count": 26,
   "metadata": {
    "collapsed": true
   },
   "outputs": [],
   "source": [
    "bins=np.arange(0.,0.08,0.005)"
   ]
  },
  {
   "cell_type": "code",
   "execution_count": 27,
   "metadata": {
    "collapsed": false
   },
   "outputs": [
    {
     "name": "stdout",
     "output_type": "stream",
     "text": [
      "[ 0.     0.005  0.01   0.015  0.02   0.025  0.03   0.035  0.04   0.045\n",
      "  0.05   0.055  0.06   0.065  0.07   0.075]\n"
     ]
    }
   ],
   "source": [
    "print bins"
   ]
  },
  {
   "cell_type": "code",
   "execution_count": 28,
   "metadata": {
    "collapsed": true
   },
   "outputs": [],
   "source": [
    "Nbins=len(bins)"
   ]
  },
  {
   "cell_type": "code",
   "execution_count": 29,
   "metadata": {
    "collapsed": false
   },
   "outputs": [
    {
     "data": {
      "text/plain": [
       "16"
      ]
     },
     "execution_count": 29,
     "metadata": {},
     "output_type": "execute_result"
    }
   ],
   "source": [
    "Nbins"
   ]
  },
  {
   "cell_type": "code",
   "execution_count": 30,
   "metadata": {
    "collapsed": true
   },
   "outputs": [],
   "source": [
    "BT_R = BallTree(dat,metric='pyfunc',func=LCDMmetric) \n",
    "temp = pickle.dumps(BT_R)                     \n",
    "BTR = pickle.loads(temp)"
   ]
  },
  {
   "cell_type": "code",
   "execution_count": null,
   "metadata": {
    "collapsed": true
   },
   "outputs": [],
   "source": [
    "pb=ProgressBar()"
   ]
  },
  {
   "cell_type": "code",
   "execution_count": null,
   "metadata": {
    "collapsed": false
   },
   "outputs": [
    {
     "name": "stdout",
     "output_type": "stream",
     "text": [
      "@pickle_results: computing results and saving to 'RDR72RR.pkl'\n"
     ]
    },
    {
     "name": "stderr",
     "output_type": "stream",
     "text": [
      " 25% |##################                                                      |\r"
     ]
    }
   ],
   "source": [
    "start_time=time.time()\n",
    "@pickle_results(\"RDR72RR.pkl\")\n",
    "def rrcal(BTR,dat,bins,Nbins):\n",
    "    counts_RR=np.zeros(Nbins)\n",
    "    for i in pb(range(Nbins)):\n",
    "        counts_RR[i]=np.sum(BTR.query_radius(dat, bins[i],count_only=True))\n",
    "    RR = np.diff(counts_RR)\n",
    "    print counts_RR\n",
    "    print RR\n",
    "    return RR\n",
    "\n",
    "#def mf_wrap(args):\n",
    "#  return ddcal(*args)\n",
    "\n",
    "#pool=mp.Pool(8)\n",
    "\n",
    "#arg=[(BTD,dat,bins,Nbins)]\n",
    "RRresult = rrcal(BTR,dat,bins,Nbins)\n",
    "end_time=time.time()\n",
    "tottime=end_time-start_time\n",
    "print \"Total run time:\"\n",
    "print tottime\n",
    "#DDresult=pool.map(mf_wrap,arg)"
   ]
  },
  {
   "cell_type": "code",
   "execution_count": null,
   "metadata": {
    "collapsed": true
   },
   "outputs": [],
   "source": [
    "plt.plot(bins[1:len(bins)],RRresult[0],'ro')"
   ]
  },
  {
   "cell_type": "code",
   "execution_count": null,
   "metadata": {
    "collapsed": true
   },
   "outputs": [],
   "source": [
    "RRresult[0]"
   ]
  },
  {
   "cell_type": "code",
   "execution_count": null,
   "metadata": {
    "collapsed": true
   },
   "outputs": [],
   "source": []
  },
  {
   "cell_type": "code",
   "execution_count": null,
   "metadata": {
    "collapsed": true
   },
   "outputs": [],
   "source": []
  }
 ],
 "metadata": {
  "kernelspec": {
   "display_name": "Python 2",
   "language": "python",
   "name": "python2"
  },
  "language_info": {
   "codemirror_mode": {
    "name": "ipython",
    "version": 2
   },
   "file_extension": ".py",
   "mimetype": "text/x-python",
   "name": "python",
   "nbconvert_exporter": "python",
   "pygments_lexer": "ipython2",
   "version": "2.7.13"
  }
 },
 "nbformat": 4,
 "nbformat_minor": 0
}
