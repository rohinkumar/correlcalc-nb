{
 "cells": [
  {
   "cell_type": "markdown",
   "metadata": {},
   "source": [
    "# Correlation function of DR72 SDSS VAGC Catalog"
   ]
  },
  {
   "cell_type": "markdown",
   "metadata": {},
   "source": [
    "First import all the modules such as healpy and astropy needed for analyzing the structure"
   ]
  },
  {
   "cell_type": "code",
   "execution_count": 1,
   "metadata": {
    "collapsed": true
   },
   "outputs": [],
   "source": [
    "import healpix_util as hu\n",
    "import astropy as ap\n",
    "import numpy as np\n",
    "from astropy.io import fits\n",
    "from astropy.table import Table\n",
    "import astropy.io.ascii as ascii\n",
    "from astropy.io import fits\n",
    "from astropy.constants import c\n",
    "import matplotlib.pyplot as plt\n",
    "import math as m\n",
    "from math import pi\n",
    "#from scipy.constants import c\n",
    "import scipy.special as sp\n",
    "from astroML.decorators import pickle_results\n",
    "from scipy import integrate\n",
    "import warnings\n",
    "from sklearn.neighbors import BallTree\n",
    "import pickle\n",
    "import multiprocessing as mp\n",
    "import time\n",
    "from lccmetric import *\n",
    "from progressbar import *\n",
    "from tqdm import *\n",
    "from functools import partial\n",
    "import pymangle\n",
    "#from astroML.datasets import fetch_sdss_specgals\n",
    "#from astroML.correlation import bootstrap_two_point_angular\n",
    "%matplotlib inline"
   ]
  },
  {
   "cell_type": "code",
   "execution_count": 2,
   "metadata": {},
   "outputs": [
    {
     "data": {
      "text/plain": [
       "array([[ 0.37169 ,  0.980185, -0.003863],\n",
       "       [ 0.312739,  1.016617,  0.003776],\n",
       "       [ 0.345944,  0.950251,  0.010821],\n",
       "       ..., \n",
       "       [ 0.290404,  2.829918,  0.173514],\n",
       "       [ 0.313432,  2.830242,  0.172112],\n",
       "       [ 0.199924,  2.831786,  0.173661]])"
      ]
     },
     "execution_count": 2,
     "metadata": {},
     "output_type": "execute_result"
    }
   ],
   "source": [
    "# Getting back the objects:\n",
    "with open('datsLCf.pkl') as f:  # Python 3: open(..., 'rb')\n",
    "    dat = pickle.load(f)\n",
    "dat"
   ]
  },
  {
   "cell_type": "code",
   "execution_count": 3,
   "metadata": {
    "collapsed": true
   },
   "outputs": [],
   "source": [
    "bins=np.arange(0.,0.08,0.005)"
   ]
  },
  {
   "cell_type": "code",
   "execution_count": 4,
   "metadata": {},
   "outputs": [
    {
     "name": "stdout",
     "output_type": "stream",
     "text": [
      "[ 0.     0.005  0.01   0.015  0.02   0.025  0.03   0.035  0.04   0.045\n",
      "  0.05   0.055  0.06   0.065  0.07   0.075]\n"
     ]
    }
   ],
   "source": [
    "print bins"
   ]
  },
  {
   "cell_type": "code",
   "execution_count": 5,
   "metadata": {
    "collapsed": true
   },
   "outputs": [],
   "source": [
    "Nbins=len(bins)"
   ]
  },
  {
   "cell_type": "code",
   "execution_count": 6,
   "metadata": {},
   "outputs": [
    {
     "data": {
      "text/plain": [
       "16"
      ]
     },
     "execution_count": 6,
     "metadata": {},
     "output_type": "execute_result"
    }
   ],
   "source": [
    "Nbins"
   ]
  },
  {
   "cell_type": "code",
   "execution_count": 7,
   "metadata": {
    "collapsed": true
   },
   "outputs": [],
   "source": [
    "binsq=(bins*0.007)**2"
   ]
  },
  {
   "cell_type": "code",
   "execution_count": 8,
   "metadata": {},
   "outputs": [
    {
     "data": {
      "text/plain": [
       "array([  0.00000000e+00,   1.22500000e-09,   4.90000000e-09,\n",
       "         1.10250000e-08,   1.96000000e-08,   3.06250000e-08,\n",
       "         4.41000000e-08,   6.00250000e-08,   7.84000000e-08,\n",
       "         9.92250000e-08,   1.22500000e-07,   1.48225000e-07,\n",
       "         1.76400000e-07,   2.07025000e-07,   2.40100000e-07,\n",
       "         2.75625000e-07])"
      ]
     },
     "execution_count": 8,
     "metadata": {},
     "output_type": "execute_result"
    }
   ],
   "source": [
    "binsq"
   ]
  },
  {
   "cell_type": "code",
   "execution_count": 9,
   "metadata": {},
   "outputs": [
    {
     "data": {
      "text/plain": [
       "1.781962354940322e-07"
      ]
     },
     "execution_count": 9,
     "metadata": {},
     "output_type": "execute_result"
    }
   ],
   "source": [
    "LCcmetric(dat[0],dat[1])"
   ]
  },
  {
   "cell_type": "code",
   "execution_count": 10,
   "metadata": {},
   "outputs": [
    {
     "name": "stdout",
     "output_type": "stream",
     "text": [
      "CPU times: user 5.48 s, sys: 59.5 ms, total: 5.54 s\n",
      "Wall time: 5.62 s\n"
     ]
    }
   ],
   "source": [
    "%%time\n",
    "BT_DLCc = BallTree(dat,metric='pyfunc',func=LCcmetric,leaf_size=5) \n",
    "\n",
    "with open('BTDdatsLCc.pkl', 'w') as f:\n",
    "    pickle.dump(BT_DLCc,f)"
   ]
  },
  {
   "cell_type": "code",
   "execution_count": 11,
   "metadata": {},
   "outputs": [
    {
     "data": {
      "text/plain": [
       "<sklearn.neighbors.ball_tree.BinaryTree at 0x7fa863109680>"
      ]
     },
     "execution_count": 11,
     "metadata": {},
     "output_type": "execute_result"
    }
   ],
   "source": [
    "with open('BTDdatsLCc.pkl') as f:\n",
    "    BTDLCc = pickle.load(f)\n",
    "    \n",
    "BTDLCc"
   ]
  },
  {
   "cell_type": "code",
   "execution_count": 12,
   "metadata": {},
   "outputs": [
    {
     "name": "stdout",
     "output_type": "stream",
     "text": [
      "[        0    430556   1545155   4071014   8753272  16333514  27544108\n",
      "  43038292  63371498  88967022 120223272 157491949 201123950 251476236\n",
      " 308836046 373458068]\n",
      "Total run time:\n",
      "1071.43457913\n",
      "CPU times: user 17min 47s, sys: 2.68 s, total: 17min 49s\n",
      "Wall time: 17min 51s\n"
     ]
    }
   ],
   "source": [
    "%%time\n",
    "start_time=time.time()\n",
    "counts_DD=BTDLCc.two_point_correlation(dat,binsq)\n",
    "print counts_DD\n",
    "end_time=time.time()\n",
    "tottime=end_time-start_time\n",
    "print \"Total run time:\"\n",
    "print tottime\n",
    "\n",
    "with open('BTDcDDLCc.pkl', 'w') as f:\n",
    "    pickle.dump(counts_DD,f)"
   ]
  },
  {
   "cell_type": "code",
   "execution_count": 13,
   "metadata": {},
   "outputs": [
    {
     "data": {
      "text/plain": [
       "array([        0,    430556,   1545155,   4071014,   8753272,  16333514,\n",
       "        27544108,  43038292,  63371498,  88967022, 120223272, 157491949,\n",
       "       201123950, 251476236, 308836046, 373458068])"
      ]
     },
     "execution_count": 13,
     "metadata": {},
     "output_type": "execute_result"
    }
   ],
   "source": [
    "with open('BTDcDDLCc.pkl') as f:\n",
    "    counts_DD = pickle.load(f)\n",
    "    \n",
    "counts_DD"
   ]
  },
  {
   "cell_type": "code",
   "execution_count": 14,
   "metadata": {
    "collapsed": true
   },
   "outputs": [],
   "source": [
    "DD=np.diff(counts_DD)"
   ]
  },
  {
   "cell_type": "code",
   "execution_count": 15,
   "metadata": {},
   "outputs": [
    {
     "data": {
      "text/plain": [
       "array([  430556,  1114599,  2525859,  4682258,  7580242, 11210594,\n",
       "       15494184, 20333206, 25595524, 31256250, 37268677, 43632001,\n",
       "       50352286, 57359810, 64622022])"
      ]
     },
     "execution_count": 15,
     "metadata": {},
     "output_type": "execute_result"
    }
   ],
   "source": [
    "DD"
   ]
  },
  {
   "cell_type": "code",
   "execution_count": 16,
   "metadata": {},
   "outputs": [
    {
     "data": {
      "text/plain": [
       "[<matplotlib.lines.Line2D at 0x118264150>]"
      ]
     },
     "execution_count": 16,
     "metadata": {},
     "output_type": "execute_result"
    },
    {
     "data": {
      "image/png": "[encoded data removed]",
      "text/plain": [
       "<matplotlib.figure.Figure at 0x10d080e50>"
      ]
     },
     "metadata": {},
     "output_type": "display_data"
    }
   ],
   "source": [
    "plt.plot(bins[1:len(bins)],DD,'ro-')"
   ]
  },
  {
   "cell_type": "markdown",
   "metadata": {},
   "source": [
    "BallTree.two_point_correlation works almost 10 times faster! with leaf_size=5 Going with it to the random catalog"
   ]
  },
  {
   "cell_type": "code",
   "execution_count": 17,
   "metadata": {},
   "outputs": [
    {
     "data": {
      "text/plain": [
       "array([[ 0.37169 ,  2.992549,  0.248026],\n",
       "       [ 0.312739,  2.737752,  0.711236],\n",
       "       [ 0.345944,  2.367643,  0.341962],\n",
       "       ..., \n",
       "       [ 0.311286,  3.228052,  0.199013],\n",
       "       [ 0.283066,  3.218296,  0.052979],\n",
       "       [ 0.188215,  4.056418,  0.170602]])"
      ]
     },
     "execution_count": 17,
     "metadata": {},
     "output_type": "execute_result"
    }
   ],
   "source": [
    "# Getting back the objects:\n",
    "with open('rDR7200kLCsrarf.pkl') as f:  # Python 3: open(..., 'rb')\n",
    "    datR = pickle.load(f)\n",
    "datR"
   ]
  },
  {
   "cell_type": "code",
   "execution_count": 18,
   "metadata": {},
   "outputs": [
    {
     "name": "stdout",
     "output_type": "stream",
     "text": [
      "CPU times: user 13.3 s, sys: 142 ms, total: 13.5 s\n",
      "Wall time: 13.6 s\n"
     ]
    }
   ],
   "source": [
    "%%time\n",
    "BT_RLCc = BallTree(datR,metric='pyfunc',func=LCcmetric,leaf_size=5) \n",
    "\n",
    "with open('BTR200kdatsLCc.pkl', 'w') as f:\n",
    "    pickle.dump(BT_RLCc,f)"
   ]
  },
  {
   "cell_type": "code",
   "execution_count": 19,
   "metadata": {},
   "outputs": [
    {
     "data": {
      "text/plain": [
       "<sklearn.neighbors.ball_tree.BinaryTree at 0x7fa862bbd340>"
      ]
     },
     "execution_count": 19,
     "metadata": {},
     "output_type": "execute_result"
    }
   ],
   "source": [
    "with open('BTR200kdatsLCc.pkl') as f:\n",
    "    BTRLCc = pickle.load(f)\n",
    "    \n",
    "BTRLCc"
   ]
  },
  {
   "cell_type": "code",
   "execution_count": 20,
   "metadata": {},
   "outputs": [
    {
     "name": "stdout",
     "output_type": "stream",
     "text": [
      "[         0     740302    4243471   13607518   31835970   61519382\n",
      "  104888632  164139313  241632635  339633616  459897147  603757057\n",
      "  771687784  964194740 1182458893 1427943190]\n",
      "Total run time:\n",
      "3566.83108592\n",
      "CPU times: user 42min 57s, sys: 6.91 s, total: 43min 3s\n",
      "Wall time: 59min 26s\n"
     ]
    }
   ],
   "source": [
    "%%time\n",
    "start_time=time.time()\n",
    "counts_RR=BTRLCc.two_point_correlation(datR,binsq)\n",
    "print counts_RR\n",
    "end_time=time.time()\n",
    "tottime=end_time-start_time\n",
    "print \"Total run time:\"\n",
    "print tottime\n",
    "\n",
    "with open('BTR200kcRRLCc.pkl', 'w') as f:\n",
    "    pickle.dump(counts_RR,f)"
   ]
  },
  {
   "cell_type": "code",
   "execution_count": 21,
   "metadata": {},
   "outputs": [
    {
     "data": {
      "text/plain": [
       "array([         0,     740302,    4243471,   13607518,   31835970,\n",
       "         61519382,  104888632,  164139313,  241632635,  339633616,\n",
       "        459897147,  603757057,  771687784,  964194740, 1182458893,\n",
       "       1427943190])"
      ]
     },
     "execution_count": 21,
     "metadata": {},
     "output_type": "execute_result"
    }
   ],
   "source": [
    "with open('BTR200kcRRLCc.pkl') as f:\n",
    "    counts_RR = pickle.load(f)\n",
    "    \n",
    "counts_RR"
   ]
  },
  {
   "cell_type": "code",
   "execution_count": 22,
   "metadata": {
    "collapsed": true
   },
   "outputs": [],
   "source": [
    "RR=np.diff(counts_RR)"
   ]
  },
  {
   "cell_type": "code",
   "execution_count": 23,
   "metadata": {},
   "outputs": [
    {
     "data": {
      "text/plain": [
       "array([   740302,   3503169,   9364047,  18228452,  29683412,  43369250,\n",
       "        59250681,  77493322,  98000981, 120263531, 143859910, 167930727,\n",
       "       192506956, 218264153, 245484297])"
      ]
     },
     "execution_count": 23,
     "metadata": {},
     "output_type": "execute_result"
    }
   ],
   "source": [
    "RR"
   ]
  },
  {
   "cell_type": "code",
   "execution_count": 24,
   "metadata": {},
   "outputs": [
    {
     "data": {
      "text/plain": [
       "[<matplotlib.lines.Line2D at 0x116c36690>]"
      ]
     },
     "execution_count": 24,
     "metadata": {},
     "output_type": "execute_result"
    },
    {
     "data": {
      "image/png": "[encoded data removed]",
      "text/plain": [
       "<matplotlib.figure.Figure at 0x118282d90>"
      ]
     },
     "metadata": {},
     "output_type": "display_data"
    }
   ],
   "source": [
    "plt.plot(bins[1:len(bins)],RR,'bo-')"
   ]
  },
  {
   "cell_type": "code",
   "execution_count": 25,
   "metadata": {
    "collapsed": true
   },
   "outputs": [],
   "source": [
    "RR_zero = (RR == 0)\n",
    "RR[RR_zero] = 1"
   ]
  },
  {
   "cell_type": "code",
   "execution_count": 26,
   "metadata": {},
   "outputs": [
    {
     "name": "stdout",
     "output_type": "stream",
     "text": [
      "[        0    254634   1974507   6618760  15684869  30453294  52098974\n",
      "  81739903 120648354 169996353 230679384 303490611 388640981 486450093\n",
      " 597556372 722862519]\n",
      "Total run time:\n",
      "1238.77458191\n",
      "CPU times: user 20min 29s, sys: 3.58 s, total: 20min 33s\n",
      "Wall time: 20min 38s\n"
     ]
    }
   ],
   "source": [
    "%%time\n",
    "start_time=time.time()\n",
    "counts_DR=BTRLCc.two_point_correlation(dat,binsq)\n",
    "print counts_DR\n",
    "end_time=time.time()\n",
    "tottime=end_time-start_time\n",
    "print \"Total run time:\"\n",
    "print tottime\n",
    "\n",
    "with open('BTR200kcDRLCc.pkl', 'w') as f:\n",
    "    pickle.dump(counts_DR,f)"
   ]
  },
  {
   "cell_type": "code",
   "execution_count": 27,
   "metadata": {},
   "outputs": [
    {
     "data": {
      "text/plain": [
       "array([        0,    254634,   1974507,   6618760,  15684869,  30453294,\n",
       "        52098974,  81739903, 120648354, 169996353, 230679384, 303490611,\n",
       "       388640981, 486450093, 597556372, 722862519])"
      ]
     },
     "execution_count": 27,
     "metadata": {},
     "output_type": "execute_result"
    }
   ],
   "source": [
    "with open('BTR200kcDRLCc.pkl') as f:\n",
    "    counts_DR = pickle.load(f)\n",
    "    \n",
    "counts_DR"
   ]
  },
  {
   "cell_type": "code",
   "execution_count": 28,
   "metadata": {
    "collapsed": true
   },
   "outputs": [],
   "source": [
    "DR=np.diff(counts_DR)"
   ]
  },
  {
   "cell_type": "code",
   "execution_count": 29,
   "metadata": {},
   "outputs": [
    {
     "data": {
      "text/plain": [
       "array([   254634,   1719873,   4644253,   9066109,  14768425,  21645680,\n",
       "        29640929,  38908451,  49347999,  60683031,  72811227,  85150370,\n",
       "        97809112, 111106279, 125306147])"
      ]
     },
     "execution_count": 29,
     "metadata": {},
     "output_type": "execute_result"
    }
   ],
   "source": [
    "DR"
   ]
  },
  {
   "cell_type": "code",
   "execution_count": 30,
   "metadata": {
    "collapsed": true
   },
   "outputs": [],
   "source": [
    "corrells=(4.0 * DD - 4.0 * DR + RR) / RR"
   ]
  },
  {
   "cell_type": "code",
   "execution_count": 31,
   "metadata": {},
   "outputs": [
    {
     "data": {
      "text/plain": [
       "array([ 1.95054181,  0.30888404,  0.09509467,  0.03802012,  0.03135354,\n",
       "        0.03755901,  0.04495646,  0.04119506,  0.03052093,  0.02125671,\n",
       "        0.01174552,  0.01105963,  0.01391977,  0.01501977,  0.01119337])"
      ]
     },
     "execution_count": 31,
     "metadata": {},
     "output_type": "execute_result"
    }
   ],
   "source": [
    "corrells"
   ]
  },
  {
   "cell_type": "code",
   "execution_count": 32,
   "metadata": {},
   "outputs": [
    {
     "data": {
      "text/plain": [
       "[<matplotlib.lines.Line2D at 0x11841efd0>]"
      ]
     },
     "execution_count": 32,
     "metadata": {},
     "output_type": "execute_result"
    },
    {
     "data": {
      "image/png": "[encoded data removed]",
      "text/plain": [
       "<matplotlib.figure.Figure at 0x116c5a650>"
      ]
     },
     "metadata": {},
     "output_type": "display_data"
    }
   ],
   "source": [
    "plt.plot(bins[1:len(bins)],corrells,'go-')"
   ]
  },
  {
   "cell_type": "code",
   "execution_count": 33,
   "metadata": {},
   "outputs": [
    {
     "data": {
      "text/plain": [
       "[<matplotlib.lines.Line2D at 0x118987390>]"
      ]
     },
     "execution_count": 33,
     "metadata": {},
     "output_type": "execute_result"
    },
    {
     "data": {
      "image/png": "[encoded data removed]",
      "text/plain": [
       "<matplotlib.figure.Figure at 0x11844f3d0>"
      ]
     },
     "metadata": {},
     "output_type": "display_data"
    }
   ],
   "source": [
    "plt.plot(bins[1:len(bins)],bins[1:len(bins)]*bins[1:len(bins)]*corrells*(c*1e-5)**2,'go-')"
   ]
  },
  {
   "cell_type": "code",
   "execution_count": 34,
   "metadata": {},
   "outputs": [
    {
     "data": {
      "text/plain": [
       "[<matplotlib.lines.Line2D at 0x11de07990>]"
      ]
     },
     "execution_count": 34,
     "metadata": {},
     "output_type": "execute_result"
    },
    {
     "data": {
      "image/png": "[encoded data removed]",
      "text/plain": [
       "<matplotlib.figure.Figure at 0x116c84850>"
      ]
     },
     "metadata": {},
     "output_type": "display_data"
    }
   ],
   "source": [
    "plt.plot(bins[2:len(bins)],bins[2:len(bins)]*bins[2:len(bins)]*corrells[1:len(bins)]*(c*1e-5)**2,'go-')"
   ]
  },
  {
   "cell_type": "code",
   "execution_count": 35,
   "metadata": {},
   "outputs": [
    {
     "data": {
      "text/plain": [
       "[<matplotlib.lines.Line2D at 0x11df1af90>]"
      ]
     },
     "execution_count": 35,
     "metadata": {},
     "output_type": "execute_result"
    },
    {
     "data": {
      "image/png": "[encoded data removed]",
      "text/plain": [
       "<matplotlib.figure.Figure at 0x11848b950>"
      ]
     },
     "metadata": {},
     "output_type": "display_data"
    }
   ],
   "source": [
    "plt.plot(bins[2:len(bins)],corrells[1:len(bins)],'go-')"
   ]
  },
  {
   "cell_type": "code",
   "execution_count": 36,
   "metadata": {},
   "outputs": [
    {
     "data": {
      "image/png": "[encoded data removed]",
      "text/plain": [
       "<matplotlib.figure.Figure at 0x11df48090>"
      ]
     },
     "metadata": {},
     "output_type": "display_data"
    }
   ],
   "source": [
    "plt.plot(bins[2:len(bins)],corrells[1:len(bins)],'go-')\n",
    "plt.savefig(\"correl2xlsLCc.pdf\")"
   ]
  },
  {
   "cell_type": "code",
   "execution_count": 37,
   "metadata": {},
   "outputs": [
    {
     "data": {
      "image/png": "[encoded data removed]",
      "text/plain": [
       "<matplotlib.figure.Figure at 0x10d080ad0>"
      ]
     },
     "metadata": {},
     "output_type": "display_data"
    }
   ],
   "source": [
    "plt.plot(bins[2:len(bins)]*c/1e5,corrells[1:len(bins)],'bo-')\n",
    "plt.savefig(\"correl2x1lsLCc.pdf\")"
   ]
  },
  {
   "cell_type": "code",
   "execution_count": 38,
   "metadata": {},
   "outputs": [
    {
     "data": {
      "image/png": "[encoded data removed]",
      "text/plain": [
       "<matplotlib.figure.Figure at 0x11df48910>"
      ]
     },
     "metadata": {},
     "output_type": "display_data"
    }
   ],
   "source": [
    "plt.yscale('log')\n",
    "plt.plot(bins[1:len(bins)]*c/1e5,corrells,'bo-')\n",
    "plt.savefig(\"correllsfiglogLCc.pdf\")"
   ]
  },
  {
   "cell_type": "code",
   "execution_count": 39,
   "metadata": {},
   "outputs": [
    {
     "data": {
      "image/png": "[encoded data removed]",
      "text/plain": [
       "<matplotlib.figure.Figure at 0x11e2752d0>"
      ]
     },
     "metadata": {},
     "output_type": "display_data"
    }
   ],
   "source": [
    "plt.yscale('log')\n",
    "plt.plot(bins[2:len(bins)]*c/1e5,corrells[1:len(bins)],'ro-')\n",
    "plt.savefig(\"correllslog2xLCc.pdf\")"
   ]
  },
  {
   "cell_type": "code",
   "execution_count": 40,
   "metadata": {},
   "outputs": [
    {
     "data": {
      "image/png": "[encoded data removed]",
      "text/plain": [
       "<matplotlib.figure.Figure at 0x11ebc1050>"
      ]
     },
     "metadata": {},
     "output_type": "display_data"
    }
   ],
   "source": [
    "plt.yscale('log')\n",
    "plt.xscale('log')\n",
    "plt.plot(bins[1:len(bins)]*c/1e5,corrells,'bo-')\n",
    "plt.savefig(\"correllsloglogLCc.pdf\")"
   ]
  },
  {
   "cell_type": "code",
   "execution_count": null,
   "metadata": {
    "collapsed": true
   },
   "outputs": [],
   "source": []
  }
 ],
 "metadata": {
  "kernelspec": {
   "display_name": "Python 2",
   "language": "python",
   "name": "python2"
  },
  "language_info": {
   "codemirror_mode": {
    "name": "ipython",
    "version": 2
   },
   "file_extension": ".py",
   "mimetype": "text/x-python",
   "name": "python",
   "nbconvert_exporter": "python",
   "pygments_lexer": "ipython2",
   "version": "2.7.13"
  }
 },
 "nbformat": 4,
 "nbformat_minor": 1
}
